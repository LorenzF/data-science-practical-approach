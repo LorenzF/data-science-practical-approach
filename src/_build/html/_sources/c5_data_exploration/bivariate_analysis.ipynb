{
 "cells": [
  {
   "cell_type": "markdown",
   "metadata": {
    "id": "h5_xvRmkA72y"
   },
   "source": [
    "# Bi-variate analysis\n",
    "\n",
    "In this notebook we are going to look at correlations between two columns in our dataset, this is were it becomes interesting as it opens more opportunities to explore our dataset. We start out by importing necessary libraries and loading the titanic dataset."
   ]
  },
  {
   "cell_type": "code",
   "execution_count": 1,
   "metadata": {
    "id": "V5HoGfZ9qTgR"
   },
   "outputs": [],
   "source": [
    "import seaborn as sns\n",
    "import pandas as pd\n",
    "from scipy import stats\n",
    "titanic_df = sns.load_dataset('titanic')\n",
    "sns.set_style()\n",
    "sns.set(rc={'figure.figsize':(16,12)})"
   ]
  },
  {
   "cell_type": "code",
   "execution_count": 2,
   "metadata": {
    "colab": {
     "base_uri": "https://localhost:8080/"
    },
    "executionInfo": {
     "elapsed": 514,
     "status": "ok",
     "timestamp": 1605129338824,
     "user": {
      "displayName": "Lorenz Feyen",
      "photoUrl": "",
      "userId": "13474410138118598994"
     },
     "user_tz": -60
    },
    "id": "74FiZGr2qbx3",
    "outputId": "c7082498-c93b-42d2-a00e-4d5cd59482af"
   },
   "outputs": [
    {
     "name": "stdout",
     "output_type": "stream",
     "text": [
      "<class 'pandas.core.frame.DataFrame'>\n",
      "RangeIndex: 891 entries, 0 to 890\n",
      "Data columns (total 15 columns):\n",
      " #   Column       Non-Null Count  Dtype   \n",
      "---  ------       --------------  -----   \n",
      " 0   survived     891 non-null    int64   \n",
      " 1   pclass       891 non-null    int64   \n",
      " 2   sex          891 non-null    object  \n",
      " 3   age          714 non-null    float64 \n",
      " 4   sibsp        891 non-null    int64   \n",
      " 5   parch        891 non-null    int64   \n",
      " 6   fare         891 non-null    float64 \n",
      " 7   embarked     889 non-null    object  \n",
      " 8   class        891 non-null    category\n",
      " 9   who          891 non-null    object  \n",
      " 10  adult_male   891 non-null    bool    \n",
      " 11  deck         203 non-null    category\n",
      " 12  embark_town  889 non-null    object  \n",
      " 13  alive        891 non-null    object  \n",
      " 14  alone        891 non-null    bool    \n",
      "dtypes: bool(2), category(2), float64(2), int64(4), object(5)\n",
      "memory usage: 80.7+ KB\n"
     ]
    }
   ],
   "source": [
    "titanic_df.info()"
   ]
  },
  {
   "cell_type": "markdown",
   "metadata": {
    "id": "HQ1ulxaPBCnu"
   },
   "source": [
    "### Categorical vs categorical\n",
    "\n",
    "The first comparison we can do is between 2 categorical variables, in this dataset we can use the class of the passenger and the town they embarked the titanic, let's make a contingency table first."
   ]
  },
  {
   "cell_type": "code",
   "execution_count": 3,
   "metadata": {
    "colab": {
     "base_uri": "https://localhost:8080/",
     "height": 175
    },
    "executionInfo": {
     "elapsed": 697,
     "status": "ok",
     "timestamp": 1605652958215,
     "user": {
      "displayName": "Lorenz Feyen",
      "photoUrl": "",
      "userId": "13474410138118598994"
     },
     "user_tz": -60
    },
    "id": "AoS-y12Jrs0M",
    "outputId": "dd6cd8b8-e715-4dc8-aee2-f3f72d6c073d"
   },
   "outputs": [
    {
     "data": {
      "text/html": [
       "<div>\n",
       "<style scoped>\n",
       "    .dataframe tbody tr th:only-of-type {\n",
       "        vertical-align: middle;\n",
       "    }\n",
       "\n",
       "    .dataframe tbody tr th {\n",
       "        vertical-align: top;\n",
       "    }\n",
       "\n",
       "    .dataframe thead th {\n",
       "        text-align: right;\n",
       "    }\n",
       "</style>\n",
       "<table border=\"1\" class=\"dataframe\">\n",
       "  <thead>\n",
       "    <tr style=\"text-align: right;\">\n",
       "      <th>class</th>\n",
       "      <th>First</th>\n",
       "      <th>Second</th>\n",
       "      <th>Third</th>\n",
       "    </tr>\n",
       "    <tr>\n",
       "      <th>embark_town</th>\n",
       "      <th></th>\n",
       "      <th></th>\n",
       "      <th></th>\n",
       "    </tr>\n",
       "  </thead>\n",
       "  <tbody>\n",
       "    <tr>\n",
       "      <th>Cherbourg</th>\n",
       "      <td>85</td>\n",
       "      <td>17</td>\n",
       "      <td>66</td>\n",
       "    </tr>\n",
       "    <tr>\n",
       "      <th>Queenstown</th>\n",
       "      <td>2</td>\n",
       "      <td>3</td>\n",
       "      <td>72</td>\n",
       "    </tr>\n",
       "    <tr>\n",
       "      <th>Southampton</th>\n",
       "      <td>127</td>\n",
       "      <td>164</td>\n",
       "      <td>353</td>\n",
       "    </tr>\n",
       "  </tbody>\n",
       "</table>\n",
       "</div>"
      ],
      "text/plain": [
       "class        First  Second  Third\n",
       "embark_town                      \n",
       "Cherbourg       85      17     66\n",
       "Queenstown       2       3     72\n",
       "Southampton    127     164    353"
      ]
     },
     "execution_count": 3,
     "metadata": {},
     "output_type": "execute_result"
    }
   ],
   "source": [
    "contingency_table = pd.crosstab(titanic_df['embark_town'], titanic_df['class'])\n",
    "contingency_table"
   ]
  },
  {
   "cell_type": "markdown",
   "metadata": {
    "id": "tvwHB5y1Xf5k"
   },
   "source": [
    "With all these numbers it is fairly hard to find if there is a correlation between these 2 variables. Let statistics do the work and get the chi squared test involved, we do not apply a continuity correction as the embarkment is a nominal variable.\n",
    "\n",
    "The results of the Cramer V test (simplified chi squared test)."
   ]
  },
  {
   "cell_type": "code",
   "execution_count": 4,
   "metadata": {
    "colab": {
     "base_uri": "https://localhost:8080/"
    },
    "executionInfo": {
     "elapsed": 914,
     "status": "ok",
     "timestamp": 1605652965533,
     "user": {
      "displayName": "Lorenz Feyen",
      "photoUrl": "",
      "userId": "13474410138118598994"
     },
     "user_tz": -60
    },
    "id": "eevwNPPcsFo4",
    "outputId": "1a13860e-3543-4d85-8234-aa15fb1f2d33"
   },
   "outputs": [
    {
     "data": {
      "text/plain": [
       "(123.75190952951289,\n",
       " 8.435267819894384e-26,\n",
       " 4,\n",
       " array([[ 40.44094488,  34.77165354,  92.78740157],\n",
       "        [ 18.53543307,  15.93700787,  42.52755906],\n",
       "        [155.02362205, 133.29133858, 355.68503937]]))"
      ]
     },
     "execution_count": 4,
     "metadata": {},
     "output_type": "execute_result"
    }
   ],
   "source": [
    "chi, p, dof, exp = stats.chi2_contingency(contingency_table, correction=False)\n",
    "chi, p, dof, exp"
   ]
  },
  {
   "cell_type": "markdown",
   "metadata": {
    "id": "mAEUeVbCX_0x"
   },
   "source": [
    "in order of appearance:\n",
    "- the test statistic chi is very high, indicating a correlation\n",
    "- the p value is low, so this is definitely not by chance\n",
    "- there are 4 'degrees of freedom'\n",
    "- the expected frequency table shows what it thinks the proporties should look like\n",
    "\n",
    "What we could do now is create a heatmap with the contingency table but subtract the expected non-biased values and scale using the expected values (real - expected)/expected.\n",
    "This gives us the biggest changes in respect with 'random' values."
   ]
  },
  {
   "cell_type": "code",
   "execution_count": 5,
   "metadata": {
    "colab": {
     "base_uri": "https://localhost:8080/",
     "height": 284
    },
    "executionInfo": {
     "elapsed": 1227,
     "status": "ok",
     "timestamp": 1605653262880,
     "user": {
      "displayName": "Lorenz Feyen",
      "photoUrl": "",
      "userId": "13474410138118598994"
     },
     "user_tz": -60
    },
    "id": "vWhzzyivreoL",
    "outputId": "1724103d-fe25-4d0c-f496-54e242ca9df8"
   },
   "outputs": [
    {
     "data": {
      "text/plain": [
       "<matplotlib.axes._subplots.AxesSubplot at 0x7f17be27ad90>"
      ]
     },
     "execution_count": 5,
     "metadata": {},
     "output_type": "execute_result"
    },
    {
     "data": {
      "image/png": "[encoded data removed]",
      "text/plain": [
       "<Figure size 1152x864 with 2 Axes>"
      ]
     },
     "metadata": {},
     "output_type": "display_data"
    }
   ],
   "source": [
    "sns.heatmap(\n",
    "    pd.DataFrame((contingency_table-exp)/exp, index=contingency_table.index, columns=contingency_table.columns)\n",
    ")"
   ]
  },
  {
   "cell_type": "markdown",
   "metadata": {
    "id": "Siju0JElZN0b"
   },
   "source": [
    "There seems to be much more people from first class that have embarked in Cherbourg, and the lower classes are more represented from Queenstown.\n",
    "The population from southampton only sees a positive deviation in second class.\n",
    "\n",
    "To demonstrate that there can also be no correlation we now calculate the proportions of survival for each town and class combination."
   ]
  },
  {
   "cell_type": "code",
   "execution_count": 6,
   "metadata": {},
   "outputs": [
    {
     "data": {
      "text/html": [
       "<div>\n",
       "<style scoped>\n",
       "    .dataframe tbody tr th:only-of-type {\n",
       "        vertical-align: middle;\n",
       "    }\n",
       "\n",
       "    .dataframe tbody tr th {\n",
       "        vertical-align: top;\n",
       "    }\n",
       "\n",
       "    .dataframe thead th {\n",
       "        text-align: right;\n",
       "    }\n",
       "</style>\n",
       "<table border=\"1\" class=\"dataframe\">\n",
       "  <thead>\n",
       "    <tr style=\"text-align: right;\">\n",
       "      <th>class</th>\n",
       "      <th>First</th>\n",
       "      <th>Second</th>\n",
       "      <th>Third</th>\n",
       "    </tr>\n",
       "    <tr>\n",
       "      <th>embark_town</th>\n",
       "      <th></th>\n",
       "      <th></th>\n",
       "      <th></th>\n",
       "    </tr>\n",
       "  </thead>\n",
       "  <tbody>\n",
       "    <tr>\n",
       "      <th>Cherbourg</th>\n",
       "      <td>0.694118</td>\n",
       "      <td>0.529412</td>\n",
       "      <td>0.378788</td>\n",
       "    </tr>\n",
       "    <tr>\n",
       "      <th>Queenstown</th>\n",
       "      <td>0.500000</td>\n",
       "      <td>0.666667</td>\n",
       "      <td>0.375000</td>\n",
       "    </tr>\n",
       "    <tr>\n",
       "      <th>Southampton</th>\n",
       "      <td>0.582677</td>\n",
       "      <td>0.463415</td>\n",
       "      <td>0.189802</td>\n",
       "    </tr>\n",
       "  </tbody>\n",
       "</table>\n",
       "</div>"
      ],
      "text/plain": [
       "class           First    Second     Third\n",
       "embark_town                              \n",
       "Cherbourg    0.694118  0.529412  0.378788\n",
       "Queenstown   0.500000  0.666667  0.375000\n",
       "Southampton  0.582677  0.463415  0.189802"
      ]
     },
     "execution_count": 6,
     "metadata": {},
     "output_type": "execute_result"
    }
   ],
   "source": [
    "survived_df = titanic_df.groupby(['embark_town', 'class']).survived.sum().unstack('class')/contingency_table\n",
    "survived_df"
   ]
  },
  {
   "cell_type": "markdown",
   "metadata": {},
   "source": [
    "If we would do a Cramer V test now, we assume there would be no significance, as it would not make sense that the embarked town has no influence on the chances (proportion of survived persons) of survival."
   ]
  },
  {
   "cell_type": "code",
   "execution_count": 7,
   "metadata": {},
   "outputs": [
    {
     "data": {
      "text/plain": [
       "0.9989353452702686"
      ]
     },
     "execution_count": 7,
     "metadata": {},
     "output_type": "execute_result"
    }
   ],
   "source": [
    "chi, p, dof, exp = stats.chi2_contingency(survived_df, correction=True)\n",
    "p"
   ]
  },
  {
   "cell_type": "markdown",
   "metadata": {},
   "source": [
    "As you can see, the p value is 0.99, indicating that the differences in embarkment are purely coincidental!"
   ]
  },
  {
   "cell_type": "markdown",
   "metadata": {
    "id": "CTLrIh2wBbWZ"
   },
   "source": [
    "### Categorical vs continuous\n",
    "\n",
    "The most interesting exploration (in my opinion) happens when we combine categorical and continuous data, as more graphing opportunities are present.\n",
    "When doing this comparison, we usually use the student t-test or Z-test, you can spend hours arguing the difference and which to use, yet I will stick for simplicity with the t-test for robuustness.\n",
    "\n",
    "we can use the t-test to check if a continuous variable changes between 2 categories of a categorical variable.\n"
   ]
  },
  {
   "cell_type": "markdown",
   "metadata": {
    "id": "oTBVO604aP8l"
   },
   "source": [
    "let us seperate the men from the women and see if they had to pay a different fare amount"
   ]
  },
  {
   "cell_type": "code",
   "execution_count": 8,
   "metadata": {
    "id": "EpwqZZ7BI0so"
   },
   "outputs": [
    {
     "data": {
      "text/plain": [
       "(-5.817465335062089, 8.614583735152227e-09)"
      ]
     },
     "execution_count": 8,
     "metadata": {},
     "output_type": "execute_result"
    }
   ],
   "source": [
    "t, p = stats.ttest_ind(\n",
    "    titanic_df.fare[titanic_df.who=='man'],\n",
    "    titanic_df.fare[titanic_df.who=='woman']\n",
    ")\n",
    "t, p"
   ]
  },
  {
   "cell_type": "markdown",
   "metadata": {
    "id": "8hDhpz1wamsm"
   },
   "source": [
    "Our p-value again is very low, indicating there is a difference in the groups.\n",
    "The t statistic is -5.82, meaning that the second group (women) are paying more for fares.\n",
    "\n",
    "We print out the means to verify"
   ]
  },
  {
   "cell_type": "code",
   "execution_count": 9,
   "metadata": {
    "colab": {
     "base_uri": "https://localhost:8080/"
    },
    "executionInfo": {
     "elapsed": 714,
     "status": "ok",
     "timestamp": 1605653729691,
     "user": {
      "displayName": "Lorenz Feyen",
      "photoUrl": "",
      "userId": "13474410138118598994"
     },
     "user_tz": -60
    },
    "id": "--FiWBaPayKi",
    "outputId": "5e9782f3-bb76-4350-b04f-fefa712945d6"
   },
   "outputs": [
    {
     "name": "stdout",
     "output_type": "stream",
     "text": [
      "mean male fare\n",
      "24.864181750465548\n",
      "mean female fare\n",
      "46.570711070110704\n"
     ]
    }
   ],
   "source": [
    "print('mean male fare')\n",
    "print(titanic_df.fare[titanic_df.who=='man'].mean())\n",
    "print('mean female fare')\n",
    "print(titanic_df.fare[titanic_df.who=='woman'].mean())"
   ]
  },
  {
   "cell_type": "markdown",
   "metadata": {
    "id": "fdDZnJSqa8uY"
   },
   "source": [
    "By the looks of this, the fares are heavily gender biased.\n",
    "To put this into more detail, we pivot the means of each group including class into a table, as female might be more in the upper classes."
   ]
  },
  {
   "cell_type": "code",
   "execution_count": 10,
   "metadata": {
    "colab": {
     "base_uri": "https://localhost:8080/",
     "height": 298
    },
    "executionInfo": {
     "elapsed": 893,
     "status": "ok",
     "timestamp": 1605653771491,
     "user": {
      "displayName": "Lorenz Feyen",
      "photoUrl": "",
      "userId": "13474410138118598994"
     },
     "user_tz": -60
    },
    "id": "wD-IDBdFJMtV",
    "outputId": "8b3c1b39-549f-4216-bf0f-f53c27538df7"
   },
   "outputs": [
    {
     "data": {
      "text/html": [
       "<div>\n",
       "<style scoped>\n",
       "    .dataframe tbody tr th:only-of-type {\n",
       "        vertical-align: middle;\n",
       "    }\n",
       "\n",
       "    .dataframe tbody tr th {\n",
       "        vertical-align: top;\n",
       "    }\n",
       "\n",
       "    .dataframe thead th {\n",
       "        text-align: right;\n",
       "    }\n",
       "</style>\n",
       "<table border=\"1\" class=\"dataframe\">\n",
       "  <thead>\n",
       "    <tr style=\"text-align: right;\">\n",
       "      <th>class</th>\n",
       "      <th>First</th>\n",
       "      <th>Second</th>\n",
       "      <th>Third</th>\n",
       "    </tr>\n",
       "    <tr>\n",
       "      <th>who</th>\n",
       "      <th></th>\n",
       "      <th></th>\n",
       "      <th></th>\n",
       "    </tr>\n",
       "  </thead>\n",
       "  <tbody>\n",
       "    <tr>\n",
       "      <th>child</th>\n",
       "      <td>139.382633</td>\n",
       "      <td>28.323905</td>\n",
       "      <td>23.220190</td>\n",
       "    </tr>\n",
       "    <tr>\n",
       "      <th>man</th>\n",
       "      <td>65.951086</td>\n",
       "      <td>19.054124</td>\n",
       "      <td>11.340213</td>\n",
       "    </tr>\n",
       "    <tr>\n",
       "      <th>woman</th>\n",
       "      <td>104.317995</td>\n",
       "      <td>20.868624</td>\n",
       "      <td>15.354351</td>\n",
       "    </tr>\n",
       "  </tbody>\n",
       "</table>\n",
       "</div>"
      ],
      "text/plain": [
       "class       First     Second      Third\n",
       "who                                    \n",
       "child  139.382633  28.323905  23.220190\n",
       "man     65.951086  19.054124  11.340213\n",
       "woman  104.317995  20.868624  15.354351"
      ]
     },
     "execution_count": 10,
     "metadata": {},
     "output_type": "execute_result"
    }
   ],
   "source": [
    "titanic_df.groupby(['who', 'class']).fare.mean().unstack('class')"
   ]
  },
  {
   "cell_type": "markdown",
   "metadata": {},
   "source": [
    "This already makes more sense, it is mainly the first class difference that drives up the prices, yet the difference seems to be still present.\n",
    "\n",
    "Can you perform a t-test on the gender fare gap in the third class, is it still significant?"
   ]
  },
  {
   "cell_type": "code",
   "execution_count": null,
   "metadata": {},
   "outputs": [],
   "source": []
  },
  {
   "cell_type": "markdown",
   "metadata": {
    "id": "ZFkT2J1ebE0p"
   },
   "source": [
    "A t-test is ideal if you would like to compare 2 groups, yet often we have multiple groups.\n",
    "For this we can use a (one_way) ANOVA or ANalysis Of VAriance.\n",
    "\n",
    "We seperate on class and check if the fare is significantly different."
   ]
  },
  {
   "cell_type": "code",
   "execution_count": 11,
   "metadata": {
    "colab": {
     "base_uri": "https://localhost:8080/"
    },
    "executionInfo": {
     "elapsed": 717,
     "status": "ok",
     "timestamp": 1605653901624,
     "user": {
      "displayName": "Lorenz Feyen",
      "photoUrl": "",
      "userId": "13474410138118598994"
     },
     "user_tz": -60
    },
    "id": "CeBcxsqxba1X",
    "outputId": "0259e802-f495-4b11-9ba9-be4231d4ce1e"
   },
   "outputs": [
    {
     "data": {
      "text/plain": [
       "(242.34415651744814, 1.0313763209141171e-84)"
      ]
     },
     "execution_count": 11,
     "metadata": {},
     "output_type": "execute_result"
    }
   ],
   "source": [
    "F, p = stats.f_oneway(\n",
    "    titanic_df.fare[titanic_df.pclass==1],\n",
    "    titanic_df.fare[titanic_df.pclass==2],\n",
    "    titanic_df.fare[titanic_df.pclass==3]\n",
    ")\n",
    "F, p"
   ]
  },
  {
   "cell_type": "markdown",
   "metadata": {
    "id": "yrlORubXb3Dr"
   },
   "source": [
    "This was more or less a no-brainer, as it is advertised that higher classes come with a higher pricetag.\n",
    "We can use a nice histogram to show this division of class."
   ]
  },
  {
   "cell_type": "code",
   "execution_count": 12,
   "metadata": {},
   "outputs": [
    {
     "data": {
      "text/plain": [
       "<matplotlib.axes._subplots.AxesSubplot at 0x7f181c5382b0>"
      ]
     },
     "execution_count": 12,
     "metadata": {},
     "output_type": "execute_result"
    },
    {
     "data": {
      "image/png": "[encoded data removed]",
      "text/plain": [
       "<Figure size 1152x864 with 1 Axes>"
      ]
     },
     "metadata": {},
     "output_type": "display_data"
    }
   ],
   "source": [
    "sns.histplot(data=titanic_df[titanic_df.fare!=0], x='fare', hue='class', log_scale=True, multiple='stack', bins=25)"
   ]
  },
  {
   "cell_type": "markdown",
   "metadata": {},
   "source": [
    "A less cluttered plot would be to use a boxplot, containing less information about the distribution, yet still showing simple statistics."
   ]
  },
  {
   "cell_type": "code",
   "execution_count": 13,
   "metadata": {},
   "outputs": [
    {
     "data": {
      "image/png": "[encoded data removed]",
      "text/plain": [
       "<Figure size 1152x864 with 1 Axes>"
      ]
     },
     "metadata": {},
     "output_type": "display_data"
    }
   ],
   "source": [
    "ax = sns.boxplot(data=titanic_df[titanic_df.fare!=0], x='class', y='fare')\n",
    "ax.set_yscale(\"log\")"
   ]
  },
  {
   "cell_type": "markdown",
   "metadata": {},
   "source": [
    "We could do something similar, but taking the age instead of the fare, giving us the following result."
   ]
  },
  {
   "cell_type": "code",
   "execution_count": 14,
   "metadata": {},
   "outputs": [
    {
     "data": {
      "text/plain": [
       "(57.443484340676214, 7.487984171959904e-24)"
      ]
     },
     "execution_count": 14,
     "metadata": {},
     "output_type": "execute_result"
    }
   ],
   "source": [
    "F, p = stats.f_oneway(\n",
    "    titanic_df.age[titanic_df.pclass==1].dropna(),\n",
    "    titanic_df.age[titanic_df.pclass==2].dropna(),\n",
    "    titanic_df.age[titanic_df.pclass==3].dropna()\n",
    ")\n",
    "F, p"
   ]
  },
  {
   "cell_type": "markdown",
   "metadata": {},
   "source": [
    "The p value indicates there is surely a difference in age between classes, how about we look at the means for each class."
   ]
  },
  {
   "cell_type": "code",
   "execution_count": 15,
   "metadata": {},
   "outputs": [
    {
     "data": {
      "text/plain": [
       "pclass\n",
       "1    38.233441\n",
       "2    29.877630\n",
       "3    25.140620\n",
       "Name: age, dtype: float64"
      ]
     },
     "execution_count": 15,
     "metadata": {},
     "output_type": "execute_result"
    }
   ],
   "source": [
    "titanic_df.groupby('pclass').age.mean()"
   ]
  },
  {
   "cell_type": "markdown",
   "metadata": {},
   "source": [
    "What about any statistical significant differences in ages for the groups that survived and didn't, could you perform this analysis?\n",
    "Report your findings in a histogram."
   ]
  },
  {
   "cell_type": "code",
   "execution_count": null,
   "metadata": {
    "colab": {
     "base_uri": "https://localhost:8080/",
     "height": 298
    },
    "executionInfo": {
     "elapsed": 717,
     "status": "ok",
     "timestamp": 1605654055858,
     "user": {
      "displayName": "Lorenz Feyen",
      "photoUrl": "",
      "userId": "13474410138118598994"
     },
     "user_tz": -60
    },
    "id": "3Rqs2oTmcGpC",
    "outputId": "780474fc-dea0-4ff9-f240-504920723acd"
   },
   "outputs": [],
   "source": []
  },
  {
   "cell_type": "markdown",
   "metadata": {
    "id": "T_PuLSptA458"
   },
   "source": [
    "### Continuous vs continuous\n",
    "\n",
    "A thirds option to explore the interactions within your dataset is by comparing 2 continuous variables.\n",
    "\n",
    "Seaborn has a nice functionality where can perform a jointplot that not only shows us the scatter plot but also the distributions, \n",
    "When we perform this plot we notice the inbalanced distribution of the fares."
   ]
  },
  {
   "cell_type": "code",
   "execution_count": 16,
   "metadata": {
    "colab": {
     "base_uri": "https://localhost:8080/",
     "height": 890
    },
    "executionInfo": {
     "elapsed": 20702,
     "status": "ok",
     "timestamp": 1605654444009,
     "user": {
      "displayName": "Lorenz Feyen",
      "photoUrl": "",
      "userId": "13474410138118598994"
     },
     "user_tz": -60
    },
    "id": "fii40YV8_zz9",
    "outputId": "029e7ed2-f216-4021-c136-e918629cfd3f"
   },
   "outputs": [
    {
     "data": {
      "text/plain": [
       "<seaborn.axisgrid.JointGrid at 0x7f17bbf66cd0>"
      ]
     },
     "execution_count": 16,
     "metadata": {},
     "output_type": "execute_result"
    },
    {
     "data": {
      "image/png": "[encoded data removed]",
      "text/plain": [
       "<Figure size 432x432 with 3 Axes>"
      ]
     },
     "metadata": {},
     "output_type": "display_data"
    }
   ],
   "source": [
    "sns.jointplot(data=titanic_df, x='age', y='fare')"
   ]
  },
  {
   "cell_type": "markdown",
   "metadata": {
    "id": "g_k6ium8dj09"
   },
   "source": [
    "What we could do is remove outliers, if I recall correclty we set a upper bound of 77.5, let's do that here and replot.\n",
    "I've also added the type of person as a color, you can here see that women and children pay more as we saw earlier."
   ]
  },
  {
   "cell_type": "code",
   "execution_count": 17,
   "metadata": {},
   "outputs": [
    {
     "data": {
      "text/plain": [
       "<seaborn.axisgrid.JointGrid at 0x7f17bb9cc970>"
      ]
     },
     "execution_count": 17,
     "metadata": {},
     "output_type": "execute_result"
    },
    {
     "data": {
      "image/png": "[encoded data removed]",
      "text/plain": [
       "<Figure size 432x432 with 3 Axes>"
      ]
     },
     "metadata": {},
     "output_type": "display_data"
    }
   ],
   "source": [
    "sns.jointplot(data=titanic_df[titanic_df.fare<77.5], x='age', y='fare', hue='who')"
   ]
  },
  {
   "cell_type": "markdown",
   "metadata": {},
   "source": [
    "To make this more mathematically sound, we are using the spearman rank correlation test, not the pearson as we are dealing with non normal data. You could check that with a shapiro wilk test but i'll leave that up to you!"
   ]
  },
  {
   "cell_type": "code",
   "execution_count": 18,
   "metadata": {},
   "outputs": [
    {
     "data": {
      "text/plain": [
       "(0.1350512177342878, 0.00029580903243060916)"
      ]
     },
     "execution_count": 18,
     "metadata": {},
     "output_type": "execute_result"
    }
   ],
   "source": [
    "corr, p = stats.spearmanr(a=titanic_df[['age','fare']].dropna())\n",
    "corr, p"
   ]
  },
  {
   "cell_type": "markdown",
   "metadata": {},
   "source": [
    "with a p-value of only 0.000296 we can safely reject the null-hypothesis, meaning there is a correlation.\n",
    "The correlation coefficient here is only 0.135, meaning for any person each year of age would make their fare about 0.135 dollars more expensive on average, which in that time was a fair amount of money.\n",
    "\n",
    "To make this more visual, I added a lmplot that performs a linear regression, you can see how the line goes up in fare as the age goes up.\n",
    "I had to use a logarithmic y-scale as the distribution is still not normal."
   ]
  },
  {
   "cell_type": "code",
   "execution_count": 19,
   "metadata": {
    "colab": {
     "base_uri": "https://localhost:8080/",
     "height": 346
    },
    "executionInfo": {
     "elapsed": 1199,
     "status": "ok",
     "timestamp": 1605654772985,
     "user": {
      "displayName": "Lorenz Feyen",
      "photoUrl": "",
      "userId": "13474410138118598994"
     },
     "user_tz": -60
    },
    "id": "XsXSsb5YAMIg",
    "outputId": "0ab871fa-4b18-4ab1-fa50-c22610250118"
   },
   "outputs": [
    {
     "data": {
      "text/plain": [
       "<seaborn.axisgrid.FacetGrid at 0x7f17b9962520>"
      ]
     },
     "execution_count": 19,
     "metadata": {},
     "output_type": "execute_result"
    },
    {
     "data": {
      "image/png": "[encoded data removed]",
      "text/plain": [
       "<Figure size 360x360 with 1 Axes>"
      ]
     },
     "metadata": {},
     "output_type": "display_data"
    }
   ],
   "source": [
    "ax = sns.lmplot(data=titanic_df, x='age', y='fare')\n",
    "ax.set(yscale='log')"
   ]
  },
  {
   "cell_type": "markdown",
   "metadata": {
    "id": "kymKEoP8e6ST"
   },
   "source": [
    "Now this correlation of 0.135 dollar is relevant for ANY person, man, female, child, first class, second,...\n",
    "\n",
    "Perhaps we could find several subgroups with a higher or lower correlation, I will perform the correlation with the outliers removed."
   ]
  },
  {
   "cell_type": "code",
   "execution_count": 20,
   "metadata": {},
   "outputs": [
    {
     "data": {
      "text/plain": [
       "(0.09269934275477329, 0.019762193968013368)"
      ]
     },
     "execution_count": 20,
     "metadata": {},
     "output_type": "execute_result"
    }
   ],
   "source": [
    "corr, p = stats.spearmanr(a=titanic_df[titanic_df.fare<77.5][['age','fare']].dropna())\n",
    "corr, p"
   ]
  },
  {
   "cell_type": "markdown",
   "metadata": {},
   "source": [
    "When we remove outliers, we have a less strong correlations, indicating that the outliers - with high fares - are in general older persons.\n",
    "\n",
    "Try to experiment with subsetting the data and find a group where age matters more for the correlation."
   ]
  },
  {
   "cell_type": "code",
   "execution_count": null,
   "metadata": {},
   "outputs": [],
   "source": []
  }
 ],
 "metadata": {
  "colab": {
   "authorship_tag": "ABX9TyPINAp+/22Wi0Ulu18uYh5O",
   "collapsed_sections": [],
   "name": "04.extra-bi-variate-analysis.ipynb",
   "provenance": []
  },
  "kernelspec": {
   "display_name": "Python 3 (ipykernel)",
   "language": "python",
   "name": "python3"
  },
  "language_info": {
   "codemirror_mode": {
    "name": "ipython",
    "version": 3
   },
   "file_extension": ".py",
   "mimetype": "text/x-python",
   "name": "python",
   "nbconvert_exporter": "python",
   "pygments_lexer": "ipython3",
   "version": "3.8.10"
  }
 },
 "nbformat": 4,
 "nbformat_minor": 1
}
