{
 "cells": [
  {
   "cell_type": "markdown",
   "metadata": {
    "id": "5v9p7ijZwuMk"
   },
   "source": [
    "# New Data Sources\n",
    "In this notebook we are going to look into adding new data to your dataset.\n",
    "We start out with a taxi dataset describing all pickup points from taxis in a specific date interval, notice that the dataset is divided up into months. Each month has their specific csv file saved in an AWS location.\n",
    "\n",
    "\n"
   ]
  },
  {
   "cell_type": "code",
   "execution_count": 1,
   "metadata": {
    "executionInfo": {
     "elapsed": 945,
     "status": "ok",
     "timestamp": 1603380566978,
     "user": {
      "displayName": "Lorenz Feyen",
      "photoUrl": "",
      "userId": "13474410138118598994"
     },
     "user_tz": -120
    },
    "id": "j5fn87jcgXx-"
   },
   "outputs": [],
   "source": [
    "import pandas as pd\n",
    "import seaborn as sns\n",
    "from urllib.request import urlopen"
   ]
  },
  {
   "cell_type": "code",
   "execution_count": 2,
   "metadata": {
    "colab": {
     "base_uri": "https://localhost:8080/",
     "height": 226
    },
    "executionInfo": {
     "elapsed": 1251,
     "status": "ok",
     "timestamp": 1603380567295,
     "user": {
      "displayName": "Lorenz Feyen",
      "photoUrl": "",
      "userId": "13474410138118598994"
     },
     "user_tz": -120
    },
    "id": "zkRuYIHtqgFw",
    "outputId": "dd9db008-af0f-49e5-c7cd-af52ab46dc19"
   },
   "outputs": [
    {
     "data": {
      "text/plain": [
       "['https://s3.amazonaws.com/nyc-tlc/trip+data/fhv_tripdata_2015-01.csv',\n",
       " 'https://s3.amazonaws.com/nyc-tlc/trip+data/fhv_tripdata_2015-02.csv',\n",
       " 'https://s3.amazonaws.com/nyc-tlc/trip+data/fhv_tripdata_2015-03.csv',\n",
       " 'https://s3.amazonaws.com/nyc-tlc/trip+data/fhv_tripdata_2015-04.csv',\n",
       " 'https://s3.amazonaws.com/nyc-tlc/trip+data/fhv_tripdata_2015-05.csv',\n",
       " 'https://s3.amazonaws.com/nyc-tlc/trip+data/fhv_tripdata_2015-06.csv',\n",
       " 'https://s3.amazonaws.com/nyc-tlc/trip+data/fhv_tripdata_2015-07.csv',\n",
       " 'https://s3.amazonaws.com/nyc-tlc/trip+data/fhv_tripdata_2015-08.csv',\n",
       " 'https://s3.amazonaws.com/nyc-tlc/trip+data/fhv_tripdata_2015-09.csv',\n",
       " 'https://s3.amazonaws.com/nyc-tlc/trip+data/fhv_tripdata_2015-10.csv',\n",
       " 'https://s3.amazonaws.com/nyc-tlc/trip+data/fhv_tripdata_2015-11.csv',\n",
       " 'https://s3.amazonaws.com/nyc-tlc/trip+data/fhv_tripdata_2015-12.csv']"
      ]
     },
     "execution_count": 2,
     "metadata": {},
     "output_type": "execute_result"
    }
   ],
   "source": [
    "data_url_files = urlopen('https://raw.githubusercontent.com/toddwschneider/nyc-taxi-data/master/setup_files/raw_data_urls.txt')\n",
    "data_urls = data_url_files.read().decode('utf-8').split('\\n')\n",
    "data_urls[0:12]"
   ]
  },
  {
   "cell_type": "markdown",
   "metadata": {
    "id": "edRS2i6oyi5T"
   },
   "source": [
    "Due to slow parsing of data we will here only parse the uber data from jan-mar 2015"
   ]
  },
  {
   "cell_type": "code",
   "execution_count": 3,
   "metadata": {
    "executionInfo": {
     "elapsed": 28424,
     "status": "ok",
     "timestamp": 1603380625341,
     "user": {
      "displayName": "Lorenz Feyen",
      "photoUrl": "",
      "userId": "13474410138118598994"
     },
     "user_tz": -120
    },
    "id": "ycxcaPgc9bN9"
   },
   "outputs": [],
   "source": [
    "datasets = [pd.read_csv(url) for url in data_urls[0:3]]"
   ]
  },
  {
   "cell_type": "code",
   "execution_count": 4,
   "metadata": {
    "executionInfo": {
     "elapsed": 667,
     "status": "ok",
     "timestamp": 1603380654501,
     "user": {
      "displayName": "Lorenz Feyen",
      "photoUrl": "",
      "userId": "13474410138118598994"
     },
     "user_tz": -120
    },
    "id": "i7XN3W_t95dm"
   },
   "outputs": [],
   "source": [
    "cab_df = pd.concat(datasets)"
   ]
  },
  {
   "cell_type": "code",
   "execution_count": 5,
   "metadata": {
    "colab": {
     "base_uri": "https://localhost:8080/",
     "height": 220
    },
    "executionInfo": {
     "elapsed": 671,
     "status": "ok",
     "timestamp": 1603380658826,
     "user": {
      "displayName": "Lorenz Feyen",
      "photoUrl": "",
      "userId": "13474410138118598994"
     },
     "user_tz": -120
    },
    "id": "s-3_LWcSgtsf",
    "outputId": "a5261b04-e753-46fd-a046-dc64dc3001ff"
   },
   "outputs": [
    {
     "name": "stdout",
     "output_type": "stream",
     "text": [
      "shape: (9153861, 3)\n"
     ]
    },
    {
     "data": {
      "text/html": [
       "<div>\n",
       "<style scoped>\n",
       "    .dataframe tbody tr th:only-of-type {\n",
       "        vertical-align: middle;\n",
       "    }\n",
       "\n",
       "    .dataframe tbody tr th {\n",
       "        vertical-align: top;\n",
       "    }\n",
       "\n",
       "    .dataframe thead th {\n",
       "        text-align: right;\n",
       "    }\n",
       "</style>\n",
       "<table border=\"1\" class=\"dataframe\">\n",
       "  <thead>\n",
       "    <tr style=\"text-align: right;\">\n",
       "      <th></th>\n",
       "      <th>Dispatching_base_num</th>\n",
       "      <th>Pickup_date</th>\n",
       "      <th>locationID</th>\n",
       "    </tr>\n",
       "  </thead>\n",
       "  <tbody>\n",
       "    <tr>\n",
       "      <th>0</th>\n",
       "      <td>B00013</td>\n",
       "      <td>2015-01-01 00:30:00</td>\n",
       "      <td>NaN</td>\n",
       "    </tr>\n",
       "    <tr>\n",
       "      <th>1</th>\n",
       "      <td>B00013</td>\n",
       "      <td>2015-01-01 01:22:00</td>\n",
       "      <td>NaN</td>\n",
       "    </tr>\n",
       "    <tr>\n",
       "      <th>2</th>\n",
       "      <td>B00013</td>\n",
       "      <td>2015-01-01 01:23:00</td>\n",
       "      <td>NaN</td>\n",
       "    </tr>\n",
       "    <tr>\n",
       "      <th>3</th>\n",
       "      <td>B00013</td>\n",
       "      <td>2015-01-01 01:44:00</td>\n",
       "      <td>NaN</td>\n",
       "    </tr>\n",
       "    <tr>\n",
       "      <th>4</th>\n",
       "      <td>B00013</td>\n",
       "      <td>2015-01-01 02:00:00</td>\n",
       "      <td>NaN</td>\n",
       "    </tr>\n",
       "  </tbody>\n",
       "</table>\n",
       "</div>"
      ],
      "text/plain": [
       "  Dispatching_base_num          Pickup_date  locationID\n",
       "0               B00013  2015-01-01 00:30:00         NaN\n",
       "1               B00013  2015-01-01 01:22:00         NaN\n",
       "2               B00013  2015-01-01 01:23:00         NaN\n",
       "3               B00013  2015-01-01 01:44:00         NaN\n",
       "4               B00013  2015-01-01 02:00:00         NaN"
      ]
     },
     "execution_count": 5,
     "metadata": {},
     "output_type": "execute_result"
    }
   ],
   "source": [
    "print('shape: ' + str(cab_df.shape))\n",
    "cab_df.head()"
   ]
  },
  {
   "cell_type": "markdown",
   "metadata": {
    "id": "U8EnvKu4yqJy"
   },
   "source": [
    "We would like to find out how many uber rides were performed each day so we:\n",
    "- parse the date string to a datetime format\n",
    "- set the date as index\n",
    "- resample to '1D' or one day (and chose count as aggregation)"
   ]
  },
  {
   "cell_type": "code",
   "execution_count": 6,
   "metadata": {
    "executionInfo": {
     "elapsed": 2238,
     "status": "ok",
     "timestamp": 1603380814519,
     "user": {
      "displayName": "Lorenz Feyen",
      "photoUrl": "",
      "userId": "13474410138118598994"
     },
     "user_tz": -120
    },
    "id": "S9DRCg1IhV-7"
   },
   "outputs": [],
   "source": [
    "cab_df['datetime'] = pd.to_datetime(cab_df['Pickup_date'], format=\"%Y/%m/%d %H:%M:%S\")\n"
   ]
  },
  {
   "cell_type": "code",
   "execution_count": 7,
   "metadata": {
    "executionInfo": {
     "elapsed": 662,
     "status": "ok",
     "timestamp": 1603380825176,
     "user": {
      "displayName": "Lorenz Feyen",
      "photoUrl": "",
      "userId": "13474410138118598994"
     },
     "user_tz": -120
    },
    "id": "rpp0-sNhha2r"
   },
   "outputs": [],
   "source": [
    "cab_df = cab_df.set_index('datetime')"
   ]
  },
  {
   "cell_type": "code",
   "execution_count": 8,
   "metadata": {
    "colab": {
     "base_uri": "https://localhost:8080/",
     "height": 234
    },
    "executionInfo": {
     "elapsed": 875,
     "status": "ok",
     "timestamp": 1603380865330,
     "user": {
      "displayName": "Lorenz Feyen",
      "photoUrl": "",
      "userId": "13474410138118598994"
     },
     "user_tz": -120
    },
    "id": "LsOKbuYO8kMR",
    "outputId": "f38f0a51-d08c-4672-f401-fa642972a45c"
   },
   "outputs": [
    {
     "data": {
      "text/html": [
       "<div>\n",
       "<style scoped>\n",
       "    .dataframe tbody tr th:only-of-type {\n",
       "        vertical-align: middle;\n",
       "    }\n",
       "\n",
       "    .dataframe tbody tr th {\n",
       "        vertical-align: top;\n",
       "    }\n",
       "\n",
       "    .dataframe thead th {\n",
       "        text-align: right;\n",
       "    }\n",
       "</style>\n",
       "<table border=\"1\" class=\"dataframe\">\n",
       "  <thead>\n",
       "    <tr style=\"text-align: right;\">\n",
       "      <th></th>\n",
       "      <th>Dispatching_base_num</th>\n",
       "      <th>Pickup_date</th>\n",
       "      <th>locationID</th>\n",
       "    </tr>\n",
       "    <tr>\n",
       "      <th>datetime</th>\n",
       "      <th></th>\n",
       "      <th></th>\n",
       "      <th></th>\n",
       "    </tr>\n",
       "  </thead>\n",
       "  <tbody>\n",
       "    <tr>\n",
       "      <th>2015-01-01 00:30:00</th>\n",
       "      <td>B00013</td>\n",
       "      <td>2015-01-01 00:30:00</td>\n",
       "      <td>NaN</td>\n",
       "    </tr>\n",
       "    <tr>\n",
       "      <th>2015-01-01 01:22:00</th>\n",
       "      <td>B00013</td>\n",
       "      <td>2015-01-01 01:22:00</td>\n",
       "      <td>NaN</td>\n",
       "    </tr>\n",
       "    <tr>\n",
       "      <th>2015-01-01 01:23:00</th>\n",
       "      <td>B00013</td>\n",
       "      <td>2015-01-01 01:23:00</td>\n",
       "      <td>NaN</td>\n",
       "    </tr>\n",
       "    <tr>\n",
       "      <th>2015-01-01 01:44:00</th>\n",
       "      <td>B00013</td>\n",
       "      <td>2015-01-01 01:44:00</td>\n",
       "      <td>NaN</td>\n",
       "    </tr>\n",
       "    <tr>\n",
       "      <th>2015-01-01 02:00:00</th>\n",
       "      <td>B00013</td>\n",
       "      <td>2015-01-01 02:00:00</td>\n",
       "      <td>NaN</td>\n",
       "    </tr>\n",
       "  </tbody>\n",
       "</table>\n",
       "</div>"
      ],
      "text/plain": [
       "                    Dispatching_base_num          Pickup_date  locationID\n",
       "datetime                                                                 \n",
       "2015-01-01 00:30:00               B00013  2015-01-01 00:30:00         NaN\n",
       "2015-01-01 01:22:00               B00013  2015-01-01 01:22:00         NaN\n",
       "2015-01-01 01:23:00               B00013  2015-01-01 01:23:00         NaN\n",
       "2015-01-01 01:44:00               B00013  2015-01-01 01:44:00         NaN\n",
       "2015-01-01 02:00:00               B00013  2015-01-01 02:00:00         NaN"
      ]
     },
     "execution_count": 8,
     "metadata": {},
     "output_type": "execute_result"
    }
   ],
   "source": [
    "cab_df.head()"
   ]
  },
  {
   "cell_type": "code",
   "execution_count": 9,
   "metadata": {
    "colab": {
     "base_uri": "https://localhost:8080/",
     "height": 139
    },
    "executionInfo": {
     "elapsed": 2849,
     "status": "ok",
     "timestamp": 1603380913358,
     "user": {
      "displayName": "Lorenz Feyen",
      "photoUrl": "",
      "userId": "13474410138118598994"
     },
     "user_tz": -120
    },
    "id": "Znh5NGkTijsp",
    "outputId": "a1be1085-2d58-487f-a479-5b74803b153d"
   },
   "outputs": [
    {
     "data": {
      "text/plain": [
       "datetime\n",
       "2015-01-01    77789\n",
       "2015-01-02    61832\n",
       "2015-01-03    81955\n",
       "2015-01-04    62691\n",
       "2015-01-05    71063\n",
       "Freq: D, Name: cabs_taken, dtype: int64"
      ]
     },
     "execution_count": 9,
     "metadata": {},
     "output_type": "execute_result"
    }
   ],
   "source": [
    "cabs_taken = cab_df['Dispatching_base_num'].resample('1D').count().rename('cabs_taken')\n",
    "cabs_taken.head()"
   ]
  },
  {
   "cell_type": "markdown",
   "metadata": {
    "id": "B7GphgIPzBpC"
   },
   "source": [
    "great! now we have an idea on how many ubers were taken each day, let us use a simple line plot to show the results."
   ]
  },
  {
   "cell_type": "code",
   "execution_count": 10,
   "metadata": {
    "colab": {
     "base_uri": "https://localhost:8080/",
     "height": 296
    },
    "executionInfo": {
     "elapsed": 901,
     "status": "ok",
     "timestamp": 1603380961852,
     "user": {
      "displayName": "Lorenz Feyen",
      "photoUrl": "",
      "userId": "13474410138118598994"
     },
     "user_tz": -120
    },
    "id": "emitqdYbiraf",
    "outputId": "e1307641-bf37-4193-a2d4-ff9af9ca4d06"
   },
   "outputs": [
    {
     "data": {
      "text/plain": [
       "<AxesSubplot:xlabel='datetime', ylabel='cabs_taken'>"
      ]
     },
     "execution_count": 10,
     "metadata": {},
     "output_type": "execute_result"
    },
    {
     "data": {
      "image/png": "[encoded data removed]",
      "text/plain": [
       "<Figure size 432x288 with 1 Axes>"
      ]
     },
     "metadata": {
      "filenames": {
       "image/png": "/home/lorenzf/git/data-science-practical-approach/src/_build/jupyter_execute/c5_data_exploration/external_data_13_1.png"
      },
      "needs_background": "light"
     },
     "output_type": "display_data"
    }
   ],
   "source": [
    "sns.lineplot(data=cabs_taken)"
   ]
  },
  {
   "cell_type": "markdown",
   "metadata": {
    "id": "bxeR1pqRzJc2"
   },
   "source": [
    "This dataset is nice, but by itself pretty useless, why don't we look up some weather information to see if this influences our traffic."
   ]
  },
  {
   "cell_type": "code",
   "execution_count": 11,
   "metadata": {
    "executionInfo": {
     "elapsed": 1287,
     "status": "ok",
     "timestamp": 1603381022929,
     "user": {
      "displayName": "Lorenz Feyen",
      "photoUrl": "",
      "userId": "13474410138118598994"
     },
     "user_tz": -120
    },
    "id": "kINOvGTrjLND"
   },
   "outputs": [],
   "source": [
    "url = 'https://raw.githubusercontent.com/toddwschneider/nyc-taxi-data/master/data/central_park_weather.csv'\n",
    "weather = pd.read_csv(url)"
   ]
  },
  {
   "cell_type": "code",
   "execution_count": 12,
   "metadata": {
    "colab": {
     "base_uri": "https://localhost:8080/",
     "height": 203
    },
    "executionInfo": {
     "elapsed": 851,
     "status": "ok",
     "timestamp": 1603381026141,
     "user": {
      "displayName": "Lorenz Feyen",
      "photoUrl": "",
      "userId": "13474410138118598994"
     },
     "user_tz": -120
    },
    "id": "KfRY70hlo6aP",
    "outputId": "c4955d17-7512-45f8-c634-b0d24db6a5c9"
   },
   "outputs": [
    {
     "data": {
      "text/html": [
       "<div>\n",
       "<style scoped>\n",
       "    .dataframe tbody tr th:only-of-type {\n",
       "        vertical-align: middle;\n",
       "    }\n",
       "\n",
       "    .dataframe tbody tr th {\n",
       "        vertical-align: top;\n",
       "    }\n",
       "\n",
       "    .dataframe thead th {\n",
       "        text-align: right;\n",
       "    }\n",
       "</style>\n",
       "<table border=\"1\" class=\"dataframe\">\n",
       "  <thead>\n",
       "    <tr style=\"text-align: right;\">\n",
       "      <th></th>\n",
       "      <th>STATION</th>\n",
       "      <th>NAME</th>\n",
       "      <th>DATE</th>\n",
       "      <th>AWND</th>\n",
       "      <th>PRCP</th>\n",
       "      <th>SNOW</th>\n",
       "      <th>SNWD</th>\n",
       "      <th>TMAX</th>\n",
       "      <th>TMIN</th>\n",
       "    </tr>\n",
       "  </thead>\n",
       "  <tbody>\n",
       "    <tr>\n",
       "      <th>0</th>\n",
       "      <td>USW00094728</td>\n",
       "      <td>NY CITY CENTRAL PARK, NY US</td>\n",
       "      <td>2009-01-01</td>\n",
       "      <td>11.18</td>\n",
       "      <td>0.0</td>\n",
       "      <td>0.0</td>\n",
       "      <td>0.0</td>\n",
       "      <td>26</td>\n",
       "      <td>15</td>\n",
       "    </tr>\n",
       "    <tr>\n",
       "      <th>1</th>\n",
       "      <td>USW00094728</td>\n",
       "      <td>NY CITY CENTRAL PARK, NY US</td>\n",
       "      <td>2009-01-02</td>\n",
       "      <td>6.26</td>\n",
       "      <td>0.0</td>\n",
       "      <td>0.0</td>\n",
       "      <td>0.0</td>\n",
       "      <td>34</td>\n",
       "      <td>23</td>\n",
       "    </tr>\n",
       "    <tr>\n",
       "      <th>2</th>\n",
       "      <td>USW00094728</td>\n",
       "      <td>NY CITY CENTRAL PARK, NY US</td>\n",
       "      <td>2009-01-03</td>\n",
       "      <td>10.07</td>\n",
       "      <td>0.0</td>\n",
       "      <td>0.0</td>\n",
       "      <td>0.0</td>\n",
       "      <td>38</td>\n",
       "      <td>29</td>\n",
       "    </tr>\n",
       "    <tr>\n",
       "      <th>3</th>\n",
       "      <td>USW00094728</td>\n",
       "      <td>NY CITY CENTRAL PARK, NY US</td>\n",
       "      <td>2009-01-04</td>\n",
       "      <td>7.61</td>\n",
       "      <td>0.0</td>\n",
       "      <td>0.0</td>\n",
       "      <td>0.0</td>\n",
       "      <td>42</td>\n",
       "      <td>25</td>\n",
       "    </tr>\n",
       "    <tr>\n",
       "      <th>4</th>\n",
       "      <td>USW00094728</td>\n",
       "      <td>NY CITY CENTRAL PARK, NY US</td>\n",
       "      <td>2009-01-05</td>\n",
       "      <td>6.93</td>\n",
       "      <td>0.0</td>\n",
       "      <td>0.0</td>\n",
       "      <td>0.0</td>\n",
       "      <td>43</td>\n",
       "      <td>38</td>\n",
       "    </tr>\n",
       "  </tbody>\n",
       "</table>\n",
       "</div>"
      ],
      "text/plain": [
       "       STATION                         NAME        DATE   AWND  PRCP  SNOW  \\\n",
       "0  USW00094728  NY CITY CENTRAL PARK, NY US  2009-01-01  11.18   0.0   0.0   \n",
       "1  USW00094728  NY CITY CENTRAL PARK, NY US  2009-01-02   6.26   0.0   0.0   \n",
       "2  USW00094728  NY CITY CENTRAL PARK, NY US  2009-01-03  10.07   0.0   0.0   \n",
       "3  USW00094728  NY CITY CENTRAL PARK, NY US  2009-01-04   7.61   0.0   0.0   \n",
       "4  USW00094728  NY CITY CENTRAL PARK, NY US  2009-01-05   6.93   0.0   0.0   \n",
       "\n",
       "   SNWD  TMAX  TMIN  \n",
       "0   0.0    26    15  \n",
       "1   0.0    34    23  \n",
       "2   0.0    38    29  \n",
       "3   0.0    42    25  \n",
       "4   0.0    43    38  "
      ]
     },
     "execution_count": 12,
     "metadata": {},
     "output_type": "execute_result"
    }
   ],
   "source": [
    "weather.head()"
   ]
  },
  {
   "cell_type": "markdown",
   "metadata": {
    "id": "SIl7MVm0tIND"
   },
   "source": [
    "you can see a variaty of information, more info on the column names can be found [here](https://docs.opendata.aws/noaa-ghcn-pds/readme.html)  \n",
    "again we need to:\n",
    "- parse the date\n",
    "- set it to the index\n",
    "- resampling is not needed as it is already in day-to-day intervals\n"
   ]
  },
  {
   "cell_type": "code",
   "execution_count": 13,
   "metadata": {
    "executionInfo": {
     "elapsed": 757,
     "status": "ok",
     "timestamp": 1603381083101,
     "user": {
      "displayName": "Lorenz Feyen",
      "photoUrl": "",
      "userId": "13474410138118598994"
     },
     "user_tz": -120
    },
    "id": "4kVRIaO4pgJy"
   },
   "outputs": [],
   "source": [
    "weather['DATE'] =  pd.to_datetime(weather['DATE'], format=\"%Y/%m/%d\")\n",
    "weather = weather.set_index('DATE')"
   ]
  },
  {
   "cell_type": "code",
   "execution_count": 14,
   "metadata": {
    "colab": {
     "base_uri": "https://localhost:8080/",
     "height": 234
    },
    "executionInfo": {
     "elapsed": 814,
     "status": "ok",
     "timestamp": 1603381085781,
     "user": {
      "displayName": "Lorenz Feyen",
      "photoUrl": "",
      "userId": "13474410138118598994"
     },
     "user_tz": -120
    },
    "id": "OFVl68sOprzn",
    "outputId": "c80408aa-676f-41ed-bbc3-0c03908ad5ab"
   },
   "outputs": [
    {
     "data": {
      "text/html": [
       "<div>\n",
       "<style scoped>\n",
       "    .dataframe tbody tr th:only-of-type {\n",
       "        vertical-align: middle;\n",
       "    }\n",
       "\n",
       "    .dataframe tbody tr th {\n",
       "        vertical-align: top;\n",
       "    }\n",
       "\n",
       "    .dataframe thead th {\n",
       "        text-align: right;\n",
       "    }\n",
       "</style>\n",
       "<table border=\"1\" class=\"dataframe\">\n",
       "  <thead>\n",
       "    <tr style=\"text-align: right;\">\n",
       "      <th></th>\n",
       "      <th>STATION</th>\n",
       "      <th>NAME</th>\n",
       "      <th>AWND</th>\n",
       "      <th>PRCP</th>\n",
       "      <th>SNOW</th>\n",
       "      <th>SNWD</th>\n",
       "      <th>TMAX</th>\n",
       "      <th>TMIN</th>\n",
       "    </tr>\n",
       "    <tr>\n",
       "      <th>DATE</th>\n",
       "      <th></th>\n",
       "      <th></th>\n",
       "      <th></th>\n",
       "      <th></th>\n",
       "      <th></th>\n",
       "      <th></th>\n",
       "      <th></th>\n",
       "      <th></th>\n",
       "    </tr>\n",
       "  </thead>\n",
       "  <tbody>\n",
       "    <tr>\n",
       "      <th>2009-01-01</th>\n",
       "      <td>USW00094728</td>\n",
       "      <td>NY CITY CENTRAL PARK, NY US</td>\n",
       "      <td>11.18</td>\n",
       "      <td>0.0</td>\n",
       "      <td>0.0</td>\n",
       "      <td>0.0</td>\n",
       "      <td>26</td>\n",
       "      <td>15</td>\n",
       "    </tr>\n",
       "    <tr>\n",
       "      <th>2009-01-02</th>\n",
       "      <td>USW00094728</td>\n",
       "      <td>NY CITY CENTRAL PARK, NY US</td>\n",
       "      <td>6.26</td>\n",
       "      <td>0.0</td>\n",
       "      <td>0.0</td>\n",
       "      <td>0.0</td>\n",
       "      <td>34</td>\n",
       "      <td>23</td>\n",
       "    </tr>\n",
       "    <tr>\n",
       "      <th>2009-01-03</th>\n",
       "      <td>USW00094728</td>\n",
       "      <td>NY CITY CENTRAL PARK, NY US</td>\n",
       "      <td>10.07</td>\n",
       "      <td>0.0</td>\n",
       "      <td>0.0</td>\n",
       "      <td>0.0</td>\n",
       "      <td>38</td>\n",
       "      <td>29</td>\n",
       "    </tr>\n",
       "    <tr>\n",
       "      <th>2009-01-04</th>\n",
       "      <td>USW00094728</td>\n",
       "      <td>NY CITY CENTRAL PARK, NY US</td>\n",
       "      <td>7.61</td>\n",
       "      <td>0.0</td>\n",
       "      <td>0.0</td>\n",
       "      <td>0.0</td>\n",
       "      <td>42</td>\n",
       "      <td>25</td>\n",
       "    </tr>\n",
       "    <tr>\n",
       "      <th>2009-01-05</th>\n",
       "      <td>USW00094728</td>\n",
       "      <td>NY CITY CENTRAL PARK, NY US</td>\n",
       "      <td>6.93</td>\n",
       "      <td>0.0</td>\n",
       "      <td>0.0</td>\n",
       "      <td>0.0</td>\n",
       "      <td>43</td>\n",
       "      <td>38</td>\n",
       "    </tr>\n",
       "  </tbody>\n",
       "</table>\n",
       "</div>"
      ],
      "text/plain": [
       "                STATION                         NAME   AWND  PRCP  SNOW  SNWD  \\\n",
       "DATE                                                                            \n",
       "2009-01-01  USW00094728  NY CITY CENTRAL PARK, NY US  11.18   0.0   0.0   0.0   \n",
       "2009-01-02  USW00094728  NY CITY CENTRAL PARK, NY US   6.26   0.0   0.0   0.0   \n",
       "2009-01-03  USW00094728  NY CITY CENTRAL PARK, NY US  10.07   0.0   0.0   0.0   \n",
       "2009-01-04  USW00094728  NY CITY CENTRAL PARK, NY US   7.61   0.0   0.0   0.0   \n",
       "2009-01-05  USW00094728  NY CITY CENTRAL PARK, NY US   6.93   0.0   0.0   0.0   \n",
       "\n",
       "            TMAX  TMIN  \n",
       "DATE                    \n",
       "2009-01-01    26    15  \n",
       "2009-01-02    34    23  \n",
       "2009-01-03    38    29  \n",
       "2009-01-04    42    25  \n",
       "2009-01-05    43    38  "
      ]
     },
     "execution_count": 14,
     "metadata": {},
     "output_type": "execute_result"
    }
   ],
   "source": [
    "weather.head()"
   ]
  },
  {
   "cell_type": "markdown",
   "metadata": {
    "id": "yQiYZOMLzmqu"
   },
   "source": [
    "Having 2 dataset, now we need to merge them. Since we already prepared the date as index, this should be easy."
   ]
  },
  {
   "cell_type": "code",
   "execution_count": 15,
   "metadata": {
    "executionInfo": {
     "elapsed": 805,
     "status": "ok",
     "timestamp": 1603381111749,
     "user": {
      "displayName": "Lorenz Feyen",
      "photoUrl": "",
      "userId": "13474410138118598994"
     },
     "user_tz": -120
    },
    "id": "3G9ZlkEvpuLC"
   },
   "outputs": [],
   "source": [
    "merged_df = pd.merge(cabs_taken, weather, left_index=True, right_index=True)"
   ]
  },
  {
   "cell_type": "code",
   "execution_count": 16,
   "metadata": {
    "colab": {
     "base_uri": "https://localhost:8080/",
     "height": 203
    },
    "executionInfo": {
     "elapsed": 895,
     "status": "ok",
     "timestamp": 1603381113642,
     "user": {
      "displayName": "Lorenz Feyen",
      "photoUrl": "",
      "userId": "13474410138118598994"
     },
     "user_tz": -120
    },
    "id": "zs10wC9nsf61",
    "outputId": "209de222-7a70-4fa2-b942-64c61fcf2bf0"
   },
   "outputs": [
    {
     "data": {
      "text/html": [
       "<div>\n",
       "<style scoped>\n",
       "    .dataframe tbody tr th:only-of-type {\n",
       "        vertical-align: middle;\n",
       "    }\n",
       "\n",
       "    .dataframe tbody tr th {\n",
       "        vertical-align: top;\n",
       "    }\n",
       "\n",
       "    .dataframe thead th {\n",
       "        text-align: right;\n",
       "    }\n",
       "</style>\n",
       "<table border=\"1\" class=\"dataframe\">\n",
       "  <thead>\n",
       "    <tr style=\"text-align: right;\">\n",
       "      <th></th>\n",
       "      <th>cabs_taken</th>\n",
       "      <th>STATION</th>\n",
       "      <th>NAME</th>\n",
       "      <th>AWND</th>\n",
       "      <th>PRCP</th>\n",
       "      <th>SNOW</th>\n",
       "      <th>SNWD</th>\n",
       "      <th>TMAX</th>\n",
       "      <th>TMIN</th>\n",
       "    </tr>\n",
       "  </thead>\n",
       "  <tbody>\n",
       "    <tr>\n",
       "      <th>2015-01-01</th>\n",
       "      <td>77789</td>\n",
       "      <td>USW00094728</td>\n",
       "      <td>NY CITY CENTRAL PARK, NY US</td>\n",
       "      <td>7.16</td>\n",
       "      <td>0.00</td>\n",
       "      <td>0.0</td>\n",
       "      <td>0.0</td>\n",
       "      <td>39</td>\n",
       "      <td>27</td>\n",
       "    </tr>\n",
       "    <tr>\n",
       "      <th>2015-01-02</th>\n",
       "      <td>61832</td>\n",
       "      <td>USW00094728</td>\n",
       "      <td>NY CITY CENTRAL PARK, NY US</td>\n",
       "      <td>7.16</td>\n",
       "      <td>0.00</td>\n",
       "      <td>0.0</td>\n",
       "      <td>0.0</td>\n",
       "      <td>42</td>\n",
       "      <td>35</td>\n",
       "    </tr>\n",
       "    <tr>\n",
       "      <th>2015-01-03</th>\n",
       "      <td>81955</td>\n",
       "      <td>USW00094728</td>\n",
       "      <td>NY CITY CENTRAL PARK, NY US</td>\n",
       "      <td>6.49</td>\n",
       "      <td>0.71</td>\n",
       "      <td>0.0</td>\n",
       "      <td>0.0</td>\n",
       "      <td>42</td>\n",
       "      <td>33</td>\n",
       "    </tr>\n",
       "    <tr>\n",
       "      <th>2015-01-04</th>\n",
       "      <td>62691</td>\n",
       "      <td>USW00094728</td>\n",
       "      <td>NY CITY CENTRAL PARK, NY US</td>\n",
       "      <td>6.49</td>\n",
       "      <td>0.30</td>\n",
       "      <td>0.0</td>\n",
       "      <td>0.0</td>\n",
       "      <td>56</td>\n",
       "      <td>41</td>\n",
       "    </tr>\n",
       "    <tr>\n",
       "      <th>2015-01-05</th>\n",
       "      <td>71063</td>\n",
       "      <td>USW00094728</td>\n",
       "      <td>NY CITY CENTRAL PARK, NY US</td>\n",
       "      <td>10.51</td>\n",
       "      <td>0.00</td>\n",
       "      <td>0.0</td>\n",
       "      <td>0.0</td>\n",
       "      <td>49</td>\n",
       "      <td>21</td>\n",
       "    </tr>\n",
       "  </tbody>\n",
       "</table>\n",
       "</div>"
      ],
      "text/plain": [
       "            cabs_taken      STATION                         NAME   AWND  PRCP  \\\n",
       "2015-01-01       77789  USW00094728  NY CITY CENTRAL PARK, NY US   7.16  0.00   \n",
       "2015-01-02       61832  USW00094728  NY CITY CENTRAL PARK, NY US   7.16  0.00   \n",
       "2015-01-03       81955  USW00094728  NY CITY CENTRAL PARK, NY US   6.49  0.71   \n",
       "2015-01-04       62691  USW00094728  NY CITY CENTRAL PARK, NY US   6.49  0.30   \n",
       "2015-01-05       71063  USW00094728  NY CITY CENTRAL PARK, NY US  10.51  0.00   \n",
       "\n",
       "            SNOW  SNWD  TMAX  TMIN  \n",
       "2015-01-01   0.0   0.0    39    27  \n",
       "2015-01-02   0.0   0.0    42    35  \n",
       "2015-01-03   0.0   0.0    42    33  \n",
       "2015-01-04   0.0   0.0    56    41  \n",
       "2015-01-05   0.0   0.0    49    21  "
      ]
     },
     "execution_count": 16,
     "metadata": {},
     "output_type": "execute_result"
    }
   ],
   "source": [
    "merged_df.head()"
   ]
  },
  {
   "cell_type": "markdown",
   "metadata": {
    "id": "nTiDKzFJzuzG"
   },
   "source": [
    "One would assume that when it is a rainy day, people would use more cabs. so let us seperate based on precipitation."
   ]
  },
  {
   "cell_type": "code",
   "execution_count": 17,
   "metadata": {
    "executionInfo": {
     "elapsed": 691,
     "status": "ok",
     "timestamp": 1603381186690,
     "user": {
      "displayName": "Lorenz Feyen",
      "photoUrl": "",
      "userId": "13474410138118598994"
     },
     "user_tz": -120
    },
    "id": "52pef4kXvTk1"
   },
   "outputs": [],
   "source": [
    "rained = merged_df[merged_df['PRCP']>0]\n",
    "no_rain = merged_df[merged_df['PRCP']==0]"
   ]
  },
  {
   "cell_type": "code",
   "execution_count": 18,
   "metadata": {
    "colab": {
     "base_uri": "https://localhost:8080/",
     "height": 87
    },
    "executionInfo": {
     "elapsed": 794,
     "status": "ok",
     "timestamp": 1603381216011,
     "user": {
      "displayName": "Lorenz Feyen",
      "photoUrl": "",
      "userId": "13474410138118598994"
     },
     "user_tz": -120
    },
    "id": "lgRDfTWZvfNB",
    "outputId": "ef975800-5fb6-4d74-a452-877f1e1d6cfa"
   },
   "outputs": [
    {
     "name": "stdout",
     "output_type": "stream",
     "text": [
      "average uber rides on a rainy day\n",
      "99837.29411764706\n",
      "average uber rides on a dry day\n",
      "102846.30357142857\n"
     ]
    }
   ],
   "source": [
    "print('average uber rides on a rainy day')\n",
    "print(rained['cabs_taken'].mean())\n",
    "print('average uber rides on a dry day')\n",
    "print(no_rain['cabs_taken'].mean())"
   ]
  },
  {
   "cell_type": "markdown",
   "metadata": {
    "id": "qJAGCItTv9lj"
   },
   "source": [
    "ouch! it looks like the average new yorker doesn't mind getting wet, or they take a cab any day...  \n",
    "using a regression plot we can see it more clear"
   ]
  },
  {
   "cell_type": "code",
   "execution_count": 19,
   "metadata": {
    "colab": {
     "base_uri": "https://localhost:8080/",
     "height": 296
    },
    "executionInfo": {
     "elapsed": 839,
     "status": "ok",
     "timestamp": 1603381252197,
     "user": {
      "displayName": "Lorenz Feyen",
      "photoUrl": "",
      "userId": "13474410138118598994"
     },
     "user_tz": -120
    },
    "id": "OEYcbxpWsuNi",
    "outputId": "61ae5d39-67d0-4ed0-e6a5-d61004a51713"
   },
   "outputs": [
    {
     "data": {
      "text/plain": [
       "<AxesSubplot:xlabel='PRCP', ylabel='cabs_taken'>"
      ]
     },
     "execution_count": 19,
     "metadata": {},
     "output_type": "execute_result"
    },
    {
     "data": {
      "image/png": "[encoded data removed]",
      "text/plain": [
       "<Figure size 432x288 with 1 Axes>"
      ]
     },
     "metadata": {
      "filenames": {
       "image/png": "/home/lorenzf/git/data-science-practical-approach/src/_build/jupyter_execute/c5_data_exploration/external_data_27_1.png"
      },
      "needs_background": "light"
     },
     "output_type": "display_data"
    }
   ],
   "source": [
    "sns.regplot(data=merged_df, x='PRCP', y='cabs_taken')"
   ]
  },
  {
   "cell_type": "markdown",
   "metadata": {
    "id": "srRDaY7qwJtE"
   },
   "source": [
    "Ok, here we see that it might just be because a lot of days are dry and the dataset is skewed. Not reliable info.  \n",
    "What about temperatures, can we see a difference if the lowest temperature changes?"
   ]
  },
  {
   "cell_type": "code",
   "execution_count": 20,
   "metadata": {
    "colab": {
     "base_uri": "https://localhost:8080/",
     "height": 296
    },
    "executionInfo": {
     "elapsed": 1543,
     "status": "ok",
     "timestamp": 1603381320291,
     "user": {
      "displayName": "Lorenz Feyen",
      "photoUrl": "",
      "userId": "13474410138118598994"
     },
     "user_tz": -120
    },
    "id": "JKDi-1N2vEsZ",
    "outputId": "7e30ea65-7778-4fab-e6c9-6dc857f23128"
   },
   "outputs": [
    {
     "data": {
      "text/plain": [
       "<AxesSubplot:xlabel='TMIN', ylabel='cabs_taken'>"
      ]
     },
     "execution_count": 20,
     "metadata": {},
     "output_type": "execute_result"
    },
    {
     "data": {
      "image/png": "[encoded data removed]",
      "text/plain": [
       "<Figure size 432x288 with 1 Axes>"
      ]
     },
     "metadata": {
      "filenames": {
       "image/png": "/home/lorenzf/git/data-science-practical-approach/src/_build/jupyter_execute/c5_data_exploration/external_data_29_1.png"
      },
      "needs_background": "light"
     },
     "output_type": "display_data"
    }
   ],
   "source": [
    "sns.regplot(data=merged_df, x='TMIN', y='cabs_taken')"
   ]
  },
  {
   "cell_type": "markdown",
   "metadata": {
    "id": "T2xAvWCrwUqM"
   },
   "source": [
    "Appearantly when the temperature lowers, yorkers seem to be taking more cab rides. So global warming might be disastrous for capitalism after all?"
   ]
  }
 ],
 "metadata": {
  "colab": {
   "authorship_tag": "ABX9TyNERgRnYs3rbWTe95WQvTSE",
   "collapsed_sections": [],
   "name": "03.extra-New-Data-Sources.ipynb",
   "provenance": []
  },
  "kernelspec": {
   "display_name": "Python 3 (ipykernel)",
   "language": "python",
   "name": "python3"
  },
  "language_info": {
   "codemirror_mode": {
    "name": "ipython",
    "version": 3
   },
   "file_extension": ".py",
   "mimetype": "text/x-python",
   "name": "python",
   "nbconvert_exporter": "python",
   "pygments_lexer": "ipython3",
   "version": "3.8.10"
  }
 },
 "nbformat": 4,
 "nbformat_minor": 1
}