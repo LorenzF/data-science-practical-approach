{
 "cells": [
  {
   "cell_type": "markdown",
   "metadata": {
    "id": "zYOXRBlSjnr6"
   },
   "source": [
    "# Case Study: Churn\n",
    "\n",
    "In this case study we try to create an answer why customers have left our service, a telecom operator.\n",
    "\n",
    "The case study is divided into several parts:\n",
    "- Goals\n",
    "- Parsing\n",
    "- Preparation (cleaning)\n",
    "- Processing\n",
    "- Exploration\n",
    "- Visualization\n",
    "- Conclusion"
   ]
  },
  {
   "cell_type": "markdown",
   "metadata": {
    "id": "sTgfRxUcn8wI"
   },
   "source": [
    "## Goals\n",
    "\n",
    "In this section we define questions that will be our guideline througout the case study\n",
    "\n",
    "- Why are customers leaving us?\n",
    "- Can we cluster types of customers?\n",
    "\n",
    "We'll (try to) keep these question in mind when performing the case study."
   ]
  },
  {
   "cell_type": "markdown",
   "metadata": {
    "id": "5wNV0AoGkmr6"
   },
   "source": [
    "## Parsing\n",
    "\n",
    "we start out by importing all libraries"
   ]
  },
  {
   "cell_type": "code",
   "execution_count": 1,
   "metadata": {
    "executionInfo": {
     "elapsed": 23,
     "status": "ok",
     "timestamp": 1637791449607,
     "user": {
      "displayName": "Lorenz Feyen",
      "photoUrl": "https://lh3.googleusercontent.com/a/default-user=s64",
      "userId": "13474410138118598994"
     },
     "user_tz": -60
    },
    "id": "HIV2mWXAhGPE"
   },
   "outputs": [
    {
     "name": "stderr",
     "output_type": "stream",
     "text": [
      "/tmp/ipykernel_5355/4057771804.py:10: DeprecationWarning: `set_matplotlib_formats` is deprecated since IPython 7.23, directly use `matplotlib_inline.backend_inline.set_matplotlib_formats()`\n",
      "  set_matplotlib_formats('svg')\n"
     ]
    }
   ],
   "source": [
    "import os\n",
    "import json\n",
    "import pandas as pd\n",
    "import numpy as np\n",
    "import seaborn as sns\n",
    "import scipy.stats\n",
    "import matplotlib.pyplot as plt\n",
    "from IPython.display import set_matplotlib_formats\n",
    "%matplotlib inline\n",
    "set_matplotlib_formats('svg')"
   ]
  },
  {
   "cell_type": "markdown",
   "metadata": {
    "id": "u4uvdJtak2Y6"
   },
   "source": [
    "in order to download datasets from kaggle, we need an API key to access their API, we'll make that here"
   ]
  },
  {
   "cell_type": "code",
   "execution_count": 2,
   "metadata": {
    "executionInfo": {
     "elapsed": 19,
     "status": "ok",
     "timestamp": 1637791449608,
     "user": {
      "displayName": "Lorenz Feyen",
      "photoUrl": "https://lh3.googleusercontent.com/a/default-user=s64",
      "userId": "13474410138118598994"
     },
     "user_tz": -60
    },
    "id": "ytzJsQ7bexVF"
   },
   "outputs": [
    {
     "ename": "PermissionError",
     "evalue": "[Errno 13] Permission denied: '/root/.kaggle'",
     "output_type": "error",
     "traceback": [
      "\u001b[0;31m---------------------------------------------------------------------------\u001b[0m",
      "\u001b[0;31mPermissionError\u001b[0m                           Traceback (most recent call last)",
      "\u001b[0;32m/tmp/ipykernel_5355/3113012040.py\u001b[0m in \u001b[0;36m<module>\u001b[0;34m\u001b[0m\n\u001b[1;32m      1\u001b[0m \u001b[0;32mif\u001b[0m \u001b[0;32mnot\u001b[0m \u001b[0mos\u001b[0m\u001b[0;34m.\u001b[0m\u001b[0mpath\u001b[0m\u001b[0;34m.\u001b[0m\u001b[0mexists\u001b[0m\u001b[0;34m(\u001b[0m\u001b[0;34m\"/root/.kaggle\"\u001b[0m\u001b[0;34m)\u001b[0m\u001b[0;34m:\u001b[0m\u001b[0;34m\u001b[0m\u001b[0;34m\u001b[0m\u001b[0m\n\u001b[0;32m----> 2\u001b[0;31m     \u001b[0mos\u001b[0m\u001b[0;34m.\u001b[0m\u001b[0mmkdir\u001b[0m\u001b[0;34m(\u001b[0m\u001b[0;34m\"/root/.kaggle\"\u001b[0m\u001b[0;34m)\u001b[0m\u001b[0;34m\u001b[0m\u001b[0;34m\u001b[0m\u001b[0m\n\u001b[0m\u001b[1;32m      3\u001b[0m \u001b[0;34m\u001b[0m\u001b[0m\n\u001b[1;32m      4\u001b[0m \u001b[0;32mwith\u001b[0m \u001b[0mopen\u001b[0m\u001b[0;34m(\u001b[0m\u001b[0;34m'/root/.kaggle/kaggle.json'\u001b[0m\u001b[0;34m,\u001b[0m \u001b[0;34m'w'\u001b[0m\u001b[0;34m)\u001b[0m \u001b[0;32mas\u001b[0m \u001b[0mf\u001b[0m\u001b[0;34m:\u001b[0m\u001b[0;34m\u001b[0m\u001b[0;34m\u001b[0m\u001b[0m\n\u001b[1;32m      5\u001b[0m     json.dump(\n",
      "\u001b[0;31mPermissionError\u001b[0m: [Errno 13] Permission denied: '/root/.kaggle'"
     ]
    }
   ],
   "source": [
    "if not os.path.exists(\"/root/.kaggle\"):\n",
    "    os.mkdir(\"/root/.kaggle\")\n",
    "\n",
    "with open('/root/.kaggle/kaggle.json', 'w') as f:\n",
    "    json.dump(\n",
    "        {\n",
    "            \"username\":\"lorenzf\",\n",
    "            \"key\":\"7a44a9e99b27e796177d793a3d85b8cf\"\n",
    "        }\n",
    "        , f)"
   ]
  },
  {
   "cell_type": "markdown",
   "metadata": {
    "id": "7kb4OqyGk8GO"
   },
   "source": [
    "now we can import kaggle too and download the datasets"
   ]
  },
  {
   "cell_type": "code",
   "execution_count": 3,
   "metadata": {
    "colab": {
     "base_uri": "https://localhost:8080/"
    },
    "executionInfo": {
     "elapsed": 1593,
     "status": "ok",
     "timestamp": 1637791451184,
     "user": {
      "displayName": "Lorenz Feyen",
      "photoUrl": "https://lh3.googleusercontent.com/a/default-user=s64",
      "userId": "13474410138118598994"
     },
     "user_tz": -60
    },
    "id": "Zm2wE6sTlzZE",
    "outputId": "d579fa0e-7416-40a8-a25a-8cd146aaabea"
   },
   "outputs": [
    {
     "name": "stdout",
     "output_type": "stream",
     "text": [
      "Warning: Your Kaggle API key is readable by other users on this system! To fix this, you can run 'chmod 600 /root/.kaggle/kaggle.json'\n"
     ]
    }
   ],
   "source": [
    "import kaggle\n",
    "kaggle.api.dataset_download_files(dataset='blastchar/telco-customer-churn', path='./data', unzip=True)"
   ]
  },
  {
   "cell_type": "markdown",
   "metadata": {
    "id": "kID_eGGRlDG3"
   },
   "source": [
    "the csv files are now in the './data' folder, we can now read them using pandas, here is the list of all csv files in our folder"
   ]
  },
  {
   "cell_type": "code",
   "execution_count": 4,
   "metadata": {
    "colab": {
     "base_uri": "https://localhost:8080/"
    },
    "executionInfo": {
     "elapsed": 48,
     "status": "ok",
     "timestamp": 1637791451186,
     "user": {
      "displayName": "Lorenz Feyen",
      "photoUrl": "https://lh3.googleusercontent.com/a/default-user=s64",
      "userId": "13474410138118598994"
     },
     "user_tz": -60
    },
    "id": "PLdxi_9gnplw",
    "outputId": "5aaa0f3e-6cc9-46ef-b9b2-cdfdfa402656"
   },
   "outputs": [
    {
     "data": {
      "text/plain": [
       "['WA_Fn-UseC_-Telco-Customer-Churn.csv']"
      ]
     },
     "execution_count": 4,
     "metadata": {},
     "output_type": "execute_result"
    }
   ],
   "source": [
    "os.listdir('./data')"
   ]
  },
  {
   "cell_type": "markdown",
   "metadata": {
    "id": "1CaxG_i1nveE"
   },
   "source": [
    "This dataset only contains 1 file, in it each row has all the information about a single customer and which services he or she has or had before churning."
   ]
  },
  {
   "cell_type": "code",
   "execution_count": 5,
   "metadata": {
    "colab": {
     "base_uri": "https://localhost:8080/",
     "height": 313
    },
    "executionInfo": {
     "elapsed": 41,
     "status": "ok",
     "timestamp": 1637791451187,
     "user": {
      "displayName": "Lorenz Feyen",
      "photoUrl": "https://lh3.googleusercontent.com/a/default-user=s64",
      "userId": "13474410138118598994"
     },
     "user_tz": -60
    },
    "id": "VzP0St6NkpB4",
    "outputId": "136e229f-4cf2-4eb7-b357-d3add9007bef"
   },
   "outputs": [
    {
     "name": "stdout",
     "output_type": "stream",
     "text": [
      "shape: (7043, 21)\n"
     ]
    },
    {
     "data": {
      "text/html": [
       "<div>\n",
       "<style scoped>\n",
       "    .dataframe tbody tr th:only-of-type {\n",
       "        vertical-align: middle;\n",
       "    }\n",
       "\n",
       "    .dataframe tbody tr th {\n",
       "        vertical-align: top;\n",
       "    }\n",
       "\n",
       "    .dataframe thead th {\n",
       "        text-align: right;\n",
       "    }\n",
       "</style>\n",
       "<table border=\"1\" class=\"dataframe\">\n",
       "  <thead>\n",
       "    <tr style=\"text-align: right;\">\n",
       "      <th></th>\n",
       "      <th>customerID</th>\n",
       "      <th>gender</th>\n",
       "      <th>SeniorCitizen</th>\n",
       "      <th>Partner</th>\n",
       "      <th>Dependents</th>\n",
       "      <th>tenure</th>\n",
       "      <th>PhoneService</th>\n",
       "      <th>MultipleLines</th>\n",
       "      <th>InternetService</th>\n",
       "      <th>OnlineSecurity</th>\n",
       "      <th>OnlineBackup</th>\n",
       "      <th>DeviceProtection</th>\n",
       "      <th>TechSupport</th>\n",
       "      <th>StreamingTV</th>\n",
       "      <th>StreamingMovies</th>\n",
       "      <th>Contract</th>\n",
       "      <th>PaperlessBilling</th>\n",
       "      <th>PaymentMethod</th>\n",
       "      <th>MonthlyCharges</th>\n",
       "      <th>TotalCharges</th>\n",
       "      <th>Churn</th>\n",
       "    </tr>\n",
       "  </thead>\n",
       "  <tbody>\n",
       "    <tr>\n",
       "      <th>0</th>\n",
       "      <td>7590-VHVEG</td>\n",
       "      <td>Female</td>\n",
       "      <td>0</td>\n",
       "      <td>Yes</td>\n",
       "      <td>No</td>\n",
       "      <td>1</td>\n",
       "      <td>No</td>\n",
       "      <td>No phone service</td>\n",
       "      <td>DSL</td>\n",
       "      <td>No</td>\n",
       "      <td>Yes</td>\n",
       "      <td>No</td>\n",
       "      <td>No</td>\n",
       "      <td>No</td>\n",
       "      <td>No</td>\n",
       "      <td>Month-to-month</td>\n",
       "      <td>Yes</td>\n",
       "      <td>Electronic check</td>\n",
       "      <td>29.85</td>\n",
       "      <td>29.85</td>\n",
       "      <td>No</td>\n",
       "    </tr>\n",
       "    <tr>\n",
       "      <th>1</th>\n",
       "      <td>5575-GNVDE</td>\n",
       "      <td>Male</td>\n",
       "      <td>0</td>\n",
       "      <td>No</td>\n",
       "      <td>No</td>\n",
       "      <td>34</td>\n",
       "      <td>Yes</td>\n",
       "      <td>No</td>\n",
       "      <td>DSL</td>\n",
       "      <td>Yes</td>\n",
       "      <td>No</td>\n",
       "      <td>Yes</td>\n",
       "      <td>No</td>\n",
       "      <td>No</td>\n",
       "      <td>No</td>\n",
       "      <td>One year</td>\n",
       "      <td>No</td>\n",
       "      <td>Mailed check</td>\n",
       "      <td>56.95</td>\n",
       "      <td>1889.5</td>\n",
       "      <td>No</td>\n",
       "    </tr>\n",
       "    <tr>\n",
       "      <th>2</th>\n",
       "      <td>3668-QPYBK</td>\n",
       "      <td>Male</td>\n",
       "      <td>0</td>\n",
       "      <td>No</td>\n",
       "      <td>No</td>\n",
       "      <td>2</td>\n",
       "      <td>Yes</td>\n",
       "      <td>No</td>\n",
       "      <td>DSL</td>\n",
       "      <td>Yes</td>\n",
       "      <td>Yes</td>\n",
       "      <td>No</td>\n",
       "      <td>No</td>\n",
       "      <td>No</td>\n",
       "      <td>No</td>\n",
       "      <td>Month-to-month</td>\n",
       "      <td>Yes</td>\n",
       "      <td>Mailed check</td>\n",
       "      <td>53.85</td>\n",
       "      <td>108.15</td>\n",
       "      <td>Yes</td>\n",
       "    </tr>\n",
       "    <tr>\n",
       "      <th>3</th>\n",
       "      <td>7795-CFOCW</td>\n",
       "      <td>Male</td>\n",
       "      <td>0</td>\n",
       "      <td>No</td>\n",
       "      <td>No</td>\n",
       "      <td>45</td>\n",
       "      <td>No</td>\n",
       "      <td>No phone service</td>\n",
       "      <td>DSL</td>\n",
       "      <td>Yes</td>\n",
       "      <td>No</td>\n",
       "      <td>Yes</td>\n",
       "      <td>Yes</td>\n",
       "      <td>No</td>\n",
       "      <td>No</td>\n",
       "      <td>One year</td>\n",
       "      <td>No</td>\n",
       "      <td>Bank transfer (automatic)</td>\n",
       "      <td>42.30</td>\n",
       "      <td>1840.75</td>\n",
       "      <td>No</td>\n",
       "    </tr>\n",
       "    <tr>\n",
       "      <th>4</th>\n",
       "      <td>9237-HQITU</td>\n",
       "      <td>Female</td>\n",
       "      <td>0</td>\n",
       "      <td>No</td>\n",
       "      <td>No</td>\n",
       "      <td>2</td>\n",
       "      <td>Yes</td>\n",
       "      <td>No</td>\n",
       "      <td>Fiber optic</td>\n",
       "      <td>No</td>\n",
       "      <td>No</td>\n",
       "      <td>No</td>\n",
       "      <td>No</td>\n",
       "      <td>No</td>\n",
       "      <td>No</td>\n",
       "      <td>Month-to-month</td>\n",
       "      <td>Yes</td>\n",
       "      <td>Electronic check</td>\n",
       "      <td>70.70</td>\n",
       "      <td>151.65</td>\n",
       "      <td>Yes</td>\n",
       "    </tr>\n",
       "  </tbody>\n",
       "</table>\n",
       "</div>"
      ],
      "text/plain": [
       "   customerID  gender  SeniorCitizen  ... MonthlyCharges TotalCharges  Churn\n",
       "0  7590-VHVEG  Female              0  ...          29.85        29.85     No\n",
       "1  5575-GNVDE    Male              0  ...          56.95       1889.5     No\n",
       "2  3668-QPYBK    Male              0  ...          53.85       108.15    Yes\n",
       "3  7795-CFOCW    Male              0  ...          42.30      1840.75     No\n",
       "4  9237-HQITU  Female              0  ...          70.70       151.65    Yes\n",
       "\n",
       "[5 rows x 21 columns]"
      ]
     },
     "execution_count": 5,
     "metadata": {},
     "output_type": "execute_result"
    }
   ],
   "source": [
    "churn_df = pd.read_csv('./data/WA_Fn-UseC_-Telco-Customer-Churn.csv')\n",
    "print('shape: ' + str(churn_df.shape))\n",
    "churn_df.head()"
   ]
  },
  {
   "cell_type": "markdown",
   "metadata": {
    "id": "cYIaXYY4ngcY"
   },
   "source": [
    "Looks like there is some personal info and the configuration of the service, such as if they had an internet service, with or without options such as security, backup,...\n",
    "By the lookds of it these Yes/No answers are not booleans (i.e. 2 options) but rather categories as they have a third option, 'No ... service'."
   ]
  },
  {
   "cell_type": "markdown",
   "metadata": {
    "id": "GVdPaj06lqNi"
   },
   "source": [
    "## Preparation\n",
    "\n",
    "here we perform tasks to prepare the data in a more pleasing format."
   ]
  },
  {
   "cell_type": "markdown",
   "metadata": {
    "id": "9Aye8STpr_zw"
   },
   "source": [
    "### Data Types\n",
    "\n",
    "Before we do anything with our data, it is good to see if our data types are in order"
   ]
  },
  {
   "cell_type": "code",
   "execution_count": 6,
   "metadata": {
    "colab": {
     "base_uri": "https://localhost:8080/"
    },
    "executionInfo": {
     "elapsed": 33,
     "status": "ok",
     "timestamp": 1637791451189,
     "user": {
      "displayName": "Lorenz Feyen",
      "photoUrl": "https://lh3.googleusercontent.com/a/default-user=s64",
      "userId": "13474410138118598994"
     },
     "user_tz": -60
    },
    "id": "zQekH_ZJsgio",
    "outputId": "947666c1-4fae-455c-87c0-49a77da114cd"
   },
   "outputs": [
    {
     "name": "stdout",
     "output_type": "stream",
     "text": [
      "<class 'pandas.core.frame.DataFrame'>\n",
      "RangeIndex: 7043 entries, 0 to 7042\n",
      "Data columns (total 21 columns):\n",
      " #   Column            Non-Null Count  Dtype  \n",
      "---  ------            --------------  -----  \n",
      " 0   customerID        7043 non-null   object \n",
      " 1   gender            7043 non-null   object \n",
      " 2   SeniorCitizen     7043 non-null   int64  \n",
      " 3   Partner           7043 non-null   object \n",
      " 4   Dependents        7043 non-null   object \n",
      " 5   tenure            7043 non-null   int64  \n",
      " 6   PhoneService      7043 non-null   object \n",
      " 7   MultipleLines     7043 non-null   object \n",
      " 8   InternetService   7043 non-null   object \n",
      " 9   OnlineSecurity    7043 non-null   object \n",
      " 10  OnlineBackup      7043 non-null   object \n",
      " 11  DeviceProtection  7043 non-null   object \n",
      " 12  TechSupport       7043 non-null   object \n",
      " 13  StreamingTV       7043 non-null   object \n",
      " 14  StreamingMovies   7043 non-null   object \n",
      " 15  Contract          7043 non-null   object \n",
      " 16  PaperlessBilling  7043 non-null   object \n",
      " 17  PaymentMethod     7043 non-null   object \n",
      " 18  MonthlyCharges    7043 non-null   float64\n",
      " 19  TotalCharges      7043 non-null   object \n",
      " 20  Churn             7043 non-null   object \n",
      "dtypes: float64(1), int64(2), object(18)\n",
      "memory usage: 1.1+ MB\n"
     ]
    }
   ],
   "source": [
    "churn_df.info()"
   ]
  },
  {
   "cell_type": "markdown",
   "metadata": {
    "id": "EBKopkjtFnth"
   },
   "source": [
    "I am opting to change the sernior citizan from 0/1 to No/Yes and convert them all to categories, let's do that right now."
   ]
  },
  {
   "cell_type": "code",
   "execution_count": 7,
   "metadata": {
    "colab": {
     "base_uri": "https://localhost:8080/"
    },
    "executionInfo": {
     "elapsed": 30,
     "status": "ok",
     "timestamp": 1637791451189,
     "user": {
      "displayName": "Lorenz Feyen",
      "photoUrl": "https://lh3.googleusercontent.com/a/default-user=s64",
      "userId": "13474410138118598994"
     },
     "user_tz": -60
    },
    "id": "ePqQQ3CSs9S-",
    "outputId": "130381a6-c487-418c-b92d-c617e60f9ac5"
   },
   "outputs": [
    {
     "name": "stdout",
     "output_type": "stream",
     "text": [
      "<class 'pandas.core.frame.DataFrame'>\n",
      "RangeIndex: 7043 entries, 0 to 7042\n",
      "Data columns (total 21 columns):\n",
      " #   Column            Non-Null Count  Dtype   \n",
      "---  ------            --------------  -----   \n",
      " 0   customerID        7043 non-null   object  \n",
      " 1   gender            7043 non-null   category\n",
      " 2   SeniorCitizen     7043 non-null   category\n",
      " 3   Partner           7043 non-null   category\n",
      " 4   Dependents        7043 non-null   category\n",
      " 5   tenure            7043 non-null   int64   \n",
      " 6   PhoneService      7043 non-null   category\n",
      " 7   MultipleLines     7043 non-null   category\n",
      " 8   InternetService   7043 non-null   category\n",
      " 9   OnlineSecurity    7043 non-null   category\n",
      " 10  OnlineBackup      7043 non-null   category\n",
      " 11  DeviceProtection  7043 non-null   category\n",
      " 12  TechSupport       7043 non-null   category\n",
      " 13  StreamingTV       7043 non-null   category\n",
      " 14  StreamingMovies   7043 non-null   category\n",
      " 15  Contract          7043 non-null   category\n",
      " 16  PaperlessBilling  7043 non-null   category\n",
      " 17  PaymentMethod     7043 non-null   category\n",
      " 18  MonthlyCharges    7043 non-null   float64 \n",
      " 19  TotalCharges      7043 non-null   object  \n",
      " 20  Churn             7043 non-null   category\n",
      "dtypes: category(17), float64(1), int64(1), object(2)\n",
      "memory usage: 338.9+ KB\n"
     ]
    }
   ],
   "source": [
    "churn_df.SeniorCitizen = churn_df.SeniorCitizen.map({0: 'No', 1:'Yes'})\n",
    "churn_df[['gender', 'SeniorCitizen', 'Partner','Dependents', 'PhoneService', 'MultipleLines', 'InternetService', 'OnlineSecurity', 'OnlineBackup', 'DeviceProtection', 'TechSupport', 'StreamingTV', 'StreamingMovies', 'Contract', 'PaperlessBilling', 'PaymentMethod', 'Churn']] = churn_df[['gender', 'SeniorCitizen', 'Partner','Dependents', 'PhoneService', 'MultipleLines', 'InternetService', 'OnlineSecurity', 'OnlineBackup', 'DeviceProtection', 'TechSupport', 'StreamingTV', 'StreamingMovies', 'Contract', 'PaperlessBilling', 'PaymentMethod', 'Churn']].astype('category')\n",
    "churn_df.info()"
   ]
  },
  {
   "cell_type": "markdown",
   "metadata": {
    "id": "YSXhMrpDF-CK"
   },
   "source": [
    "Now our yes/no answers are configured as categories, for numbers we see that there are 2: 'MontlyCharges' and 'TotalCharges'.\n",
    "I'm going to make them floating numbers"
   ]
  },
  {
   "cell_type": "code",
   "execution_count": 8,
   "metadata": {
    "colab": {
     "base_uri": "https://localhost:8080/",
     "height": 331
    },
    "executionInfo": {
     "elapsed": 38,
     "status": "error",
     "timestamp": 1637791451201,
     "user": {
      "displayName": "Lorenz Feyen",
      "photoUrl": "https://lh3.googleusercontent.com/a/default-user=s64",
      "userId": "13474410138118598994"
     },
     "user_tz": -60
    },
    "id": "yvE1e_sUfyt8",
    "outputId": "8fccef6c-58b0-4b9b-a0c4-d2f2c0e55ee3"
   },
   "outputs": [
    {
     "ename": "ValueError",
     "evalue": "ignored",
     "output_type": "error",
     "traceback": [
      "\u001b[0;31m---------------------------------------------------------------------------\u001b[0m",
      "\u001b[0;31mValueError\u001b[0m                                Traceback (most recent call last)",
      "\u001b[0;32m<ipython-input-8-0ae90e86afc5>\u001b[0m in \u001b[0;36m<module>\u001b[0;34m()\u001b[0m\n\u001b[0;32m----> 1\u001b[0;31m \u001b[0mchurn_df\u001b[0m\u001b[0;34m[\u001b[0m\u001b[0;34m[\u001b[0m\u001b[0;34m'MonthlyCharges'\u001b[0m\u001b[0;34m,\u001b[0m \u001b[0;34m'TotalCharges'\u001b[0m\u001b[0;34m]\u001b[0m\u001b[0;34m]\u001b[0m \u001b[0;34m=\u001b[0m \u001b[0mchurn_df\u001b[0m\u001b[0;34m[\u001b[0m\u001b[0;34m[\u001b[0m\u001b[0;34m'MonthlyCharges'\u001b[0m\u001b[0;34m,\u001b[0m \u001b[0;34m'TotalCharges'\u001b[0m\u001b[0;34m]\u001b[0m\u001b[0;34m]\u001b[0m\u001b[0;34m.\u001b[0m\u001b[0mastype\u001b[0m\u001b[0;34m(\u001b[0m\u001b[0;34m'float'\u001b[0m\u001b[0;34m)\u001b[0m\u001b[0;34m\u001b[0m\u001b[0;34m\u001b[0m\u001b[0m\n\u001b[0m\u001b[1;32m      2\u001b[0m \u001b[0mchurn_df\u001b[0m\u001b[0;34m.\u001b[0m\u001b[0minfo\u001b[0m\u001b[0;34m(\u001b[0m\u001b[0;34m)\u001b[0m\u001b[0;34m\u001b[0m\u001b[0;34m\u001b[0m\u001b[0m\n",
      "\u001b[0;32m/usr/local/lib/python3.7/dist-packages/pandas/core/generic.py\u001b[0m in \u001b[0;36mastype\u001b[0;34m(self, dtype, copy, errors)\u001b[0m\n\u001b[1;32m   5546\u001b[0m         \u001b[0;32melse\u001b[0m\u001b[0;34m:\u001b[0m\u001b[0;34m\u001b[0m\u001b[0;34m\u001b[0m\u001b[0m\n\u001b[1;32m   5547\u001b[0m             \u001b[0;31m# else, only a single dtype is given\u001b[0m\u001b[0;34m\u001b[0m\u001b[0;34m\u001b[0m\u001b[0;34m\u001b[0m\u001b[0m\n\u001b[0;32m-> 5548\u001b[0;31m             \u001b[0mnew_data\u001b[0m \u001b[0;34m=\u001b[0m \u001b[0mself\u001b[0m\u001b[0;34m.\u001b[0m\u001b[0m_mgr\u001b[0m\u001b[0;34m.\u001b[0m\u001b[0mastype\u001b[0m\u001b[0;34m(\u001b[0m\u001b[0mdtype\u001b[0m\u001b[0;34m=\u001b[0m\u001b[0mdtype\u001b[0m\u001b[0;34m,\u001b[0m \u001b[0mcopy\u001b[0m\u001b[0;34m=\u001b[0m\u001b[0mcopy\u001b[0m\u001b[0;34m,\u001b[0m \u001b[0merrors\u001b[0m\u001b[0;34m=\u001b[0m\u001b[0merrors\u001b[0m\u001b[0;34m,\u001b[0m\u001b[0;34m)\u001b[0m\u001b[0;34m\u001b[0m\u001b[0;34m\u001b[0m\u001b[0m\n\u001b[0m\u001b[1;32m   5549\u001b[0m             \u001b[0;32mreturn\u001b[0m \u001b[0mself\u001b[0m\u001b[0;34m.\u001b[0m\u001b[0m_constructor\u001b[0m\u001b[0;34m(\u001b[0m\u001b[0mnew_data\u001b[0m\u001b[0;34m)\u001b[0m\u001b[0;34m.\u001b[0m\u001b[0m__finalize__\u001b[0m\u001b[0;34m(\u001b[0m\u001b[0mself\u001b[0m\u001b[0;34m,\u001b[0m \u001b[0mmethod\u001b[0m\u001b[0;34m=\u001b[0m\u001b[0;34m\"astype\"\u001b[0m\u001b[0;34m)\u001b[0m\u001b[0;34m\u001b[0m\u001b[0;34m\u001b[0m\u001b[0m\n\u001b[1;32m   5550\u001b[0m \u001b[0;34m\u001b[0m\u001b[0m\n",
      "\u001b[0;32m/usr/local/lib/python3.7/dist-packages/pandas/core/internals/managers.py\u001b[0m in \u001b[0;36mastype\u001b[0;34m(self, dtype, copy, errors)\u001b[0m\n\u001b[1;32m    602\u001b[0m         \u001b[0mself\u001b[0m\u001b[0;34m,\u001b[0m \u001b[0mdtype\u001b[0m\u001b[0;34m,\u001b[0m \u001b[0mcopy\u001b[0m\u001b[0;34m:\u001b[0m \u001b[0mbool\u001b[0m \u001b[0;34m=\u001b[0m \u001b[0;32mFalse\u001b[0m\u001b[0;34m,\u001b[0m \u001b[0merrors\u001b[0m\u001b[0;34m:\u001b[0m \u001b[0mstr\u001b[0m \u001b[0;34m=\u001b[0m \u001b[0;34m\"raise\"\u001b[0m\u001b[0;34m\u001b[0m\u001b[0;34m\u001b[0m\u001b[0m\n\u001b[1;32m    603\u001b[0m     ) -> \"BlockManager\":\n\u001b[0;32m--> 604\u001b[0;31m         \u001b[0;32mreturn\u001b[0m \u001b[0mself\u001b[0m\u001b[0;34m.\u001b[0m\u001b[0mapply\u001b[0m\u001b[0;34m(\u001b[0m\u001b[0;34m\"astype\"\u001b[0m\u001b[0;34m,\u001b[0m \u001b[0mdtype\u001b[0m\u001b[0;34m=\u001b[0m\u001b[0mdtype\u001b[0m\u001b[0;34m,\u001b[0m \u001b[0mcopy\u001b[0m\u001b[0;34m=\u001b[0m\u001b[0mcopy\u001b[0m\u001b[0;34m,\u001b[0m \u001b[0merrors\u001b[0m\u001b[0;34m=\u001b[0m\u001b[0merrors\u001b[0m\u001b[0;34m)\u001b[0m\u001b[0;34m\u001b[0m\u001b[0;34m\u001b[0m\u001b[0m\n\u001b[0m\u001b[1;32m    605\u001b[0m \u001b[0;34m\u001b[0m\u001b[0m\n\u001b[1;32m    606\u001b[0m     def convert(\n",
      "\u001b[0;32m/usr/local/lib/python3.7/dist-packages/pandas/core/internals/managers.py\u001b[0m in \u001b[0;36mapply\u001b[0;34m(self, f, align_keys, **kwargs)\u001b[0m\n\u001b[1;32m    407\u001b[0m                 \u001b[0mapplied\u001b[0m \u001b[0;34m=\u001b[0m \u001b[0mb\u001b[0m\u001b[0;34m.\u001b[0m\u001b[0mapply\u001b[0m\u001b[0;34m(\u001b[0m\u001b[0mf\u001b[0m\u001b[0;34m,\u001b[0m \u001b[0;34m**\u001b[0m\u001b[0mkwargs\u001b[0m\u001b[0;34m)\u001b[0m\u001b[0;34m\u001b[0m\u001b[0;34m\u001b[0m\u001b[0m\n\u001b[1;32m    408\u001b[0m             \u001b[0;32melse\u001b[0m\u001b[0;34m:\u001b[0m\u001b[0;34m\u001b[0m\u001b[0;34m\u001b[0m\u001b[0m\n\u001b[0;32m--> 409\u001b[0;31m                 \u001b[0mapplied\u001b[0m \u001b[0;34m=\u001b[0m \u001b[0mgetattr\u001b[0m\u001b[0;34m(\u001b[0m\u001b[0mb\u001b[0m\u001b[0;34m,\u001b[0m \u001b[0mf\u001b[0m\u001b[0;34m)\u001b[0m\u001b[0;34m(\u001b[0m\u001b[0;34m**\u001b[0m\u001b[0mkwargs\u001b[0m\u001b[0;34m)\u001b[0m\u001b[0;34m\u001b[0m\u001b[0;34m\u001b[0m\u001b[0m\n\u001b[0m\u001b[1;32m    410\u001b[0m             \u001b[0mresult_blocks\u001b[0m \u001b[0;34m=\u001b[0m \u001b[0m_extend_blocks\u001b[0m\u001b[0;34m(\u001b[0m\u001b[0mapplied\u001b[0m\u001b[0;34m,\u001b[0m \u001b[0mresult_blocks\u001b[0m\u001b[0;34m)\u001b[0m\u001b[0;34m\u001b[0m\u001b[0;34m\u001b[0m\u001b[0m\n\u001b[1;32m    411\u001b[0m \u001b[0;34m\u001b[0m\u001b[0m\n",
      "\u001b[0;32m/usr/local/lib/python3.7/dist-packages/pandas/core/internals/blocks.py\u001b[0m in \u001b[0;36mastype\u001b[0;34m(self, dtype, copy, errors)\u001b[0m\n\u001b[1;32m    593\u001b[0m             \u001b[0mvals1d\u001b[0m \u001b[0;34m=\u001b[0m \u001b[0mvalues\u001b[0m\u001b[0;34m.\u001b[0m\u001b[0mravel\u001b[0m\u001b[0;34m(\u001b[0m\u001b[0;34m)\u001b[0m\u001b[0;34m\u001b[0m\u001b[0;34m\u001b[0m\u001b[0m\n\u001b[1;32m    594\u001b[0m             \u001b[0;32mtry\u001b[0m\u001b[0;34m:\u001b[0m\u001b[0;34m\u001b[0m\u001b[0;34m\u001b[0m\u001b[0m\n\u001b[0;32m--> 595\u001b[0;31m                 \u001b[0mvalues\u001b[0m \u001b[0;34m=\u001b[0m \u001b[0mastype_nansafe\u001b[0m\u001b[0;34m(\u001b[0m\u001b[0mvals1d\u001b[0m\u001b[0;34m,\u001b[0m \u001b[0mdtype\u001b[0m\u001b[0;34m,\u001b[0m \u001b[0mcopy\u001b[0m\u001b[0;34m=\u001b[0m\u001b[0;32mTrue\u001b[0m\u001b[0;34m)\u001b[0m\u001b[0;34m\u001b[0m\u001b[0;34m\u001b[0m\u001b[0m\n\u001b[0m\u001b[1;32m    596\u001b[0m             \u001b[0;32mexcept\u001b[0m \u001b[0;34m(\u001b[0m\u001b[0mValueError\u001b[0m\u001b[0;34m,\u001b[0m \u001b[0mTypeError\u001b[0m\u001b[0;34m)\u001b[0m\u001b[0;34m:\u001b[0m\u001b[0;34m\u001b[0m\u001b[0;34m\u001b[0m\u001b[0m\n\u001b[1;32m    597\u001b[0m                 \u001b[0;31m# e.g. astype_nansafe can fail on object-dtype of strings\u001b[0m\u001b[0;34m\u001b[0m\u001b[0;34m\u001b[0m\u001b[0;34m\u001b[0m\u001b[0m\n",
      "\u001b[0;32m/usr/local/lib/python3.7/dist-packages/pandas/core/dtypes/cast.py\u001b[0m in \u001b[0;36mastype_nansafe\u001b[0;34m(arr, dtype, copy, skipna)\u001b[0m\n\u001b[1;32m    995\u001b[0m     \u001b[0;32mif\u001b[0m \u001b[0mcopy\u001b[0m \u001b[0;32mor\u001b[0m \u001b[0mis_object_dtype\u001b[0m\u001b[0;34m(\u001b[0m\u001b[0marr\u001b[0m\u001b[0;34m)\u001b[0m \u001b[0;32mor\u001b[0m \u001b[0mis_object_dtype\u001b[0m\u001b[0;34m(\u001b[0m\u001b[0mdtype\u001b[0m\u001b[0;34m)\u001b[0m\u001b[0;34m:\u001b[0m\u001b[0;34m\u001b[0m\u001b[0;34m\u001b[0m\u001b[0m\n\u001b[1;32m    996\u001b[0m         \u001b[0;31m# Explicit copy, or required since NumPy can't view from / to object.\u001b[0m\u001b[0;34m\u001b[0m\u001b[0;34m\u001b[0m\u001b[0;34m\u001b[0m\u001b[0m\n\u001b[0;32m--> 997\u001b[0;31m         \u001b[0;32mreturn\u001b[0m \u001b[0marr\u001b[0m\u001b[0;34m.\u001b[0m\u001b[0mastype\u001b[0m\u001b[0;34m(\u001b[0m\u001b[0mdtype\u001b[0m\u001b[0;34m,\u001b[0m \u001b[0mcopy\u001b[0m\u001b[0;34m=\u001b[0m\u001b[0;32mTrue\u001b[0m\u001b[0;34m)\u001b[0m\u001b[0;34m\u001b[0m\u001b[0;34m\u001b[0m\u001b[0m\n\u001b[0m\u001b[1;32m    998\u001b[0m \u001b[0;34m\u001b[0m\u001b[0m\n\u001b[1;32m    999\u001b[0m     \u001b[0;32mreturn\u001b[0m \u001b[0marr\u001b[0m\u001b[0;34m.\u001b[0m\u001b[0mview\u001b[0m\u001b[0;34m(\u001b[0m\u001b[0mdtype\u001b[0m\u001b[0;34m)\u001b[0m\u001b[0;34m\u001b[0m\u001b[0;34m\u001b[0m\u001b[0m\n",
      "\u001b[0;31mValueError\u001b[0m: could not convert string to float: "
     ]
    }
   ],
   "source": [
    "churn_df[['MonthlyCharges', 'TotalCharges']] = churn_df[['MonthlyCharges', 'TotalCharges']].astype('float')\n",
    "churn_df.info()"
   ]
  },
  {
   "cell_type": "markdown",
   "metadata": {
    "id": "rK3rCixSGMtL"
   },
   "source": [
    "Looks like we have encountered some problems, there are strings in the Total charges that are not able to be converted to a decimal number.\n",
    "We print out the rows that create an error and observe."
   ]
  },
  {
   "cell_type": "code",
   "execution_count": 9,
   "metadata": {
    "colab": {
     "base_uri": "https://localhost:8080/",
     "height": 571
    },
    "executionInfo": {
     "elapsed": 620,
     "status": "ok",
     "timestamp": 1637791457766,
     "user": {
      "displayName": "Lorenz Feyen",
      "photoUrl": "https://lh3.googleusercontent.com/a/default-user=s64",
      "userId": "13474410138118598994"
     },
     "user_tz": -60
    },
    "id": "Wg7Xl1G7gmmF",
    "outputId": "6f75810c-3c26-4e7a-fa72-5a79131d585d"
   },
   "outputs": [
    {
     "data": {
      "text/html": [
       "<div>\n",
       "<style scoped>\n",
       "    .dataframe tbody tr th:only-of-type {\n",
       "        vertical-align: middle;\n",
       "    }\n",
       "\n",
       "    .dataframe tbody tr th {\n",
       "        vertical-align: top;\n",
       "    }\n",
       "\n",
       "    .dataframe thead th {\n",
       "        text-align: right;\n",
       "    }\n",
       "</style>\n",
       "<table border=\"1\" class=\"dataframe\">\n",
       "  <thead>\n",
       "    <tr style=\"text-align: right;\">\n",
       "      <th></th>\n",
       "      <th>customerID</th>\n",
       "      <th>gender</th>\n",
       "      <th>SeniorCitizen</th>\n",
       "      <th>Partner</th>\n",
       "      <th>Dependents</th>\n",
       "      <th>tenure</th>\n",
       "      <th>PhoneService</th>\n",
       "      <th>MultipleLines</th>\n",
       "      <th>InternetService</th>\n",
       "      <th>OnlineSecurity</th>\n",
       "      <th>OnlineBackup</th>\n",
       "      <th>DeviceProtection</th>\n",
       "      <th>TechSupport</th>\n",
       "      <th>StreamingTV</th>\n",
       "      <th>StreamingMovies</th>\n",
       "      <th>Contract</th>\n",
       "      <th>PaperlessBilling</th>\n",
       "      <th>PaymentMethod</th>\n",
       "      <th>MonthlyCharges</th>\n",
       "      <th>TotalCharges</th>\n",
       "      <th>Churn</th>\n",
       "    </tr>\n",
       "  </thead>\n",
       "  <tbody>\n",
       "    <tr>\n",
       "      <th>488</th>\n",
       "      <td>4472-LVYGI</td>\n",
       "      <td>Female</td>\n",
       "      <td>No</td>\n",
       "      <td>Yes</td>\n",
       "      <td>Yes</td>\n",
       "      <td>0</td>\n",
       "      <td>No</td>\n",
       "      <td>No phone service</td>\n",
       "      <td>DSL</td>\n",
       "      <td>Yes</td>\n",
       "      <td>No</td>\n",
       "      <td>Yes</td>\n",
       "      <td>Yes</td>\n",
       "      <td>Yes</td>\n",
       "      <td>No</td>\n",
       "      <td>Two year</td>\n",
       "      <td>Yes</td>\n",
       "      <td>Bank transfer (automatic)</td>\n",
       "      <td>52.55</td>\n",
       "      <td></td>\n",
       "      <td>No</td>\n",
       "    </tr>\n",
       "    <tr>\n",
       "      <th>753</th>\n",
       "      <td>3115-CZMZD</td>\n",
       "      <td>Male</td>\n",
       "      <td>No</td>\n",
       "      <td>No</td>\n",
       "      <td>Yes</td>\n",
       "      <td>0</td>\n",
       "      <td>Yes</td>\n",
       "      <td>No</td>\n",
       "      <td>No</td>\n",
       "      <td>No internet service</td>\n",
       "      <td>No internet service</td>\n",
       "      <td>No internet service</td>\n",
       "      <td>No internet service</td>\n",
       "      <td>No internet service</td>\n",
       "      <td>No internet service</td>\n",
       "      <td>Two year</td>\n",
       "      <td>No</td>\n",
       "      <td>Mailed check</td>\n",
       "      <td>20.25</td>\n",
       "      <td></td>\n",
       "      <td>No</td>\n",
       "    </tr>\n",
       "    <tr>\n",
       "      <th>936</th>\n",
       "      <td>5709-LVOEQ</td>\n",
       "      <td>Female</td>\n",
       "      <td>No</td>\n",
       "      <td>Yes</td>\n",
       "      <td>Yes</td>\n",
       "      <td>0</td>\n",
       "      <td>Yes</td>\n",
       "      <td>No</td>\n",
       "      <td>DSL</td>\n",
       "      <td>Yes</td>\n",
       "      <td>Yes</td>\n",
       "      <td>Yes</td>\n",
       "      <td>No</td>\n",
       "      <td>Yes</td>\n",
       "      <td>Yes</td>\n",
       "      <td>Two year</td>\n",
       "      <td>No</td>\n",
       "      <td>Mailed check</td>\n",
       "      <td>80.85</td>\n",
       "      <td></td>\n",
       "      <td>No</td>\n",
       "    </tr>\n",
       "    <tr>\n",
       "      <th>1082</th>\n",
       "      <td>4367-NUYAO</td>\n",
       "      <td>Male</td>\n",
       "      <td>No</td>\n",
       "      <td>Yes</td>\n",
       "      <td>Yes</td>\n",
       "      <td>0</td>\n",
       "      <td>Yes</td>\n",
       "      <td>Yes</td>\n",
       "      <td>No</td>\n",
       "      <td>No internet service</td>\n",
       "      <td>No internet service</td>\n",
       "      <td>No internet service</td>\n",
       "      <td>No internet service</td>\n",
       "      <td>No internet service</td>\n",
       "      <td>No internet service</td>\n",
       "      <td>Two year</td>\n",
       "      <td>No</td>\n",
       "      <td>Mailed check</td>\n",
       "      <td>25.75</td>\n",
       "      <td></td>\n",
       "      <td>No</td>\n",
       "    </tr>\n",
       "    <tr>\n",
       "      <th>1340</th>\n",
       "      <td>1371-DWPAZ</td>\n",
       "      <td>Female</td>\n",
       "      <td>No</td>\n",
       "      <td>Yes</td>\n",
       "      <td>Yes</td>\n",
       "      <td>0</td>\n",
       "      <td>No</td>\n",
       "      <td>No phone service</td>\n",
       "      <td>DSL</td>\n",
       "      <td>Yes</td>\n",
       "      <td>Yes</td>\n",
       "      <td>Yes</td>\n",
       "      <td>Yes</td>\n",
       "      <td>Yes</td>\n",
       "      <td>No</td>\n",
       "      <td>Two year</td>\n",
       "      <td>No</td>\n",
       "      <td>Credit card (automatic)</td>\n",
       "      <td>56.05</td>\n",
       "      <td></td>\n",
       "      <td>No</td>\n",
       "    </tr>\n",
       "    <tr>\n",
       "      <th>3331</th>\n",
       "      <td>7644-OMVMY</td>\n",
       "      <td>Male</td>\n",
       "      <td>No</td>\n",
       "      <td>Yes</td>\n",
       "      <td>Yes</td>\n",
       "      <td>0</td>\n",
       "      <td>Yes</td>\n",
       "      <td>No</td>\n",
       "      <td>No</td>\n",
       "      <td>No internet service</td>\n",
       "      <td>No internet service</td>\n",
       "      <td>No internet service</td>\n",
       "      <td>No internet service</td>\n",
       "      <td>No internet service</td>\n",
       "      <td>No internet service</td>\n",
       "      <td>Two year</td>\n",
       "      <td>No</td>\n",
       "      <td>Mailed check</td>\n",
       "      <td>19.85</td>\n",
       "      <td></td>\n",
       "      <td>No</td>\n",
       "    </tr>\n",
       "    <tr>\n",
       "      <th>3826</th>\n",
       "      <td>3213-VVOLG</td>\n",
       "      <td>Male</td>\n",
       "      <td>No</td>\n",
       "      <td>Yes</td>\n",
       "      <td>Yes</td>\n",
       "      <td>0</td>\n",
       "      <td>Yes</td>\n",
       "      <td>Yes</td>\n",
       "      <td>No</td>\n",
       "      <td>No internet service</td>\n",
       "      <td>No internet service</td>\n",
       "      <td>No internet service</td>\n",
       "      <td>No internet service</td>\n",
       "      <td>No internet service</td>\n",
       "      <td>No internet service</td>\n",
       "      <td>Two year</td>\n",
       "      <td>No</td>\n",
       "      <td>Mailed check</td>\n",
       "      <td>25.35</td>\n",
       "      <td></td>\n",
       "      <td>No</td>\n",
       "    </tr>\n",
       "    <tr>\n",
       "      <th>4380</th>\n",
       "      <td>2520-SGTTA</td>\n",
       "      <td>Female</td>\n",
       "      <td>No</td>\n",
       "      <td>Yes</td>\n",
       "      <td>Yes</td>\n",
       "      <td>0</td>\n",
       "      <td>Yes</td>\n",
       "      <td>No</td>\n",
       "      <td>No</td>\n",
       "      <td>No internet service</td>\n",
       "      <td>No internet service</td>\n",
       "      <td>No internet service</td>\n",
       "      <td>No internet service</td>\n",
       "      <td>No internet service</td>\n",
       "      <td>No internet service</td>\n",
       "      <td>Two year</td>\n",
       "      <td>No</td>\n",
       "      <td>Mailed check</td>\n",
       "      <td>20.00</td>\n",
       "      <td></td>\n",
       "      <td>No</td>\n",
       "    </tr>\n",
       "    <tr>\n",
       "      <th>5218</th>\n",
       "      <td>2923-ARZLG</td>\n",
       "      <td>Male</td>\n",
       "      <td>No</td>\n",
       "      <td>Yes</td>\n",
       "      <td>Yes</td>\n",
       "      <td>0</td>\n",
       "      <td>Yes</td>\n",
       "      <td>No</td>\n",
       "      <td>No</td>\n",
       "      <td>No internet service</td>\n",
       "      <td>No internet service</td>\n",
       "      <td>No internet service</td>\n",
       "      <td>No internet service</td>\n",
       "      <td>No internet service</td>\n",
       "      <td>No internet service</td>\n",
       "      <td>One year</td>\n",
       "      <td>Yes</td>\n",
       "      <td>Mailed check</td>\n",
       "      <td>19.70</td>\n",
       "      <td></td>\n",
       "      <td>No</td>\n",
       "    </tr>\n",
       "    <tr>\n",
       "      <th>6670</th>\n",
       "      <td>4075-WKNIU</td>\n",
       "      <td>Female</td>\n",
       "      <td>No</td>\n",
       "      <td>Yes</td>\n",
       "      <td>Yes</td>\n",
       "      <td>0</td>\n",
       "      <td>Yes</td>\n",
       "      <td>Yes</td>\n",
       "      <td>DSL</td>\n",
       "      <td>No</td>\n",
       "      <td>Yes</td>\n",
       "      <td>Yes</td>\n",
       "      <td>Yes</td>\n",
       "      <td>Yes</td>\n",
       "      <td>No</td>\n",
       "      <td>Two year</td>\n",
       "      <td>No</td>\n",
       "      <td>Mailed check</td>\n",
       "      <td>73.35</td>\n",
       "      <td></td>\n",
       "      <td>No</td>\n",
       "    </tr>\n",
       "    <tr>\n",
       "      <th>6754</th>\n",
       "      <td>2775-SEFEE</td>\n",
       "      <td>Male</td>\n",
       "      <td>No</td>\n",
       "      <td>No</td>\n",
       "      <td>Yes</td>\n",
       "      <td>0</td>\n",
       "      <td>Yes</td>\n",
       "      <td>Yes</td>\n",
       "      <td>DSL</td>\n",
       "      <td>Yes</td>\n",
       "      <td>Yes</td>\n",
       "      <td>No</td>\n",
       "      <td>Yes</td>\n",
       "      <td>No</td>\n",
       "      <td>No</td>\n",
       "      <td>Two year</td>\n",
       "      <td>Yes</td>\n",
       "      <td>Bank transfer (automatic)</td>\n",
       "      <td>61.90</td>\n",
       "      <td></td>\n",
       "      <td>No</td>\n",
       "    </tr>\n",
       "  </tbody>\n",
       "</table>\n",
       "</div>"
      ],
      "text/plain": [
       "      customerID  gender SeniorCitizen  ... MonthlyCharges TotalCharges  Churn\n",
       "488   4472-LVYGI  Female            No  ...          52.55                  No\n",
       "753   3115-CZMZD    Male            No  ...          20.25                  No\n",
       "936   5709-LVOEQ  Female            No  ...          80.85                  No\n",
       "1082  4367-NUYAO    Male            No  ...          25.75                  No\n",
       "1340  1371-DWPAZ  Female            No  ...          56.05                  No\n",
       "3331  7644-OMVMY    Male            No  ...          19.85                  No\n",
       "3826  3213-VVOLG    Male            No  ...          25.35                  No\n",
       "4380  2520-SGTTA  Female            No  ...          20.00                  No\n",
       "5218  2923-ARZLG    Male            No  ...          19.70                  No\n",
       "6670  4075-WKNIU  Female            No  ...          73.35                  No\n",
       "6754  2775-SEFEE    Male            No  ...          61.90                  No\n",
       "\n",
       "[11 rows x 21 columns]"
      ]
     },
     "execution_count": 9,
     "metadata": {},
     "output_type": "execute_result"
    }
   ],
   "source": [
    "churn_df[pd.to_numeric(churn_df.TotalCharges,errors='coerce').isna()]"
   ]
  },
  {
   "cell_type": "markdown",
   "metadata": {
    "id": "Gn6yvVE7GYp8"
   },
   "source": [
    "Seems that there are some customers being so new they have no total charges, for convenience i'm going to change the space to a 0."
   ]
  },
  {
   "cell_type": "code",
   "execution_count": 10,
   "metadata": {
    "executionInfo": {
     "elapsed": 4,
     "status": "ok",
     "timestamp": 1637791461199,
     "user": {
      "displayName": "Lorenz Feyen",
      "photoUrl": "https://lh3.googleusercontent.com/a/default-user=s64",
      "userId": "13474410138118598994"
     },
     "user_tz": -60
    },
    "id": "C1nD7bdvkwHa"
   },
   "outputs": [],
   "source": [
    "churn_df.TotalCharges = churn_df.TotalCharges.replace(' ', '0')"
   ]
  },
  {
   "cell_type": "code",
   "execution_count": 11,
   "metadata": {
    "colab": {
     "base_uri": "https://localhost:8080/"
    },
    "executionInfo": {
     "elapsed": 677,
     "status": "ok",
     "timestamp": 1637791467526,
     "user": {
      "displayName": "Lorenz Feyen",
      "photoUrl": "https://lh3.googleusercontent.com/a/default-user=s64",
      "userId": "13474410138118598994"
     },
     "user_tz": -60
    },
    "id": "FqlcTdmSlV_F",
    "outputId": "428c1bfc-4c49-40d7-88e0-e5fcff079685"
   },
   "outputs": [
    {
     "name": "stdout",
     "output_type": "stream",
     "text": [
      "<class 'pandas.core.frame.DataFrame'>\n",
      "RangeIndex: 7043 entries, 0 to 7042\n",
      "Data columns (total 21 columns):\n",
      " #   Column            Non-Null Count  Dtype   \n",
      "---  ------            --------------  -----   \n",
      " 0   customerID        7043 non-null   object  \n",
      " 1   gender            7043 non-null   category\n",
      " 2   SeniorCitizen     7043 non-null   category\n",
      " 3   Partner           7043 non-null   category\n",
      " 4   Dependents        7043 non-null   category\n",
      " 5   tenure            7043 non-null   int64   \n",
      " 6   PhoneService      7043 non-null   category\n",
      " 7   MultipleLines     7043 non-null   category\n",
      " 8   InternetService   7043 non-null   category\n",
      " 9   OnlineSecurity    7043 non-null   category\n",
      " 10  OnlineBackup      7043 non-null   category\n",
      " 11  DeviceProtection  7043 non-null   category\n",
      " 12  TechSupport       7043 non-null   category\n",
      " 13  StreamingTV       7043 non-null   category\n",
      " 14  StreamingMovies   7043 non-null   category\n",
      " 15  Contract          7043 non-null   category\n",
      " 16  PaperlessBilling  7043 non-null   category\n",
      " 17  PaymentMethod     7043 non-null   category\n",
      " 18  MonthlyCharges    7043 non-null   float64 \n",
      " 19  TotalCharges      7043 non-null   float64 \n",
      " 20  Churn             7043 non-null   category\n",
      "dtypes: category(17), float64(2), int64(1), object(1)\n",
      "memory usage: 338.9+ KB\n"
     ]
    }
   ],
   "source": [
    "churn_df[['MonthlyCharges', 'TotalCharges']] = churn_df[['MonthlyCharges', 'TotalCharges']].astype('float')\n",
    "churn_df.info()"
   ]
  },
  {
   "cell_type": "markdown",
   "metadata": {
    "id": "xIu5quuIl4sA"
   },
   "source": [
    "### Missing values\n",
    "\n",
    "for each dataframe we apply a few checks in order to see the quality of data"
   ]
  },
  {
   "cell_type": "code",
   "execution_count": 12,
   "metadata": {
    "colab": {
     "base_uri": "https://localhost:8080/"
    },
    "executionInfo": {
     "elapsed": 10,
     "status": "ok",
     "timestamp": 1637791468117,
     "user": {
      "displayName": "Lorenz Feyen",
      "photoUrl": "https://lh3.googleusercontent.com/a/default-user=s64",
      "userId": "13474410138118598994"
     },
     "user_tz": -60
    },
    "id": "VcvGAWNolono",
    "outputId": "da70c1cf-f9f4-4489-d16c-1bdf0d58a03a"
   },
   "outputs": [
    {
     "name": "stdout",
     "output_type": "stream",
     "text": [
      "customerID          0.0\n",
      "gender              0.0\n",
      "SeniorCitizen       0.0\n",
      "Partner             0.0\n",
      "Dependents          0.0\n",
      "tenure              0.0\n",
      "PhoneService        0.0\n",
      "MultipleLines       0.0\n",
      "InternetService     0.0\n",
      "OnlineSecurity      0.0\n",
      "OnlineBackup        0.0\n",
      "DeviceProtection    0.0\n",
      "TechSupport         0.0\n",
      "StreamingTV         0.0\n",
      "StreamingMovies     0.0\n",
      "Contract            0.0\n",
      "PaperlessBilling    0.0\n",
      "PaymentMethod       0.0\n",
      "MonthlyCharges      0.0\n",
      "TotalCharges        0.0\n",
      "Churn               0.0\n",
      "dtype: float64\n"
     ]
    }
   ],
   "source": [
    "print(100*churn_df.isna().sum()/churn_df.shape[0])"
   ]
  },
  {
   "cell_type": "markdown",
   "metadata": {
    "id": "bFCF05wJGo0U"
   },
   "source": [
    "No missing values (if we do not count the ones we solved earlier), sometimes luck is on our side."
   ]
  },
  {
   "cell_type": "markdown",
   "metadata": {
    "id": "o_WUiGdgr3lV"
   },
   "source": [
    "### Duplicates\n",
    "\n",
    "For any reason, our dataset might be containing duplicates that would be counted twice and will introduce a bias we would not want. On the other hand, duplicates can be subjected to interpretation, here we would say that if 2 records are completely the same they are duplicates."
   ]
  },
  {
   "cell_type": "code",
   "execution_count": 13,
   "metadata": {
    "colab": {
     "base_uri": "https://localhost:8080/"
    },
    "executionInfo": {
     "elapsed": 10,
     "status": "ok",
     "timestamp": 1637791468118,
     "user": {
      "displayName": "Lorenz Feyen",
      "photoUrl": "https://lh3.googleusercontent.com/a/default-user=s64",
      "userId": "13474410138118598994"
     },
     "user_tz": -60
    },
    "id": "9W2yyhZAmpY5",
    "outputId": "d0e4cf48-d846-4870-a452-08f98ec655d6"
   },
   "outputs": [
    {
     "data": {
      "text/plain": [
       "False"
      ]
     },
     "execution_count": 13,
     "metadata": {},
     "output_type": "execute_result"
    }
   ],
   "source": [
    "churn_df.duplicated().any()"
   ]
  },
  {
   "cell_type": "markdown",
   "metadata": {
    "id": "sQWbNx-Yr1gy"
   },
   "source": [
    "### Indexing\n",
    "\n",
    "It is more convenient to work with an index, our dataset already contains an id which we can use as index"
   ]
  },
  {
   "cell_type": "code",
   "execution_count": 14,
   "metadata": {
    "colab": {
     "base_uri": "https://localhost:8080/",
     "height": 327
    },
    "executionInfo": {
     "elapsed": 15,
     "status": "ok",
     "timestamp": 1637791468729,
     "user": {
      "displayName": "Lorenz Feyen",
      "photoUrl": "https://lh3.googleusercontent.com/a/default-user=s64",
      "userId": "13474410138118598994"
     },
     "user_tz": -60
    },
    "id": "VFFxkbTzstoh",
    "outputId": "924645b8-4094-44c6-d2f2-400a529f4a4f"
   },
   "outputs": [
    {
     "data": {
      "text/html": [
       "<div>\n",
       "<style scoped>\n",
       "    .dataframe tbody tr th:only-of-type {\n",
       "        vertical-align: middle;\n",
       "    }\n",
       "\n",
       "    .dataframe tbody tr th {\n",
       "        vertical-align: top;\n",
       "    }\n",
       "\n",
       "    .dataframe thead th {\n",
       "        text-align: right;\n",
       "    }\n",
       "</style>\n",
       "<table border=\"1\" class=\"dataframe\">\n",
       "  <thead>\n",
       "    <tr style=\"text-align: right;\">\n",
       "      <th></th>\n",
       "      <th>gender</th>\n",
       "      <th>SeniorCitizen</th>\n",
       "      <th>Partner</th>\n",
       "      <th>Dependents</th>\n",
       "      <th>tenure</th>\n",
       "      <th>PhoneService</th>\n",
       "      <th>MultipleLines</th>\n",
       "      <th>InternetService</th>\n",
       "      <th>OnlineSecurity</th>\n",
       "      <th>OnlineBackup</th>\n",
       "      <th>DeviceProtection</th>\n",
       "      <th>TechSupport</th>\n",
       "      <th>StreamingTV</th>\n",
       "      <th>StreamingMovies</th>\n",
       "      <th>Contract</th>\n",
       "      <th>PaperlessBilling</th>\n",
       "      <th>PaymentMethod</th>\n",
       "      <th>MonthlyCharges</th>\n",
       "      <th>TotalCharges</th>\n",
       "      <th>Churn</th>\n",
       "    </tr>\n",
       "    <tr>\n",
       "      <th>customerID</th>\n",
       "      <th></th>\n",
       "      <th></th>\n",
       "      <th></th>\n",
       "      <th></th>\n",
       "      <th></th>\n",
       "      <th></th>\n",
       "      <th></th>\n",
       "      <th></th>\n",
       "      <th></th>\n",
       "      <th></th>\n",
       "      <th></th>\n",
       "      <th></th>\n",
       "      <th></th>\n",
       "      <th></th>\n",
       "      <th></th>\n",
       "      <th></th>\n",
       "      <th></th>\n",
       "      <th></th>\n",
       "      <th></th>\n",
       "      <th></th>\n",
       "    </tr>\n",
       "  </thead>\n",
       "  <tbody>\n",
       "    <tr>\n",
       "      <th>7590-VHVEG</th>\n",
       "      <td>Female</td>\n",
       "      <td>No</td>\n",
       "      <td>Yes</td>\n",
       "      <td>No</td>\n",
       "      <td>1</td>\n",
       "      <td>No</td>\n",
       "      <td>No phone service</td>\n",
       "      <td>DSL</td>\n",
       "      <td>No</td>\n",
       "      <td>Yes</td>\n",
       "      <td>No</td>\n",
       "      <td>No</td>\n",
       "      <td>No</td>\n",
       "      <td>No</td>\n",
       "      <td>Month-to-month</td>\n",
       "      <td>Yes</td>\n",
       "      <td>Electronic check</td>\n",
       "      <td>29.85</td>\n",
       "      <td>29.85</td>\n",
       "      <td>No</td>\n",
       "    </tr>\n",
       "    <tr>\n",
       "      <th>5575-GNVDE</th>\n",
       "      <td>Male</td>\n",
       "      <td>No</td>\n",
       "      <td>No</td>\n",
       "      <td>No</td>\n",
       "      <td>34</td>\n",
       "      <td>Yes</td>\n",
       "      <td>No</td>\n",
       "      <td>DSL</td>\n",
       "      <td>Yes</td>\n",
       "      <td>No</td>\n",
       "      <td>Yes</td>\n",
       "      <td>No</td>\n",
       "      <td>No</td>\n",
       "      <td>No</td>\n",
       "      <td>One year</td>\n",
       "      <td>No</td>\n",
       "      <td>Mailed check</td>\n",
       "      <td>56.95</td>\n",
       "      <td>1889.50</td>\n",
       "      <td>No</td>\n",
       "    </tr>\n",
       "    <tr>\n",
       "      <th>3668-QPYBK</th>\n",
       "      <td>Male</td>\n",
       "      <td>No</td>\n",
       "      <td>No</td>\n",
       "      <td>No</td>\n",
       "      <td>2</td>\n",
       "      <td>Yes</td>\n",
       "      <td>No</td>\n",
       "      <td>DSL</td>\n",
       "      <td>Yes</td>\n",
       "      <td>Yes</td>\n",
       "      <td>No</td>\n",
       "      <td>No</td>\n",
       "      <td>No</td>\n",
       "      <td>No</td>\n",
       "      <td>Month-to-month</td>\n",
       "      <td>Yes</td>\n",
       "      <td>Mailed check</td>\n",
       "      <td>53.85</td>\n",
       "      <td>108.15</td>\n",
       "      <td>Yes</td>\n",
       "    </tr>\n",
       "    <tr>\n",
       "      <th>7795-CFOCW</th>\n",
       "      <td>Male</td>\n",
       "      <td>No</td>\n",
       "      <td>No</td>\n",
       "      <td>No</td>\n",
       "      <td>45</td>\n",
       "      <td>No</td>\n",
       "      <td>No phone service</td>\n",
       "      <td>DSL</td>\n",
       "      <td>Yes</td>\n",
       "      <td>No</td>\n",
       "      <td>Yes</td>\n",
       "      <td>Yes</td>\n",
       "      <td>No</td>\n",
       "      <td>No</td>\n",
       "      <td>One year</td>\n",
       "      <td>No</td>\n",
       "      <td>Bank transfer (automatic)</td>\n",
       "      <td>42.30</td>\n",
       "      <td>1840.75</td>\n",
       "      <td>No</td>\n",
       "    </tr>\n",
       "    <tr>\n",
       "      <th>9237-HQITU</th>\n",
       "      <td>Female</td>\n",
       "      <td>No</td>\n",
       "      <td>No</td>\n",
       "      <td>No</td>\n",
       "      <td>2</td>\n",
       "      <td>Yes</td>\n",
       "      <td>No</td>\n",
       "      <td>Fiber optic</td>\n",
       "      <td>No</td>\n",
       "      <td>No</td>\n",
       "      <td>No</td>\n",
       "      <td>No</td>\n",
       "      <td>No</td>\n",
       "      <td>No</td>\n",
       "      <td>Month-to-month</td>\n",
       "      <td>Yes</td>\n",
       "      <td>Electronic check</td>\n",
       "      <td>70.70</td>\n",
       "      <td>151.65</td>\n",
       "      <td>Yes</td>\n",
       "    </tr>\n",
       "  </tbody>\n",
       "</table>\n",
       "</div>"
      ],
      "text/plain": [
       "            gender SeniorCitizen Partner  ... MonthlyCharges  TotalCharges Churn\n",
       "customerID                                ...                                   \n",
       "7590-VHVEG  Female            No     Yes  ...          29.85         29.85    No\n",
       "5575-GNVDE    Male            No      No  ...          56.95       1889.50    No\n",
       "3668-QPYBK    Male            No      No  ...          53.85        108.15   Yes\n",
       "7795-CFOCW    Male            No      No  ...          42.30       1840.75    No\n",
       "9237-HQITU  Female            No      No  ...          70.70        151.65   Yes\n",
       "\n",
       "[5 rows x 20 columns]"
      ]
     },
     "execution_count": 14,
     "metadata": {},
     "output_type": "execute_result"
    }
   ],
   "source": [
    "churn_df = churn_df.set_index('customerID')\n",
    "churn_df.head()"
   ]
  },
  {
   "cell_type": "markdown",
   "metadata": {
    "id": "YAYzq3Idus9d"
   },
   "source": [
    "## Processing"
   ]
  },
  {
   "cell_type": "markdown",
   "metadata": {
    "id": "9Py4BgQrznrE"
   },
   "source": [
    "### Churn vs no churn\n",
    "I would like to compare between persons that have churned and others, therefore a function that calculates the counts between churn and a given column would be convenient.\n",
    "By using functions I keep things dynamic without having to store a dataframe for each column, but static dataframes work equally well!"
   ]
  },
  {
   "cell_type": "code",
   "execution_count": 15,
   "metadata": {
    "executionInfo": {
     "elapsed": 12,
     "status": "ok",
     "timestamp": 1637791468731,
     "user": {
      "displayName": "Lorenz Feyen",
      "photoUrl": "https://lh3.googleusercontent.com/a/default-user=s64",
      "userId": "13474410138118598994"
     },
     "user_tz": -60
    },
    "id": "rKVqdyHt1rFU"
   },
   "outputs": [],
   "source": [
    "def count_matrix(col_name):\n",
    "  return churn_df.groupby(['Churn', col_name]).size().unstack()"
   ]
  },
  {
   "cell_type": "code",
   "execution_count": 16,
   "metadata": {
    "colab": {
     "base_uri": "https://localhost:8080/",
     "height": 143
    },
    "executionInfo": {
     "elapsed": 13,
     "status": "ok",
     "timestamp": 1637791469223,
     "user": {
      "displayName": "Lorenz Feyen",
      "photoUrl": "https://lh3.googleusercontent.com/a/default-user=s64",
      "userId": "13474410138118598994"
     },
     "user_tz": -60
    },
    "id": "sY63Ku06VUjN",
    "outputId": "d02e4fa8-304c-48a0-da35-c5479c705bcf"
   },
   "outputs": [
    {
     "data": {
      "text/html": [
       "<div>\n",
       "<style scoped>\n",
       "    .dataframe tbody tr th:only-of-type {\n",
       "        vertical-align: middle;\n",
       "    }\n",
       "\n",
       "    .dataframe tbody tr th {\n",
       "        vertical-align: top;\n",
       "    }\n",
       "\n",
       "    .dataframe thead th {\n",
       "        text-align: right;\n",
       "    }\n",
       "</style>\n",
       "<table border=\"1\" class=\"dataframe\">\n",
       "  <thead>\n",
       "    <tr style=\"text-align: right;\">\n",
       "      <th>DeviceProtection</th>\n",
       "      <th>No</th>\n",
       "      <th>No internet service</th>\n",
       "      <th>Yes</th>\n",
       "    </tr>\n",
       "    <tr>\n",
       "      <th>Churn</th>\n",
       "      <th></th>\n",
       "      <th></th>\n",
       "      <th></th>\n",
       "    </tr>\n",
       "  </thead>\n",
       "  <tbody>\n",
       "    <tr>\n",
       "      <th>No</th>\n",
       "      <td>1884</td>\n",
       "      <td>1413</td>\n",
       "      <td>1877</td>\n",
       "    </tr>\n",
       "    <tr>\n",
       "      <th>Yes</th>\n",
       "      <td>1211</td>\n",
       "      <td>113</td>\n",
       "      <td>545</td>\n",
       "    </tr>\n",
       "  </tbody>\n",
       "</table>\n",
       "</div>"
      ],
      "text/plain": [
       "DeviceProtection    No  No internet service   Yes\n",
       "Churn                                            \n",
       "No                1884                 1413  1877\n",
       "Yes               1211                  113   545"
      ]
     },
     "execution_count": 16,
     "metadata": {},
     "output_type": "execute_result"
    }
   ],
   "source": [
    "count_matrix('DeviceProtection')"
   ]
  },
  {
   "cell_type": "markdown",
   "metadata": {
    "id": "HiMXFgsdIU1W"
   },
   "source": [
    "aside from the counts I would also like to know the mean, as some groups have a smaller population yet their proportion of churned persons might be higher."
   ]
  },
  {
   "cell_type": "code",
   "execution_count": 17,
   "metadata": {
    "executionInfo": {
     "elapsed": 30,
     "status": "ok",
     "timestamp": 1637791469768,
     "user": {
      "displayName": "Lorenz Feyen",
      "photoUrl": "https://lh3.googleusercontent.com/a/default-user=s64",
      "userId": "13474410138118598994"
     },
     "user_tz": -60
    },
    "id": "Q4kxTqlDccvc"
   },
   "outputs": [],
   "source": [
    "def mean_matrix(col_name):\n",
    "  df = churn_df.groupby(['Churn', col_name]).size().unstack()\n",
    "  return df.divide(df.sum(axis='columns'),axis='index')"
   ]
  },
  {
   "cell_type": "code",
   "execution_count": 18,
   "metadata": {
    "colab": {
     "base_uri": "https://localhost:8080/",
     "height": 143
    },
    "executionInfo": {
     "elapsed": 28,
     "status": "ok",
     "timestamp": 1637791469770,
     "user": {
      "displayName": "Lorenz Feyen",
      "photoUrl": "https://lh3.googleusercontent.com/a/default-user=s64",
      "userId": "13474410138118598994"
     },
     "user_tz": -60
    },
    "id": "ieBZ8R0ddC3Y",
    "outputId": "df117aee-ae6c-472a-8e30-5b188cc3165a"
   },
   "outputs": [
    {
     "data": {
      "text/html": [
       "<div>\n",
       "<style scoped>\n",
       "    .dataframe tbody tr th:only-of-type {\n",
       "        vertical-align: middle;\n",
       "    }\n",
       "\n",
       "    .dataframe tbody tr th {\n",
       "        vertical-align: top;\n",
       "    }\n",
       "\n",
       "    .dataframe thead th {\n",
       "        text-align: right;\n",
       "    }\n",
       "</style>\n",
       "<table border=\"1\" class=\"dataframe\">\n",
       "  <thead>\n",
       "    <tr style=\"text-align: right;\">\n",
       "      <th>DeviceProtection</th>\n",
       "      <th>No</th>\n",
       "      <th>No internet service</th>\n",
       "      <th>Yes</th>\n",
       "    </tr>\n",
       "    <tr>\n",
       "      <th>Churn</th>\n",
       "      <th></th>\n",
       "      <th></th>\n",
       "      <th></th>\n",
       "    </tr>\n",
       "  </thead>\n",
       "  <tbody>\n",
       "    <tr>\n",
       "      <th>No</th>\n",
       "      <td>0.364128</td>\n",
       "      <td>0.273096</td>\n",
       "      <td>0.362775</td>\n",
       "    </tr>\n",
       "    <tr>\n",
       "      <th>Yes</th>\n",
       "      <td>0.647940</td>\n",
       "      <td>0.060460</td>\n",
       "      <td>0.291600</td>\n",
       "    </tr>\n",
       "  </tbody>\n",
       "</table>\n",
       "</div>"
      ],
      "text/plain": [
       "DeviceProtection        No  No internet service       Yes\n",
       "Churn                                                    \n",
       "No                0.364128             0.273096  0.362775\n",
       "Yes               0.647940             0.060460  0.291600"
      ]
     },
     "execution_count": 18,
     "metadata": {},
     "output_type": "execute_result"
    }
   ],
   "source": [
    "mean_matrix('DeviceProtection')"
   ]
  },
  {
   "cell_type": "markdown",
   "metadata": {
    "id": "-am7i8ykI7HO"
   },
   "source": [
    "out of curiosity, let's print all those 'mean matrices'"
   ]
  },
  {
   "cell_type": "code",
   "execution_count": 19,
   "metadata": {
    "colab": {
     "base_uri": "https://localhost:8080/"
    },
    "executionInfo": {
     "elapsed": 418,
     "status": "ok",
     "timestamp": 1637791470167,
     "user": {
      "displayName": "Lorenz Feyen",
      "photoUrl": "https://lh3.googleusercontent.com/a/default-user=s64",
      "userId": "13474410138118598994"
     },
     "user_tz": -60
    },
    "id": "GbFJMDbAezUI",
    "outputId": "9ebd16fc-f61d-4498-e76e-80090e4f3c43"
   },
   "outputs": [
    {
     "name": "stdout",
     "output_type": "stream",
     "text": [
      "gender    Female      Male\n",
      "Churn                     \n",
      "No      0.492656  0.507344\n",
      "Yes     0.502408  0.497592\n",
      "\n",
      "SeniorCitizen        No       Yes\n",
      "Churn                            \n",
      "No             0.871279  0.128721\n",
      "Yes            0.745318  0.254682\n",
      "\n",
      "Partner        No       Yes\n",
      "Churn                      \n",
      "No       0.471782  0.528218\n",
      "Yes      0.642055  0.357945\n",
      "\n",
      "Dependents        No       Yes\n",
      "Churn                         \n",
      "No          0.655199  0.344801\n",
      "Yes         0.825575  0.174425\n",
      "\n",
      "tenure        0         1         2   ...        70        71        72\n",
      "Churn                                 ...                              \n",
      "No      0.002126  0.045033  0.022227  ...  0.020874  0.031697  0.068806\n",
      "Yes     0.000000  0.203317  0.065811  ...  0.005886  0.003210  0.003210\n",
      "\n",
      "[2 rows x 73 columns]\n",
      "\n",
      "PhoneService        No       Yes\n",
      "Churn                           \n",
      "No            0.098956  0.901044\n",
      "Yes           0.090958  0.909042\n",
      "\n",
      "MultipleLines        No  No phone service       Yes\n",
      "Churn                                              \n",
      "No             0.491109          0.098956  0.409934\n",
      "Yes            0.454254          0.090958  0.454789\n",
      "\n",
      "InternetService       DSL  Fiber optic        No\n",
      "Churn                                           \n",
      "No               0.379204     0.347700  0.273096\n",
      "Yes              0.245586     0.693954  0.060460\n",
      "\n",
      "OnlineSecurity        No  No internet service       Yes\n",
      "Churn                                                  \n",
      "No              0.393699             0.273096  0.333204\n",
      "Yes             0.781701             0.060460  0.157838\n",
      "\n",
      "OnlineBackup        No  No internet service       Yes\n",
      "Churn                                                \n",
      "No            0.358523             0.273096  0.368380\n",
      "Yes           0.659711             0.060460  0.279829\n",
      "\n",
      "DeviceProtection        No  No internet service       Yes\n",
      "Churn                                                    \n",
      "No                0.364128             0.273096  0.362775\n",
      "Yes               0.647940             0.060460  0.291600\n",
      "\n",
      "TechSupport        No  No internet service       Yes\n",
      "Churn                                               \n",
      "No           0.391767             0.273096  0.335137\n",
      "Yes          0.773676             0.060460  0.165864\n",
      "\n",
      "StreamingTV        No  No internet service       Yes\n",
      "Churn                                               \n",
      "No           0.361036             0.273096  0.365868\n",
      "Yes          0.504013             0.060460  0.435527\n",
      "\n",
      "StreamingMovies        No  No internet service       Yes\n",
      "Churn                                                   \n",
      "No               0.356977             0.273096  0.369927\n",
      "Yes              0.501873             0.060460  0.437667\n",
      "\n",
      "Contract  Month-to-month  One year  Two year\n",
      "Churn                                       \n",
      "No              0.429068  0.252609  0.318322\n",
      "Yes             0.885500  0.088818  0.025682\n",
      "\n",
      "PaperlessBilling        No       Yes\n",
      "Churn                               \n",
      "No                0.464438  0.535562\n",
      "Yes               0.250936  0.749064\n",
      "\n",
      "PaymentMethod  Bank transfer (automatic)  ...  Mailed check\n",
      "Churn                                     ...              \n",
      "No                              0.248550  ...      0.252029\n",
      "Yes                             0.138042  ...      0.164794\n",
      "\n",
      "[2 rows x 4 columns]\n",
      "\n",
      "MonthlyCharges    18.25     18.40     18.55   ...    118.60    118.65    118.75\n",
      "Churn                                         ...                              \n",
      "No              0.000193  0.000193  0.000193  ...  0.000387  0.000193  0.000193\n",
      "Yes             0.000000  0.000000  0.000000  ...  0.000000  0.000000  0.000000\n",
      "\n",
      "[2 rows x 1585 columns]\n",
      "\n",
      "TotalCharges   0.00      18.80     18.85    ...   8670.10   8672.45   8684.80\n",
      "Churn                                       ...                              \n",
      "No            0.002126  0.000193  0.000193  ...  0.000193  0.000193  0.000000\n",
      "Yes           0.000000  0.000000  0.000535  ...  0.000000  0.000000  0.000535\n",
      "\n",
      "[2 rows x 6531 columns]\n",
      "\n"
     ]
    }
   ],
   "source": [
    "for col in churn_df.columns.drop('Churn'):\n",
    "  print(mean_matrix(col))\n",
    "  print()"
   ]
  },
  {
   "cell_type": "markdown",
   "metadata": {
    "id": "4ufuo_oOJcr6"
   },
   "source": [
    "We already see some big differences between populations of churn and no churn for some of these features, promising!"
   ]
  },
  {
   "cell_type": "markdown",
   "metadata": {
    "id": "X1jZ672l26zN"
   },
   "source": [
    "### one hot encoding\n",
    "I would also like to run the data into an algorithm, yet computers don't like categories, so I 'one hot encode' the categories and get a column/feature for each category in my categorical variables."
   ]
  },
  {
   "cell_type": "code",
   "execution_count": 20,
   "metadata": {
    "colab": {
     "base_uri": "https://localhost:8080/",
     "height": 310
    },
    "executionInfo": {
     "elapsed": 10,
     "status": "ok",
     "timestamp": 1637791470670,
     "user": {
      "displayName": "Lorenz Feyen",
      "photoUrl": "https://lh3.googleusercontent.com/a/default-user=s64",
      "userId": "13474410138118598994"
     },
     "user_tz": -60
    },
    "id": "woAevFGdz6so",
    "outputId": "07fd5598-d3b0-41d1-ac50-e6dfcb439aa1"
   },
   "outputs": [
    {
     "data": {
      "text/html": [
       "<div>\n",
       "<style scoped>\n",
       "    .dataframe tbody tr th:only-of-type {\n",
       "        vertical-align: middle;\n",
       "    }\n",
       "\n",
       "    .dataframe tbody tr th {\n",
       "        vertical-align: top;\n",
       "    }\n",
       "\n",
       "    .dataframe thead th {\n",
       "        text-align: right;\n",
       "    }\n",
       "</style>\n",
       "<table border=\"1\" class=\"dataframe\">\n",
       "  <thead>\n",
       "    <tr style=\"text-align: right;\">\n",
       "      <th></th>\n",
       "      <th>tenure</th>\n",
       "      <th>MonthlyCharges</th>\n",
       "      <th>TotalCharges</th>\n",
       "      <th>gender_Female</th>\n",
       "      <th>gender_Male</th>\n",
       "      <th>SeniorCitizen_No</th>\n",
       "      <th>SeniorCitizen_Yes</th>\n",
       "      <th>Partner_No</th>\n",
       "      <th>Partner_Yes</th>\n",
       "      <th>Dependents_No</th>\n",
       "      <th>Dependents_Yes</th>\n",
       "      <th>PhoneService_No</th>\n",
       "      <th>PhoneService_Yes</th>\n",
       "      <th>MultipleLines_No</th>\n",
       "      <th>MultipleLines_No phone service</th>\n",
       "      <th>MultipleLines_Yes</th>\n",
       "      <th>InternetService_DSL</th>\n",
       "      <th>InternetService_Fiber optic</th>\n",
       "      <th>InternetService_No</th>\n",
       "      <th>OnlineSecurity_No</th>\n",
       "      <th>OnlineSecurity_No internet service</th>\n",
       "      <th>OnlineSecurity_Yes</th>\n",
       "      <th>OnlineBackup_No</th>\n",
       "      <th>OnlineBackup_No internet service</th>\n",
       "      <th>OnlineBackup_Yes</th>\n",
       "      <th>DeviceProtection_No</th>\n",
       "      <th>DeviceProtection_No internet service</th>\n",
       "      <th>DeviceProtection_Yes</th>\n",
       "      <th>TechSupport_No</th>\n",
       "      <th>TechSupport_No internet service</th>\n",
       "      <th>TechSupport_Yes</th>\n",
       "      <th>StreamingTV_No</th>\n",
       "      <th>StreamingTV_No internet service</th>\n",
       "      <th>StreamingTV_Yes</th>\n",
       "      <th>StreamingMovies_No</th>\n",
       "      <th>StreamingMovies_No internet service</th>\n",
       "      <th>StreamingMovies_Yes</th>\n",
       "      <th>Contract_Month-to-month</th>\n",
       "      <th>Contract_One year</th>\n",
       "      <th>Contract_Two year</th>\n",
       "      <th>PaperlessBilling_No</th>\n",
       "      <th>PaperlessBilling_Yes</th>\n",
       "      <th>PaymentMethod_Bank transfer (automatic)</th>\n",
       "      <th>PaymentMethod_Credit card (automatic)</th>\n",
       "      <th>PaymentMethod_Electronic check</th>\n",
       "      <th>PaymentMethod_Mailed check</th>\n",
       "      <th>Churn</th>\n",
       "    </tr>\n",
       "    <tr>\n",
       "      <th>customerID</th>\n",
       "      <th></th>\n",
       "      <th></th>\n",
       "      <th></th>\n",
       "      <th></th>\n",
       "      <th></th>\n",
       "      <th></th>\n",
       "      <th></th>\n",
       "      <th></th>\n",
       "      <th></th>\n",
       "      <th></th>\n",
       "      <th></th>\n",
       "      <th></th>\n",
       "      <th></th>\n",
       "      <th></th>\n",
       "      <th></th>\n",
       "      <th></th>\n",
       "      <th></th>\n",
       "      <th></th>\n",
       "      <th></th>\n",
       "      <th></th>\n",
       "      <th></th>\n",
       "      <th></th>\n",
       "      <th></th>\n",
       "      <th></th>\n",
       "      <th></th>\n",
       "      <th></th>\n",
       "      <th></th>\n",
       "      <th></th>\n",
       "      <th></th>\n",
       "      <th></th>\n",
       "      <th></th>\n",
       "      <th></th>\n",
       "      <th></th>\n",
       "      <th></th>\n",
       "      <th></th>\n",
       "      <th></th>\n",
       "      <th></th>\n",
       "      <th></th>\n",
       "      <th></th>\n",
       "      <th></th>\n",
       "      <th></th>\n",
       "      <th></th>\n",
       "      <th></th>\n",
       "      <th></th>\n",
       "      <th></th>\n",
       "      <th></th>\n",
       "      <th></th>\n",
       "    </tr>\n",
       "  </thead>\n",
       "  <tbody>\n",
       "    <tr>\n",
       "      <th>7590-VHVEG</th>\n",
       "      <td>1</td>\n",
       "      <td>29.85</td>\n",
       "      <td>29.85</td>\n",
       "      <td>1</td>\n",
       "      <td>0</td>\n",
       "      <td>1</td>\n",
       "      <td>0</td>\n",
       "      <td>0</td>\n",
       "      <td>1</td>\n",
       "      <td>1</td>\n",
       "      <td>0</td>\n",
       "      <td>1</td>\n",
       "      <td>0</td>\n",
       "      <td>0</td>\n",
       "      <td>1</td>\n",
       "      <td>0</td>\n",
       "      <td>1</td>\n",
       "      <td>0</td>\n",
       "      <td>0</td>\n",
       "      <td>1</td>\n",
       "      <td>0</td>\n",
       "      <td>0</td>\n",
       "      <td>0</td>\n",
       "      <td>0</td>\n",
       "      <td>1</td>\n",
       "      <td>1</td>\n",
       "      <td>0</td>\n",
       "      <td>0</td>\n",
       "      <td>1</td>\n",
       "      <td>0</td>\n",
       "      <td>0</td>\n",
       "      <td>1</td>\n",
       "      <td>0</td>\n",
       "      <td>0</td>\n",
       "      <td>1</td>\n",
       "      <td>0</td>\n",
       "      <td>0</td>\n",
       "      <td>1</td>\n",
       "      <td>0</td>\n",
       "      <td>0</td>\n",
       "      <td>0</td>\n",
       "      <td>1</td>\n",
       "      <td>0</td>\n",
       "      <td>0</td>\n",
       "      <td>1</td>\n",
       "      <td>0</td>\n",
       "      <td>0</td>\n",
       "    </tr>\n",
       "    <tr>\n",
       "      <th>5575-GNVDE</th>\n",
       "      <td>34</td>\n",
       "      <td>56.95</td>\n",
       "      <td>1889.50</td>\n",
       "      <td>0</td>\n",
       "      <td>1</td>\n",
       "      <td>1</td>\n",
       "      <td>0</td>\n",
       "      <td>1</td>\n",
       "      <td>0</td>\n",
       "      <td>1</td>\n",
       "      <td>0</td>\n",
       "      <td>0</td>\n",
       "      <td>1</td>\n",
       "      <td>1</td>\n",
       "      <td>0</td>\n",
       "      <td>0</td>\n",
       "      <td>1</td>\n",
       "      <td>0</td>\n",
       "      <td>0</td>\n",
       "      <td>0</td>\n",
       "      <td>0</td>\n",
       "      <td>1</td>\n",
       "      <td>1</td>\n",
       "      <td>0</td>\n",
       "      <td>0</td>\n",
       "      <td>0</td>\n",
       "      <td>0</td>\n",
       "      <td>1</td>\n",
       "      <td>1</td>\n",
       "      <td>0</td>\n",
       "      <td>0</td>\n",
       "      <td>1</td>\n",
       "      <td>0</td>\n",
       "      <td>0</td>\n",
       "      <td>1</td>\n",
       "      <td>0</td>\n",
       "      <td>0</td>\n",
       "      <td>0</td>\n",
       "      <td>1</td>\n",
       "      <td>0</td>\n",
       "      <td>1</td>\n",
       "      <td>0</td>\n",
       "      <td>0</td>\n",
       "      <td>0</td>\n",
       "      <td>0</td>\n",
       "      <td>1</td>\n",
       "      <td>0</td>\n",
       "    </tr>\n",
       "    <tr>\n",
       "      <th>3668-QPYBK</th>\n",
       "      <td>2</td>\n",
       "      <td>53.85</td>\n",
       "      <td>108.15</td>\n",
       "      <td>0</td>\n",
       "      <td>1</td>\n",
       "      <td>1</td>\n",
       "      <td>0</td>\n",
       "      <td>1</td>\n",
       "      <td>0</td>\n",
       "      <td>1</td>\n",
       "      <td>0</td>\n",
       "      <td>0</td>\n",
       "      <td>1</td>\n",
       "      <td>1</td>\n",
       "      <td>0</td>\n",
       "      <td>0</td>\n",
       "      <td>1</td>\n",
       "      <td>0</td>\n",
       "      <td>0</td>\n",
       "      <td>0</td>\n",
       "      <td>0</td>\n",
       "      <td>1</td>\n",
       "      <td>0</td>\n",
       "      <td>0</td>\n",
       "      <td>1</td>\n",
       "      <td>1</td>\n",
       "      <td>0</td>\n",
       "      <td>0</td>\n",
       "      <td>1</td>\n",
       "      <td>0</td>\n",
       "      <td>0</td>\n",
       "      <td>1</td>\n",
       "      <td>0</td>\n",
       "      <td>0</td>\n",
       "      <td>1</td>\n",
       "      <td>0</td>\n",
       "      <td>0</td>\n",
       "      <td>1</td>\n",
       "      <td>0</td>\n",
       "      <td>0</td>\n",
       "      <td>0</td>\n",
       "      <td>1</td>\n",
       "      <td>0</td>\n",
       "      <td>0</td>\n",
       "      <td>0</td>\n",
       "      <td>1</td>\n",
       "      <td>1</td>\n",
       "    </tr>\n",
       "    <tr>\n",
       "      <th>7795-CFOCW</th>\n",
       "      <td>45</td>\n",
       "      <td>42.30</td>\n",
       "      <td>1840.75</td>\n",
       "      <td>0</td>\n",
       "      <td>1</td>\n",
       "      <td>1</td>\n",
       "      <td>0</td>\n",
       "      <td>1</td>\n",
       "      <td>0</td>\n",
       "      <td>1</td>\n",
       "      <td>0</td>\n",
       "      <td>1</td>\n",
       "      <td>0</td>\n",
       "      <td>0</td>\n",
       "      <td>1</td>\n",
       "      <td>0</td>\n",
       "      <td>1</td>\n",
       "      <td>0</td>\n",
       "      <td>0</td>\n",
       "      <td>0</td>\n",
       "      <td>0</td>\n",
       "      <td>1</td>\n",
       "      <td>1</td>\n",
       "      <td>0</td>\n",
       "      <td>0</td>\n",
       "      <td>0</td>\n",
       "      <td>0</td>\n",
       "      <td>1</td>\n",
       "      <td>0</td>\n",
       "      <td>0</td>\n",
       "      <td>1</td>\n",
       "      <td>1</td>\n",
       "      <td>0</td>\n",
       "      <td>0</td>\n",
       "      <td>1</td>\n",
       "      <td>0</td>\n",
       "      <td>0</td>\n",
       "      <td>0</td>\n",
       "      <td>1</td>\n",
       "      <td>0</td>\n",
       "      <td>1</td>\n",
       "      <td>0</td>\n",
       "      <td>1</td>\n",
       "      <td>0</td>\n",
       "      <td>0</td>\n",
       "      <td>0</td>\n",
       "      <td>0</td>\n",
       "    </tr>\n",
       "    <tr>\n",
       "      <th>9237-HQITU</th>\n",
       "      <td>2</td>\n",
       "      <td>70.70</td>\n",
       "      <td>151.65</td>\n",
       "      <td>1</td>\n",
       "      <td>0</td>\n",
       "      <td>1</td>\n",
       "      <td>0</td>\n",
       "      <td>1</td>\n",
       "      <td>0</td>\n",
       "      <td>1</td>\n",
       "      <td>0</td>\n",
       "      <td>0</td>\n",
       "      <td>1</td>\n",
       "      <td>1</td>\n",
       "      <td>0</td>\n",
       "      <td>0</td>\n",
       "      <td>0</td>\n",
       "      <td>1</td>\n",
       "      <td>0</td>\n",
       "      <td>1</td>\n",
       "      <td>0</td>\n",
       "      <td>0</td>\n",
       "      <td>1</td>\n",
       "      <td>0</td>\n",
       "      <td>0</td>\n",
       "      <td>1</td>\n",
       "      <td>0</td>\n",
       "      <td>0</td>\n",
       "      <td>1</td>\n",
       "      <td>0</td>\n",
       "      <td>0</td>\n",
       "      <td>1</td>\n",
       "      <td>0</td>\n",
       "      <td>0</td>\n",
       "      <td>1</td>\n",
       "      <td>0</td>\n",
       "      <td>0</td>\n",
       "      <td>1</td>\n",
       "      <td>0</td>\n",
       "      <td>0</td>\n",
       "      <td>0</td>\n",
       "      <td>1</td>\n",
       "      <td>0</td>\n",
       "      <td>0</td>\n",
       "      <td>1</td>\n",
       "      <td>0</td>\n",
       "      <td>1</td>\n",
       "    </tr>\n",
       "  </tbody>\n",
       "</table>\n",
       "</div>"
      ],
      "text/plain": [
       "            tenure  MonthlyCharges  ...  PaymentMethod_Mailed check  Churn\n",
       "customerID                          ...                                   \n",
       "7590-VHVEG       1           29.85  ...                           0      0\n",
       "5575-GNVDE      34           56.95  ...                           1      0\n",
       "3668-QPYBK       2           53.85  ...                           1      1\n",
       "7795-CFOCW      45           42.30  ...                           0      0\n",
       "9237-HQITU       2           70.70  ...                           0      1\n",
       "\n",
       "[5 rows x 47 columns]"
      ]
     },
     "execution_count": 20,
     "metadata": {},
     "output_type": "execute_result"
    }
   ],
   "source": [
    "churn_ohe_df = pd.concat(\n",
    "    [\n",
    "     pd.get_dummies(churn_df.drop(columns=['Churn'])),\n",
    "     churn_df.Churn.eq('Yes').astype(int)\n",
    "    ], axis='columns'\n",
    ")\n",
    "churn_ohe_df.head()"
   ]
  },
  {
   "cell_type": "markdown",
   "metadata": {
    "id": "Ug8SnGs2ZzbB"
   },
   "source": [
    "### correlation\n",
    "I went ahead and already calculated the correlation matrix for this dataset, with the ohe version of the data we can figure out which categories are related.\n",
    "In the next cell I printed out all correlations with the churn feature."
   ]
  },
  {
   "cell_type": "code",
   "execution_count": 21,
   "metadata": {
    "colab": {
     "base_uri": "https://localhost:8080/"
    },
    "executionInfo": {
     "elapsed": 10,
     "status": "ok",
     "timestamp": 1637791470672,
     "user": {
      "displayName": "Lorenz Feyen",
      "photoUrl": "https://lh3.googleusercontent.com/a/default-user=s64",
      "userId": "13474410138118598994"
     },
     "user_tz": -60
    },
    "id": "fjVaqs0KeanC",
    "outputId": "78573f3c-fc83-4368-eca6-c32dd975ccd9"
   },
   "outputs": [
    {
     "data": {
      "text/plain": [
       "tenure                                    -0.352229\n",
       "MonthlyCharges                             0.193356\n",
       "TotalCharges                              -0.198324\n",
       "gender_Female                              0.008612\n",
       "gender_Male                               -0.008612\n",
       "SeniorCitizen_No                          -0.150889\n",
       "SeniorCitizen_Yes                          0.150889\n",
       "Partner_No                                 0.150448\n",
       "Partner_Yes                               -0.150448\n",
       "Dependents_No                              0.164221\n",
       "Dependents_Yes                            -0.164221\n",
       "PhoneService_No                           -0.011942\n",
       "PhoneService_Yes                           0.011942\n",
       "MultipleLines_No                          -0.032569\n",
       "MultipleLines_No phone service            -0.011942\n",
       "MultipleLines_Yes                          0.040102\n",
       "InternetService_DSL                       -0.124214\n",
       "InternetService_Fiber optic                0.308020\n",
       "InternetService_No                        -0.227890\n",
       "OnlineSecurity_No                          0.342637\n",
       "OnlineSecurity_No internet service        -0.227890\n",
       "OnlineSecurity_Yes                        -0.171226\n",
       "OnlineBackup_No                            0.268005\n",
       "OnlineBackup_No internet service          -0.227890\n",
       "OnlineBackup_Yes                          -0.082255\n",
       "DeviceProtection_No                        0.252481\n",
       "DeviceProtection_No internet service      -0.227890\n",
       "DeviceProtection_Yes                      -0.066160\n",
       "TechSupport_No                             0.337281\n",
       "TechSupport_No internet service           -0.227890\n",
       "TechSupport_Yes                           -0.164674\n",
       "StreamingTV_No                             0.128916\n",
       "StreamingTV_No internet service           -0.227890\n",
       "StreamingTV_Yes                            0.063228\n",
       "StreamingMovies_No                         0.130845\n",
       "StreamingMovies_No internet service       -0.227890\n",
       "StreamingMovies_Yes                        0.061382\n",
       "Contract_Month-to-month                    0.405103\n",
       "Contract_One year                         -0.177820\n",
       "Contract_Two year                         -0.302253\n",
       "PaperlessBilling_No                       -0.191825\n",
       "PaperlessBilling_Yes                       0.191825\n",
       "PaymentMethod_Bank transfer (automatic)   -0.117937\n",
       "PaymentMethod_Credit card (automatic)     -0.134302\n",
       "PaymentMethod_Electronic check             0.301919\n",
       "PaymentMethod_Mailed check                -0.091683\n",
       "Churn                                      1.000000\n",
       "Name: Churn, dtype: float64"
      ]
     },
     "execution_count": 21,
     "metadata": {},
     "output_type": "execute_result"
    }
   ],
   "source": [
    "churn_corr_df = churn_ohe_df.corr()\n",
    "churn_corr_df['Churn']"
   ]
  },
  {
   "cell_type": "markdown",
   "metadata": {
    "id": "cgZqExkNjntJ"
   },
   "source": [
    "We can see that complementary categories show an inverse correlation, indicating that we are dealing with a excess of information.\n",
    "Logical as when option A is not chosen, option B is.\n",
    "However in this case, as some categoricals have 3 options I opt to keep all info, although it would be a good idea to remove 1 option for each category, this should become appearent in data exploration."
   ]
  },
  {
   "cell_type": "code",
   "execution_count": 21,
   "metadata": {
    "executionInfo": {
     "elapsed": 1,
     "status": "ok",
     "timestamp": 1637791472987,
     "user": {
      "displayName": "Lorenz Feyen",
      "photoUrl": "https://lh3.googleusercontent.com/a/default-user=s64",
      "userId": "13474410138118598994"
     },
     "user_tz": -60
    },
    "id": "84A4pES8kvkS"
   },
   "outputs": [],
   "source": []
  }
 ],
 "metadata": {
  "colab": {
   "authorship_tag": "ABX9TyPysWPEukQC1oDv1SKD4p5L",
   "collapsed_sections": [],
   "name": "Churn.ipynb",
   "provenance": []
  },
  "kernelspec": {
   "display_name": "Python 3",
   "name": "python3"
  },
  "language_info": {
   "codemirror_mode": {
    "name": "ipython",
    "version": 3
   },
   "file_extension": ".py",
   "mimetype": "text/x-python",
   "name": "python",
   "nbconvert_exporter": "python",
   "pygments_lexer": "ipython3",
   "version": "3.8.10"
  }
 },
 "nbformat": 4,
 "nbformat_minor": 0
}