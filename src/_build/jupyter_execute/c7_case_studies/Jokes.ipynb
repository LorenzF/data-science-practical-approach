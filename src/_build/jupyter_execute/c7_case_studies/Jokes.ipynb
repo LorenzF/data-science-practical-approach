{
 "cells": [
  {
   "cell_type": "markdown",
   "metadata": {
    "id": "zYOXRBlSjnr6"
   },
   "source": [
    "# Case Study: Jokes\n",
    "\n",
    "In this case study we find out if we can make ourselves funnier by analysing jokes from a database.\n",
    "\n",
    "The case study is divided into several parts:\n",
    "- Goals\n",
    "- Parsing\n",
    "- Preparation (cleaning)\n",
    "- Processing\n",
    "- Exploration\n",
    "- Visualization\n",
    "- Conclusion"
   ]
  },
  {
   "cell_type": "markdown",
   "metadata": {
    "id": "sTgfRxUcn8wI"
   },
   "source": [
    "## Goals\n",
    "\n",
    "In this section we define questions that will be our guideline througout the case study\n",
    "\n",
    "- What jokes are funny?\n",
    "- Can we find types of jokes?\n",
    "- Would a joke recommender work?\n",
    "\n",
    "We'll (try to) keep these question in mind when performing the case study."
   ]
  },
  {
   "cell_type": "markdown",
   "metadata": {
    "id": "5wNV0AoGkmr6"
   },
   "source": [
    "## Parsing\n",
    "\n",
    "we start out by importing all necessary libraries"
   ]
  },
  {
   "cell_type": "code",
   "execution_count": 1,
   "metadata": {
    "executionInfo": {
     "elapsed": 429,
     "status": "ok",
     "timestamp": 1637791119909,
     "user": {
      "displayName": "Lorenz Feyen",
      "photoUrl": "https://lh3.googleusercontent.com/a/default-user=s64",
      "userId": "13474410138118598994"
     },
     "user_tz": -60
    },
    "id": "HIV2mWXAhGPE"
   },
   "outputs": [
    {
     "name": "stderr",
     "output_type": "stream",
     "text": [
      "/tmp/ipykernel_13889/4057771804.py:10: DeprecationWarning: `set_matplotlib_formats` is deprecated since IPython 7.23, directly use `matplotlib_inline.backend_inline.set_matplotlib_formats()`\n",
      "  set_matplotlib_formats('svg')\n"
     ]
    }
   ],
   "source": [
    "import os\n",
    "import json\n",
    "import pandas as pd\n",
    "import numpy as np\n",
    "import seaborn as sns\n",
    "import scipy.stats\n",
    "import matplotlib.pyplot as plt\n",
    "from IPython.display import set_matplotlib_formats\n",
    "%matplotlib inline\n",
    "set_matplotlib_formats('svg')"
   ]
  },
  {
   "cell_type": "markdown",
   "metadata": {
    "id": "u4uvdJtak2Y6"
   },
   "source": [
    "in order to download datasets from kaggle, we need an API key to access their API, we'll make that here"
   ]
  },
  {
   "cell_type": "code",
   "execution_count": 2,
   "metadata": {
    "executionInfo": {
     "elapsed": 17,
     "status": "ok",
     "timestamp": 1637791120272,
     "user": {
      "displayName": "Lorenz Feyen",
      "photoUrl": "https://lh3.googleusercontent.com/a/default-user=s64",
      "userId": "13474410138118598994"
     },
     "user_tz": -60
    },
    "id": "ytzJsQ7bexVF"
   },
   "outputs": [
    {
     "ename": "PermissionError",
     "evalue": "[Errno 13] Permission denied: '/root/.kaggle'",
     "output_type": "error",
     "traceback": [
      "\u001b[0;31m---------------------------------------------------------------------------\u001b[0m",
      "\u001b[0;31mPermissionError\u001b[0m                           Traceback (most recent call last)",
      "\u001b[0;32m/tmp/ipykernel_13889/3113012040.py\u001b[0m in \u001b[0;36m<module>\u001b[0;34m\u001b[0m\n\u001b[1;32m      1\u001b[0m \u001b[0;32mif\u001b[0m \u001b[0;32mnot\u001b[0m \u001b[0mos\u001b[0m\u001b[0;34m.\u001b[0m\u001b[0mpath\u001b[0m\u001b[0;34m.\u001b[0m\u001b[0mexists\u001b[0m\u001b[0;34m(\u001b[0m\u001b[0;34m\"/root/.kaggle\"\u001b[0m\u001b[0;34m)\u001b[0m\u001b[0;34m:\u001b[0m\u001b[0;34m\u001b[0m\u001b[0;34m\u001b[0m\u001b[0m\n\u001b[0;32m----> 2\u001b[0;31m     \u001b[0mos\u001b[0m\u001b[0;34m.\u001b[0m\u001b[0mmkdir\u001b[0m\u001b[0;34m(\u001b[0m\u001b[0;34m\"/root/.kaggle\"\u001b[0m\u001b[0;34m)\u001b[0m\u001b[0;34m\u001b[0m\u001b[0;34m\u001b[0m\u001b[0m\n\u001b[0m\u001b[1;32m      3\u001b[0m \u001b[0;34m\u001b[0m\u001b[0m\n\u001b[1;32m      4\u001b[0m \u001b[0;32mwith\u001b[0m \u001b[0mopen\u001b[0m\u001b[0;34m(\u001b[0m\u001b[0;34m'/root/.kaggle/kaggle.json'\u001b[0m\u001b[0;34m,\u001b[0m \u001b[0;34m'w'\u001b[0m\u001b[0;34m)\u001b[0m \u001b[0;32mas\u001b[0m \u001b[0mf\u001b[0m\u001b[0;34m:\u001b[0m\u001b[0;34m\u001b[0m\u001b[0;34m\u001b[0m\u001b[0m\n\u001b[1;32m      5\u001b[0m     json.dump(\n",
      "\u001b[0;31mPermissionError\u001b[0m: [Errno 13] Permission denied: '/root/.kaggle'"
     ]
    }
   ],
   "source": [
    "if not os.path.exists(\"/root/.kaggle\"):\n",
    "    os.mkdir(\"/root/.kaggle\")\n",
    "\n",
    "with open('/root/.kaggle/kaggle.json', 'w') as f:\n",
    "    json.dump(\n",
    "        {\n",
    "            \"username\":\"lorenzf\",\n",
    "            \"key\":\"7a44a9e99b27e796177d793a3d85b8cf\"\n",
    "        }\n",
    "        , f)"
   ]
  },
  {
   "cell_type": "markdown",
   "metadata": {
    "id": "7kb4OqyGk8GO"
   },
   "source": [
    "now we can import kaggle too and download the datasets"
   ]
  },
  {
   "cell_type": "code",
   "execution_count": 3,
   "metadata": {
    "colab": {
     "base_uri": "https://localhost:8080/"
    },
    "executionInfo": {
     "elapsed": 3598,
     "status": "ok",
     "timestamp": 1637791123858,
     "user": {
      "displayName": "Lorenz Feyen",
      "photoUrl": "https://lh3.googleusercontent.com/a/default-user=s64",
      "userId": "13474410138118598994"
     },
     "user_tz": -60
    },
    "id": "Zm2wE6sTlzZE",
    "outputId": "12262841-b234-42b3-92d0-a59b7d347dcd"
   },
   "outputs": [
    {
     "name": "stdout",
     "output_type": "stream",
     "text": [
      "Warning: Your Kaggle API key is readable by other users on this system! To fix this, you can run 'chmod 600 /root/.kaggle/kaggle.json'\n"
     ]
    }
   ],
   "source": [
    "import kaggle\n",
    "kaggle.api.dataset_download_files(dataset='pavellexyr/one-million-reddit-jokes', path='./data', unzip=True)"
   ]
  },
  {
   "cell_type": "markdown",
   "metadata": {
    "id": "kID_eGGRlDG3"
   },
   "source": [
    "the csv files are now in the './data' folder, we can now read them using pandas, here is the list of all csv files in our folder"
   ]
  },
  {
   "cell_type": "code",
   "execution_count": 4,
   "metadata": {
    "colab": {
     "base_uri": "https://localhost:8080/"
    },
    "executionInfo": {
     "elapsed": 35,
     "status": "ok",
     "timestamp": 1637791123861,
     "user": {
      "displayName": "Lorenz Feyen",
      "photoUrl": "https://lh3.googleusercontent.com/a/default-user=s64",
      "userId": "13474410138118598994"
     },
     "user_tz": -60
    },
    "id": "PLdxi_9gnplw",
    "outputId": "c871cc90-ed32-4434-c04a-cbdece2babef"
   },
   "outputs": [
    {
     "data": {
      "text/plain": [
       "['one-million-reddit-jokes.csv']"
      ]
     },
     "execution_count": 4,
     "metadata": {},
     "output_type": "execute_result"
    }
   ],
   "source": [
    "os.listdir('./data')"
   ]
  },
  {
   "cell_type": "markdown",
   "metadata": {
    "id": "1CaxG_i1nveE"
   },
   "source": [
    "With only one file in the dataset, we import it."
   ]
  },
  {
   "cell_type": "code",
   "execution_count": 5,
   "metadata": {
    "colab": {
     "base_uri": "https://localhost:8080/",
     "height": 224
    },
    "executionInfo": {
     "elapsed": 5629,
     "status": "ok",
     "timestamp": 1637791129471,
     "user": {
      "displayName": "Lorenz Feyen",
      "photoUrl": "https://lh3.googleusercontent.com/a/default-user=s64",
      "userId": "13474410138118598994"
     },
     "user_tz": -60
    },
    "id": "VzP0St6NkpB4",
    "outputId": "b65aee38-e354-4d56-d16d-b7ad3b902d87"
   },
   "outputs": [
    {
     "name": "stdout",
     "output_type": "stream",
     "text": [
      "shape: (1000000, 12)\n"
     ]
    },
    {
     "data": {
      "text/html": [
       "<div>\n",
       "<style scoped>\n",
       "    .dataframe tbody tr th:only-of-type {\n",
       "        vertical-align: middle;\n",
       "    }\n",
       "\n",
       "    .dataframe tbody tr th {\n",
       "        vertical-align: top;\n",
       "    }\n",
       "\n",
       "    .dataframe thead th {\n",
       "        text-align: right;\n",
       "    }\n",
       "</style>\n",
       "<table border=\"1\" class=\"dataframe\">\n",
       "  <thead>\n",
       "    <tr style=\"text-align: right;\">\n",
       "      <th></th>\n",
       "      <th>type</th>\n",
       "      <th>id</th>\n",
       "      <th>subreddit.id</th>\n",
       "      <th>subreddit.name</th>\n",
       "      <th>subreddit.nsfw</th>\n",
       "      <th>created_utc</th>\n",
       "      <th>permalink</th>\n",
       "      <th>domain</th>\n",
       "      <th>url</th>\n",
       "      <th>selftext</th>\n",
       "      <th>title</th>\n",
       "      <th>score</th>\n",
       "    </tr>\n",
       "  </thead>\n",
       "  <tbody>\n",
       "    <tr>\n",
       "      <th>0</th>\n",
       "      <td>post</td>\n",
       "      <td>ftbp1i</td>\n",
       "      <td>2qh72</td>\n",
       "      <td>jokes</td>\n",
       "      <td>False</td>\n",
       "      <td>1585785543</td>\n",
       "      <td>https://old.reddit.com/r/Jokes/comments/ftbp1i...</td>\n",
       "      <td>self.jokes</td>\n",
       "      <td>NaN</td>\n",
       "      <td>My corona is covered with foreskin so it is no...</td>\n",
       "      <td>I am soooo glad I'm not circumcised!</td>\n",
       "      <td>2</td>\n",
       "    </tr>\n",
       "    <tr>\n",
       "      <th>1</th>\n",
       "      <td>post</td>\n",
       "      <td>ftboup</td>\n",
       "      <td>2qh72</td>\n",
       "      <td>jokes</td>\n",
       "      <td>False</td>\n",
       "      <td>1585785522</td>\n",
       "      <td>https://old.reddit.com/r/Jokes/comments/ftboup...</td>\n",
       "      <td>self.jokes</td>\n",
       "      <td>NaN</td>\n",
       "      <td>It's called Google Sheets.</td>\n",
       "      <td>Did you know Google now has a platform for rec...</td>\n",
       "      <td>9</td>\n",
       "    </tr>\n",
       "    <tr>\n",
       "      <th>2</th>\n",
       "      <td>post</td>\n",
       "      <td>ftbopj</td>\n",
       "      <td>2qh72</td>\n",
       "      <td>jokes</td>\n",
       "      <td>False</td>\n",
       "      <td>1585785508</td>\n",
       "      <td>https://old.reddit.com/r/Jokes/comments/ftbopj...</td>\n",
       "      <td>self.jokes</td>\n",
       "      <td>NaN</td>\n",
       "      <td>The vacuum doesn't snore after sex.\\n\\n&amp;amp;#x...</td>\n",
       "      <td>What is the difference between my wife and my ...</td>\n",
       "      <td>15</td>\n",
       "    </tr>\n",
       "    <tr>\n",
       "      <th>3</th>\n",
       "      <td>post</td>\n",
       "      <td>ftbnxh</td>\n",
       "      <td>2qh72</td>\n",
       "      <td>jokes</td>\n",
       "      <td>False</td>\n",
       "      <td>1585785428</td>\n",
       "      <td>https://old.reddit.com/r/Jokes/comments/ftbnxh...</td>\n",
       "      <td>self.jokes</td>\n",
       "      <td>NaN</td>\n",
       "      <td>[removed]</td>\n",
       "      <td>My last joke for now.</td>\n",
       "      <td>9</td>\n",
       "    </tr>\n",
       "    <tr>\n",
       "      <th>4</th>\n",
       "      <td>post</td>\n",
       "      <td>ftbjpg</td>\n",
       "      <td>2qh72</td>\n",
       "      <td>jokes</td>\n",
       "      <td>False</td>\n",
       "      <td>1585785009</td>\n",
       "      <td>https://old.reddit.com/r/Jokes/comments/ftbjpg...</td>\n",
       "      <td>self.jokes</td>\n",
       "      <td>NaN</td>\n",
       "      <td>[removed]</td>\n",
       "      <td>The Nintendo 64 turns 18 this week...</td>\n",
       "      <td>134</td>\n",
       "    </tr>\n",
       "  </tbody>\n",
       "</table>\n",
       "</div>"
      ],
      "text/plain": [
       "   type      id  ...                                              title score\n",
       "0  post  ftbp1i  ...               I am soooo glad I'm not circumcised!     2\n",
       "1  post  ftboup  ...  Did you know Google now has a platform for rec...     9\n",
       "2  post  ftbopj  ...  What is the difference between my wife and my ...    15\n",
       "3  post  ftbnxh  ...                              My last joke for now.     9\n",
       "4  post  ftbjpg  ...              The Nintendo 64 turns 18 this week...   134\n",
       "\n",
       "[5 rows x 12 columns]"
      ]
     },
     "execution_count": 5,
     "metadata": {},
     "output_type": "execute_result"
    }
   ],
   "source": [
    "reddit_jokes_df = pd.read_csv('./data/one-million-reddit-jokes.csv')\n",
    "print('shape: ' + str(reddit_jokes_df.shape))\n",
    "reddit_jokes_df.head()"
   ]
  },
  {
   "cell_type": "markdown",
   "metadata": {
    "id": "cYIaXYY4ngcY"
   },
   "source": [
    "Already we can see a lot of unnecessary information, so cleanup is important. It seems the joke is divided in a title and selftext where often the punchline is present."
   ]
  },
  {
   "cell_type": "markdown",
   "metadata": {
    "id": "GVdPaj06lqNi"
   },
   "source": [
    "## Preparation\n",
    "\n",
    "here we perform tasks to prepare the data in a more pleasing format."
   ]
  },
  {
   "cell_type": "markdown",
   "metadata": {
    "id": "1Dnr7VhDrlx7"
   },
   "source": [
    "### Cleanup\n",
    "\n",
    "First thing I would like to do see which columns are useless, by printing the amount of unique values"
   ]
  },
  {
   "cell_type": "code",
   "execution_count": 6,
   "metadata": {
    "colab": {
     "base_uri": "https://localhost:8080/"
    },
    "executionInfo": {
     "elapsed": 2428,
     "status": "ok",
     "timestamp": 1637791131890,
     "user": {
      "displayName": "Lorenz Feyen",
      "photoUrl": "https://lh3.googleusercontent.com/a/default-user=s64",
      "userId": "13474410138118598994"
     },
     "user_tz": -60
    },
    "id": "FQTS4kL2pXTy",
    "outputId": "e63a5ba1-db5d-4e00-aa7d-f01b47feaa83"
   },
   "outputs": [
    {
     "name": "stdout",
     "output_type": "stream",
     "text": [
      "type\n",
      "1\n",
      "\n",
      "id\n",
      "1000000\n",
      "\n",
      "subreddit.id\n",
      "1\n",
      "\n",
      "subreddit.name\n",
      "1\n",
      "\n",
      "subreddit.nsfw\n",
      "1\n",
      "\n",
      "created_utc\n",
      "996373\n",
      "\n",
      "permalink\n",
      "1000000\n",
      "\n",
      "domain\n",
      "364\n",
      "\n",
      "url\n",
      "4410\n",
      "\n",
      "selftext\n",
      "520567\n",
      "\n",
      "title\n",
      "861254\n",
      "\n",
      "score\n",
      "8913\n",
      "\n"
     ]
    }
   ],
   "source": [
    "for col in reddit_jokes_df.columns:\n",
    "  print(col)\n",
    "  print(reddit_jokes_df[col].nunique())\n",
    "  print()"
   ]
  },
  {
   "cell_type": "markdown",
   "metadata": {
    "id": "waNIV--93M45"
   },
   "source": [
    "a few columns only have 1 value, also the links are not important for our case, so we drop them too."
   ]
  },
  {
   "cell_type": "code",
   "execution_count": 7,
   "metadata": {
    "colab": {
     "base_uri": "https://localhost:8080/",
     "height": 206
    },
    "executionInfo": {
     "elapsed": 40,
     "status": "ok",
     "timestamp": 1637791131891,
     "user": {
      "displayName": "Lorenz Feyen",
      "photoUrl": "https://lh3.googleusercontent.com/a/default-user=s64",
      "userId": "13474410138118598994"
     },
     "user_tz": -60
    },
    "id": "pX8PCqBzrn8U",
    "outputId": "9ae7dbbf-363b-4e2c-855b-b0afb0e6e189"
   },
   "outputs": [
    {
     "data": {
      "text/html": [
       "<div>\n",
       "<style scoped>\n",
       "    .dataframe tbody tr th:only-of-type {\n",
       "        vertical-align: middle;\n",
       "    }\n",
       "\n",
       "    .dataframe tbody tr th {\n",
       "        vertical-align: top;\n",
       "    }\n",
       "\n",
       "    .dataframe thead th {\n",
       "        text-align: right;\n",
       "    }\n",
       "</style>\n",
       "<table border=\"1\" class=\"dataframe\">\n",
       "  <thead>\n",
       "    <tr style=\"text-align: right;\">\n",
       "      <th></th>\n",
       "      <th>created_utc</th>\n",
       "      <th>domain</th>\n",
       "      <th>selftext</th>\n",
       "      <th>title</th>\n",
       "      <th>score</th>\n",
       "    </tr>\n",
       "  </thead>\n",
       "  <tbody>\n",
       "    <tr>\n",
       "      <th>0</th>\n",
       "      <td>1585785543</td>\n",
       "      <td>self.jokes</td>\n",
       "      <td>My corona is covered with foreskin so it is no...</td>\n",
       "      <td>I am soooo glad I'm not circumcised!</td>\n",
       "      <td>2</td>\n",
       "    </tr>\n",
       "    <tr>\n",
       "      <th>1</th>\n",
       "      <td>1585785522</td>\n",
       "      <td>self.jokes</td>\n",
       "      <td>It's called Google Sheets.</td>\n",
       "      <td>Did you know Google now has a platform for rec...</td>\n",
       "      <td>9</td>\n",
       "    </tr>\n",
       "    <tr>\n",
       "      <th>2</th>\n",
       "      <td>1585785508</td>\n",
       "      <td>self.jokes</td>\n",
       "      <td>The vacuum doesn't snore after sex.\\n\\n&amp;amp;#x...</td>\n",
       "      <td>What is the difference between my wife and my ...</td>\n",
       "      <td>15</td>\n",
       "    </tr>\n",
       "    <tr>\n",
       "      <th>3</th>\n",
       "      <td>1585785428</td>\n",
       "      <td>self.jokes</td>\n",
       "      <td>[removed]</td>\n",
       "      <td>My last joke for now.</td>\n",
       "      <td>9</td>\n",
       "    </tr>\n",
       "    <tr>\n",
       "      <th>4</th>\n",
       "      <td>1585785009</td>\n",
       "      <td>self.jokes</td>\n",
       "      <td>[removed]</td>\n",
       "      <td>The Nintendo 64 turns 18 this week...</td>\n",
       "      <td>134</td>\n",
       "    </tr>\n",
       "  </tbody>\n",
       "</table>\n",
       "</div>"
      ],
      "text/plain": [
       "   created_utc  ... score\n",
       "0   1585785543  ...     2\n",
       "1   1585785522  ...     9\n",
       "2   1585785508  ...    15\n",
       "3   1585785428  ...     9\n",
       "4   1585785009  ...   134\n",
       "\n",
       "[5 rows x 5 columns]"
      ]
     },
     "execution_count": 7,
     "metadata": {},
     "output_type": "execute_result"
    }
   ],
   "source": [
    "reddit_jokes_df = reddit_jokes_df.drop(columns=['type', 'id', 'subreddit.id', 'subreddit.name', 'subreddit.nsfw', 'permalink', 'url'])\n",
    "reddit_jokes_df.head()"
   ]
  },
  {
   "cell_type": "markdown",
   "metadata": {
    "id": "N0YRO5KU3Wjn"
   },
   "source": [
    "much cleaner already!"
   ]
  },
  {
   "cell_type": "markdown",
   "metadata": {
    "id": "9Aye8STpr_zw"
   },
   "source": [
    "### Data Types\n",
    "\n",
    "Before we do anything with our data, it is good to see if our data types are in order"
   ]
  },
  {
   "cell_type": "code",
   "execution_count": 8,
   "metadata": {
    "colab": {
     "base_uri": "https://localhost:8080/"
    },
    "executionInfo": {
     "elapsed": 32,
     "status": "ok",
     "timestamp": 1637791131892,
     "user": {
      "displayName": "Lorenz Feyen",
      "photoUrl": "https://lh3.googleusercontent.com/a/default-user=s64",
      "userId": "13474410138118598994"
     },
     "user_tz": -60
    },
    "id": "zQekH_ZJsgio",
    "outputId": "462bf3e6-2392-4ccf-af5d-8b069448b480"
   },
   "outputs": [
    {
     "name": "stdout",
     "output_type": "stream",
     "text": [
      "<class 'pandas.core.frame.DataFrame'>\n",
      "RangeIndex: 1000000 entries, 0 to 999999\n",
      "Data columns (total 5 columns):\n",
      " #   Column       Non-Null Count    Dtype \n",
      "---  ------       --------------    ----- \n",
      " 0   created_utc  1000000 non-null  int64 \n",
      " 1   domain       1000000 non-null  object\n",
      " 2   selftext     995525 non-null   object\n",
      " 3   title        1000000 non-null  object\n",
      " 4   score        1000000 non-null  int64 \n",
      "dtypes: int64(2), object(3)\n",
      "memory usage: 38.1+ MB\n"
     ]
    }
   ],
   "source": [
    "reddit_jokes_df.info()"
   ]
  },
  {
   "cell_type": "markdown",
   "metadata": {
    "id": "1CDeUVIC3cQy"
   },
   "source": [
    "the created_utc feature is encoded in an unix timestamp, it would be more usefull to transform it to a timestamp"
   ]
  },
  {
   "cell_type": "code",
   "execution_count": 9,
   "metadata": {
    "colab": {
     "base_uri": "https://localhost:8080/",
     "height": 206
    },
    "executionInfo": {
     "elapsed": 19,
     "status": "ok",
     "timestamp": 1637791131893,
     "user": {
      "displayName": "Lorenz Feyen",
      "photoUrl": "https://lh3.googleusercontent.com/a/default-user=s64",
      "userId": "13474410138118598994"
     },
     "user_tz": -60
    },
    "id": "ePqQQ3CSs9S-",
    "outputId": "20016f90-824d-4f55-9826-724d7972edae"
   },
   "outputs": [
    {
     "data": {
      "text/html": [
       "<div>\n",
       "<style scoped>\n",
       "    .dataframe tbody tr th:only-of-type {\n",
       "        vertical-align: middle;\n",
       "    }\n",
       "\n",
       "    .dataframe tbody tr th {\n",
       "        vertical-align: top;\n",
       "    }\n",
       "\n",
       "    .dataframe thead th {\n",
       "        text-align: right;\n",
       "    }\n",
       "</style>\n",
       "<table border=\"1\" class=\"dataframe\">\n",
       "  <thead>\n",
       "    <tr style=\"text-align: right;\">\n",
       "      <th></th>\n",
       "      <th>domain</th>\n",
       "      <th>selftext</th>\n",
       "      <th>title</th>\n",
       "      <th>score</th>\n",
       "      <th>created</th>\n",
       "    </tr>\n",
       "  </thead>\n",
       "  <tbody>\n",
       "    <tr>\n",
       "      <th>0</th>\n",
       "      <td>self.jokes</td>\n",
       "      <td>My corona is covered with foreskin so it is no...</td>\n",
       "      <td>I am soooo glad I'm not circumcised!</td>\n",
       "      <td>2</td>\n",
       "      <td>2020-04-01 23:59:03</td>\n",
       "    </tr>\n",
       "    <tr>\n",
       "      <th>1</th>\n",
       "      <td>self.jokes</td>\n",
       "      <td>It's called Google Sheets.</td>\n",
       "      <td>Did you know Google now has a platform for rec...</td>\n",
       "      <td>9</td>\n",
       "      <td>2020-04-01 23:58:42</td>\n",
       "    </tr>\n",
       "    <tr>\n",
       "      <th>2</th>\n",
       "      <td>self.jokes</td>\n",
       "      <td>The vacuum doesn't snore after sex.\\n\\n&amp;amp;#x...</td>\n",
       "      <td>What is the difference between my wife and my ...</td>\n",
       "      <td>15</td>\n",
       "      <td>2020-04-01 23:58:28</td>\n",
       "    </tr>\n",
       "    <tr>\n",
       "      <th>3</th>\n",
       "      <td>self.jokes</td>\n",
       "      <td>[removed]</td>\n",
       "      <td>My last joke for now.</td>\n",
       "      <td>9</td>\n",
       "      <td>2020-04-01 23:57:08</td>\n",
       "    </tr>\n",
       "    <tr>\n",
       "      <th>4</th>\n",
       "      <td>self.jokes</td>\n",
       "      <td>[removed]</td>\n",
       "      <td>The Nintendo 64 turns 18 this week...</td>\n",
       "      <td>134</td>\n",
       "      <td>2020-04-01 23:50:09</td>\n",
       "    </tr>\n",
       "  </tbody>\n",
       "</table>\n",
       "</div>"
      ],
      "text/plain": [
       "       domain  ...             created\n",
       "0  self.jokes  ... 2020-04-01 23:59:03\n",
       "1  self.jokes  ... 2020-04-01 23:58:42\n",
       "2  self.jokes  ... 2020-04-01 23:58:28\n",
       "3  self.jokes  ... 2020-04-01 23:57:08\n",
       "4  self.jokes  ... 2020-04-01 23:50:09\n",
       "\n",
       "[5 rows x 5 columns]"
      ]
     },
     "execution_count": 9,
     "metadata": {},
     "output_type": "execute_result"
    }
   ],
   "source": [
    "reddit_jokes_df['created'] = pd.to_datetime(reddit_jokes_df['created_utc'], unit='s')\n",
    "del reddit_jokes_df['created_utc']\n",
    "reddit_jokes_df.head()"
   ]
  },
  {
   "cell_type": "markdown",
   "metadata": {
    "id": "xIu5quuIl4sA"
   },
   "source": [
    "### Missing values\n",
    "\n",
    "for each dataframe we apply a few checks in order to see the quality of data"
   ]
  },
  {
   "cell_type": "code",
   "execution_count": 10,
   "metadata": {
    "colab": {
     "base_uri": "https://localhost:8080/"
    },
    "executionInfo": {
     "elapsed": 439,
     "status": "ok",
     "timestamp": 1637791132318,
     "user": {
      "displayName": "Lorenz Feyen",
      "photoUrl": "https://lh3.googleusercontent.com/a/default-user=s64",
      "userId": "13474410138118598994"
     },
     "user_tz": -60
    },
    "id": "VcvGAWNolono",
    "outputId": "3f481b84-80c2-4909-ebee-7bc494b00ed2"
   },
   "outputs": [
    {
     "name": "stdout",
     "output_type": "stream",
     "text": [
      "domain      0.0000\n",
      "selftext    0.4475\n",
      "title       0.0000\n",
      "score       0.0000\n",
      "created     0.0000\n",
      "dtype: float64\n"
     ]
    }
   ],
   "source": [
    "print(100*reddit_jokes_df.isna().sum()/reddit_jokes_df.shape[0])"
   ]
  },
  {
   "cell_type": "markdown",
   "metadata": {
    "id": "XpjfcYxg3tDd"
   },
   "source": [
    "it looks like some jokes are missing the selftext field, we show a few here."
   ]
  },
  {
   "cell_type": "code",
   "execution_count": 11,
   "metadata": {
    "colab": {
     "base_uri": "https://localhost:8080/",
     "height": 424
    },
    "executionInfo": {
     "elapsed": 19,
     "status": "ok",
     "timestamp": 1637791132319,
     "user": {
      "displayName": "Lorenz Feyen",
      "photoUrl": "https://lh3.googleusercontent.com/a/default-user=s64",
      "userId": "13474410138118598994"
     },
     "user_tz": -60
    },
    "id": "JwBOmWHytnjz",
    "outputId": "24041b12-7700-467e-d8d6-d0c7b4de12ac"
   },
   "outputs": [
    {
     "data": {
      "text/html": [
       "<div>\n",
       "<style scoped>\n",
       "    .dataframe tbody tr th:only-of-type {\n",
       "        vertical-align: middle;\n",
       "    }\n",
       "\n",
       "    .dataframe tbody tr th {\n",
       "        vertical-align: top;\n",
       "    }\n",
       "\n",
       "    .dataframe thead th {\n",
       "        text-align: right;\n",
       "    }\n",
       "</style>\n",
       "<table border=\"1\" class=\"dataframe\">\n",
       "  <thead>\n",
       "    <tr style=\"text-align: right;\">\n",
       "      <th></th>\n",
       "      <th>domain</th>\n",
       "      <th>selftext</th>\n",
       "      <th>title</th>\n",
       "      <th>score</th>\n",
       "      <th>created</th>\n",
       "    </tr>\n",
       "  </thead>\n",
       "  <tbody>\n",
       "    <tr>\n",
       "      <th>625315</th>\n",
       "      <td>imgur.com</td>\n",
       "      <td>NaN</td>\n",
       "      <td>The funniest /r/jokes has ever been</td>\n",
       "      <td>67950</td>\n",
       "      <td>2017-05-20 15:41:28</td>\n",
       "    </tr>\n",
       "    <tr>\n",
       "      <th>971313</th>\n",
       "      <td>self.jokes</td>\n",
       "      <td>NaN</td>\n",
       "      <td>Ellen Pao's career</td>\n",
       "      <td>36918</td>\n",
       "      <td>2015-07-03 15:41:05</td>\n",
       "    </tr>\n",
       "    <tr>\n",
       "      <th>942471</th>\n",
       "      <td>self.jokes</td>\n",
       "      <td>NaN</td>\n",
       "      <td>If a woman sleeps with a bunch of guys, she's ...</td>\n",
       "      <td>17486</td>\n",
       "      <td>2015-10-05 16:09:09</td>\n",
       "    </tr>\n",
       "    <tr>\n",
       "      <th>926550</th>\n",
       "      <td>self.jokes</td>\n",
       "      <td>NaN</td>\n",
       "      <td>One in every 2 and a half men is HIV positive.</td>\n",
       "      <td>17456</td>\n",
       "      <td>2015-11-18 04:29:54</td>\n",
       "    </tr>\n",
       "    <tr>\n",
       "      <th>919422</th>\n",
       "      <td>self.jokes</td>\n",
       "      <td>NaN</td>\n",
       "      <td>Accordion to a recent survey, replacing words ...</td>\n",
       "      <td>12580</td>\n",
       "      <td>2015-12-07 18:55:27</td>\n",
       "    </tr>\n",
       "    <tr>\n",
       "      <th>...</th>\n",
       "      <td>...</td>\n",
       "      <td>...</td>\n",
       "      <td>...</td>\n",
       "      <td>...</td>\n",
       "      <td>...</td>\n",
       "    </tr>\n",
       "    <tr>\n",
       "      <th>929807</th>\n",
       "      <td>self.jokes</td>\n",
       "      <td>NaN</td>\n",
       "      <td>9gag</td>\n",
       "      <td>0</td>\n",
       "      <td>2015-11-09 03:33:22</td>\n",
       "    </tr>\n",
       "    <tr>\n",
       "      <th>959394</th>\n",
       "      <td>self.jokes</td>\n",
       "      <td>NaN</td>\n",
       "      <td>Like flaming globes of Sigmund</td>\n",
       "      <td>0</td>\n",
       "      <td>2015-08-14 13:40:21</td>\n",
       "    </tr>\n",
       "    <tr>\n",
       "      <th>929809</th>\n",
       "      <td>self.jokes</td>\n",
       "      <td>NaN</td>\n",
       "      <td>On a scale of 10 to 10, how good am I at givin...</td>\n",
       "      <td>0</td>\n",
       "      <td>2015-11-09 03:26:55</td>\n",
       "    </tr>\n",
       "    <tr>\n",
       "      <th>959338</th>\n",
       "      <td>self.jokes</td>\n",
       "      <td>NaN</td>\n",
       "      <td>Who is Julius Caesar's favorite singer? Mark A...</td>\n",
       "      <td>0</td>\n",
       "      <td>2015-08-14 17:03:55</td>\n",
       "    </tr>\n",
       "    <tr>\n",
       "      <th>999984</th>\n",
       "      <td>self.jokes</td>\n",
       "      <td>NaN</td>\n",
       "      <td>One direction should be renamed 0.8 Direction</td>\n",
       "      <td>0</td>\n",
       "      <td>2015-03-26 19:57:54</td>\n",
       "    </tr>\n",
       "  </tbody>\n",
       "</table>\n",
       "<p>4475 rows × 5 columns</p>\n",
       "</div>"
      ],
      "text/plain": [
       "            domain selftext  ...  score             created\n",
       "625315   imgur.com      NaN  ...  67950 2017-05-20 15:41:28\n",
       "971313  self.jokes      NaN  ...  36918 2015-07-03 15:41:05\n",
       "942471  self.jokes      NaN  ...  17486 2015-10-05 16:09:09\n",
       "926550  self.jokes      NaN  ...  17456 2015-11-18 04:29:54\n",
       "919422  self.jokes      NaN  ...  12580 2015-12-07 18:55:27\n",
       "...            ...      ...  ...    ...                 ...\n",
       "929807  self.jokes      NaN  ...      0 2015-11-09 03:33:22\n",
       "959394  self.jokes      NaN  ...      0 2015-08-14 13:40:21\n",
       "929809  self.jokes      NaN  ...      0 2015-11-09 03:26:55\n",
       "959338  self.jokes      NaN  ...      0 2015-08-14 17:03:55\n",
       "999984  self.jokes      NaN  ...      0 2015-03-26 19:57:54\n",
       "\n",
       "[4475 rows x 5 columns]"
      ]
     },
     "execution_count": 11,
     "metadata": {},
     "output_type": "execute_result"
    }
   ],
   "source": [
    "reddit_jokes_df[reddit_jokes_df.selftext.isna()].sort_values(by='score', ascending=False)"
   ]
  },
  {
   "cell_type": "markdown",
   "metadata": {
    "id": "47VRXTbq3zWm"
   },
   "source": [
    "as far as I can see here the jokes are so short they are only one sentence, so we can fill in the missing values with an empty text."
   ]
  },
  {
   "cell_type": "code",
   "execution_count": 12,
   "metadata": {
    "executionInfo": {
     "elapsed": 18,
     "status": "ok",
     "timestamp": 1637791132322,
     "user": {
      "displayName": "Lorenz Feyen",
      "photoUrl": "https://lh3.googleusercontent.com/a/default-user=s64",
      "userId": "13474410138118598994"
     },
     "user_tz": -60
    },
    "id": "-rUbvCGi4968"
   },
   "outputs": [],
   "source": [
    "reddit_jokes_df.selftext = reddit_jokes_df.selftext.fillna('')"
   ]
  },
  {
   "cell_type": "markdown",
   "metadata": {
    "id": "hfTnsvVA39QR"
   },
   "source": [
    "This does not mean we are done, earlier I noticed the words [removed] and [deleted] in the selftext feature, indicating the joke was removed or deleted, these are missing values!"
   ]
  },
  {
   "cell_type": "code",
   "execution_count": 13,
   "metadata": {
    "colab": {
     "base_uri": "https://localhost:8080/",
     "height": 206
    },
    "executionInfo": {
     "elapsed": 367,
     "status": "ok",
     "timestamp": 1637791132675,
     "user": {
      "displayName": "Lorenz Feyen",
      "photoUrl": "https://lh3.googleusercontent.com/a/default-user=s64",
      "userId": "13474410138118598994"
     },
     "user_tz": -60
    },
    "id": "sbJk10NrxI6L",
    "outputId": "554febd8-2d6a-4dd9-ca48-1693723b7af4"
   },
   "outputs": [
    {
     "data": {
      "text/html": [
       "<div>\n",
       "<style scoped>\n",
       "    .dataframe tbody tr th:only-of-type {\n",
       "        vertical-align: middle;\n",
       "    }\n",
       "\n",
       "    .dataframe tbody tr th {\n",
       "        vertical-align: top;\n",
       "    }\n",
       "\n",
       "    .dataframe thead th {\n",
       "        text-align: right;\n",
       "    }\n",
       "</style>\n",
       "<table border=\"1\" class=\"dataframe\">\n",
       "  <thead>\n",
       "    <tr style=\"text-align: right;\">\n",
       "      <th></th>\n",
       "      <th>domain</th>\n",
       "      <th>selftext</th>\n",
       "      <th>title</th>\n",
       "      <th>score</th>\n",
       "      <th>created</th>\n",
       "    </tr>\n",
       "  </thead>\n",
       "  <tbody>\n",
       "    <tr>\n",
       "      <th>3</th>\n",
       "      <td>self.jokes</td>\n",
       "      <td>[removed]</td>\n",
       "      <td>My last joke for now.</td>\n",
       "      <td>9</td>\n",
       "      <td>2020-04-01 23:57:08</td>\n",
       "    </tr>\n",
       "    <tr>\n",
       "      <th>4</th>\n",
       "      <td>self.jokes</td>\n",
       "      <td>[removed]</td>\n",
       "      <td>The Nintendo 64 turns 18 this week...</td>\n",
       "      <td>134</td>\n",
       "      <td>2020-04-01 23:50:09</td>\n",
       "    </tr>\n",
       "    <tr>\n",
       "      <th>5</th>\n",
       "      <td>self.jokes</td>\n",
       "      <td>[removed]</td>\n",
       "      <td>Sex with teacher.</td>\n",
       "      <td>1</td>\n",
       "      <td>2020-04-01 23:49:55</td>\n",
       "    </tr>\n",
       "    <tr>\n",
       "      <th>6</th>\n",
       "      <td>self.jokes</td>\n",
       "      <td>[removed]</td>\n",
       "      <td>Another long one.</td>\n",
       "      <td>8</td>\n",
       "      <td>2020-04-01 23:44:11</td>\n",
       "    </tr>\n",
       "    <tr>\n",
       "      <th>8</th>\n",
       "      <td>self.jokes</td>\n",
       "      <td>[removed]</td>\n",
       "      <td>A Priest takes a walk down to the docks one day</td>\n",
       "      <td>88</td>\n",
       "      <td>2020-04-01 23:39:27</td>\n",
       "    </tr>\n",
       "  </tbody>\n",
       "</table>\n",
       "</div>"
      ],
      "text/plain": [
       "       domain   selftext  ... score             created\n",
       "3  self.jokes  [removed]  ...     9 2020-04-01 23:57:08\n",
       "4  self.jokes  [removed]  ...   134 2020-04-01 23:50:09\n",
       "5  self.jokes  [removed]  ...     1 2020-04-01 23:49:55\n",
       "6  self.jokes  [removed]  ...     8 2020-04-01 23:44:11\n",
       "8  self.jokes  [removed]  ...    88 2020-04-01 23:39:27\n",
       "\n",
       "[5 rows x 5 columns]"
      ]
     },
     "execution_count": 13,
     "metadata": {},
     "output_type": "execute_result"
    }
   ],
   "source": [
    "reddit_jokes_df[reddit_jokes_df.selftext.isin(['[removed]', '[deleted]'])].head()"
   ]
  },
  {
   "cell_type": "markdown",
   "metadata": {
    "id": "nyyEJ16_4KAG"
   },
   "source": [
    "I am going to remove these jokes as they are not complete anymore, it might have been that these jokes have been removed as they have already been posted."
   ]
  },
  {
   "cell_type": "code",
   "execution_count": 14,
   "metadata": {
    "colab": {
     "base_uri": "https://localhost:8080/"
    },
    "executionInfo": {
     "elapsed": 9,
     "status": "ok",
     "timestamp": 1637791132676,
     "user": {
      "displayName": "Lorenz Feyen",
      "photoUrl": "https://lh3.googleusercontent.com/a/default-user=s64",
      "userId": "13474410138118598994"
     },
     "user_tz": -60
    },
    "id": "Q_lZfEIJxI9V",
    "outputId": "eec6bfe4-9c2a-4c1e-f359-add7dec6ffe8"
   },
   "outputs": [
    {
     "data": {
      "text/plain": [
       "(578637, 5)"
      ]
     },
     "execution_count": 14,
     "metadata": {},
     "output_type": "execute_result"
    }
   ],
   "source": [
    "reddit_jokes_df = reddit_jokes_df[~reddit_jokes_df.selftext.isin(['[removed]', '[deleted]'])]\n",
    "reddit_jokes_df.shape"
   ]
  },
  {
   "cell_type": "markdown",
   "metadata": {
    "id": "6OIAs-wJvThP"
   },
   "source": [
    "seems we have kept about 578k jokes, not bad!"
   ]
  },
  {
   "cell_type": "markdown",
   "metadata": {
    "id": "o_WUiGdgr3lV"
   },
   "source": [
    "### Duplicates\n",
    "\n",
    "As formatting of text might be different i'm not expecting a lot of duplicates, let's see what we can find."
   ]
  },
  {
   "cell_type": "code",
   "execution_count": 15,
   "metadata": {
    "colab": {
     "base_uri": "https://localhost:8080/",
     "height": 424
    },
    "executionInfo": {
     "elapsed": 1591,
     "status": "ok",
     "timestamp": 1637791134262,
     "user": {
      "displayName": "Lorenz Feyen",
      "photoUrl": "https://lh3.googleusercontent.com/a/default-user=s64",
      "userId": "13474410138118598994"
     },
     "user_tz": -60
    },
    "id": "9W2yyhZAmpY5",
    "outputId": "2ebe79c1-b2fd-48d2-ab8b-cf7d3c5da113"
   },
   "outputs": [
    {
     "data": {
      "text/html": [
       "<div>\n",
       "<style scoped>\n",
       "    .dataframe tbody tr th:only-of-type {\n",
       "        vertical-align: middle;\n",
       "    }\n",
       "\n",
       "    .dataframe tbody tr th {\n",
       "        vertical-align: top;\n",
       "    }\n",
       "\n",
       "    .dataframe thead th {\n",
       "        text-align: right;\n",
       "    }\n",
       "</style>\n",
       "<table border=\"1\" class=\"dataframe\">\n",
       "  <thead>\n",
       "    <tr style=\"text-align: right;\">\n",
       "      <th></th>\n",
       "      <th>domain</th>\n",
       "      <th>selftext</th>\n",
       "      <th>title</th>\n",
       "      <th>score</th>\n",
       "      <th>created</th>\n",
       "    </tr>\n",
       "  </thead>\n",
       "  <tbody>\n",
       "    <tr>\n",
       "      <th>211</th>\n",
       "      <td>self.jokes</td>\n",
       "      <td>An academia nut..</td>\n",
       "      <td>What do you call a nut that gets good grades?</td>\n",
       "      <td>5</td>\n",
       "      <td>2020-04-01 18:54:06</td>\n",
       "    </tr>\n",
       "    <tr>\n",
       "      <th>4452</th>\n",
       "      <td>self.jokes</td>\n",
       "      <td>Repossssssssst</td>\n",
       "      <td>If a snake who is on reddit has to comment a r...</td>\n",
       "      <td>0</td>\n",
       "      <td>2020-03-27 09:16:20</td>\n",
       "    </tr>\n",
       "    <tr>\n",
       "      <th>6349</th>\n",
       "      <td>self.jokes</td>\n",
       "      <td>“To Japan,” replies her husband. \\n\\n“Oh my! T...</td>\n",
       "      <td>A woman asks her husband where he’s taking the...</td>\n",
       "      <td>4</td>\n",
       "      <td>2020-03-25 00:48:09</td>\n",
       "    </tr>\n",
       "    <tr>\n",
       "      <th>6881</th>\n",
       "      <td>self.jokes</td>\n",
       "      <td>Fortunately, I belong to the 1% of intelligent...</td>\n",
       "      <td>99.9% of people are idiots.</td>\n",
       "      <td>45135</td>\n",
       "      <td>2020-03-24 09:40:14</td>\n",
       "    </tr>\n",
       "    <tr>\n",
       "      <th>8299</th>\n",
       "      <td>self.jokes</td>\n",
       "      <td>You tell it a shitty joke.</td>\n",
       "      <td>How do you get a toilet to laugh?</td>\n",
       "      <td>0</td>\n",
       "      <td>2020-03-22 07:49:45</td>\n",
       "    </tr>\n",
       "    <tr>\n",
       "      <th>...</th>\n",
       "      <td>...</td>\n",
       "      <td>...</td>\n",
       "      <td>...</td>\n",
       "      <td>...</td>\n",
       "      <td>...</td>\n",
       "    </tr>\n",
       "    <tr>\n",
       "      <th>999779</th>\n",
       "      <td>self.jokes</td>\n",
       "      <td>Dam.</td>\n",
       "      <td>What did the fish say when he hit the wall?</td>\n",
       "      <td>25</td>\n",
       "      <td>2015-03-27 10:33:12</td>\n",
       "    </tr>\n",
       "    <tr>\n",
       "      <th>999851</th>\n",
       "      <td>self.jokes</td>\n",
       "      <td>He tractor down.</td>\n",
       "      <td>How did the farmer find his wife?</td>\n",
       "      <td>58</td>\n",
       "      <td>2015-03-27 02:42:29</td>\n",
       "    </tr>\n",
       "    <tr>\n",
       "      <th>999882</th>\n",
       "      <td>self.jokes</td>\n",
       "      <td></td>\n",
       "      <td>women's rights</td>\n",
       "      <td>0</td>\n",
       "      <td>2015-03-27 00:48:36</td>\n",
       "    </tr>\n",
       "    <tr>\n",
       "      <th>999936</th>\n",
       "      <td>self.jokes</td>\n",
       "      <td>Don't be stupid, feminists can't change anything</td>\n",
       "      <td>How many feminists does it take to change a li...</td>\n",
       "      <td>24</td>\n",
       "      <td>2015-03-26 22:00:06</td>\n",
       "    </tr>\n",
       "    <tr>\n",
       "      <th>999979</th>\n",
       "      <td>self.jokes</td>\n",
       "      <td>Smoke</td>\n",
       "      <td>What do you call a flying Jew?</td>\n",
       "      <td>0</td>\n",
       "      <td>2015-03-26 20:16:34</td>\n",
       "    </tr>\n",
       "  </tbody>\n",
       "</table>\n",
       "<p>12867 rows × 5 columns</p>\n",
       "</div>"
      ],
      "text/plain": [
       "            domain  ...             created\n",
       "211     self.jokes  ... 2020-04-01 18:54:06\n",
       "4452    self.jokes  ... 2020-03-27 09:16:20\n",
       "6349    self.jokes  ... 2020-03-25 00:48:09\n",
       "6881    self.jokes  ... 2020-03-24 09:40:14\n",
       "8299    self.jokes  ... 2020-03-22 07:49:45\n",
       "...            ...  ...                 ...\n",
       "999779  self.jokes  ... 2015-03-27 10:33:12\n",
       "999851  self.jokes  ... 2015-03-27 02:42:29\n",
       "999882  self.jokes  ... 2015-03-27 00:48:36\n",
       "999936  self.jokes  ... 2015-03-26 22:00:06\n",
       "999979  self.jokes  ... 2015-03-26 20:16:34\n",
       "\n",
       "[12867 rows x 5 columns]"
      ]
     },
     "execution_count": 15,
     "metadata": {},
     "output_type": "execute_result"
    }
   ],
   "source": [
    "reddit_jokes_df[reddit_jokes_df.duplicated(subset=['title', 'selftext'])]"
   ]
  },
  {
   "cell_type": "markdown",
   "metadata": {
    "id": "Btr9V-ELASO_"
   },
   "source": [
    "A fair amount of jokes are reposted, so we keep the ones with the highest score."
   ]
  },
  {
   "cell_type": "code",
   "execution_count": 16,
   "metadata": {
    "executionInfo": {
     "elapsed": 357,
     "status": "ok",
     "timestamp": 1637791134615,
     "user": {
      "displayName": "Lorenz Feyen",
      "photoUrl": "https://lh3.googleusercontent.com/a/default-user=s64",
      "userId": "13474410138118598994"
     },
     "user_tz": -60
    },
    "id": "_Dk0Vz8ABajO"
   },
   "outputs": [],
   "source": [
    " reddit_jokes_df = reddit_jokes_df.sort_values('score').drop_duplicates(subset=['title', 'selftext'], keep='last').reset_index()"
   ]
  },
  {
   "cell_type": "markdown",
   "metadata": {
    "id": "sQWbNx-Yr1gy"
   },
   "source": [
    "### Text formatting\n",
    "\n",
    "Before we can analyze the text in the jokes we have to format it. We can do this by removing all special character and changing it all to lowercase"
   ]
  },
  {
   "cell_type": "code",
   "execution_count": 17,
   "metadata": {
    "colab": {
     "base_uri": "https://localhost:8080/",
     "height": 206
    },
    "executionInfo": {
     "elapsed": 4808,
     "status": "ok",
     "timestamp": 1637791139420,
     "user": {
      "displayName": "Lorenz Feyen",
      "photoUrl": "https://lh3.googleusercontent.com/a/default-user=s64",
      "userId": "13474410138118598994"
     },
     "user_tz": -60
    },
    "id": "EBjVauOl1KWJ",
    "outputId": "6ebb3baf-ce01-4641-a5fa-4f76b85bcf8a"
   },
   "outputs": [
    {
     "data": {
      "text/html": [
       "<div>\n",
       "<style scoped>\n",
       "    .dataframe tbody tr th:only-of-type {\n",
       "        vertical-align: middle;\n",
       "    }\n",
       "\n",
       "    .dataframe tbody tr th {\n",
       "        vertical-align: top;\n",
       "    }\n",
       "\n",
       "    .dataframe thead th {\n",
       "        text-align: right;\n",
       "    }\n",
       "</style>\n",
       "<table border=\"1\" class=\"dataframe\">\n",
       "  <thead>\n",
       "    <tr style=\"text-align: right;\">\n",
       "      <th></th>\n",
       "      <th>index</th>\n",
       "      <th>domain</th>\n",
       "      <th>selftext</th>\n",
       "      <th>title</th>\n",
       "      <th>score</th>\n",
       "      <th>created</th>\n",
       "    </tr>\n",
       "  </thead>\n",
       "  <tbody>\n",
       "    <tr>\n",
       "      <th>0</th>\n",
       "      <td>630580</td>\n",
       "      <td>self.jokes</td>\n",
       "      <td>those who need closure,</td>\n",
       "      <td>there are two kinds of people in the world.</td>\n",
       "      <td>0</td>\n",
       "      <td>2017-05-12 17:01:44</td>\n",
       "    </tr>\n",
       "    <tr>\n",
       "      <th>1</th>\n",
       "      <td>187066</td>\n",
       "      <td>self.jokes</td>\n",
       "      <td>so when someone asks you can say its .</td>\n",
       "      <td>set your wifi password to</td>\n",
       "      <td>0</td>\n",
       "      <td>2019-05-28 00:30:46</td>\n",
       "    </tr>\n",
       "    <tr>\n",
       "      <th>2</th>\n",
       "      <td>437464</td>\n",
       "      <td>self.jokes</td>\n",
       "      <td>tooth hurty!</td>\n",
       "      <td>at what time do you see your dentist?</td>\n",
       "      <td>0</td>\n",
       "      <td>2018-03-28 10:17:26</td>\n",
       "    </tr>\n",
       "    <tr>\n",
       "      <th>3</th>\n",
       "      <td>714598</td>\n",
       "      <td>self.jokes</td>\n",
       "      <td>where did you get a phone that works in spaini...</td>\n",
       "      <td>john and juan are on lunch break when juans ph...</td>\n",
       "      <td>0</td>\n",
       "      <td>2017-01-13 02:37:59</td>\n",
       "    </tr>\n",
       "    <tr>\n",
       "      <th>4</th>\n",
       "      <td>187072</td>\n",
       "      <td>self.jokes</td>\n",
       "      <td>me how many am i allowed?guy only one me well ...</td>\n",
       "      <td>a guy is handing out free fake mustaches on th...</td>\n",
       "      <td>0</td>\n",
       "      <td>2019-05-28 00:20:01</td>\n",
       "    </tr>\n",
       "  </tbody>\n",
       "</table>\n",
       "</div>"
      ],
      "text/plain": [
       "    index      domain  ... score             created\n",
       "0  630580  self.jokes  ...     0 2017-05-12 17:01:44\n",
       "1  187066  self.jokes  ...     0 2019-05-28 00:30:46\n",
       "2  437464  self.jokes  ...     0 2018-03-28 10:17:26\n",
       "3  714598  self.jokes  ...     0 2017-01-13 02:37:59\n",
       "4  187072  self.jokes  ...     0 2019-05-28 00:20:01\n",
       "\n",
       "[5 rows x 6 columns]"
      ]
     },
     "execution_count": 17,
     "metadata": {},
     "output_type": "execute_result"
    }
   ],
   "source": [
    "for col in ['selftext', 'title']:\n",
    "  reddit_jokes_df[col] = reddit_jokes_df[col].replace(to_replace=\"[^a-zA-Z,.!? ]\", value=\"\", regex=True).str.lower()\n",
    "\n",
    "reddit_jokes_df.head()"
   ]
  },
  {
   "cell_type": "markdown",
   "metadata": {
    "id": "nQapOm3c5sg0"
   },
   "source": [
    "Next we create a single joke by combining the title and selftext, this makes it easier to operate."
   ]
  },
  {
   "cell_type": "code",
   "execution_count": 18,
   "metadata": {
    "colab": {
     "base_uri": "https://localhost:8080/",
     "height": 206
    },
    "executionInfo": {
     "elapsed": 420,
     "status": "ok",
     "timestamp": 1637791139832,
     "user": {
      "displayName": "Lorenz Feyen",
      "photoUrl": "https://lh3.googleusercontent.com/a/default-user=s64",
      "userId": "13474410138118598994"
     },
     "user_tz": -60
    },
    "id": "Vch6gPLK2oF2",
    "outputId": "32d32980-bdcc-4959-9663-709b7a7b4d5b"
   },
   "outputs": [
    {
     "data": {
      "text/html": [
       "<div>\n",
       "<style scoped>\n",
       "    .dataframe tbody tr th:only-of-type {\n",
       "        vertical-align: middle;\n",
       "    }\n",
       "\n",
       "    .dataframe tbody tr th {\n",
       "        vertical-align: top;\n",
       "    }\n",
       "\n",
       "    .dataframe thead th {\n",
       "        text-align: right;\n",
       "    }\n",
       "</style>\n",
       "<table border=\"1\" class=\"dataframe\">\n",
       "  <thead>\n",
       "    <tr style=\"text-align: right;\">\n",
       "      <th></th>\n",
       "      <th>index</th>\n",
       "      <th>domain</th>\n",
       "      <th>score</th>\n",
       "      <th>created</th>\n",
       "      <th>joke</th>\n",
       "    </tr>\n",
       "  </thead>\n",
       "  <tbody>\n",
       "    <tr>\n",
       "      <th>0</th>\n",
       "      <td>630580</td>\n",
       "      <td>self.jokes</td>\n",
       "      <td>0</td>\n",
       "      <td>2017-05-12 17:01:44</td>\n",
       "      <td>there are two kinds of people in the world. th...</td>\n",
       "    </tr>\n",
       "    <tr>\n",
       "      <th>1</th>\n",
       "      <td>187066</td>\n",
       "      <td>self.jokes</td>\n",
       "      <td>0</td>\n",
       "      <td>2019-05-28 00:30:46</td>\n",
       "      <td>set your wifi password to  so when someone ask...</td>\n",
       "    </tr>\n",
       "    <tr>\n",
       "      <th>2</th>\n",
       "      <td>437464</td>\n",
       "      <td>self.jokes</td>\n",
       "      <td>0</td>\n",
       "      <td>2018-03-28 10:17:26</td>\n",
       "      <td>at what time do you see your dentist? tooth hu...</td>\n",
       "    </tr>\n",
       "    <tr>\n",
       "      <th>3</th>\n",
       "      <td>714598</td>\n",
       "      <td>self.jokes</td>\n",
       "      <td>0</td>\n",
       "      <td>2017-01-13 02:37:59</td>\n",
       "      <td>john and juan are on lunch break when juans ph...</td>\n",
       "    </tr>\n",
       "    <tr>\n",
       "      <th>4</th>\n",
       "      <td>187072</td>\n",
       "      <td>self.jokes</td>\n",
       "      <td>0</td>\n",
       "      <td>2019-05-28 00:20:01</td>\n",
       "      <td>a guy is handing out free fake mustaches on th...</td>\n",
       "    </tr>\n",
       "  </tbody>\n",
       "</table>\n",
       "</div>"
      ],
      "text/plain": [
       "    index  ...                                               joke\n",
       "0  630580  ...  there are two kinds of people in the world. th...\n",
       "1  187066  ...  set your wifi password to  so when someone ask...\n",
       "2  437464  ...  at what time do you see your dentist? tooth hu...\n",
       "3  714598  ...  john and juan are on lunch break when juans ph...\n",
       "4  187072  ...  a guy is handing out free fake mustaches on th...\n",
       "\n",
       "[5 rows x 5 columns]"
      ]
     },
     "execution_count": 18,
     "metadata": {},
     "output_type": "execute_result"
    }
   ],
   "source": [
    "reddit_jokes_df['joke'] = reddit_jokes_df.title + ' ' + reddit_jokes_df.selftext\n",
    "reddit_jokes_df = reddit_jokes_df.drop(columns=['title', 'selftext'])\n",
    "reddit_jokes_df.head()"
   ]
  },
  {
   "cell_type": "markdown",
   "metadata": {
    "id": "YAYzq3Idus9d"
   },
   "source": [
    "## Processing"
   ]
  },
  {
   "cell_type": "markdown",
   "metadata": {
    "id": "9Py4BgQrznrE"
   },
   "source": [
    "### Timing of joke\n",
    "\n",
    "I would like to know if the timing of the jokes makes an impact on how funny the joke is, so i grouped based on both the weekday as well as the hour of day."
   ]
  },
  {
   "cell_type": "code",
   "execution_count": 19,
   "metadata": {
    "colab": {
     "base_uri": "https://localhost:8080/",
     "height": 300
    },
    "executionInfo": {
     "elapsed": 17,
     "status": "ok",
     "timestamp": 1637791139833,
     "user": {
      "displayName": "Lorenz Feyen",
      "photoUrl": "https://lh3.googleusercontent.com/a/default-user=s64",
      "userId": "13474410138118598994"
     },
     "user_tz": -60
    },
    "id": "rKVqdyHt1rFU",
    "outputId": "35218134-3247-4b52-98cc-ea5e0d8a4f88"
   },
   "outputs": [
    {
     "data": {
      "text/html": [
       "<div>\n",
       "<style scoped>\n",
       "    .dataframe tbody tr th:only-of-type {\n",
       "        vertical-align: middle;\n",
       "    }\n",
       "\n",
       "    .dataframe tbody tr th {\n",
       "        vertical-align: top;\n",
       "    }\n",
       "\n",
       "    .dataframe thead th {\n",
       "        text-align: right;\n",
       "    }\n",
       "</style>\n",
       "<table border=\"1\" class=\"dataframe\">\n",
       "  <thead>\n",
       "    <tr style=\"text-align: right;\">\n",
       "      <th></th>\n",
       "      <th>mean</th>\n",
       "      <th>count</th>\n",
       "    </tr>\n",
       "    <tr>\n",
       "      <th>created</th>\n",
       "      <th></th>\n",
       "      <th></th>\n",
       "    </tr>\n",
       "  </thead>\n",
       "  <tbody>\n",
       "    <tr>\n",
       "      <th>0</th>\n",
       "      <td>226.871773</td>\n",
       "      <td>79866</td>\n",
       "    </tr>\n",
       "    <tr>\n",
       "      <th>1</th>\n",
       "      <td>228.808886</td>\n",
       "      <td>82940</td>\n",
       "    </tr>\n",
       "    <tr>\n",
       "      <th>2</th>\n",
       "      <td>222.802165</td>\n",
       "      <td>84793</td>\n",
       "    </tr>\n",
       "    <tr>\n",
       "      <th>3</th>\n",
       "      <td>215.771594</td>\n",
       "      <td>84932</td>\n",
       "    </tr>\n",
       "    <tr>\n",
       "      <th>4</th>\n",
       "      <td>222.888666</td>\n",
       "      <td>82634</td>\n",
       "    </tr>\n",
       "    <tr>\n",
       "      <th>5</th>\n",
       "      <td>232.752534</td>\n",
       "      <td>75089</td>\n",
       "    </tr>\n",
       "    <tr>\n",
       "      <th>6</th>\n",
       "      <td>241.322581</td>\n",
       "      <td>75516</td>\n",
       "    </tr>\n",
       "  </tbody>\n",
       "</table>\n",
       "</div>"
      ],
      "text/plain": [
       "               mean  count\n",
       "created                   \n",
       "0        226.871773  79866\n",
       "1        228.808886  82940\n",
       "2        222.802165  84793\n",
       "3        215.771594  84932\n",
       "4        222.888666  82634\n",
       "5        232.752534  75089\n",
       "6        241.322581  75516"
      ]
     },
     "execution_count": 19,
     "metadata": {},
     "output_type": "execute_result"
    }
   ],
   "source": [
    "reddit_jokes_weekday = reddit_jokes_df.groupby(reddit_jokes_df.created.dt.weekday).score.agg(['mean', 'count'])\n",
    "reddit_jokes_weekday"
   ]
  },
  {
   "cell_type": "code",
   "execution_count": 20,
   "metadata": {
    "colab": {
     "base_uri": "https://localhost:8080/",
     "height": 834
    },
    "executionInfo": {
     "elapsed": 16,
     "status": "ok",
     "timestamp": 1637791139836,
     "user": {
      "displayName": "Lorenz Feyen",
      "photoUrl": "https://lh3.googleusercontent.com/a/default-user=s64",
      "userId": "13474410138118598994"
     },
     "user_tz": -60
    },
    "id": "7pOKWgK60KC5",
    "outputId": "d6db36a0-0e7f-4ddc-fe2f-17a9a1626141"
   },
   "outputs": [
    {
     "data": {
      "text/html": [
       "<div>\n",
       "<style scoped>\n",
       "    .dataframe tbody tr th:only-of-type {\n",
       "        vertical-align: middle;\n",
       "    }\n",
       "\n",
       "    .dataframe tbody tr th {\n",
       "        vertical-align: top;\n",
       "    }\n",
       "\n",
       "    .dataframe thead th {\n",
       "        text-align: right;\n",
       "    }\n",
       "</style>\n",
       "<table border=\"1\" class=\"dataframe\">\n",
       "  <thead>\n",
       "    <tr style=\"text-align: right;\">\n",
       "      <th></th>\n",
       "      <th>mean</th>\n",
       "      <th>count</th>\n",
       "    </tr>\n",
       "    <tr>\n",
       "      <th>created</th>\n",
       "      <th></th>\n",
       "      <th></th>\n",
       "    </tr>\n",
       "  </thead>\n",
       "  <tbody>\n",
       "    <tr>\n",
       "      <th>0</th>\n",
       "      <td>189.177767</td>\n",
       "      <td>25646</td>\n",
       "    </tr>\n",
       "    <tr>\n",
       "      <th>1</th>\n",
       "      <td>189.383726</td>\n",
       "      <td>25440</td>\n",
       "    </tr>\n",
       "    <tr>\n",
       "      <th>2</th>\n",
       "      <td>172.406772</td>\n",
       "      <td>25368</td>\n",
       "    </tr>\n",
       "    <tr>\n",
       "      <th>3</th>\n",
       "      <td>140.741126</td>\n",
       "      <td>23637</td>\n",
       "    </tr>\n",
       "    <tr>\n",
       "      <th>4</th>\n",
       "      <td>144.066960</td>\n",
       "      <td>21162</td>\n",
       "    </tr>\n",
       "    <tr>\n",
       "      <th>5</th>\n",
       "      <td>137.355467</td>\n",
       "      <td>19006</td>\n",
       "    </tr>\n",
       "    <tr>\n",
       "      <th>6</th>\n",
       "      <td>168.542319</td>\n",
       "      <td>16671</td>\n",
       "    </tr>\n",
       "    <tr>\n",
       "      <th>7</th>\n",
       "      <td>214.903014</td>\n",
       "      <td>15198</td>\n",
       "    </tr>\n",
       "    <tr>\n",
       "      <th>8</th>\n",
       "      <td>271.710558</td>\n",
       "      <td>14217</td>\n",
       "    </tr>\n",
       "    <tr>\n",
       "      <th>9</th>\n",
       "      <td>398.431366</td>\n",
       "      <td>14009</td>\n",
       "    </tr>\n",
       "    <tr>\n",
       "      <th>10</th>\n",
       "      <td>456.262600</td>\n",
       "      <td>15952</td>\n",
       "    </tr>\n",
       "    <tr>\n",
       "      <th>11</th>\n",
       "      <td>446.946555</td>\n",
       "      <td>18056</td>\n",
       "    </tr>\n",
       "    <tr>\n",
       "      <th>12</th>\n",
       "      <td>404.759640</td>\n",
       "      <td>21447</td>\n",
       "    </tr>\n",
       "    <tr>\n",
       "      <th>13</th>\n",
       "      <td>318.348451</td>\n",
       "      <td>24342</td>\n",
       "    </tr>\n",
       "    <tr>\n",
       "      <th>14</th>\n",
       "      <td>263.100078</td>\n",
       "      <td>26899</td>\n",
       "    </tr>\n",
       "    <tr>\n",
       "      <th>15</th>\n",
       "      <td>227.382529</td>\n",
       "      <td>28322</td>\n",
       "    </tr>\n",
       "    <tr>\n",
       "      <th>16</th>\n",
       "      <td>204.701879</td>\n",
       "      <td>29327</td>\n",
       "    </tr>\n",
       "    <tr>\n",
       "      <th>17</th>\n",
       "      <td>185.274719</td>\n",
       "      <td>29623</td>\n",
       "    </tr>\n",
       "    <tr>\n",
       "      <th>18</th>\n",
       "      <td>210.557595</td>\n",
       "      <td>29369</td>\n",
       "    </tr>\n",
       "    <tr>\n",
       "      <th>19</th>\n",
       "      <td>194.320871</td>\n",
       "      <td>29342</td>\n",
       "    </tr>\n",
       "    <tr>\n",
       "      <th>20</th>\n",
       "      <td>194.809965</td>\n",
       "      <td>29063</td>\n",
       "    </tr>\n",
       "    <tr>\n",
       "      <th>21</th>\n",
       "      <td>179.245679</td>\n",
       "      <td>29099</td>\n",
       "    </tr>\n",
       "    <tr>\n",
       "      <th>22</th>\n",
       "      <td>198.723083</td>\n",
       "      <td>27817</td>\n",
       "    </tr>\n",
       "    <tr>\n",
       "      <th>23</th>\n",
       "      <td>179.602399</td>\n",
       "      <td>26758</td>\n",
       "    </tr>\n",
       "  </tbody>\n",
       "</table>\n",
       "</div>"
      ],
      "text/plain": [
       "               mean  count\n",
       "created                   \n",
       "0        189.177767  25646\n",
       "1        189.383726  25440\n",
       "2        172.406772  25368\n",
       "3        140.741126  23637\n",
       "4        144.066960  21162\n",
       "5        137.355467  19006\n",
       "6        168.542319  16671\n",
       "7        214.903014  15198\n",
       "8        271.710558  14217\n",
       "9        398.431366  14009\n",
       "10       456.262600  15952\n",
       "11       446.946555  18056\n",
       "12       404.759640  21447\n",
       "13       318.348451  24342\n",
       "14       263.100078  26899\n",
       "15       227.382529  28322\n",
       "16       204.701879  29327\n",
       "17       185.274719  29623\n",
       "18       210.557595  29369\n",
       "19       194.320871  29342\n",
       "20       194.809965  29063\n",
       "21       179.245679  29099\n",
       "22       198.723083  27817\n",
       "23       179.602399  26758"
      ]
     },
     "execution_count": 20,
     "metadata": {},
     "output_type": "execute_result"
    }
   ],
   "source": [
    "reddit_jokes_hour = reddit_jokes_df.groupby(reddit_jokes_df.created.dt.hour).score.agg(['mean', 'count'])\n",
    "reddit_jokes_hour"
   ]
  },
  {
   "cell_type": "markdown",
   "metadata": {
    "id": "J10ryiz-3EYM"
   },
   "source": [
    "### Bag of words\n",
    "To be able to work with the words in our joke, we create a bag of words dataframe, where for each word and joke combination a count is kept of how many times the word is present in that joke. Notice that stopwords are removed.\n",
    "\n",
    "First we split each joke up in words"
   ]
  },
  {
   "cell_type": "code",
   "execution_count": 21,
   "metadata": {
    "colab": {
     "base_uri": "https://localhost:8080/"
    },
    "executionInfo": {
     "elapsed": 4857,
     "status": "ok",
     "timestamp": 1637791144680,
     "user": {
      "displayName": "Lorenz Feyen",
      "photoUrl": "https://lh3.googleusercontent.com/a/default-user=s64",
      "userId": "13474410138118598994"
     },
     "user_tz": -60
    },
    "id": "ezyM9jMe3EEY",
    "outputId": "0fb682f3-eda4-42ba-cff6-3d5c1b943c9b"
   },
   "outputs": [
    {
     "data": {
      "text/plain": [
       "0    [there, are, two, kinds, of, people, in, the, ...\n",
       "1    [set, your, wifi, password, to, , so, when, so...\n",
       "2    [at, what, time, do, you, see, your, dentist?,...\n",
       "3    [john, and, juan, are, on, lunch, break, when,...\n",
       "4    [a, guy, is, handing, out, free, fake, mustach...\n",
       "Name: joke, dtype: object"
      ]
     },
     "execution_count": 21,
     "metadata": {},
     "output_type": "execute_result"
    }
   ],
   "source": [
    "joke_words = reddit_jokes_df.joke.str.split(' ')\n",
    "joke_words.head()"
   ]
  },
  {
   "cell_type": "markdown",
   "metadata": {
    "id": "xScxKUdg6liJ"
   },
   "source": [
    "Next we use the nltk toolkit to get a list of english stopwords."
   ]
  },
  {
   "cell_type": "code",
   "execution_count": 22,
   "metadata": {
    "colab": {
     "base_uri": "https://localhost:8080/"
    },
    "executionInfo": {
     "elapsed": 37,
     "status": "ok",
     "timestamp": 1637791144683,
     "user": {
      "displayName": "Lorenz Feyen",
      "photoUrl": "https://lh3.googleusercontent.com/a/default-user=s64",
      "userId": "13474410138118598994"
     },
     "user_tz": -60
    },
    "id": "woAevFGdz6so",
    "outputId": "94fbdc01-aa41-45ec-a057-2c1aef9581e9"
   },
   "outputs": [
    {
     "name": "stdout",
     "output_type": "stream",
     "text": [
      "[nltk_data] Downloading package stopwords to /root/nltk_data...\n",
      "[nltk_data]   Package stopwords is already up-to-date!\n"
     ]
    },
    {
     "data": {
      "text/plain": [
       "['i', 'me', 'my', 'myself', 'we']"
      ]
     },
     "execution_count": 22,
     "metadata": {},
     "output_type": "execute_result"
    }
   ],
   "source": [
    "import nltk\n",
    "nltk.download('stopwords')\n",
    "from nltk.corpus import stopwords\n",
    "stopwords.words('english')[:5]"
   ]
  },
  {
   "cell_type": "markdown",
   "metadata": {
    "id": "rssLEqNc6roz"
   },
   "source": [
    "We remove all the stopwords from the jokes, now the jokes have a handicapped grammar."
   ]
  },
  {
   "cell_type": "code",
   "execution_count": 23,
   "metadata": {
    "colab": {
     "base_uri": "https://localhost:8080/"
    },
    "executionInfo": {
     "elapsed": 20,
     "status": "ok",
     "timestamp": 1637791144685,
     "user": {
      "displayName": "Lorenz Feyen",
      "photoUrl": "https://lh3.googleusercontent.com/a/default-user=s64",
      "userId": "13474410138118598994"
     },
     "user_tz": -60
    },
    "id": "fjVaqs0KeanC",
    "outputId": "2e25f8d5-b97c-4907-cdb9-66204b1f4d1c"
   },
   "outputs": [
    {
     "data": {
      "text/plain": [
       "0         [two, kinds, people, world., need, closure,]\n",
       "1       [set, wifi, password, , someone, asks, say, .]\n",
       "2                 [time, see, dentist?, tooth, hurty!]\n",
       "3    [john, juan, lunch, break, juans, phone, rings...\n",
       "4    [guy, handing, free, fake, mustaches, street, ...\n",
       "Name: joke, dtype: object"
      ]
     },
     "execution_count": 23,
     "metadata": {},
     "output_type": "execute_result"
    }
   ],
   "source": [
    "joke_words = joke_words.head().apply(lambda x : [word for word in x if word not in stopwords.words('english')])\n",
    "joke_words.head()"
   ]
  },
  {
   "cell_type": "markdown",
   "metadata": {
    "id": "CJFi2ZfS65bP"
   },
   "source": [
    "Finally we are going to use sklearn and the CountVectorizer to create the BoW vector, this is a sparse matrix as most words are not appearing in most jokes.\n",
    "This means we cannot visualise the matrix, or our computer would explode."
   ]
  },
  {
   "cell_type": "code",
   "execution_count": 24,
   "metadata": {
    "executionInfo": {
     "elapsed": 17533,
     "status": "ok",
     "timestamp": 1637791162204,
     "user": {
      "displayName": "Lorenz Feyen",
      "photoUrl": "https://lh3.googleusercontent.com/a/default-user=s64",
      "userId": "13474410138118598994"
     },
     "user_tz": -60
    },
    "id": "XqXvWZeVeCPD"
   },
   "outputs": [],
   "source": [
    "from sklearn.feature_extraction.text import CountVectorizer\n",
    "\n",
    "cnt_vect = CountVectorizer(analyzer=\"word\", stop_words=stopwords.words('english'), max_features=20000) \n",
    "\n",
    "bow_jokes = cnt_vect.fit_transform(reddit_jokes_df.joke.values)"
   ]
  },
  {
   "cell_type": "code",
   "execution_count": 25,
   "metadata": {
    "colab": {
     "base_uri": "https://localhost:8080/"
    },
    "executionInfo": {
     "elapsed": 19,
     "status": "ok",
     "timestamp": 1637791162206,
     "user": {
      "displayName": "Lorenz Feyen",
      "photoUrl": "https://lh3.googleusercontent.com/a/default-user=s64",
      "userId": "13474410138118598994"
     },
     "user_tz": -60
    },
    "id": "05PDZtBGeCb0",
    "outputId": "b0d11ee7-6428-4894-d3f6-231907833d41"
   },
   "outputs": [
    {
     "data": {
      "text/plain": [
       "<565770x20000 sparse matrix of type '<class 'numpy.int64'>'\n",
       "\twith 9101120 stored elements in Compressed Sparse Row format>"
      ]
     },
     "execution_count": 25,
     "metadata": {},
     "output_type": "execute_result"
    }
   ],
   "source": [
    "bow_jokes"
   ]
  },
  {
   "cell_type": "markdown",
   "metadata": {
    "id": "r2wBbo4E7HTZ"
   },
   "source": [
    "But we can fetch the vocabulary of our bag, which starts with a lot of weird words, indicating we might have chosen too many features"
   ]
  },
  {
   "cell_type": "code",
   "execution_count": 26,
   "metadata": {
    "colab": {
     "base_uri": "https://localhost:8080/"
    },
    "executionInfo": {
     "elapsed": 14,
     "status": "ok",
     "timestamp": 1637791162208,
     "user": {
      "displayName": "Lorenz Feyen",
      "photoUrl": "https://lh3.googleusercontent.com/a/default-user=s64",
      "userId": "13474410138118598994"
     },
     "user_tz": -60
    },
    "id": "7L9weMfPeCea",
    "outputId": "3d69cd8a-387a-4943-9671-512347aa60ba"
   },
   "outputs": [
    {
     "data": {
      "text/plain": [
       "array(['aa', 'aaa', 'aaah', 'aah', 'aardvark', 'aaron', 'ab', 'aback',\n",
       "       'abacus', 'abandon'], dtype=object)"
      ]
     },
     "execution_count": 26,
     "metadata": {},
     "output_type": "execute_result"
    }
   ],
   "source": [
    "cnt_vect.get_feature_names_out()[:10]"
   ]
  },
  {
   "cell_type": "markdown",
   "metadata": {
    "id": "u93I7YU7933W"
   },
   "source": [
    "### Term Frequency - Inverse Document Frequency\n",
    "Another interesting method is the tf-idf matrix, where each occurence is weighted by the overall frequency of that word. If a word is used often over all jokes, it won't be as important, but if a word is used infrequent it is more important.\n",
    "\n",
    "Again we use sklearn to vectorize our jokes"
   ]
  },
  {
   "cell_type": "code",
   "execution_count": 27,
   "metadata": {
    "colab": {
     "base_uri": "https://localhost:8080/"
    },
    "executionInfo": {
     "elapsed": 20148,
     "status": "ok",
     "timestamp": 1637791182346,
     "user": {
      "displayName": "Lorenz Feyen",
      "photoUrl": "https://lh3.googleusercontent.com/a/default-user=s64",
      "userId": "13474410138118598994"
     },
     "user_tz": -60
    },
    "id": "IsTp758heChY",
    "outputId": "9ade5569-7b5f-468f-a391-d144ef8dcd48"
   },
   "outputs": [
    {
     "data": {
      "text/plain": [
       "<565770x196601 sparse matrix of type '<class 'numpy.float64'>'\n",
       "\twith 15153814 stored elements in Compressed Sparse Row format>"
      ]
     },
     "execution_count": 27,
     "metadata": {},
     "output_type": "execute_result"
    }
   ],
   "source": [
    "from sklearn.feature_extraction.text import TfidfVectorizer\n",
    "tfidf_vect = TfidfVectorizer()\n",
    "tfidf_jokes = tfidf_vect.fit_transform(reddit_jokes_df.joke.values)\n",
    "tfidf_jokes"
   ]
  },
  {
   "cell_type": "markdown",
   "metadata": {
    "id": "aO-9AXYa7oV4"
   },
   "source": [
    "we can create a quick dataframe to interpret the result, for each word in our dataset we retrieve the inverse document frequency, a high idf means a unique word."
   ]
  },
  {
   "cell_type": "code",
   "execution_count": 28,
   "metadata": {
    "colab": {
     "base_uri": "https://localhost:8080/",
     "height": 206
    },
    "executionInfo": {
     "elapsed": 405,
     "status": "ok",
     "timestamp": 1637791182733,
     "user": {
      "displayName": "Lorenz Feyen",
      "photoUrl": "https://lh3.googleusercontent.com/a/default-user=s64",
      "userId": "13474410138118598994"
     },
     "user_tz": -60
    },
    "id": "EVhhq_i7_hZD",
    "outputId": "cde2e4f0-f3c0-474a-d74e-b4fb14c66977"
   },
   "outputs": [
    {
     "data": {
      "text/html": [
       "<div>\n",
       "<style scoped>\n",
       "    .dataframe tbody tr th:only-of-type {\n",
       "        vertical-align: middle;\n",
       "    }\n",
       "\n",
       "    .dataframe tbody tr th {\n",
       "        vertical-align: top;\n",
       "    }\n",
       "\n",
       "    .dataframe thead th {\n",
       "        text-align: right;\n",
       "    }\n",
       "</style>\n",
       "<table border=\"1\" class=\"dataframe\">\n",
       "  <thead>\n",
       "    <tr style=\"text-align: right;\">\n",
       "      <th></th>\n",
       "      <th>term</th>\n",
       "      <th>idf</th>\n",
       "    </tr>\n",
       "  </thead>\n",
       "  <tbody>\n",
       "    <tr>\n",
       "      <th>0</th>\n",
       "      <td>aa</td>\n",
       "      <td>10.026437</td>\n",
       "    </tr>\n",
       "    <tr>\n",
       "      <th>1</th>\n",
       "      <td>aaa</td>\n",
       "      <td>10.275653</td>\n",
       "    </tr>\n",
       "    <tr>\n",
       "      <th>2</th>\n",
       "      <td>aaaa</td>\n",
       "      <td>12.454185</td>\n",
       "    </tr>\n",
       "    <tr>\n",
       "      <th>3</th>\n",
       "      <td>aaaaa</td>\n",
       "      <td>13.147332</td>\n",
       "    </tr>\n",
       "    <tr>\n",
       "      <th>4</th>\n",
       "      <td>aaaaaa</td>\n",
       "      <td>13.552798</td>\n",
       "    </tr>\n",
       "  </tbody>\n",
       "</table>\n",
       "</div>"
      ],
      "text/plain": [
       "     term        idf\n",
       "0      aa  10.026437\n",
       "1     aaa  10.275653\n",
       "2    aaaa  12.454185\n",
       "3   aaaaa  13.147332\n",
       "4  aaaaaa  13.552798"
      ]
     },
     "execution_count": 28,
     "metadata": {},
     "output_type": "execute_result"
    }
   ],
   "source": [
    "idf = pd.DataFrame(\n",
    "    {\n",
    "      'term': tfidf_vect.get_feature_names_out(),\n",
    "      'idf': tfidf_vect.idf_,\n",
    "    }\n",
    ")\n",
    "idf.head()"
   ]
  },
  {
   "cell_type": "markdown",
   "metadata": {
    "id": "sMLswNI_89j0"
   },
   "source": [
    "When we sort them by idf we can find the most unique words, yet it doesn't seem to be useful at the moment."
   ]
  },
  {
   "cell_type": "code",
   "execution_count": 29,
   "metadata": {
    "colab": {
     "base_uri": "https://localhost:8080/",
     "height": 363
    },
    "executionInfo": {
     "elapsed": 36,
     "status": "ok",
     "timestamp": 1637791182737,
     "user": {
      "displayName": "Lorenz Feyen",
      "photoUrl": "https://lh3.googleusercontent.com/a/default-user=s64",
      "userId": "13474410138118598994"
     },
     "user_tz": -60
    },
    "id": "1bv8buRzhB6R",
    "outputId": "66a2015c-49d0-4bf6-904d-e2ab5ff43d03"
   },
   "outputs": [
    {
     "data": {
      "text/html": [
       "<div>\n",
       "<style scoped>\n",
       "    .dataframe tbody tr th:only-of-type {\n",
       "        vertical-align: middle;\n",
       "    }\n",
       "\n",
       "    .dataframe tbody tr th {\n",
       "        vertical-align: top;\n",
       "    }\n",
       "\n",
       "    .dataframe thead th {\n",
       "        text-align: right;\n",
       "    }\n",
       "</style>\n",
       "<table border=\"1\" class=\"dataframe\">\n",
       "  <thead>\n",
       "    <tr style=\"text-align: right;\">\n",
       "      <th></th>\n",
       "      <th>term</th>\n",
       "      <th>idf</th>\n",
       "    </tr>\n",
       "  </thead>\n",
       "  <tbody>\n",
       "    <tr>\n",
       "      <th>196600</th>\n",
       "      <td>zzzzzzzzzzzzzzzzzzzzzzzzzzzzzzzzzzzzzzzzzzzzzzthe</td>\n",
       "      <td>13.552798</td>\n",
       "    </tr>\n",
       "    <tr>\n",
       "      <th>110080</th>\n",
       "      <td>misterunderstanding</td>\n",
       "      <td>13.552798</td>\n",
       "    </tr>\n",
       "    <tr>\n",
       "      <th>110074</th>\n",
       "      <td>misterectomy</td>\n",
       "      <td>13.552798</td>\n",
       "    </tr>\n",
       "    <tr>\n",
       "      <th>110075</th>\n",
       "      <td>misterious</td>\n",
       "      <td>13.552798</td>\n",
       "    </tr>\n",
       "    <tr>\n",
       "      <th>110076</th>\n",
       "      <td>misterjmyers</td>\n",
       "      <td>13.552798</td>\n",
       "    </tr>\n",
       "    <tr>\n",
       "      <th>110077</th>\n",
       "      <td>misterlee</td>\n",
       "      <td>13.552798</td>\n",
       "    </tr>\n",
       "    <tr>\n",
       "      <th>110078</th>\n",
       "      <td>misterogyny</td>\n",
       "      <td>13.552798</td>\n",
       "    </tr>\n",
       "    <tr>\n",
       "      <th>110079</th>\n",
       "      <td>misters</td>\n",
       "      <td>13.552798</td>\n",
       "    </tr>\n",
       "    <tr>\n",
       "      <th>110081</th>\n",
       "      <td>misterunderstood</td>\n",
       "      <td>13.552798</td>\n",
       "    </tr>\n",
       "    <tr>\n",
       "      <th>110072</th>\n",
       "      <td>misterapproximate</td>\n",
       "      <td>13.552798</td>\n",
       "    </tr>\n",
       "  </tbody>\n",
       "</table>\n",
       "</div>"
      ],
      "text/plain": [
       "                                                     term        idf\n",
       "196600  zzzzzzzzzzzzzzzzzzzzzzzzzzzzzzzzzzzzzzzzzzzzzzthe  13.552798\n",
       "110080                                misterunderstanding  13.552798\n",
       "110074                                       misterectomy  13.552798\n",
       "110075                                         misterious  13.552798\n",
       "110076                                       misterjmyers  13.552798\n",
       "110077                                          misterlee  13.552798\n",
       "110078                                        misterogyny  13.552798\n",
       "110079                                            misters  13.552798\n",
       "110081                                   misterunderstood  13.552798\n",
       "110072                                  misterapproximate  13.552798"
      ]
     },
     "execution_count": 29,
     "metadata": {},
     "output_type": "execute_result"
    }
   ],
   "source": [
    "idf.sort_values(by='idf', ascending=False).head(10)"
   ]
  }
 ],
 "metadata": {
  "colab": {
   "authorship_tag": "ABX9TyN2TS/8gZwLow8gzZKcMi75",
   "collapsed_sections": [
    "MZP9feZxsBSq"
   ],
   "name": "Jokes.ipynb",
   "provenance": []
  },
  "kernelspec": {
   "display_name": "Python 3",
   "name": "python3"
  },
  "language_info": {
   "codemirror_mode": {
    "name": "ipython",
    "version": 3
   },
   "file_extension": ".py",
   "mimetype": "text/x-python",
   "name": "python",
   "nbconvert_exporter": "python",
   "pygments_lexer": "ipython3",
   "version": "3.8.10"
  }
 },
 "nbformat": 4,
 "nbformat_minor": 0
}