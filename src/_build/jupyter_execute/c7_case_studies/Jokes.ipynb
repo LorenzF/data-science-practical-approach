{
 "cells": [
  {
   "cell_type": "markdown",
   "metadata": {
    "id": "zYOXRBlSjnr6"
   },
   "source": [
    "# Case Study: Jokes\n",
    "\n",
    "In this case study we find out if we can make ourselves funnier by analysing jokes from a database.\n",
    "\n",
    "The case study is divided into several parts:\n",
    "- Goals\n",
    "- Parsing\n",
    "- Preparation (cleaning)\n",
    "- Processing\n",
    "- Exploration\n",
    "- Visualization\n",
    "- Conclusion"
   ]
  },
  {
   "cell_type": "markdown",
   "metadata": {
    "id": "sTgfRxUcn8wI"
   },
   "source": [
    "## Goals\n",
    "\n",
    "In this section we define questions that will be our guideline througout the case study\n",
    "\n",
    "- What jokes are funny?\n",
    "- Can we find types of jokes?\n",
    "- Would a joke recommender work?\n",
    "\n",
    "We'll (try to) keep these question in mind when performing the case study."
   ]
  },
  {
   "cell_type": "markdown",
   "metadata": {
    "id": "5wNV0AoGkmr6"
   },
   "source": [
    "## Parsing\n",
    "\n",
    "we start out by importing all necessary libraries"
   ]
  },
  {
   "cell_type": "code",
   "execution_count": 1,
   "metadata": {
    "executionInfo": {
     "elapsed": 429,
     "status": "ok",
     "timestamp": 1637791119909,
     "user": {
      "displayName": "Lorenz Feyen",
      "photoUrl": "https://lh3.googleusercontent.com/a/default-user=s64",
      "userId": "13474410138118598994"
     },
     "user_tz": -60
    },
    "id": "HIV2mWXAhGPE"
   },
   "outputs": [
    {
     "name": "stderr",
     "output_type": "stream",
     "text": [
      "/tmp/ipykernel_8969/4057771804.py:10: DeprecationWarning: `set_matplotlib_formats` is deprecated since IPython 7.23, directly use `matplotlib_inline.backend_inline.set_matplotlib_formats()`\n",
      "  set_matplotlib_formats('svg')\n"
     ]
    }
   ],
   "source": [
    "import os\n",
    "import json\n",
    "import pandas as pd\n",
    "import numpy as np\n",
    "import seaborn as sns\n",
    "import scipy.stats\n",
    "import matplotlib.pyplot as plt\n",
    "from IPython.display import set_matplotlib_formats\n",
    "%matplotlib inline\n",
    "set_matplotlib_formats('svg')"
   ]
  },
  {
   "cell_type": "markdown",
   "metadata": {
    "id": "u4uvdJtak2Y6"
   },
   "source": [
    "in order to download datasets from kaggle, we need an API key to access their API, we'll make that here"
   ]
  },
  {
   "cell_type": "code",
   "execution_count": 2,
   "metadata": {
    "executionInfo": {
     "elapsed": 17,
     "status": "ok",
     "timestamp": 1637791120272,
     "user": {
      "displayName": "Lorenz Feyen",
      "photoUrl": "https://lh3.googleusercontent.com/a/default-user=s64",
      "userId": "13474410138118598994"
     },
     "user_tz": -60
    },
    "id": "ytzJsQ7bexVF"
   },
   "outputs": [],
   "source": [
    "if not os.path.exists(os.path.expanduser('~/.kaggle')):\n",
    "    os.mkdir(os.path.expanduser('~/.kaggle'))\n",
    "\n",
    "with open(os.path.expanduser('~/.kaggle/kaggle.json'), 'w') as f:\n",
    "    json.dump(\n",
    "        {\n",
    "            \"username\":\"lorenzf\",\n",
    "            \"key\":\"7a44a9e99b27e796177d793a3d85b8cf\"\n",
    "        }\n",
    "        , f)"
   ]
  },
  {
   "cell_type": "markdown",
   "metadata": {
    "id": "7kb4OqyGk8GO"
   },
   "source": [
    "now we can import kaggle too and download the datasets"
   ]
  },
  {
   "cell_type": "code",
   "execution_count": 3,
   "metadata": {
    "colab": {
     "base_uri": "https://localhost:8080/"
    },
    "executionInfo": {
     "elapsed": 3598,
     "status": "ok",
     "timestamp": 1637791123858,
     "user": {
      "displayName": "Lorenz Feyen",
      "photoUrl": "https://lh3.googleusercontent.com/a/default-user=s64",
      "userId": "13474410138118598994"
     },
     "user_tz": -60
    },
    "id": "Zm2wE6sTlzZE",
    "outputId": "12262841-b234-42b3-92d0-a59b7d347dcd"
   },
   "outputs": [
    {
     "ename": "ModuleNotFoundError",
     "evalue": "No module named 'kaggle'",
     "output_type": "error",
     "traceback": [
      "\u001b[0;31m---------------------------------------------------------------------------\u001b[0m",
      "\u001b[0;31mModuleNotFoundError\u001b[0m                       Traceback (most recent call last)",
      "\u001b[0;32m/tmp/ipykernel_8969/2979186203.py\u001b[0m in \u001b[0;36m<module>\u001b[0;34m\u001b[0m\n\u001b[0;32m----> 1\u001b[0;31m \u001b[0;32mimport\u001b[0m \u001b[0mkaggle\u001b[0m\u001b[0;34m\u001b[0m\u001b[0;34m\u001b[0m\u001b[0m\n\u001b[0m\u001b[1;32m      2\u001b[0m \u001b[0mkaggle\u001b[0m\u001b[0;34m.\u001b[0m\u001b[0mapi\u001b[0m\u001b[0;34m.\u001b[0m\u001b[0mdataset_download_files\u001b[0m\u001b[0;34m(\u001b[0m\u001b[0mdataset\u001b[0m\u001b[0;34m=\u001b[0m\u001b[0;34m'pavellexyr/one-million-reddit-jokes'\u001b[0m\u001b[0;34m,\u001b[0m \u001b[0mpath\u001b[0m\u001b[0;34m=\u001b[0m\u001b[0;34m'./data'\u001b[0m\u001b[0;34m,\u001b[0m \u001b[0munzip\u001b[0m\u001b[0;34m=\u001b[0m\u001b[0;32mTrue\u001b[0m\u001b[0;34m)\u001b[0m\u001b[0;34m\u001b[0m\u001b[0;34m\u001b[0m\u001b[0m\n",
      "\u001b[0;31mModuleNotFoundError\u001b[0m: No module named 'kaggle'"
     ]
    }
   ],
   "source": [
    "import kaggle\n",
    "kaggle.api.dataset_download_files(dataset='pavellexyr/one-million-reddit-jokes', path='./data', unzip=True)"
   ]
  },
  {
   "cell_type": "markdown",
   "metadata": {
    "id": "kID_eGGRlDG3"
   },
   "source": [
    "the csv files are now in the './data' folder, we can now read them using pandas, here is the list of all csv files in our folder"
   ]
  },
  {
   "cell_type": "code",
   "execution_count": 4,
   "metadata": {
    "colab": {
     "base_uri": "https://localhost:8080/"
    },
    "executionInfo": {
     "elapsed": 35,
     "status": "ok",
     "timestamp": 1637791123861,
     "user": {
      "displayName": "Lorenz Feyen",
      "photoUrl": "https://lh3.googleusercontent.com/a/default-user=s64",
      "userId": "13474410138118598994"
     },
     "user_tz": -60
    },
    "id": "PLdxi_9gnplw",
    "outputId": "c871cc90-ed32-4434-c04a-cbdece2babef"
   },
   "outputs": [
    {
     "data": {
      "text/plain": [
       "['WA_Fn-UseC_-Telco-Customer-Churn.csv',\n",
       " 'API_NY.GDP.PCAP.CD_DS2_en_csv_v2_3358201.csv',\n",
       " 'noc_regions.csv',\n",
       " 'freeFormResponses.csv',\n",
       " 'SurveySchema.csv',\n",
       " 'jester_ratings.csv',\n",
       " 'multipleChoiceResponses.csv',\n",
       " 'one-million-reddit-jokes.csv',\n",
       " 'jester_items.csv',\n",
       " 'athlete_events.csv',\n",
       " 'API_SP.POP.TOTL_DS2_en_csv_v2_3358390.csv']"
      ]
     },
     "execution_count": 4,
     "metadata": {},
     "output_type": "execute_result"
    }
   ],
   "source": [
    "os.listdir('./data')"
   ]
  },
  {
   "cell_type": "markdown",
   "metadata": {
    "id": "1CaxG_i1nveE"
   },
   "source": [
    "With only one file in the dataset, we import it."
   ]
  },
  {
   "cell_type": "code",
   "execution_count": 5,
   "metadata": {
    "colab": {
     "base_uri": "https://localhost:8080/",
     "height": 224
    },
    "executionInfo": {
     "elapsed": 5629,
     "status": "ok",
     "timestamp": 1637791129471,
     "user": {
      "displayName": "Lorenz Feyen",
      "photoUrl": "https://lh3.googleusercontent.com/a/default-user=s64",
      "userId": "13474410138118598994"
     },
     "user_tz": -60
    },
    "id": "VzP0St6NkpB4",
    "outputId": "b65aee38-e354-4d56-d16d-b7ad3b902d87"
   },
   "outputs": [
    {
     "name": "stdout",
     "output_type": "stream",
     "text": [
      "shape: (1000000, 12)\n"
     ]
    },
    {
     "data": {
      "text/html": [
       "<div>\n",
       "<style scoped>\n",
       "    .dataframe tbody tr th:only-of-type {\n",
       "        vertical-align: middle;\n",
       "    }\n",
       "\n",
       "    .dataframe tbody tr th {\n",
       "        vertical-align: top;\n",
       "    }\n",
       "\n",
       "    .dataframe thead th {\n",
       "        text-align: right;\n",
       "    }\n",
       "</style>\n",
       "<table border=\"1\" class=\"dataframe\">\n",
       "  <thead>\n",
       "    <tr style=\"text-align: right;\">\n",
       "      <th></th>\n",
       "      <th>type</th>\n",
       "      <th>id</th>\n",
       "      <th>subreddit.id</th>\n",
       "      <th>subreddit.name</th>\n",
       "      <th>subreddit.nsfw</th>\n",
       "      <th>created_utc</th>\n",
       "      <th>permalink</th>\n",
       "      <th>domain</th>\n",
       "      <th>url</th>\n",
       "      <th>selftext</th>\n",
       "      <th>title</th>\n",
       "      <th>score</th>\n",
       "    </tr>\n",
       "  </thead>\n",
       "  <tbody>\n",
       "    <tr>\n",
       "      <th>0</th>\n",
       "      <td>post</td>\n",
       "      <td>ftbp1i</td>\n",
       "      <td>2qh72</td>\n",
       "      <td>jokes</td>\n",
       "      <td>False</td>\n",
       "      <td>1585785543</td>\n",
       "      <td>https://old.reddit.com/r/Jokes/comments/ftbp1i...</td>\n",
       "      <td>self.jokes</td>\n",
       "      <td>NaN</td>\n",
       "      <td>My corona is covered with foreskin so it is no...</td>\n",
       "      <td>I am soooo glad I'm not circumcised!</td>\n",
       "      <td>2</td>\n",
       "    </tr>\n",
       "    <tr>\n",
       "      <th>1</th>\n",
       "      <td>post</td>\n",
       "      <td>ftboup</td>\n",
       "      <td>2qh72</td>\n",
       "      <td>jokes</td>\n",
       "      <td>False</td>\n",
       "      <td>1585785522</td>\n",
       "      <td>https://old.reddit.com/r/Jokes/comments/ftboup...</td>\n",
       "      <td>self.jokes</td>\n",
       "      <td>NaN</td>\n",
       "      <td>It's called Google Sheets.</td>\n",
       "      <td>Did you know Google now has a platform for rec...</td>\n",
       "      <td>9</td>\n",
       "    </tr>\n",
       "    <tr>\n",
       "      <th>2</th>\n",
       "      <td>post</td>\n",
       "      <td>ftbopj</td>\n",
       "      <td>2qh72</td>\n",
       "      <td>jokes</td>\n",
       "      <td>False</td>\n",
       "      <td>1585785508</td>\n",
       "      <td>https://old.reddit.com/r/Jokes/comments/ftbopj...</td>\n",
       "      <td>self.jokes</td>\n",
       "      <td>NaN</td>\n",
       "      <td>The vacuum doesn't snore after sex.\\n\\n&amp;amp;#x...</td>\n",
       "      <td>What is the difference between my wife and my ...</td>\n",
       "      <td>15</td>\n",
       "    </tr>\n",
       "    <tr>\n",
       "      <th>3</th>\n",
       "      <td>post</td>\n",
       "      <td>ftbnxh</td>\n",
       "      <td>2qh72</td>\n",
       "      <td>jokes</td>\n",
       "      <td>False</td>\n",
       "      <td>1585785428</td>\n",
       "      <td>https://old.reddit.com/r/Jokes/comments/ftbnxh...</td>\n",
       "      <td>self.jokes</td>\n",
       "      <td>NaN</td>\n",
       "      <td>[removed]</td>\n",
       "      <td>My last joke for now.</td>\n",
       "      <td>9</td>\n",
       "    </tr>\n",
       "    <tr>\n",
       "      <th>4</th>\n",
       "      <td>post</td>\n",
       "      <td>ftbjpg</td>\n",
       "      <td>2qh72</td>\n",
       "      <td>jokes</td>\n",
       "      <td>False</td>\n",
       "      <td>1585785009</td>\n",
       "      <td>https://old.reddit.com/r/Jokes/comments/ftbjpg...</td>\n",
       "      <td>self.jokes</td>\n",
       "      <td>NaN</td>\n",
       "      <td>[removed]</td>\n",
       "      <td>The Nintendo 64 turns 18 this week...</td>\n",
       "      <td>134</td>\n",
       "    </tr>\n",
       "  </tbody>\n",
       "</table>\n",
       "</div>"
      ],
      "text/plain": [
       "   type      id subreddit.id subreddit.name  subreddit.nsfw  created_utc  \\\n",
       "0  post  ftbp1i        2qh72          jokes           False   1585785543   \n",
       "1  post  ftboup        2qh72          jokes           False   1585785522   \n",
       "2  post  ftbopj        2qh72          jokes           False   1585785508   \n",
       "3  post  ftbnxh        2qh72          jokes           False   1585785428   \n",
       "4  post  ftbjpg        2qh72          jokes           False   1585785009   \n",
       "\n",
       "                                           permalink      domain  url  \\\n",
       "0  https://old.reddit.com/r/Jokes/comments/ftbp1i...  self.jokes  NaN   \n",
       "1  https://old.reddit.com/r/Jokes/comments/ftboup...  self.jokes  NaN   \n",
       "2  https://old.reddit.com/r/Jokes/comments/ftbopj...  self.jokes  NaN   \n",
       "3  https://old.reddit.com/r/Jokes/comments/ftbnxh...  self.jokes  NaN   \n",
       "4  https://old.reddit.com/r/Jokes/comments/ftbjpg...  self.jokes  NaN   \n",
       "\n",
       "                                            selftext  \\\n",
       "0  My corona is covered with foreskin so it is no...   \n",
       "1                         It's called Google Sheets.   \n",
       "2  The vacuum doesn't snore after sex.\\n\\n&amp;#x...   \n",
       "3                                          [removed]   \n",
       "4                                          [removed]   \n",
       "\n",
       "                                               title  score  \n",
       "0               I am soooo glad I'm not circumcised!      2  \n",
       "1  Did you know Google now has a platform for rec...      9  \n",
       "2  What is the difference between my wife and my ...     15  \n",
       "3                              My last joke for now.      9  \n",
       "4              The Nintendo 64 turns 18 this week...    134  "
      ]
     },
     "execution_count": 5,
     "metadata": {},
     "output_type": "execute_result"
    }
   ],
   "source": [
    "reddit_jokes_df = pd.read_csv('./data/one-million-reddit-jokes.csv')\n",
    "print('shape: ' + str(reddit_jokes_df.shape))\n",
    "reddit_jokes_df.head()"
   ]
  },
  {
   "cell_type": "markdown",
   "metadata": {
    "id": "cYIaXYY4ngcY"
   },
   "source": [
    "Already we can see a lot of unnecessary information, so cleanup is important. It seems the joke is divided in a title and selftext where often the punchline is present."
   ]
  },
  {
   "cell_type": "markdown",
   "metadata": {
    "id": "GVdPaj06lqNi"
   },
   "source": [
    "## Preparation\n",
    "\n",
    "here we perform tasks to prepare the data in a more pleasing format."
   ]
  },
  {
   "cell_type": "markdown",
   "metadata": {
    "id": "1Dnr7VhDrlx7"
   },
   "source": [
    "### Cleanup\n",
    "\n",
    "First thing I would like to do see which columns are useless, by printing the amount of unique values"
   ]
  },
  {
   "cell_type": "code",
   "execution_count": 6,
   "metadata": {
    "colab": {
     "base_uri": "https://localhost:8080/"
    },
    "executionInfo": {
     "elapsed": 2428,
     "status": "ok",
     "timestamp": 1637791131890,
     "user": {
      "displayName": "Lorenz Feyen",
      "photoUrl": "https://lh3.googleusercontent.com/a/default-user=s64",
      "userId": "13474410138118598994"
     },
     "user_tz": -60
    },
    "id": "FQTS4kL2pXTy",
    "outputId": "e63a5ba1-db5d-4e00-aa7d-f01b47feaa83"
   },
   "outputs": [
    {
     "name": "stdout",
     "output_type": "stream",
     "text": [
      "type\n",
      "1\n",
      "\n",
      "id\n",
      "1000000\n",
      "\n",
      "subreddit.id\n",
      "1\n",
      "\n",
      "subreddit.name\n",
      "1\n",
      "\n",
      "subreddit.nsfw\n",
      "1\n",
      "\n",
      "created_utc\n",
      "996373\n",
      "\n",
      "permalink\n",
      "1000000\n",
      "\n",
      "domain\n",
      "364\n",
      "\n",
      "url\n",
      "4410\n",
      "\n",
      "selftext\n",
      "520567\n",
      "\n",
      "title\n",
      "861254\n",
      "\n",
      "score\n",
      "8913\n",
      "\n"
     ]
    }
   ],
   "source": [
    "for col in reddit_jokes_df.columns:\n",
    "    print(col)\n",
    "    print(reddit_jokes_df[col].nunique())\n",
    "    print()"
   ]
  },
  {
   "cell_type": "markdown",
   "metadata": {
    "id": "waNIV--93M45"
   },
   "source": [
    "a few columns only have 1 value, also the links are not important for our case, so we drop them too."
   ]
  },
  {
   "cell_type": "code",
   "execution_count": 7,
   "metadata": {
    "colab": {
     "base_uri": "https://localhost:8080/",
     "height": 206
    },
    "executionInfo": {
     "elapsed": 40,
     "status": "ok",
     "timestamp": 1637791131891,
     "user": {
      "displayName": "Lorenz Feyen",
      "photoUrl": "https://lh3.googleusercontent.com/a/default-user=s64",
      "userId": "13474410138118598994"
     },
     "user_tz": -60
    },
    "id": "pX8PCqBzrn8U",
    "outputId": "9ae7dbbf-363b-4e2c-855b-b0afb0e6e189"
   },
   "outputs": [
    {
     "data": {
      "text/html": [
       "<div>\n",
       "<style scoped>\n",
       "    .dataframe tbody tr th:only-of-type {\n",
       "        vertical-align: middle;\n",
       "    }\n",
       "\n",
       "    .dataframe tbody tr th {\n",
       "        vertical-align: top;\n",
       "    }\n",
       "\n",
       "    .dataframe thead th {\n",
       "        text-align: right;\n",
       "    }\n",
       "</style>\n",
       "<table border=\"1\" class=\"dataframe\">\n",
       "  <thead>\n",
       "    <tr style=\"text-align: right;\">\n",
       "      <th></th>\n",
       "      <th>created_utc</th>\n",
       "      <th>domain</th>\n",
       "      <th>selftext</th>\n",
       "      <th>title</th>\n",
       "      <th>score</th>\n",
       "    </tr>\n",
       "  </thead>\n",
       "  <tbody>\n",
       "    <tr>\n",
       "      <th>0</th>\n",
       "      <td>1585785543</td>\n",
       "      <td>self.jokes</td>\n",
       "      <td>My corona is covered with foreskin so it is no...</td>\n",
       "      <td>I am soooo glad I'm not circumcised!</td>\n",
       "      <td>2</td>\n",
       "    </tr>\n",
       "    <tr>\n",
       "      <th>1</th>\n",
       "      <td>1585785522</td>\n",
       "      <td>self.jokes</td>\n",
       "      <td>It's called Google Sheets.</td>\n",
       "      <td>Did you know Google now has a platform for rec...</td>\n",
       "      <td>9</td>\n",
       "    </tr>\n",
       "    <tr>\n",
       "      <th>2</th>\n",
       "      <td>1585785508</td>\n",
       "      <td>self.jokes</td>\n",
       "      <td>The vacuum doesn't snore after sex.\\n\\n&amp;amp;#x...</td>\n",
       "      <td>What is the difference between my wife and my ...</td>\n",
       "      <td>15</td>\n",
       "    </tr>\n",
       "    <tr>\n",
       "      <th>3</th>\n",
       "      <td>1585785428</td>\n",
       "      <td>self.jokes</td>\n",
       "      <td>[removed]</td>\n",
       "      <td>My last joke for now.</td>\n",
       "      <td>9</td>\n",
       "    </tr>\n",
       "    <tr>\n",
       "      <th>4</th>\n",
       "      <td>1585785009</td>\n",
       "      <td>self.jokes</td>\n",
       "      <td>[removed]</td>\n",
       "      <td>The Nintendo 64 turns 18 this week...</td>\n",
       "      <td>134</td>\n",
       "    </tr>\n",
       "  </tbody>\n",
       "</table>\n",
       "</div>"
      ],
      "text/plain": [
       "   created_utc      domain                                           selftext  \\\n",
       "0   1585785543  self.jokes  My corona is covered with foreskin so it is no...   \n",
       "1   1585785522  self.jokes                         It's called Google Sheets.   \n",
       "2   1585785508  self.jokes  The vacuum doesn't snore after sex.\\n\\n&amp;#x...   \n",
       "3   1585785428  self.jokes                                          [removed]   \n",
       "4   1585785009  self.jokes                                          [removed]   \n",
       "\n",
       "                                               title  score  \n",
       "0               I am soooo glad I'm not circumcised!      2  \n",
       "1  Did you know Google now has a platform for rec...      9  \n",
       "2  What is the difference between my wife and my ...     15  \n",
       "3                              My last joke for now.      9  \n",
       "4              The Nintendo 64 turns 18 this week...    134  "
      ]
     },
     "execution_count": 7,
     "metadata": {},
     "output_type": "execute_result"
    }
   ],
   "source": [
    "reddit_jokes_df = reddit_jokes_df.drop(columns=['type', 'id', 'subreddit.id', 'subreddit.name', 'subreddit.nsfw', 'permalink', 'url'])\n",
    "reddit_jokes_df.head()"
   ]
  },
  {
   "cell_type": "markdown",
   "metadata": {
    "id": "N0YRO5KU3Wjn"
   },
   "source": [
    "much cleaner already!"
   ]
  },
  {
   "cell_type": "markdown",
   "metadata": {
    "id": "9Aye8STpr_zw"
   },
   "source": [
    "### Data Types\n",
    "\n",
    "Before we do anything with our data, it is good to see if our data types are in order"
   ]
  },
  {
   "cell_type": "code",
   "execution_count": 8,
   "metadata": {
    "colab": {
     "base_uri": "https://localhost:8080/"
    },
    "executionInfo": {
     "elapsed": 32,
     "status": "ok",
     "timestamp": 1637791131892,
     "user": {
      "displayName": "Lorenz Feyen",
      "photoUrl": "https://lh3.googleusercontent.com/a/default-user=s64",
      "userId": "13474410138118598994"
     },
     "user_tz": -60
    },
    "id": "zQekH_ZJsgio",
    "outputId": "462bf3e6-2392-4ccf-af5d-8b069448b480"
   },
   "outputs": [
    {
     "name": "stdout",
     "output_type": "stream",
     "text": [
      "<class 'pandas.core.frame.DataFrame'>\n",
      "RangeIndex: 1000000 entries, 0 to 999999\n",
      "Data columns (total 5 columns):\n",
      " #   Column       Non-Null Count    Dtype \n",
      "---  ------       --------------    ----- \n",
      " 0   created_utc  1000000 non-null  int64 \n",
      " 1   domain       1000000 non-null  object\n",
      " 2   selftext     995525 non-null   object\n",
      " 3   title        1000000 non-null  object\n",
      " 4   score        1000000 non-null  int64 \n",
      "dtypes: int64(2), object(3)\n",
      "memory usage: 38.1+ MB\n"
     ]
    }
   ],
   "source": [
    "reddit_jokes_df.info()"
   ]
  },
  {
   "cell_type": "markdown",
   "metadata": {
    "id": "1CDeUVIC3cQy"
   },
   "source": [
    "the created_utc feature is encoded in an unix timestamp, it would be more usefull to transform it to a timestamp"
   ]
  },
  {
   "cell_type": "code",
   "execution_count": 9,
   "metadata": {
    "colab": {
     "base_uri": "https://localhost:8080/",
     "height": 206
    },
    "executionInfo": {
     "elapsed": 19,
     "status": "ok",
     "timestamp": 1637791131893,
     "user": {
      "displayName": "Lorenz Feyen",
      "photoUrl": "https://lh3.googleusercontent.com/a/default-user=s64",
      "userId": "13474410138118598994"
     },
     "user_tz": -60
    },
    "id": "ePqQQ3CSs9S-",
    "outputId": "20016f90-824d-4f55-9826-724d7972edae"
   },
   "outputs": [
    {
     "data": {
      "text/html": [
       "<div>\n",
       "<style scoped>\n",
       "    .dataframe tbody tr th:only-of-type {\n",
       "        vertical-align: middle;\n",
       "    }\n",
       "\n",
       "    .dataframe tbody tr th {\n",
       "        vertical-align: top;\n",
       "    }\n",
       "\n",
       "    .dataframe thead th {\n",
       "        text-align: right;\n",
       "    }\n",
       "</style>\n",
       "<table border=\"1\" class=\"dataframe\">\n",
       "  <thead>\n",
       "    <tr style=\"text-align: right;\">\n",
       "      <th></th>\n",
       "      <th>domain</th>\n",
       "      <th>selftext</th>\n",
       "      <th>title</th>\n",
       "      <th>score</th>\n",
       "      <th>created</th>\n",
       "    </tr>\n",
       "  </thead>\n",
       "  <tbody>\n",
       "    <tr>\n",
       "      <th>0</th>\n",
       "      <td>self.jokes</td>\n",
       "      <td>My corona is covered with foreskin so it is no...</td>\n",
       "      <td>I am soooo glad I'm not circumcised!</td>\n",
       "      <td>2</td>\n",
       "      <td>2020-04-01 23:59:03</td>\n",
       "    </tr>\n",
       "    <tr>\n",
       "      <th>1</th>\n",
       "      <td>self.jokes</td>\n",
       "      <td>It's called Google Sheets.</td>\n",
       "      <td>Did you know Google now has a platform for rec...</td>\n",
       "      <td>9</td>\n",
       "      <td>2020-04-01 23:58:42</td>\n",
       "    </tr>\n",
       "    <tr>\n",
       "      <th>2</th>\n",
       "      <td>self.jokes</td>\n",
       "      <td>The vacuum doesn't snore after sex.\\n\\n&amp;amp;#x...</td>\n",
       "      <td>What is the difference between my wife and my ...</td>\n",
       "      <td>15</td>\n",
       "      <td>2020-04-01 23:58:28</td>\n",
       "    </tr>\n",
       "    <tr>\n",
       "      <th>3</th>\n",
       "      <td>self.jokes</td>\n",
       "      <td>[removed]</td>\n",
       "      <td>My last joke for now.</td>\n",
       "      <td>9</td>\n",
       "      <td>2020-04-01 23:57:08</td>\n",
       "    </tr>\n",
       "    <tr>\n",
       "      <th>4</th>\n",
       "      <td>self.jokes</td>\n",
       "      <td>[removed]</td>\n",
       "      <td>The Nintendo 64 turns 18 this week...</td>\n",
       "      <td>134</td>\n",
       "      <td>2020-04-01 23:50:09</td>\n",
       "    </tr>\n",
       "  </tbody>\n",
       "</table>\n",
       "</div>"
      ],
      "text/plain": [
       "       domain                                           selftext  \\\n",
       "0  self.jokes  My corona is covered with foreskin so it is no...   \n",
       "1  self.jokes                         It's called Google Sheets.   \n",
       "2  self.jokes  The vacuum doesn't snore after sex.\\n\\n&amp;#x...   \n",
       "3  self.jokes                                          [removed]   \n",
       "4  self.jokes                                          [removed]   \n",
       "\n",
       "                                               title  score  \\\n",
       "0               I am soooo glad I'm not circumcised!      2   \n",
       "1  Did you know Google now has a platform for rec...      9   \n",
       "2  What is the difference between my wife and my ...     15   \n",
       "3                              My last joke for now.      9   \n",
       "4              The Nintendo 64 turns 18 this week...    134   \n",
       "\n",
       "              created  \n",
       "0 2020-04-01 23:59:03  \n",
       "1 2020-04-01 23:58:42  \n",
       "2 2020-04-01 23:58:28  \n",
       "3 2020-04-01 23:57:08  \n",
       "4 2020-04-01 23:50:09  "
      ]
     },
     "execution_count": 9,
     "metadata": {},
     "output_type": "execute_result"
    }
   ],
   "source": [
    "reddit_jokes_df['created'] = pd.to_datetime(reddit_jokes_df['created_utc'], unit='s')\n",
    "del reddit_jokes_df['created_utc']\n",
    "reddit_jokes_df.head()"
   ]
  },
  {
   "cell_type": "markdown",
   "metadata": {
    "id": "xIu5quuIl4sA"
   },
   "source": [
    "### Missing values\n",
    "\n",
    "for each dataframe we apply a few checks in order to see the quality of data"
   ]
  },
  {
   "cell_type": "code",
   "execution_count": 10,
   "metadata": {
    "colab": {
     "base_uri": "https://localhost:8080/"
    },
    "executionInfo": {
     "elapsed": 439,
     "status": "ok",
     "timestamp": 1637791132318,
     "user": {
      "displayName": "Lorenz Feyen",
      "photoUrl": "https://lh3.googleusercontent.com/a/default-user=s64",
      "userId": "13474410138118598994"
     },
     "user_tz": -60
    },
    "id": "VcvGAWNolono",
    "outputId": "3f481b84-80c2-4909-ebee-7bc494b00ed2"
   },
   "outputs": [
    {
     "name": "stdout",
     "output_type": "stream",
     "text": [
      "domain      0.0000\n",
      "selftext    0.4475\n",
      "title       0.0000\n",
      "score       0.0000\n",
      "created     0.0000\n",
      "dtype: float64\n"
     ]
    }
   ],
   "source": [
    "print(100*reddit_jokes_df.isna().sum()/reddit_jokes_df.shape[0])"
   ]
  },
  {
   "cell_type": "markdown",
   "metadata": {
    "id": "XpjfcYxg3tDd"
   },
   "source": [
    "it looks like some jokes are missing the selftext field, we show a few here."
   ]
  },
  {
   "cell_type": "code",
   "execution_count": 11,
   "metadata": {
    "colab": {
     "base_uri": "https://localhost:8080/",
     "height": 424
    },
    "executionInfo": {
     "elapsed": 19,
     "status": "ok",
     "timestamp": 1637791132319,
     "user": {
      "displayName": "Lorenz Feyen",
      "photoUrl": "https://lh3.googleusercontent.com/a/default-user=s64",
      "userId": "13474410138118598994"
     },
     "user_tz": -60
    },
    "id": "JwBOmWHytnjz",
    "outputId": "24041b12-7700-467e-d8d6-d0c7b4de12ac"
   },
   "outputs": [
    {
     "data": {
      "text/html": [
       "<div>\n",
       "<style scoped>\n",
       "    .dataframe tbody tr th:only-of-type {\n",
       "        vertical-align: middle;\n",
       "    }\n",
       "\n",
       "    .dataframe tbody tr th {\n",
       "        vertical-align: top;\n",
       "    }\n",
       "\n",
       "    .dataframe thead th {\n",
       "        text-align: right;\n",
       "    }\n",
       "</style>\n",
       "<table border=\"1\" class=\"dataframe\">\n",
       "  <thead>\n",
       "    <tr style=\"text-align: right;\">\n",
       "      <th></th>\n",
       "      <th>domain</th>\n",
       "      <th>selftext</th>\n",
       "      <th>title</th>\n",
       "      <th>score</th>\n",
       "      <th>created</th>\n",
       "    </tr>\n",
       "  </thead>\n",
       "  <tbody>\n",
       "    <tr>\n",
       "      <th>625315</th>\n",
       "      <td>imgur.com</td>\n",
       "      <td>NaN</td>\n",
       "      <td>The funniest /r/jokes has ever been</td>\n",
       "      <td>67950</td>\n",
       "      <td>2017-05-20 15:41:28</td>\n",
       "    </tr>\n",
       "    <tr>\n",
       "      <th>971313</th>\n",
       "      <td>self.jokes</td>\n",
       "      <td>NaN</td>\n",
       "      <td>Ellen Pao's career</td>\n",
       "      <td>36918</td>\n",
       "      <td>2015-07-03 15:41:05</td>\n",
       "    </tr>\n",
       "    <tr>\n",
       "      <th>942471</th>\n",
       "      <td>self.jokes</td>\n",
       "      <td>NaN</td>\n",
       "      <td>If a woman sleeps with a bunch of guys, she's ...</td>\n",
       "      <td>17486</td>\n",
       "      <td>2015-10-05 16:09:09</td>\n",
       "    </tr>\n",
       "    <tr>\n",
       "      <th>926550</th>\n",
       "      <td>self.jokes</td>\n",
       "      <td>NaN</td>\n",
       "      <td>One in every 2 and a half men is HIV positive.</td>\n",
       "      <td>17456</td>\n",
       "      <td>2015-11-18 04:29:54</td>\n",
       "    </tr>\n",
       "    <tr>\n",
       "      <th>919422</th>\n",
       "      <td>self.jokes</td>\n",
       "      <td>NaN</td>\n",
       "      <td>Accordion to a recent survey, replacing words ...</td>\n",
       "      <td>12580</td>\n",
       "      <td>2015-12-07 18:55:27</td>\n",
       "    </tr>\n",
       "    <tr>\n",
       "      <th>...</th>\n",
       "      <td>...</td>\n",
       "      <td>...</td>\n",
       "      <td>...</td>\n",
       "      <td>...</td>\n",
       "      <td>...</td>\n",
       "    </tr>\n",
       "    <tr>\n",
       "      <th>929807</th>\n",
       "      <td>self.jokes</td>\n",
       "      <td>NaN</td>\n",
       "      <td>9gag</td>\n",
       "      <td>0</td>\n",
       "      <td>2015-11-09 03:33:22</td>\n",
       "    </tr>\n",
       "    <tr>\n",
       "      <th>959394</th>\n",
       "      <td>self.jokes</td>\n",
       "      <td>NaN</td>\n",
       "      <td>Like flaming globes of Sigmund</td>\n",
       "      <td>0</td>\n",
       "      <td>2015-08-14 13:40:21</td>\n",
       "    </tr>\n",
       "    <tr>\n",
       "      <th>929809</th>\n",
       "      <td>self.jokes</td>\n",
       "      <td>NaN</td>\n",
       "      <td>On a scale of 10 to 10, how good am I at givin...</td>\n",
       "      <td>0</td>\n",
       "      <td>2015-11-09 03:26:55</td>\n",
       "    </tr>\n",
       "    <tr>\n",
       "      <th>959338</th>\n",
       "      <td>self.jokes</td>\n",
       "      <td>NaN</td>\n",
       "      <td>Who is Julius Caesar's favorite singer? Mark A...</td>\n",
       "      <td>0</td>\n",
       "      <td>2015-08-14 17:03:55</td>\n",
       "    </tr>\n",
       "    <tr>\n",
       "      <th>999984</th>\n",
       "      <td>self.jokes</td>\n",
       "      <td>NaN</td>\n",
       "      <td>One direction should be renamed 0.8 Direction</td>\n",
       "      <td>0</td>\n",
       "      <td>2015-03-26 19:57:54</td>\n",
       "    </tr>\n",
       "  </tbody>\n",
       "</table>\n",
       "<p>4475 rows × 5 columns</p>\n",
       "</div>"
      ],
      "text/plain": [
       "            domain selftext  \\\n",
       "625315   imgur.com      NaN   \n",
       "971313  self.jokes      NaN   \n",
       "942471  self.jokes      NaN   \n",
       "926550  self.jokes      NaN   \n",
       "919422  self.jokes      NaN   \n",
       "...            ...      ...   \n",
       "929807  self.jokes      NaN   \n",
       "959394  self.jokes      NaN   \n",
       "929809  self.jokes      NaN   \n",
       "959338  self.jokes      NaN   \n",
       "999984  self.jokes      NaN   \n",
       "\n",
       "                                                    title  score  \\\n",
       "625315                The funniest /r/jokes has ever been  67950   \n",
       "971313                                 Ellen Pao's career  36918   \n",
       "942471  If a woman sleeps with a bunch of guys, she's ...  17486   \n",
       "926550     One in every 2 and a half men is HIV positive.  17456   \n",
       "919422  Accordion to a recent survey, replacing words ...  12580   \n",
       "...                                                   ...    ...   \n",
       "929807                                               9gag      0   \n",
       "959394                     Like flaming globes of Sigmund      0   \n",
       "929809  On a scale of 10 to 10, how good am I at givin...      0   \n",
       "959338  Who is Julius Caesar's favorite singer? Mark A...      0   \n",
       "999984      One direction should be renamed 0.8 Direction      0   \n",
       "\n",
       "                   created  \n",
       "625315 2017-05-20 15:41:28  \n",
       "971313 2015-07-03 15:41:05  \n",
       "942471 2015-10-05 16:09:09  \n",
       "926550 2015-11-18 04:29:54  \n",
       "919422 2015-12-07 18:55:27  \n",
       "...                    ...  \n",
       "929807 2015-11-09 03:33:22  \n",
       "959394 2015-08-14 13:40:21  \n",
       "929809 2015-11-09 03:26:55  \n",
       "959338 2015-08-14 17:03:55  \n",
       "999984 2015-03-26 19:57:54  \n",
       "\n",
       "[4475 rows x 5 columns]"
      ]
     },
     "execution_count": 11,
     "metadata": {},
     "output_type": "execute_result"
    }
   ],
   "source": [
    "reddit_jokes_df[reddit_jokes_df.selftext.isna()].sort_values(by='score', ascending=False)"
   ]
  },
  {
   "cell_type": "markdown",
   "metadata": {
    "id": "47VRXTbq3zWm"
   },
   "source": [
    "as far as I can see here the jokes are so short they are only one sentence, so we can fill in the missing values with an empty text."
   ]
  },
  {
   "cell_type": "code",
   "execution_count": 12,
   "metadata": {
    "executionInfo": {
     "elapsed": 18,
     "status": "ok",
     "timestamp": 1637791132322,
     "user": {
      "displayName": "Lorenz Feyen",
      "photoUrl": "https://lh3.googleusercontent.com/a/default-user=s64",
      "userId": "13474410138118598994"
     },
     "user_tz": -60
    },
    "id": "-rUbvCGi4968"
   },
   "outputs": [],
   "source": [
    "reddit_jokes_df.selftext = reddit_jokes_df.selftext.fillna('')"
   ]
  },
  {
   "cell_type": "markdown",
   "metadata": {
    "id": "hfTnsvVA39QR"
   },
   "source": [
    "This does not mean we are done, earlier I noticed the words [removed] and [deleted] in the selftext feature, indicating the joke was removed or deleted, these are missing values!"
   ]
  },
  {
   "cell_type": "code",
   "execution_count": 13,
   "metadata": {
    "colab": {
     "base_uri": "https://localhost:8080/",
     "height": 206
    },
    "executionInfo": {
     "elapsed": 367,
     "status": "ok",
     "timestamp": 1637791132675,
     "user": {
      "displayName": "Lorenz Feyen",
      "photoUrl": "https://lh3.googleusercontent.com/a/default-user=s64",
      "userId": "13474410138118598994"
     },
     "user_tz": -60
    },
    "id": "sbJk10NrxI6L",
    "outputId": "554febd8-2d6a-4dd9-ca48-1693723b7af4"
   },
   "outputs": [
    {
     "data": {
      "text/html": [
       "<div>\n",
       "<style scoped>\n",
       "    .dataframe tbody tr th:only-of-type {\n",
       "        vertical-align: middle;\n",
       "    }\n",
       "\n",
       "    .dataframe tbody tr th {\n",
       "        vertical-align: top;\n",
       "    }\n",
       "\n",
       "    .dataframe thead th {\n",
       "        text-align: right;\n",
       "    }\n",
       "</style>\n",
       "<table border=\"1\" class=\"dataframe\">\n",
       "  <thead>\n",
       "    <tr style=\"text-align: right;\">\n",
       "      <th></th>\n",
       "      <th>domain</th>\n",
       "      <th>selftext</th>\n",
       "      <th>title</th>\n",
       "      <th>score</th>\n",
       "      <th>created</th>\n",
       "    </tr>\n",
       "  </thead>\n",
       "  <tbody>\n",
       "    <tr>\n",
       "      <th>3</th>\n",
       "      <td>self.jokes</td>\n",
       "      <td>[removed]</td>\n",
       "      <td>My last joke for now.</td>\n",
       "      <td>9</td>\n",
       "      <td>2020-04-01 23:57:08</td>\n",
       "    </tr>\n",
       "    <tr>\n",
       "      <th>4</th>\n",
       "      <td>self.jokes</td>\n",
       "      <td>[removed]</td>\n",
       "      <td>The Nintendo 64 turns 18 this week...</td>\n",
       "      <td>134</td>\n",
       "      <td>2020-04-01 23:50:09</td>\n",
       "    </tr>\n",
       "    <tr>\n",
       "      <th>5</th>\n",
       "      <td>self.jokes</td>\n",
       "      <td>[removed]</td>\n",
       "      <td>Sex with teacher.</td>\n",
       "      <td>1</td>\n",
       "      <td>2020-04-01 23:49:55</td>\n",
       "    </tr>\n",
       "    <tr>\n",
       "      <th>6</th>\n",
       "      <td>self.jokes</td>\n",
       "      <td>[removed]</td>\n",
       "      <td>Another long one.</td>\n",
       "      <td>8</td>\n",
       "      <td>2020-04-01 23:44:11</td>\n",
       "    </tr>\n",
       "    <tr>\n",
       "      <th>8</th>\n",
       "      <td>self.jokes</td>\n",
       "      <td>[removed]</td>\n",
       "      <td>A Priest takes a walk down to the docks one day</td>\n",
       "      <td>88</td>\n",
       "      <td>2020-04-01 23:39:27</td>\n",
       "    </tr>\n",
       "  </tbody>\n",
       "</table>\n",
       "</div>"
      ],
      "text/plain": [
       "       domain   selftext                                            title  \\\n",
       "3  self.jokes  [removed]                            My last joke for now.   \n",
       "4  self.jokes  [removed]            The Nintendo 64 turns 18 this week...   \n",
       "5  self.jokes  [removed]                                Sex with teacher.   \n",
       "6  self.jokes  [removed]                                Another long one.   \n",
       "8  self.jokes  [removed]  A Priest takes a walk down to the docks one day   \n",
       "\n",
       "   score             created  \n",
       "3      9 2020-04-01 23:57:08  \n",
       "4    134 2020-04-01 23:50:09  \n",
       "5      1 2020-04-01 23:49:55  \n",
       "6      8 2020-04-01 23:44:11  \n",
       "8     88 2020-04-01 23:39:27  "
      ]
     },
     "execution_count": 13,
     "metadata": {},
     "output_type": "execute_result"
    }
   ],
   "source": [
    "reddit_jokes_df[reddit_jokes_df.selftext.isin(['[removed]', '[deleted]'])].head()"
   ]
  },
  {
   "cell_type": "markdown",
   "metadata": {
    "id": "nyyEJ16_4KAG"
   },
   "source": [
    "I am going to remove these jokes as they are not complete anymore, it might have been that these jokes have been removed as they have already been posted."
   ]
  },
  {
   "cell_type": "code",
   "execution_count": 14,
   "metadata": {
    "colab": {
     "base_uri": "https://localhost:8080/"
    },
    "executionInfo": {
     "elapsed": 9,
     "status": "ok",
     "timestamp": 1637791132676,
     "user": {
      "displayName": "Lorenz Feyen",
      "photoUrl": "https://lh3.googleusercontent.com/a/default-user=s64",
      "userId": "13474410138118598994"
     },
     "user_tz": -60
    },
    "id": "Q_lZfEIJxI9V",
    "outputId": "eec6bfe4-9c2a-4c1e-f359-add7dec6ffe8"
   },
   "outputs": [
    {
     "data": {
      "text/plain": [
       "(578637, 5)"
      ]
     },
     "execution_count": 14,
     "metadata": {},
     "output_type": "execute_result"
    }
   ],
   "source": [
    "reddit_jokes_df = reddit_jokes_df[~reddit_jokes_df.selftext.isin(['[removed]', '[deleted]'])]\n",
    "reddit_jokes_df.shape"
   ]
  },
  {
   "cell_type": "markdown",
   "metadata": {
    "id": "6OIAs-wJvThP"
   },
   "source": [
    "seems we have kept about 578k jokes, not bad!"
   ]
  },
  {
   "cell_type": "markdown",
   "metadata": {
    "id": "o_WUiGdgr3lV"
   },
   "source": [
    "### Duplicates\n",
    "\n",
    "As formatting of text might be different i'm not expecting a lot of duplicates, let's see what we can find."
   ]
  },
  {
   "cell_type": "code",
   "execution_count": 15,
   "metadata": {
    "colab": {
     "base_uri": "https://localhost:8080/",
     "height": 424
    },
    "executionInfo": {
     "elapsed": 1591,
     "status": "ok",
     "timestamp": 1637791134262,
     "user": {
      "displayName": "Lorenz Feyen",
      "photoUrl": "https://lh3.googleusercontent.com/a/default-user=s64",
      "userId": "13474410138118598994"
     },
     "user_tz": -60
    },
    "id": "9W2yyhZAmpY5",
    "outputId": "2ebe79c1-b2fd-48d2-ab8b-cf7d3c5da113"
   },
   "outputs": [
    {
     "data": {
      "text/html": [
       "<div>\n",
       "<style scoped>\n",
       "    .dataframe tbody tr th:only-of-type {\n",
       "        vertical-align: middle;\n",
       "    }\n",
       "\n",
       "    .dataframe tbody tr th {\n",
       "        vertical-align: top;\n",
       "    }\n",
       "\n",
       "    .dataframe thead th {\n",
       "        text-align: right;\n",
       "    }\n",
       "</style>\n",
       "<table border=\"1\" class=\"dataframe\">\n",
       "  <thead>\n",
       "    <tr style=\"text-align: right;\">\n",
       "      <th></th>\n",
       "      <th>domain</th>\n",
       "      <th>selftext</th>\n",
       "      <th>title</th>\n",
       "      <th>score</th>\n",
       "      <th>created</th>\n",
       "    </tr>\n",
       "  </thead>\n",
       "  <tbody>\n",
       "    <tr>\n",
       "      <th>211</th>\n",
       "      <td>self.jokes</td>\n",
       "      <td>An academia nut..</td>\n",
       "      <td>What do you call a nut that gets good grades?</td>\n",
       "      <td>5</td>\n",
       "      <td>2020-04-01 18:54:06</td>\n",
       "    </tr>\n",
       "    <tr>\n",
       "      <th>4452</th>\n",
       "      <td>self.jokes</td>\n",
       "      <td>Repossssssssst</td>\n",
       "      <td>If a snake who is on reddit has to comment a r...</td>\n",
       "      <td>0</td>\n",
       "      <td>2020-03-27 09:16:20</td>\n",
       "    </tr>\n",
       "    <tr>\n",
       "      <th>6349</th>\n",
       "      <td>self.jokes</td>\n",
       "      <td>“To Japan,” replies her husband. \\n\\n“Oh my! T...</td>\n",
       "      <td>A woman asks her husband where he’s taking the...</td>\n",
       "      <td>4</td>\n",
       "      <td>2020-03-25 00:48:09</td>\n",
       "    </tr>\n",
       "    <tr>\n",
       "      <th>6881</th>\n",
       "      <td>self.jokes</td>\n",
       "      <td>Fortunately, I belong to the 1% of intelligent...</td>\n",
       "      <td>99.9% of people are idiots.</td>\n",
       "      <td>45135</td>\n",
       "      <td>2020-03-24 09:40:14</td>\n",
       "    </tr>\n",
       "    <tr>\n",
       "      <th>8299</th>\n",
       "      <td>self.jokes</td>\n",
       "      <td>You tell it a shitty joke.</td>\n",
       "      <td>How do you get a toilet to laugh?</td>\n",
       "      <td>0</td>\n",
       "      <td>2020-03-22 07:49:45</td>\n",
       "    </tr>\n",
       "    <tr>\n",
       "      <th>...</th>\n",
       "      <td>...</td>\n",
       "      <td>...</td>\n",
       "      <td>...</td>\n",
       "      <td>...</td>\n",
       "      <td>...</td>\n",
       "    </tr>\n",
       "    <tr>\n",
       "      <th>999779</th>\n",
       "      <td>self.jokes</td>\n",
       "      <td>Dam.</td>\n",
       "      <td>What did the fish say when he hit the wall?</td>\n",
       "      <td>25</td>\n",
       "      <td>2015-03-27 10:33:12</td>\n",
       "    </tr>\n",
       "    <tr>\n",
       "      <th>999851</th>\n",
       "      <td>self.jokes</td>\n",
       "      <td>He tractor down.</td>\n",
       "      <td>How did the farmer find his wife?</td>\n",
       "      <td>58</td>\n",
       "      <td>2015-03-27 02:42:29</td>\n",
       "    </tr>\n",
       "    <tr>\n",
       "      <th>999882</th>\n",
       "      <td>self.jokes</td>\n",
       "      <td></td>\n",
       "      <td>women's rights</td>\n",
       "      <td>0</td>\n",
       "      <td>2015-03-27 00:48:36</td>\n",
       "    </tr>\n",
       "    <tr>\n",
       "      <th>999936</th>\n",
       "      <td>self.jokes</td>\n",
       "      <td>Don't be stupid, feminists can't change anything</td>\n",
       "      <td>How many feminists does it take to change a li...</td>\n",
       "      <td>24</td>\n",
       "      <td>2015-03-26 22:00:06</td>\n",
       "    </tr>\n",
       "    <tr>\n",
       "      <th>999979</th>\n",
       "      <td>self.jokes</td>\n",
       "      <td>Smoke</td>\n",
       "      <td>What do you call a flying Jew?</td>\n",
       "      <td>0</td>\n",
       "      <td>2015-03-26 20:16:34</td>\n",
       "    </tr>\n",
       "  </tbody>\n",
       "</table>\n",
       "<p>12867 rows × 5 columns</p>\n",
       "</div>"
      ],
      "text/plain": [
       "            domain                                           selftext  \\\n",
       "211     self.jokes                                  An academia nut..   \n",
       "4452    self.jokes                                     Repossssssssst   \n",
       "6349    self.jokes  “To Japan,” replies her husband. \\n\\n“Oh my! T...   \n",
       "6881    self.jokes  Fortunately, I belong to the 1% of intelligent...   \n",
       "8299    self.jokes                         You tell it a shitty joke.   \n",
       "...            ...                                                ...   \n",
       "999779  self.jokes                                               Dam.   \n",
       "999851  self.jokes                                   He tractor down.   \n",
       "999882  self.jokes                                                      \n",
       "999936  self.jokes   Don't be stupid, feminists can't change anything   \n",
       "999979  self.jokes                                              Smoke   \n",
       "\n",
       "                                                    title  score  \\\n",
       "211         What do you call a nut that gets good grades?      5   \n",
       "4452    If a snake who is on reddit has to comment a r...      0   \n",
       "6349    A woman asks her husband where he’s taking the...      4   \n",
       "6881                          99.9% of people are idiots.  45135   \n",
       "8299                    How do you get a toilet to laugh?      0   \n",
       "...                                                   ...    ...   \n",
       "999779        What did the fish say when he hit the wall?     25   \n",
       "999851                  How did the farmer find his wife?     58   \n",
       "999882                                     women's rights      0   \n",
       "999936  How many feminists does it take to change a li...     24   \n",
       "999979                     What do you call a flying Jew?      0   \n",
       "\n",
       "                   created  \n",
       "211    2020-04-01 18:54:06  \n",
       "4452   2020-03-27 09:16:20  \n",
       "6349   2020-03-25 00:48:09  \n",
       "6881   2020-03-24 09:40:14  \n",
       "8299   2020-03-22 07:49:45  \n",
       "...                    ...  \n",
       "999779 2015-03-27 10:33:12  \n",
       "999851 2015-03-27 02:42:29  \n",
       "999882 2015-03-27 00:48:36  \n",
       "999936 2015-03-26 22:00:06  \n",
       "999979 2015-03-26 20:16:34  \n",
       "\n",
       "[12867 rows x 5 columns]"
      ]
     },
     "execution_count": 15,
     "metadata": {},
     "output_type": "execute_result"
    }
   ],
   "source": [
    "reddit_jokes_df[reddit_jokes_df.duplicated(subset=['title', 'selftext'])]"
   ]
  },
  {
   "cell_type": "markdown",
   "metadata": {
    "id": "Btr9V-ELASO_"
   },
   "source": [
    "A fair amount of jokes are reposted, so we keep the ones with the highest score."
   ]
  },
  {
   "cell_type": "code",
   "execution_count": 16,
   "metadata": {
    "executionInfo": {
     "elapsed": 357,
     "status": "ok",
     "timestamp": 1637791134615,
     "user": {
      "displayName": "Lorenz Feyen",
      "photoUrl": "https://lh3.googleusercontent.com/a/default-user=s64",
      "userId": "13474410138118598994"
     },
     "user_tz": -60
    },
    "id": "_Dk0Vz8ABajO"
   },
   "outputs": [],
   "source": [
    " reddit_jokes_df = reddit_jokes_df.sort_values('score').drop_duplicates(subset=['title', 'selftext'], keep='last').reset_index()"
   ]
  },
  {
   "cell_type": "markdown",
   "metadata": {
    "id": "sQWbNx-Yr1gy"
   },
   "source": [
    "### Text formatting\n",
    "\n",
    "Before we can analyze the text in the jokes we have to format it. We can do this by removing all special character and changing it all to lowercase"
   ]
  },
  {
   "cell_type": "code",
   "execution_count": 17,
   "metadata": {
    "colab": {
     "base_uri": "https://localhost:8080/",
     "height": 206
    },
    "executionInfo": {
     "elapsed": 4808,
     "status": "ok",
     "timestamp": 1637791139420,
     "user": {
      "displayName": "Lorenz Feyen",
      "photoUrl": "https://lh3.googleusercontent.com/a/default-user=s64",
      "userId": "13474410138118598994"
     },
     "user_tz": -60
    },
    "id": "EBjVauOl1KWJ",
    "outputId": "6ebb3baf-ce01-4641-a5fa-4f76b85bcf8a"
   },
   "outputs": [
    {
     "data": {
      "text/html": [
       "<div>\n",
       "<style scoped>\n",
       "    .dataframe tbody tr th:only-of-type {\n",
       "        vertical-align: middle;\n",
       "    }\n",
       "\n",
       "    .dataframe tbody tr th {\n",
       "        vertical-align: top;\n",
       "    }\n",
       "\n",
       "    .dataframe thead th {\n",
       "        text-align: right;\n",
       "    }\n",
       "</style>\n",
       "<table border=\"1\" class=\"dataframe\">\n",
       "  <thead>\n",
       "    <tr style=\"text-align: right;\">\n",
       "      <th></th>\n",
       "      <th>index</th>\n",
       "      <th>domain</th>\n",
       "      <th>selftext</th>\n",
       "      <th>title</th>\n",
       "      <th>score</th>\n",
       "      <th>created</th>\n",
       "    </tr>\n",
       "  </thead>\n",
       "  <tbody>\n",
       "    <tr>\n",
       "      <th>0</th>\n",
       "      <td>630580</td>\n",
       "      <td>self.jokes</td>\n",
       "      <td>those who need closure,</td>\n",
       "      <td>there are two kinds of people in the world.</td>\n",
       "      <td>0</td>\n",
       "      <td>2017-05-12 17:01:44</td>\n",
       "    </tr>\n",
       "    <tr>\n",
       "      <th>1</th>\n",
       "      <td>187066</td>\n",
       "      <td>self.jokes</td>\n",
       "      <td>so when someone asks you can say its .</td>\n",
       "      <td>set your wifi password to</td>\n",
       "      <td>0</td>\n",
       "      <td>2019-05-28 00:30:46</td>\n",
       "    </tr>\n",
       "    <tr>\n",
       "      <th>2</th>\n",
       "      <td>437464</td>\n",
       "      <td>self.jokes</td>\n",
       "      <td>tooth hurty!</td>\n",
       "      <td>at what time do you see your dentist?</td>\n",
       "      <td>0</td>\n",
       "      <td>2018-03-28 10:17:26</td>\n",
       "    </tr>\n",
       "    <tr>\n",
       "      <th>3</th>\n",
       "      <td>714598</td>\n",
       "      <td>self.jokes</td>\n",
       "      <td>where did you get a phone that works in spaini...</td>\n",
       "      <td>john and juan are on lunch break when juans ph...</td>\n",
       "      <td>0</td>\n",
       "      <td>2017-01-13 02:37:59</td>\n",
       "    </tr>\n",
       "    <tr>\n",
       "      <th>4</th>\n",
       "      <td>187072</td>\n",
       "      <td>self.jokes</td>\n",
       "      <td>me how many am i allowed?guy only one me well ...</td>\n",
       "      <td>a guy is handing out free fake mustaches on th...</td>\n",
       "      <td>0</td>\n",
       "      <td>2019-05-28 00:20:01</td>\n",
       "    </tr>\n",
       "  </tbody>\n",
       "</table>\n",
       "</div>"
      ],
      "text/plain": [
       "    index      domain                                           selftext  \\\n",
       "0  630580  self.jokes                            those who need closure,   \n",
       "1  187066  self.jokes             so when someone asks you can say its .   \n",
       "2  437464  self.jokes                                       tooth hurty!   \n",
       "3  714598  self.jokes  where did you get a phone that works in spaini...   \n",
       "4  187072  self.jokes  me how many am i allowed?guy only one me well ...   \n",
       "\n",
       "                                               title  score  \\\n",
       "0        there are two kinds of people in the world.      0   \n",
       "1                         set your wifi password to       0   \n",
       "2              at what time do you see your dentist?      0   \n",
       "3  john and juan are on lunch break when juans ph...      0   \n",
       "4  a guy is handing out free fake mustaches on th...      0   \n",
       "\n",
       "              created  \n",
       "0 2017-05-12 17:01:44  \n",
       "1 2019-05-28 00:30:46  \n",
       "2 2018-03-28 10:17:26  \n",
       "3 2017-01-13 02:37:59  \n",
       "4 2019-05-28 00:20:01  "
      ]
     },
     "execution_count": 17,
     "metadata": {},
     "output_type": "execute_result"
    }
   ],
   "source": [
    "for col in ['selftext', 'title']:\n",
    "    reddit_jokes_df[col] = reddit_jokes_df[col].replace(to_replace=\"[^a-zA-Z,.!? ]\", value=\"\", regex=True).str.lower()\n",
    "\n",
    "reddit_jokes_df.head()"
   ]
  },
  {
   "cell_type": "markdown",
   "metadata": {
    "id": "nQapOm3c5sg0"
   },
   "source": [
    "Next we create a single joke by combining the title and selftext, this makes it easier to operate."
   ]
  },
  {
   "cell_type": "code",
   "execution_count": 18,
   "metadata": {
    "colab": {
     "base_uri": "https://localhost:8080/",
     "height": 206
    },
    "executionInfo": {
     "elapsed": 420,
     "status": "ok",
     "timestamp": 1637791139832,
     "user": {
      "displayName": "Lorenz Feyen",
      "photoUrl": "https://lh3.googleusercontent.com/a/default-user=s64",
      "userId": "13474410138118598994"
     },
     "user_tz": -60
    },
    "id": "Vch6gPLK2oF2",
    "outputId": "32d32980-bdcc-4959-9663-709b7a7b4d5b"
   },
   "outputs": [
    {
     "data": {
      "text/html": [
       "<div>\n",
       "<style scoped>\n",
       "    .dataframe tbody tr th:only-of-type {\n",
       "        vertical-align: middle;\n",
       "    }\n",
       "\n",
       "    .dataframe tbody tr th {\n",
       "        vertical-align: top;\n",
       "    }\n",
       "\n",
       "    .dataframe thead th {\n",
       "        text-align: right;\n",
       "    }\n",
       "</style>\n",
       "<table border=\"1\" class=\"dataframe\">\n",
       "  <thead>\n",
       "    <tr style=\"text-align: right;\">\n",
       "      <th></th>\n",
       "      <th>index</th>\n",
       "      <th>domain</th>\n",
       "      <th>score</th>\n",
       "      <th>created</th>\n",
       "      <th>joke</th>\n",
       "    </tr>\n",
       "  </thead>\n",
       "  <tbody>\n",
       "    <tr>\n",
       "      <th>0</th>\n",
       "      <td>630580</td>\n",
       "      <td>self.jokes</td>\n",
       "      <td>0</td>\n",
       "      <td>2017-05-12 17:01:44</td>\n",
       "      <td>there are two kinds of people in the world. th...</td>\n",
       "    </tr>\n",
       "    <tr>\n",
       "      <th>1</th>\n",
       "      <td>187066</td>\n",
       "      <td>self.jokes</td>\n",
       "      <td>0</td>\n",
       "      <td>2019-05-28 00:30:46</td>\n",
       "      <td>set your wifi password to  so when someone ask...</td>\n",
       "    </tr>\n",
       "    <tr>\n",
       "      <th>2</th>\n",
       "      <td>437464</td>\n",
       "      <td>self.jokes</td>\n",
       "      <td>0</td>\n",
       "      <td>2018-03-28 10:17:26</td>\n",
       "      <td>at what time do you see your dentist? tooth hu...</td>\n",
       "    </tr>\n",
       "    <tr>\n",
       "      <th>3</th>\n",
       "      <td>714598</td>\n",
       "      <td>self.jokes</td>\n",
       "      <td>0</td>\n",
       "      <td>2017-01-13 02:37:59</td>\n",
       "      <td>john and juan are on lunch break when juans ph...</td>\n",
       "    </tr>\n",
       "    <tr>\n",
       "      <th>4</th>\n",
       "      <td>187072</td>\n",
       "      <td>self.jokes</td>\n",
       "      <td>0</td>\n",
       "      <td>2019-05-28 00:20:01</td>\n",
       "      <td>a guy is handing out free fake mustaches on th...</td>\n",
       "    </tr>\n",
       "  </tbody>\n",
       "</table>\n",
       "</div>"
      ],
      "text/plain": [
       "    index      domain  score             created  \\\n",
       "0  630580  self.jokes      0 2017-05-12 17:01:44   \n",
       "1  187066  self.jokes      0 2019-05-28 00:30:46   \n",
       "2  437464  self.jokes      0 2018-03-28 10:17:26   \n",
       "3  714598  self.jokes      0 2017-01-13 02:37:59   \n",
       "4  187072  self.jokes      0 2019-05-28 00:20:01   \n",
       "\n",
       "                                                joke  \n",
       "0  there are two kinds of people in the world. th...  \n",
       "1  set your wifi password to  so when someone ask...  \n",
       "2  at what time do you see your dentist? tooth hu...  \n",
       "3  john and juan are on lunch break when juans ph...  \n",
       "4  a guy is handing out free fake mustaches on th...  "
      ]
     },
     "execution_count": 18,
     "metadata": {},
     "output_type": "execute_result"
    }
   ],
   "source": [
    "reddit_jokes_df['joke'] = reddit_jokes_df.title + ' ' + reddit_jokes_df.selftext\n",
    "reddit_jokes_df = reddit_jokes_df.drop(columns=['title', 'selftext'])\n",
    "reddit_jokes_df.head()"
   ]
  },
  {
   "cell_type": "markdown",
   "metadata": {
    "id": "YAYzq3Idus9d"
   },
   "source": [
    "## Processing"
   ]
  },
  {
   "cell_type": "markdown",
   "metadata": {
    "id": "9Py4BgQrznrE"
   },
   "source": [
    "### Timing of joke\n",
    "\n",
    "I would like to know if the timing of the jokes makes an impact on how funny the joke is, so i grouped based on both the weekday as well as the hour of day."
   ]
  },
  {
   "cell_type": "code",
   "execution_count": 19,
   "metadata": {
    "colab": {
     "base_uri": "https://localhost:8080/",
     "height": 300
    },
    "executionInfo": {
     "elapsed": 17,
     "status": "ok",
     "timestamp": 1637791139833,
     "user": {
      "displayName": "Lorenz Feyen",
      "photoUrl": "https://lh3.googleusercontent.com/a/default-user=s64",
      "userId": "13474410138118598994"
     },
     "user_tz": -60
    },
    "id": "rKVqdyHt1rFU",
    "outputId": "35218134-3247-4b52-98cc-ea5e0d8a4f88"
   },
   "outputs": [
    {
     "data": {
      "text/html": [
       "<div>\n",
       "<style scoped>\n",
       "    .dataframe tbody tr th:only-of-type {\n",
       "        vertical-align: middle;\n",
       "    }\n",
       "\n",
       "    .dataframe tbody tr th {\n",
       "        vertical-align: top;\n",
       "    }\n",
       "\n",
       "    .dataframe thead th {\n",
       "        text-align: right;\n",
       "    }\n",
       "</style>\n",
       "<table border=\"1\" class=\"dataframe\">\n",
       "  <thead>\n",
       "    <tr style=\"text-align: right;\">\n",
       "      <th></th>\n",
       "      <th>mean</th>\n",
       "      <th>count</th>\n",
       "    </tr>\n",
       "    <tr>\n",
       "      <th>created</th>\n",
       "      <th></th>\n",
       "      <th></th>\n",
       "    </tr>\n",
       "  </thead>\n",
       "  <tbody>\n",
       "    <tr>\n",
       "      <th>0</th>\n",
       "      <td>226.871773</td>\n",
       "      <td>79866</td>\n",
       "    </tr>\n",
       "    <tr>\n",
       "      <th>1</th>\n",
       "      <td>228.808886</td>\n",
       "      <td>82940</td>\n",
       "    </tr>\n",
       "    <tr>\n",
       "      <th>2</th>\n",
       "      <td>222.802165</td>\n",
       "      <td>84793</td>\n",
       "    </tr>\n",
       "    <tr>\n",
       "      <th>3</th>\n",
       "      <td>215.771594</td>\n",
       "      <td>84932</td>\n",
       "    </tr>\n",
       "    <tr>\n",
       "      <th>4</th>\n",
       "      <td>222.888666</td>\n",
       "      <td>82634</td>\n",
       "    </tr>\n",
       "    <tr>\n",
       "      <th>5</th>\n",
       "      <td>232.752534</td>\n",
       "      <td>75089</td>\n",
       "    </tr>\n",
       "    <tr>\n",
       "      <th>6</th>\n",
       "      <td>241.322581</td>\n",
       "      <td>75516</td>\n",
       "    </tr>\n",
       "  </tbody>\n",
       "</table>\n",
       "</div>"
      ],
      "text/plain": [
       "               mean  count\n",
       "created                   \n",
       "0        226.871773  79866\n",
       "1        228.808886  82940\n",
       "2        222.802165  84793\n",
       "3        215.771594  84932\n",
       "4        222.888666  82634\n",
       "5        232.752534  75089\n",
       "6        241.322581  75516"
      ]
     },
     "execution_count": 19,
     "metadata": {},
     "output_type": "execute_result"
    }
   ],
   "source": [
    "reddit_jokes_weekday = reddit_jokes_df.groupby(reddit_jokes_df.created.dt.weekday).score.agg(['mean', 'count'])\n",
    "reddit_jokes_weekday"
   ]
  },
  {
   "cell_type": "code",
   "execution_count": 20,
   "metadata": {
    "colab": {
     "base_uri": "https://localhost:8080/",
     "height": 834
    },
    "executionInfo": {
     "elapsed": 16,
     "status": "ok",
     "timestamp": 1637791139836,
     "user": {
      "displayName": "Lorenz Feyen",
      "photoUrl": "https://lh3.googleusercontent.com/a/default-user=s64",
      "userId": "13474410138118598994"
     },
     "user_tz": -60
    },
    "id": "7pOKWgK60KC5",
    "outputId": "d6db36a0-0e7f-4ddc-fe2f-17a9a1626141"
   },
   "outputs": [
    {
     "data": {
      "text/html": [
       "<div>\n",
       "<style scoped>\n",
       "    .dataframe tbody tr th:only-of-type {\n",
       "        vertical-align: middle;\n",
       "    }\n",
       "\n",
       "    .dataframe tbody tr th {\n",
       "        vertical-align: top;\n",
       "    }\n",
       "\n",
       "    .dataframe thead th {\n",
       "        text-align: right;\n",
       "    }\n",
       "</style>\n",
       "<table border=\"1\" class=\"dataframe\">\n",
       "  <thead>\n",
       "    <tr style=\"text-align: right;\">\n",
       "      <th></th>\n",
       "      <th>mean</th>\n",
       "      <th>count</th>\n",
       "    </tr>\n",
       "    <tr>\n",
       "      <th>created</th>\n",
       "      <th></th>\n",
       "      <th></th>\n",
       "    </tr>\n",
       "  </thead>\n",
       "  <tbody>\n",
       "    <tr>\n",
       "      <th>0</th>\n",
       "      <td>189.177767</td>\n",
       "      <td>25646</td>\n",
       "    </tr>\n",
       "    <tr>\n",
       "      <th>1</th>\n",
       "      <td>189.383726</td>\n",
       "      <td>25440</td>\n",
       "    </tr>\n",
       "    <tr>\n",
       "      <th>2</th>\n",
       "      <td>172.406772</td>\n",
       "      <td>25368</td>\n",
       "    </tr>\n",
       "    <tr>\n",
       "      <th>3</th>\n",
       "      <td>140.741126</td>\n",
       "      <td>23637</td>\n",
       "    </tr>\n",
       "    <tr>\n",
       "      <th>4</th>\n",
       "      <td>144.066960</td>\n",
       "      <td>21162</td>\n",
       "    </tr>\n",
       "    <tr>\n",
       "      <th>5</th>\n",
       "      <td>137.355467</td>\n",
       "      <td>19006</td>\n",
       "    </tr>\n",
       "    <tr>\n",
       "      <th>6</th>\n",
       "      <td>168.542319</td>\n",
       "      <td>16671</td>\n",
       "    </tr>\n",
       "    <tr>\n",
       "      <th>7</th>\n",
       "      <td>214.903014</td>\n",
       "      <td>15198</td>\n",
       "    </tr>\n",
       "    <tr>\n",
       "      <th>8</th>\n",
       "      <td>271.710558</td>\n",
       "      <td>14217</td>\n",
       "    </tr>\n",
       "    <tr>\n",
       "      <th>9</th>\n",
       "      <td>398.431366</td>\n",
       "      <td>14009</td>\n",
       "    </tr>\n",
       "    <tr>\n",
       "      <th>10</th>\n",
       "      <td>456.262600</td>\n",
       "      <td>15952</td>\n",
       "    </tr>\n",
       "    <tr>\n",
       "      <th>11</th>\n",
       "      <td>446.946555</td>\n",
       "      <td>18056</td>\n",
       "    </tr>\n",
       "    <tr>\n",
       "      <th>12</th>\n",
       "      <td>404.759640</td>\n",
       "      <td>21447</td>\n",
       "    </tr>\n",
       "    <tr>\n",
       "      <th>13</th>\n",
       "      <td>318.348451</td>\n",
       "      <td>24342</td>\n",
       "    </tr>\n",
       "    <tr>\n",
       "      <th>14</th>\n",
       "      <td>263.100078</td>\n",
       "      <td>26899</td>\n",
       "    </tr>\n",
       "    <tr>\n",
       "      <th>15</th>\n",
       "      <td>227.382529</td>\n",
       "      <td>28322</td>\n",
       "    </tr>\n",
       "    <tr>\n",
       "      <th>16</th>\n",
       "      <td>204.701879</td>\n",
       "      <td>29327</td>\n",
       "    </tr>\n",
       "    <tr>\n",
       "      <th>17</th>\n",
       "      <td>185.274719</td>\n",
       "      <td>29623</td>\n",
       "    </tr>\n",
       "    <tr>\n",
       "      <th>18</th>\n",
       "      <td>210.557595</td>\n",
       "      <td>29369</td>\n",
       "    </tr>\n",
       "    <tr>\n",
       "      <th>19</th>\n",
       "      <td>194.320871</td>\n",
       "      <td>29342</td>\n",
       "    </tr>\n",
       "    <tr>\n",
       "      <th>20</th>\n",
       "      <td>194.809965</td>\n",
       "      <td>29063</td>\n",
       "    </tr>\n",
       "    <tr>\n",
       "      <th>21</th>\n",
       "      <td>179.245679</td>\n",
       "      <td>29099</td>\n",
       "    </tr>\n",
       "    <tr>\n",
       "      <th>22</th>\n",
       "      <td>198.723083</td>\n",
       "      <td>27817</td>\n",
       "    </tr>\n",
       "    <tr>\n",
       "      <th>23</th>\n",
       "      <td>179.602399</td>\n",
       "      <td>26758</td>\n",
       "    </tr>\n",
       "  </tbody>\n",
       "</table>\n",
       "</div>"
      ],
      "text/plain": [
       "               mean  count\n",
       "created                   \n",
       "0        189.177767  25646\n",
       "1        189.383726  25440\n",
       "2        172.406772  25368\n",
       "3        140.741126  23637\n",
       "4        144.066960  21162\n",
       "5        137.355467  19006\n",
       "6        168.542319  16671\n",
       "7        214.903014  15198\n",
       "8        271.710558  14217\n",
       "9        398.431366  14009\n",
       "10       456.262600  15952\n",
       "11       446.946555  18056\n",
       "12       404.759640  21447\n",
       "13       318.348451  24342\n",
       "14       263.100078  26899\n",
       "15       227.382529  28322\n",
       "16       204.701879  29327\n",
       "17       185.274719  29623\n",
       "18       210.557595  29369\n",
       "19       194.320871  29342\n",
       "20       194.809965  29063\n",
       "21       179.245679  29099\n",
       "22       198.723083  27817\n",
       "23       179.602399  26758"
      ]
     },
     "execution_count": 20,
     "metadata": {},
     "output_type": "execute_result"
    }
   ],
   "source": [
    "reddit_jokes_hour = reddit_jokes_df.groupby(reddit_jokes_df.created.dt.hour).score.agg(['mean', 'count'])\n",
    "reddit_jokes_hour"
   ]
  },
  {
   "cell_type": "markdown",
   "metadata": {
    "id": "J10ryiz-3EYM"
   },
   "source": [
    "### Bag of words\n",
    "To be able to work with the words in our joke, we create a bag of words dataframe, where for each word and joke combination a count is kept of how many times the word is present in that joke. Notice that stopwords are removed.\n",
    "\n",
    "First we split each joke up in words"
   ]
  },
  {
   "cell_type": "code",
   "execution_count": 21,
   "metadata": {
    "colab": {
     "base_uri": "https://localhost:8080/"
    },
    "executionInfo": {
     "elapsed": 4857,
     "status": "ok",
     "timestamp": 1637791144680,
     "user": {
      "displayName": "Lorenz Feyen",
      "photoUrl": "https://lh3.googleusercontent.com/a/default-user=s64",
      "userId": "13474410138118598994"
     },
     "user_tz": -60
    },
    "id": "ezyM9jMe3EEY",
    "outputId": "0fb682f3-eda4-42ba-cff6-3d5c1b943c9b"
   },
   "outputs": [
    {
     "data": {
      "text/plain": [
       "0    [there, are, two, kinds, of, people, in, the, ...\n",
       "1    [set, your, wifi, password, to, , so, when, so...\n",
       "2    [at, what, time, do, you, see, your, dentist?,...\n",
       "3    [john, and, juan, are, on, lunch, break, when,...\n",
       "4    [a, guy, is, handing, out, free, fake, mustach...\n",
       "Name: joke, dtype: object"
      ]
     },
     "execution_count": 21,
     "metadata": {},
     "output_type": "execute_result"
    }
   ],
   "source": [
    "joke_words = reddit_jokes_df.joke.str.split(' ')\n",
    "joke_words.head()"
   ]
  },
  {
   "cell_type": "markdown",
   "metadata": {
    "id": "xScxKUdg6liJ"
   },
   "source": [
    "Next we use the nltk toolkit to get a list of english stopwords."
   ]
  },
  {
   "cell_type": "code",
   "execution_count": 22,
   "metadata": {
    "colab": {
     "base_uri": "https://localhost:8080/"
    },
    "executionInfo": {
     "elapsed": 37,
     "status": "ok",
     "timestamp": 1637791144683,
     "user": {
      "displayName": "Lorenz Feyen",
      "photoUrl": "https://lh3.googleusercontent.com/a/default-user=s64",
      "userId": "13474410138118598994"
     },
     "user_tz": -60
    },
    "id": "woAevFGdz6so",
    "outputId": "94fbdc01-aa41-45ec-a057-2c1aef9581e9"
   },
   "outputs": [
    {
     "name": "stderr",
     "output_type": "stream",
     "text": [
      "[nltk_data] Downloading package stopwords to\n",
      "[nltk_data]     /home/lorenzf/nltk_data...\n",
      "[nltk_data]   Package stopwords is already up-to-date!\n"
     ]
    },
    {
     "data": {
      "text/plain": [
       "['i', 'me', 'my', 'myself', 'we']"
      ]
     },
     "execution_count": 22,
     "metadata": {},
     "output_type": "execute_result"
    }
   ],
   "source": [
    "import nltk\n",
    "nltk.download('stopwords')\n",
    "from nltk.corpus import stopwords\n",
    "stopwords.words('english')[:5]"
   ]
  },
  {
   "cell_type": "markdown",
   "metadata": {
    "id": "rssLEqNc6roz"
   },
   "source": [
    "We remove all the stopwords from the jokes, now the jokes have a handicapped grammar."
   ]
  },
  {
   "cell_type": "code",
   "execution_count": 23,
   "metadata": {
    "colab": {
     "base_uri": "https://localhost:8080/"
    },
    "executionInfo": {
     "elapsed": 20,
     "status": "ok",
     "timestamp": 1637791144685,
     "user": {
      "displayName": "Lorenz Feyen",
      "photoUrl": "https://lh3.googleusercontent.com/a/default-user=s64",
      "userId": "13474410138118598994"
     },
     "user_tz": -60
    },
    "id": "fjVaqs0KeanC",
    "outputId": "2e25f8d5-b97c-4907-cdb9-66204b1f4d1c"
   },
   "outputs": [
    {
     "data": {
      "text/plain": [
       "0         [two, kinds, people, world., need, closure,]\n",
       "1       [set, wifi, password, , someone, asks, say, .]\n",
       "2                 [time, see, dentist?, tooth, hurty!]\n",
       "3    [john, juan, lunch, break, juans, phone, rings...\n",
       "4    [guy, handing, free, fake, mustaches, street, ...\n",
       "Name: joke, dtype: object"
      ]
     },
     "execution_count": 23,
     "metadata": {},
     "output_type": "execute_result"
    }
   ],
   "source": [
    "joke_words = joke_words.head().apply(lambda x : [word for word in x if word not in stopwords.words('english')])\n",
    "joke_words.head()"
   ]
  },
  {
   "cell_type": "markdown",
   "metadata": {
    "id": "CJFi2ZfS65bP"
   },
   "source": [
    "Finally we are going to use sklearn and the CountVectorizer to create the BoW vector, this is a sparse matrix as most words are not appearing in most jokes.\n",
    "This means we cannot visualise the matrix, or our computer would explode."
   ]
  },
  {
   "cell_type": "code",
   "execution_count": 24,
   "metadata": {
    "executionInfo": {
     "elapsed": 17533,
     "status": "ok",
     "timestamp": 1637791162204,
     "user": {
      "displayName": "Lorenz Feyen",
      "photoUrl": "https://lh3.googleusercontent.com/a/default-user=s64",
      "userId": "13474410138118598994"
     },
     "user_tz": -60
    },
    "id": "XqXvWZeVeCPD"
   },
   "outputs": [],
   "source": [
    "from sklearn.feature_extraction.text import CountVectorizer\n",
    "\n",
    "cnt_vect = CountVectorizer(analyzer=\"word\", stop_words=stopwords.words('english'), max_features=20000) \n",
    "\n",
    "bow_jokes = cnt_vect.fit_transform(reddit_jokes_df.joke.values)"
   ]
  },
  {
   "cell_type": "code",
   "execution_count": 25,
   "metadata": {
    "colab": {
     "base_uri": "https://localhost:8080/"
    },
    "executionInfo": {
     "elapsed": 19,
     "status": "ok",
     "timestamp": 1637791162206,
     "user": {
      "displayName": "Lorenz Feyen",
      "photoUrl": "https://lh3.googleusercontent.com/a/default-user=s64",
      "userId": "13474410138118598994"
     },
     "user_tz": -60
    },
    "id": "05PDZtBGeCb0",
    "outputId": "b0d11ee7-6428-4894-d3f6-231907833d41"
   },
   "outputs": [
    {
     "data": {
      "text/plain": [
       "<565770x20000 sparse matrix of type '<class 'numpy.int64'>'\n",
       "\twith 9101120 stored elements in Compressed Sparse Row format>"
      ]
     },
     "execution_count": 25,
     "metadata": {},
     "output_type": "execute_result"
    }
   ],
   "source": [
    "bow_jokes"
   ]
  },
  {
   "cell_type": "markdown",
   "metadata": {
    "id": "r2wBbo4E7HTZ"
   },
   "source": [
    "But we can fetch the vocabulary of our bag, which starts with a lot of weird words, indicating we might have chosen too many features"
   ]
  },
  {
   "cell_type": "code",
   "execution_count": 26,
   "metadata": {
    "colab": {
     "base_uri": "https://localhost:8080/"
    },
    "executionInfo": {
     "elapsed": 14,
     "status": "ok",
     "timestamp": 1637791162208,
     "user": {
      "displayName": "Lorenz Feyen",
      "photoUrl": "https://lh3.googleusercontent.com/a/default-user=s64",
      "userId": "13474410138118598994"
     },
     "user_tz": -60
    },
    "id": "7L9weMfPeCea",
    "outputId": "3d69cd8a-387a-4943-9671-512347aa60ba"
   },
   "outputs": [
    {
     "data": {
      "text/plain": [
       "array(['aa', 'aaa', 'aaah', 'aah', 'aardvark', 'aaron', 'ab', 'aback',\n",
       "       'abacus', 'abandon'], dtype=object)"
      ]
     },
     "execution_count": 26,
     "metadata": {},
     "output_type": "execute_result"
    }
   ],
   "source": [
    "cnt_vect.get_feature_names_out()[:10]"
   ]
  },
  {
   "cell_type": "markdown",
   "metadata": {
    "id": "u93I7YU7933W"
   },
   "source": [
    "### Term Frequency - Inverse Document Frequency\n",
    "Another interesting method is the tf-idf matrix, where each occurence is weighted by the overall frequency of that word. If a word is used often over all jokes, it won't be as important, but if a word is used infrequent it is more important.\n",
    "\n",
    "Again we use sklearn to vectorize our jokes"
   ]
  },
  {
   "cell_type": "code",
   "execution_count": 27,
   "metadata": {
    "colab": {
     "base_uri": "https://localhost:8080/"
    },
    "executionInfo": {
     "elapsed": 20148,
     "status": "ok",
     "timestamp": 1637791182346,
     "user": {
      "displayName": "Lorenz Feyen",
      "photoUrl": "https://lh3.googleusercontent.com/a/default-user=s64",
      "userId": "13474410138118598994"
     },
     "user_tz": -60
    },
    "id": "IsTp758heChY",
    "outputId": "9ade5569-7b5f-468f-a391-d144ef8dcd48"
   },
   "outputs": [
    {
     "data": {
      "text/plain": [
       "<565770x196601 sparse matrix of type '<class 'numpy.float64'>'\n",
       "\twith 15153814 stored elements in Compressed Sparse Row format>"
      ]
     },
     "execution_count": 27,
     "metadata": {},
     "output_type": "execute_result"
    }
   ],
   "source": [
    "from sklearn.feature_extraction.text import TfidfVectorizer\n",
    "tfidf_vect = TfidfVectorizer()\n",
    "tfidf_jokes = tfidf_vect.fit_transform(reddit_jokes_df.joke.values)\n",
    "tfidf_jokes"
   ]
  },
  {
   "cell_type": "markdown",
   "metadata": {
    "id": "aO-9AXYa7oV4"
   },
   "source": [
    "we can create a quick dataframe to interpret the result, for each word in our dataset we retrieve the inverse document frequency, a high idf means a unique word."
   ]
  },
  {
   "cell_type": "code",
   "execution_count": 28,
   "metadata": {
    "colab": {
     "base_uri": "https://localhost:8080/",
     "height": 206
    },
    "executionInfo": {
     "elapsed": 405,
     "status": "ok",
     "timestamp": 1637791182733,
     "user": {
      "displayName": "Lorenz Feyen",
      "photoUrl": "https://lh3.googleusercontent.com/a/default-user=s64",
      "userId": "13474410138118598994"
     },
     "user_tz": -60
    },
    "id": "EVhhq_i7_hZD",
    "outputId": "cde2e4f0-f3c0-474a-d74e-b4fb14c66977"
   },
   "outputs": [
    {
     "data": {
      "text/html": [
       "<div>\n",
       "<style scoped>\n",
       "    .dataframe tbody tr th:only-of-type {\n",
       "        vertical-align: middle;\n",
       "    }\n",
       "\n",
       "    .dataframe tbody tr th {\n",
       "        vertical-align: top;\n",
       "    }\n",
       "\n",
       "    .dataframe thead th {\n",
       "        text-align: right;\n",
       "    }\n",
       "</style>\n",
       "<table border=\"1\" class=\"dataframe\">\n",
       "  <thead>\n",
       "    <tr style=\"text-align: right;\">\n",
       "      <th></th>\n",
       "      <th>term</th>\n",
       "      <th>idf</th>\n",
       "    </tr>\n",
       "  </thead>\n",
       "  <tbody>\n",
       "    <tr>\n",
       "      <th>0</th>\n",
       "      <td>aa</td>\n",
       "      <td>10.026437</td>\n",
       "    </tr>\n",
       "    <tr>\n",
       "      <th>1</th>\n",
       "      <td>aaa</td>\n",
       "      <td>10.275653</td>\n",
       "    </tr>\n",
       "    <tr>\n",
       "      <th>2</th>\n",
       "      <td>aaaa</td>\n",
       "      <td>12.454185</td>\n",
       "    </tr>\n",
       "    <tr>\n",
       "      <th>3</th>\n",
       "      <td>aaaaa</td>\n",
       "      <td>13.147332</td>\n",
       "    </tr>\n",
       "    <tr>\n",
       "      <th>4</th>\n",
       "      <td>aaaaaa</td>\n",
       "      <td>13.552798</td>\n",
       "    </tr>\n",
       "  </tbody>\n",
       "</table>\n",
       "</div>"
      ],
      "text/plain": [
       "     term        idf\n",
       "0      aa  10.026437\n",
       "1     aaa  10.275653\n",
       "2    aaaa  12.454185\n",
       "3   aaaaa  13.147332\n",
       "4  aaaaaa  13.552798"
      ]
     },
     "execution_count": 28,
     "metadata": {},
     "output_type": "execute_result"
    }
   ],
   "source": [
    "idf = pd.DataFrame(\n",
    "    {\n",
    "      'term': tfidf_vect.get_feature_names_out(),\n",
    "      'idf': tfidf_vect.idf_,\n",
    "    }\n",
    ")\n",
    "idf.head()"
   ]
  },
  {
   "cell_type": "markdown",
   "metadata": {
    "id": "sMLswNI_89j0"
   },
   "source": [
    "When we sort them by idf we can find the most unique words, yet it doesn't seem to be useful at the moment."
   ]
  },
  {
   "cell_type": "code",
   "execution_count": 29,
   "metadata": {
    "colab": {
     "base_uri": "https://localhost:8080/",
     "height": 363
    },
    "executionInfo": {
     "elapsed": 36,
     "status": "ok",
     "timestamp": 1637791182737,
     "user": {
      "displayName": "Lorenz Feyen",
      "photoUrl": "https://lh3.googleusercontent.com/a/default-user=s64",
      "userId": "13474410138118598994"
     },
     "user_tz": -60
    },
    "id": "1bv8buRzhB6R",
    "outputId": "66a2015c-49d0-4bf6-904d-e2ab5ff43d03"
   },
   "outputs": [
    {
     "data": {
      "text/html": [
       "<div>\n",
       "<style scoped>\n",
       "    .dataframe tbody tr th:only-of-type {\n",
       "        vertical-align: middle;\n",
       "    }\n",
       "\n",
       "    .dataframe tbody tr th {\n",
       "        vertical-align: top;\n",
       "    }\n",
       "\n",
       "    .dataframe thead th {\n",
       "        text-align: right;\n",
       "    }\n",
       "</style>\n",
       "<table border=\"1\" class=\"dataframe\">\n",
       "  <thead>\n",
       "    <tr style=\"text-align: right;\">\n",
       "      <th></th>\n",
       "      <th>term</th>\n",
       "      <th>idf</th>\n",
       "    </tr>\n",
       "  </thead>\n",
       "  <tbody>\n",
       "    <tr>\n",
       "      <th>196600</th>\n",
       "      <td>zzzzzzzzzzzzzzzzzzzzzzzzzzzzzzzzzzzzzzzzzzzzzzthe</td>\n",
       "      <td>13.552798</td>\n",
       "    </tr>\n",
       "    <tr>\n",
       "      <th>110080</th>\n",
       "      <td>misterunderstanding</td>\n",
       "      <td>13.552798</td>\n",
       "    </tr>\n",
       "    <tr>\n",
       "      <th>110074</th>\n",
       "      <td>misterectomy</td>\n",
       "      <td>13.552798</td>\n",
       "    </tr>\n",
       "    <tr>\n",
       "      <th>110075</th>\n",
       "      <td>misterious</td>\n",
       "      <td>13.552798</td>\n",
       "    </tr>\n",
       "    <tr>\n",
       "      <th>110076</th>\n",
       "      <td>misterjmyers</td>\n",
       "      <td>13.552798</td>\n",
       "    </tr>\n",
       "    <tr>\n",
       "      <th>110077</th>\n",
       "      <td>misterlee</td>\n",
       "      <td>13.552798</td>\n",
       "    </tr>\n",
       "    <tr>\n",
       "      <th>110078</th>\n",
       "      <td>misterogyny</td>\n",
       "      <td>13.552798</td>\n",
       "    </tr>\n",
       "    <tr>\n",
       "      <th>110079</th>\n",
       "      <td>misters</td>\n",
       "      <td>13.552798</td>\n",
       "    </tr>\n",
       "    <tr>\n",
       "      <th>110081</th>\n",
       "      <td>misterunderstood</td>\n",
       "      <td>13.552798</td>\n",
       "    </tr>\n",
       "    <tr>\n",
       "      <th>110072</th>\n",
       "      <td>misterapproximate</td>\n",
       "      <td>13.552798</td>\n",
       "    </tr>\n",
       "  </tbody>\n",
       "</table>\n",
       "</div>"
      ],
      "text/plain": [
       "                                                     term        idf\n",
       "196600  zzzzzzzzzzzzzzzzzzzzzzzzzzzzzzzzzzzzzzzzzzzzzzthe  13.552798\n",
       "110080                                misterunderstanding  13.552798\n",
       "110074                                       misterectomy  13.552798\n",
       "110075                                         misterious  13.552798\n",
       "110076                                       misterjmyers  13.552798\n",
       "110077                                          misterlee  13.552798\n",
       "110078                                        misterogyny  13.552798\n",
       "110079                                            misters  13.552798\n",
       "110081                                   misterunderstood  13.552798\n",
       "110072                                  misterapproximate  13.552798"
      ]
     },
     "execution_count": 29,
     "metadata": {},
     "output_type": "execute_result"
    }
   ],
   "source": [
    "idf.sort_values(by='idf', ascending=False).head(10)"
   ]
  },
  {
   "cell_type": "markdown",
   "metadata": {},
   "source": [
    "## Exploration"
   ]
  },
  {
   "cell_type": "code",
   "execution_count": 30,
   "metadata": {},
   "outputs": [
    {
     "data": {
      "text/html": [
       "<div>\n",
       "<style scoped>\n",
       "    .dataframe tbody tr th:only-of-type {\n",
       "        vertical-align: middle;\n",
       "    }\n",
       "\n",
       "    .dataframe tbody tr th {\n",
       "        vertical-align: top;\n",
       "    }\n",
       "\n",
       "    .dataframe thead th {\n",
       "        text-align: right;\n",
       "    }\n",
       "</style>\n",
       "<table border=\"1\" class=\"dataframe\">\n",
       "  <thead>\n",
       "    <tr style=\"text-align: right;\">\n",
       "      <th></th>\n",
       "      <th>index</th>\n",
       "      <th>domain</th>\n",
       "      <th>score</th>\n",
       "      <th>created</th>\n",
       "      <th>joke</th>\n",
       "    </tr>\n",
       "  </thead>\n",
       "  <tbody>\n",
       "    <tr>\n",
       "      <th>562291</th>\n",
       "      <td>766392</td>\n",
       "      <td>self.jokes</td>\n",
       "      <td>10003</td>\n",
       "      <td>2016-11-05 12:19:21</td>\n",
       "      <td>a joke my grandma told me before she passed. s...</td>\n",
       "    </tr>\n",
       "    <tr>\n",
       "      <th>562292</th>\n",
       "      <td>817060</td>\n",
       "      <td>self.jokes</td>\n",
       "      <td>10013</td>\n",
       "      <td>2016-08-15 23:23:22</td>\n",
       "      <td>if a woman sleeps with  men shes a slut, but i...</td>\n",
       "    </tr>\n",
       "    <tr>\n",
       "      <th>562293</th>\n",
       "      <td>956485</td>\n",
       "      <td>self.jokes</td>\n",
       "      <td>10017</td>\n",
       "      <td>2015-08-23 14:31:29</td>\n",
       "      <td>how many germans does it take to change a ligh...</td>\n",
       "    </tr>\n",
       "    <tr>\n",
       "      <th>562294</th>\n",
       "      <td>672977</td>\n",
       "      <td>self.jokes</td>\n",
       "      <td>10018</td>\n",
       "      <td>2017-03-12 10:30:11</td>\n",
       "      <td>a man and his wife are awakened at  oclock in ...</td>\n",
       "    </tr>\n",
       "    <tr>\n",
       "      <th>562295</th>\n",
       "      <td>207962</td>\n",
       "      <td>self.jokes</td>\n",
       "      <td>10019</td>\n",
       "      <td>2019-04-24 23:06:14</td>\n",
       "      <td>my least favorite color is purple. i hate it m...</td>\n",
       "    </tr>\n",
       "    <tr>\n",
       "      <th>...</th>\n",
       "      <td>...</td>\n",
       "      <td>...</td>\n",
       "      <td>...</td>\n",
       "      <td>...</td>\n",
       "      <td>...</td>\n",
       "    </tr>\n",
       "    <tr>\n",
       "      <th>565765</th>\n",
       "      <td>329338</td>\n",
       "      <td>self.jokes</td>\n",
       "      <td>98257</td>\n",
       "      <td>2018-10-08 13:53:47</td>\n",
       "      <td>a new navy recruit has his first day on the su...</td>\n",
       "    </tr>\n",
       "    <tr>\n",
       "      <th>565766</th>\n",
       "      <td>141894</td>\n",
       "      <td>self.jokes</td>\n",
       "      <td>103652</td>\n",
       "      <td>2019-08-10 15:03:25</td>\n",
       "      <td>if your surprised that jeffrey epstein commite...</td>\n",
       "    </tr>\n",
       "    <tr>\n",
       "      <th>565767</th>\n",
       "      <td>596220</td>\n",
       "      <td>self.jokes</td>\n",
       "      <td>106412</td>\n",
       "      <td>2017-07-05 18:01:05</td>\n",
       "      <td>v vedit seems like the ctrl key on my keyboard...</td>\n",
       "    </tr>\n",
       "    <tr>\n",
       "      <th>565768</th>\n",
       "      <td>511072</td>\n",
       "      <td>self.jokes</td>\n",
       "      <td>136359</td>\n",
       "      <td>2017-11-21 20:15:27</td>\n",
       "      <td>calm down about the net neutrality thing... pa...</td>\n",
       "    </tr>\n",
       "    <tr>\n",
       "      <th>565769</th>\n",
       "      <td>29360</td>\n",
       "      <td>self.jokes</td>\n",
       "      <td>142733</td>\n",
       "      <td>2020-02-20 01:51:00</td>\n",
       "      <td>sad news the founder of rjokes has passed away...</td>\n",
       "    </tr>\n",
       "  </tbody>\n",
       "</table>\n",
       "<p>3479 rows × 5 columns</p>\n",
       "</div>"
      ],
      "text/plain": [
       "         index      domain   score             created  \\\n",
       "562291  766392  self.jokes   10003 2016-11-05 12:19:21   \n",
       "562292  817060  self.jokes   10013 2016-08-15 23:23:22   \n",
       "562293  956485  self.jokes   10017 2015-08-23 14:31:29   \n",
       "562294  672977  self.jokes   10018 2017-03-12 10:30:11   \n",
       "562295  207962  self.jokes   10019 2019-04-24 23:06:14   \n",
       "...        ...         ...     ...                 ...   \n",
       "565765  329338  self.jokes   98257 2018-10-08 13:53:47   \n",
       "565766  141894  self.jokes  103652 2019-08-10 15:03:25   \n",
       "565767  596220  self.jokes  106412 2017-07-05 18:01:05   \n",
       "565768  511072  self.jokes  136359 2017-11-21 20:15:27   \n",
       "565769   29360  self.jokes  142733 2020-02-20 01:51:00   \n",
       "\n",
       "                                                     joke  \n",
       "562291  a joke my grandma told me before she passed. s...  \n",
       "562292  if a woman sleeps with  men shes a slut, but i...  \n",
       "562293  how many germans does it take to change a ligh...  \n",
       "562294  a man and his wife are awakened at  oclock in ...  \n",
       "562295  my least favorite color is purple. i hate it m...  \n",
       "...                                                   ...  \n",
       "565765  a new navy recruit has his first day on the su...  \n",
       "565766  if your surprised that jeffrey epstein commite...  \n",
       "565767  v vedit seems like the ctrl key on my keyboard...  \n",
       "565768  calm down about the net neutrality thing... pa...  \n",
       "565769  sad news the founder of rjokes has passed away...  \n",
       "\n",
       "[3479 rows x 5 columns]"
      ]
     },
     "execution_count": 30,
     "metadata": {},
     "output_type": "execute_result"
    }
   ],
   "source": [
    "good_jokes = reddit_jokes_df[reddit_jokes_df.score>10000].copy()\n",
    "good_jokes"
   ]
  },
  {
   "cell_type": "code",
   "execution_count": null,
   "metadata": {},
   "outputs": [],
   "source": []
  },
  {
   "cell_type": "code",
   "execution_count": 31,
   "metadata": {},
   "outputs": [
    {
     "data": {
      "text/html": [
       "<div>\n",
       "<style scoped>\n",
       "    .dataframe tbody tr th:only-of-type {\n",
       "        vertical-align: middle;\n",
       "    }\n",
       "\n",
       "    .dataframe tbody tr th {\n",
       "        vertical-align: top;\n",
       "    }\n",
       "\n",
       "    .dataframe thead th {\n",
       "        text-align: right;\n",
       "    }\n",
       "</style>\n",
       "<table border=\"1\" class=\"dataframe\">\n",
       "  <thead>\n",
       "    <tr style=\"text-align: right;\">\n",
       "      <th></th>\n",
       "      <th>word</th>\n",
       "      <th>count</th>\n",
       "    </tr>\n",
       "  </thead>\n",
       "  <tbody>\n",
       "    <tr>\n",
       "      <th>0</th>\n",
       "      <td>aa</td>\n",
       "      <td>1</td>\n",
       "    </tr>\n",
       "    <tr>\n",
       "      <th>1</th>\n",
       "      <td>aaa</td>\n",
       "      <td>3</td>\n",
       "    </tr>\n",
       "    <tr>\n",
       "      <th>2</th>\n",
       "      <td>aaah</td>\n",
       "      <td>0</td>\n",
       "    </tr>\n",
       "    <tr>\n",
       "      <th>3</th>\n",
       "      <td>aah</td>\n",
       "      <td>0</td>\n",
       "    </tr>\n",
       "    <tr>\n",
       "      <th>4</th>\n",
       "      <td>aardvark</td>\n",
       "      <td>0</td>\n",
       "    </tr>\n",
       "    <tr>\n",
       "      <th>...</th>\n",
       "      <td>...</td>\n",
       "      <td>...</td>\n",
       "    </tr>\n",
       "    <tr>\n",
       "      <th>19995</th>\n",
       "      <td>zoos</td>\n",
       "      <td>0</td>\n",
       "    </tr>\n",
       "    <tr>\n",
       "      <th>19996</th>\n",
       "      <td>zs</td>\n",
       "      <td>0</td>\n",
       "    </tr>\n",
       "    <tr>\n",
       "      <th>19997</th>\n",
       "      <td>zucchini</td>\n",
       "      <td>0</td>\n",
       "    </tr>\n",
       "    <tr>\n",
       "      <th>19998</th>\n",
       "      <td>zuckerberg</td>\n",
       "      <td>1</td>\n",
       "    </tr>\n",
       "    <tr>\n",
       "      <th>19999</th>\n",
       "      <td>zwei</td>\n",
       "      <td>1</td>\n",
       "    </tr>\n",
       "  </tbody>\n",
       "</table>\n",
       "<p>20000 rows × 2 columns</p>\n",
       "</div>"
      ],
      "text/plain": [
       "             word  count\n",
       "0              aa      1\n",
       "1             aaa      3\n",
       "2            aaah      0\n",
       "3             aah      0\n",
       "4        aardvark      0\n",
       "...           ...    ...\n",
       "19995        zoos      0\n",
       "19996          zs      0\n",
       "19997    zucchini      0\n",
       "19998  zuckerberg      1\n",
       "19999        zwei      1\n",
       "\n",
       "[20000 rows x 2 columns]"
      ]
     },
     "execution_count": 31,
     "metadata": {},
     "output_type": "execute_result"
    }
   ],
   "source": [
    "good_jokes_word_cnt = pd.concat(\n",
    "    [\n",
    "        pd.Series(cnt_vect.get_feature_names_out()),\n",
    "        pd.Series(np.asarray(bow_jokes[good_jokes.index].sum(axis=0)).squeeze()),\n",
    "    ], axis='columns', keys=['word', 'count']\n",
    ")\n",
    "good_jokes_word_cnt"
   ]
  },
  {
   "cell_type": "code",
   "execution_count": 32,
   "metadata": {},
   "outputs": [
    {
     "data": {
      "text/html": [
       "<div>\n",
       "<style scoped>\n",
       "    .dataframe tbody tr th:only-of-type {\n",
       "        vertical-align: middle;\n",
       "    }\n",
       "\n",
       "    .dataframe tbody tr th {\n",
       "        vertical-align: top;\n",
       "    }\n",
       "\n",
       "    .dataframe thead th {\n",
       "        text-align: right;\n",
       "    }\n",
       "</style>\n",
       "<table border=\"1\" class=\"dataframe\">\n",
       "  <thead>\n",
       "    <tr style=\"text-align: right;\">\n",
       "      <th></th>\n",
       "      <th>word</th>\n",
       "      <th>count</th>\n",
       "    </tr>\n",
       "  </thead>\n",
       "  <tbody>\n",
       "    <tr>\n",
       "      <th>15199</th>\n",
       "      <td>says</td>\n",
       "      <td>1647</td>\n",
       "    </tr>\n",
       "    <tr>\n",
       "      <th>10528</th>\n",
       "      <td>man</td>\n",
       "      <td>1405</td>\n",
       "    </tr>\n",
       "    <tr>\n",
       "      <th>15050</th>\n",
       "      <td>said</td>\n",
       "      <td>1196</td>\n",
       "    </tr>\n",
       "    <tr>\n",
       "      <th>12100</th>\n",
       "      <td>one</td>\n",
       "      <td>1057</td>\n",
       "    </tr>\n",
       "    <tr>\n",
       "      <th>8673</th>\n",
       "      <td>im</td>\n",
       "      <td>833</td>\n",
       "    </tr>\n",
       "    <tr>\n",
       "      <th>7278</th>\n",
       "      <td>get</td>\n",
       "      <td>717</td>\n",
       "    </tr>\n",
       "    <tr>\n",
       "      <th>19559</th>\n",
       "      <td>wife</td>\n",
       "      <td>669</td>\n",
       "    </tr>\n",
       "    <tr>\n",
       "      <th>10101</th>\n",
       "      <td>like</td>\n",
       "      <td>656</td>\n",
       "    </tr>\n",
       "    <tr>\n",
       "      <th>5190</th>\n",
       "      <td>dont</td>\n",
       "      <td>632</td>\n",
       "    </tr>\n",
       "    <tr>\n",
       "      <th>19416</th>\n",
       "      <td>well</td>\n",
       "      <td>626</td>\n",
       "    </tr>\n",
       "    <tr>\n",
       "      <th>1211</th>\n",
       "      <td>back</td>\n",
       "      <td>626</td>\n",
       "    </tr>\n",
       "    <tr>\n",
       "      <th>953</th>\n",
       "      <td>asks</td>\n",
       "      <td>607</td>\n",
       "    </tr>\n",
       "    <tr>\n",
       "      <th>947</th>\n",
       "      <td>asked</td>\n",
       "      <td>586</td>\n",
       "    </tr>\n",
       "    <tr>\n",
       "      <th>19762</th>\n",
       "      <td>would</td>\n",
       "      <td>564</td>\n",
       "    </tr>\n",
       "    <tr>\n",
       "      <th>9692</th>\n",
       "      <td>know</td>\n",
       "      <td>562</td>\n",
       "    </tr>\n",
       "    <tr>\n",
       "      <th>7779</th>\n",
       "      <td>guy</td>\n",
       "      <td>518</td>\n",
       "    </tr>\n",
       "    <tr>\n",
       "      <th>7388</th>\n",
       "      <td>go</td>\n",
       "      <td>492</td>\n",
       "    </tr>\n",
       "    <tr>\n",
       "      <th>4463</th>\n",
       "      <td>day</td>\n",
       "      <td>481</td>\n",
       "    </tr>\n",
       "    <tr>\n",
       "      <th>19689</th>\n",
       "      <td>woman</td>\n",
       "      <td>479</td>\n",
       "    </tr>\n",
       "    <tr>\n",
       "      <th>7473</th>\n",
       "      <td>got</td>\n",
       "      <td>461</td>\n",
       "    </tr>\n",
       "  </tbody>\n",
       "</table>\n",
       "</div>"
      ],
      "text/plain": [
       "        word  count\n",
       "15199   says   1647\n",
       "10528    man   1405\n",
       "15050   said   1196\n",
       "12100    one   1057\n",
       "8673      im    833\n",
       "7278     get    717\n",
       "19559   wife    669\n",
       "10101   like    656\n",
       "5190    dont    632\n",
       "19416   well    626\n",
       "1211    back    626\n",
       "953     asks    607\n",
       "947    asked    586\n",
       "19762  would    564\n",
       "9692    know    562\n",
       "7779     guy    518\n",
       "7388      go    492\n",
       "4463     day    481\n",
       "19689  woman    479\n",
       "7473     got    461"
      ]
     },
     "execution_count": 32,
     "metadata": {},
     "output_type": "execute_result"
    }
   ],
   "source": [
    "good_jokes_word_cnt.sort_values('count', ascending=False).head(20)"
   ]
  },
  {
   "cell_type": "code",
   "execution_count": 33,
   "metadata": {},
   "outputs": [
    {
     "name": "stdout",
     "output_type": "stream",
     "text": [
      "a man in an interrogation room says im not saying a word without my lawyer present. cop you are the lawyer. lawyer exactly, so wheres my present?\n",
      "\n",
      "christmas joke nsfw a  year old male walks into a drug store. he says ive been invited to christmas dinner at my new girlfriends house. afterwards i hope there is a chance i get lucky, you know what i mean clerk how about condoms then? they could come in handy. heres a pack. the young man after paying walks to the door, stops, smiles, comes back you know what, the mom is also smoking hot, i think ill take another pack, just in case i get extra lucky.christmas eve comes around, the boy sits at the dinner table and doesnt say a word. after a while his girlfriend says if i had known you were so quiet, i wouldnt have invited you. the young man replies if you had told me your dad works at a drug store, i wouldnt have come.\n",
      "\n",
      "my favorite joke everyone knows dave dave was bragging to his boss one day, you know, i know everyone there is to know. just name someone, anyone, and i know them.tired of his boasting, his boss called his bluff, ok, dave, how about tom cruise?no dramas boss, tom and i are old friends, and i can prove it.so dave and his boss fly out to hollywood and knock on tom cruises door, and tom cruise shouts, dave! whats happening? great to see you! come on in for a beer!although impressed, daves boss is still skeptical. after they leave cruises house, he tells dave that he thinks him knowing cruise was just lucky.no, no, just name anyone else, dave says.president obama, his boss quickly retorts.yup, dave says, old buddies, lets fly out to washington, and off they go. at the white house, obama spots dave on the tour and motions him and his boss over, saying, dave, what a surprise, i was just on my way to a meeting, but you and your friend come on in and lets have a beer first and catch up.well, the boss is very shaken by now but still not totally convinced.after they leave the white house grounds he expresses his doubts to dave, who again implores him to name anyone else.pope francis, his boss replies.sure! says dave. ive known the pope for years. so off they fly to rome.dave and his boss are assembled with the masses at the vaticans st. peters square when dave says, this will never work. i cant catch the popes eye among all these people. tell you what, i know all the guards so let me just go upstairs and ill come out on the balcony with the pope.he disappears into the crowd headed towards the vatican.sure enough, half an hour later dave emerges with the pope on the balcony, but by the time dave returns, he finds that his boss has had a heart attack and is surrounded by paramedics.making his way to his boss side, dave asks him, what happened?his boss looks up and says, it was the final straw... you and the pope came out on to the balcony and the man next to me said, who the fuck is that on the balcony with dave?\n",
      "\n",
      "by legalizing cannabis and samesex marriage we finally interpreted the bible correctly a man who lays with another man should be stoned. leviticus  esv edit a typo edit thanks for the gold humorous stranger! \n",
      "\n",
      "a man walks into a bar... the bartender asks why the long face? the man replies i just found out my wife is sleeping with another man. ive decided im going to drink myself to death. the bartender looks shocked and says im sorry i cant help you kill yourself. the man asks well what would you do in my situation?the bartender puffs himself up a bit and says if i found out a guy was sleeping with my wife i wouldnt sit around feeling sorry for myself, id kill the guy.the man jumps up from his stool and shouts thats a great idea! thanks! and runs out of the bar.a couple hours goes by and the bartender is starting to get nervous when the man walks back into the bar with a smile on his face.did you kill the guy? the bartender asks nervously.nope! i slept with your wife. whiskey please.\n",
      "\n"
     ]
    }
   ],
   "source": [
    "for joke in good_jokes[good_jokes.joke.str.contains(' man ')].tail(5).joke:\n",
    "    print(joke)\n",
    "    print()"
   ]
  },
  {
   "cell_type": "code",
   "execution_count": 34,
   "metadata": {},
   "outputs": [
    {
     "data": {
      "text/html": [
       "<div>\n",
       "<style scoped>\n",
       "    .dataframe tbody tr th:only-of-type {\n",
       "        vertical-align: middle;\n",
       "    }\n",
       "\n",
       "    .dataframe tbody tr th {\n",
       "        vertical-align: top;\n",
       "    }\n",
       "\n",
       "    .dataframe thead th {\n",
       "        text-align: right;\n",
       "    }\n",
       "</style>\n",
       "<table border=\"1\" class=\"dataframe\">\n",
       "  <thead>\n",
       "    <tr style=\"text-align: right;\">\n",
       "      <th></th>\n",
       "      <th>word</th>\n",
       "      <th>count</th>\n",
       "    </tr>\n",
       "  </thead>\n",
       "  <tbody>\n",
       "    <tr>\n",
       "      <th>0</th>\n",
       "      <td>aa</td>\n",
       "      <td>0.218800</td>\n",
       "    </tr>\n",
       "    <tr>\n",
       "      <th>1</th>\n",
       "      <td>aaa</td>\n",
       "      <td>0.337332</td>\n",
       "    </tr>\n",
       "    <tr>\n",
       "      <th>2</th>\n",
       "      <td>aaaa</td>\n",
       "      <td>0.000000</td>\n",
       "    </tr>\n",
       "    <tr>\n",
       "      <th>3</th>\n",
       "      <td>aaaaa</td>\n",
       "      <td>0.000000</td>\n",
       "    </tr>\n",
       "    <tr>\n",
       "      <th>4</th>\n",
       "      <td>aaaaaa</td>\n",
       "      <td>0.000000</td>\n",
       "    </tr>\n",
       "    <tr>\n",
       "      <th>...</th>\n",
       "      <td>...</td>\n",
       "      <td>...</td>\n",
       "    </tr>\n",
       "    <tr>\n",
       "      <th>196596</th>\n",
       "      <td>zzzzzzzzzzzzzzzzz</td>\n",
       "      <td>0.000000</td>\n",
       "    </tr>\n",
       "    <tr>\n",
       "      <th>196597</th>\n",
       "      <td>zzzzzzzzzzzzzzzzzzzzzz</td>\n",
       "      <td>0.000000</td>\n",
       "    </tr>\n",
       "    <tr>\n",
       "      <th>196598</th>\n",
       "      <td>zzzzzzzzzzzzzzzzzzzzzzzzzzzzzthe</td>\n",
       "      <td>0.000000</td>\n",
       "    </tr>\n",
       "    <tr>\n",
       "      <th>196599</th>\n",
       "      <td>zzzzzzzzzzzzzzzzzzzzzzzzzzzzzzzzzzzzzzzzthe</td>\n",
       "      <td>0.000000</td>\n",
       "    </tr>\n",
       "    <tr>\n",
       "      <th>196600</th>\n",
       "      <td>zzzzzzzzzzzzzzzzzzzzzzzzzzzzzzzzzzzzzzzzzzzzzzthe</td>\n",
       "      <td>0.000000</td>\n",
       "    </tr>\n",
       "  </tbody>\n",
       "</table>\n",
       "<p>196601 rows × 2 columns</p>\n",
       "</div>"
      ],
      "text/plain": [
       "                                                     word     count\n",
       "0                                                      aa  0.218800\n",
       "1                                                     aaa  0.337332\n",
       "2                                                    aaaa  0.000000\n",
       "3                                                   aaaaa  0.000000\n",
       "4                                                  aaaaaa  0.000000\n",
       "...                                                   ...       ...\n",
       "196596                                  zzzzzzzzzzzzzzzzz  0.000000\n",
       "196597                             zzzzzzzzzzzzzzzzzzzzzz  0.000000\n",
       "196598                   zzzzzzzzzzzzzzzzzzzzzzzzzzzzzthe  0.000000\n",
       "196599        zzzzzzzzzzzzzzzzzzzzzzzzzzzzzzzzzzzzzzzzthe  0.000000\n",
       "196600  zzzzzzzzzzzzzzzzzzzzzzzzzzzzzzzzzzzzzzzzzzzzzzthe  0.000000\n",
       "\n",
       "[196601 rows x 2 columns]"
      ]
     },
     "execution_count": 34,
     "metadata": {},
     "output_type": "execute_result"
    }
   ],
   "source": [
    "good_jokes_word_idf = pd.concat(\n",
    "    [\n",
    "        pd.Series(tfidf_vect.get_feature_names_out()),\n",
    "        pd.Series(np.asarray(tfidf_jokes[good_jokes.index].sum(axis=0)).squeeze()),\n",
    "    ], axis='columns', keys=['word', 'count']\n",
    ")\n",
    "good_jokes_word_idf"
   ]
  },
  {
   "cell_type": "code",
   "execution_count": 35,
   "metadata": {},
   "outputs": [
    {
     "data": {
      "text/html": [
       "<div>\n",
       "<style scoped>\n",
       "    .dataframe tbody tr th:only-of-type {\n",
       "        vertical-align: middle;\n",
       "    }\n",
       "\n",
       "    .dataframe tbody tr th {\n",
       "        vertical-align: top;\n",
       "    }\n",
       "\n",
       "    .dataframe thead th {\n",
       "        text-align: right;\n",
       "    }\n",
       "</style>\n",
       "<table border=\"1\" class=\"dataframe\">\n",
       "  <thead>\n",
       "    <tr style=\"text-align: right;\">\n",
       "      <th></th>\n",
       "      <th>word</th>\n",
       "      <th>count</th>\n",
       "    </tr>\n",
       "  </thead>\n",
       "  <tbody>\n",
       "    <tr>\n",
       "      <th>147669</th>\n",
       "      <td>said</td>\n",
       "      <td>67.537998</td>\n",
       "    </tr>\n",
       "    <tr>\n",
       "      <th>149360</th>\n",
       "      <td>says</td>\n",
       "      <td>64.319957</td>\n",
       "    </tr>\n",
       "    <tr>\n",
       "      <th>103769</th>\n",
       "      <td>man</td>\n",
       "      <td>57.291711</td>\n",
       "    </tr>\n",
       "    <tr>\n",
       "      <th>85108</th>\n",
       "      <td>im</td>\n",
       "      <td>51.772732</td>\n",
       "    </tr>\n",
       "    <tr>\n",
       "      <th>190313</th>\n",
       "      <td>wife</td>\n",
       "      <td>51.119043</td>\n",
       "    </tr>\n",
       "    <tr>\n",
       "      <th>121680</th>\n",
       "      <td>one</td>\n",
       "      <td>50.363516</td>\n",
       "    </tr>\n",
       "    <tr>\n",
       "      <th>99600</th>\n",
       "      <td>like</td>\n",
       "      <td>44.929305</td>\n",
       "    </tr>\n",
       "    <tr>\n",
       "      <th>69195</th>\n",
       "      <td>get</td>\n",
       "      <td>43.785308</td>\n",
       "    </tr>\n",
       "    <tr>\n",
       "      <th>53561</th>\n",
       "      <td>edit</td>\n",
       "      <td>41.610126</td>\n",
       "    </tr>\n",
       "    <tr>\n",
       "      <th>50077</th>\n",
       "      <td>dont</td>\n",
       "      <td>41.495084</td>\n",
       "    </tr>\n",
       "    <tr>\n",
       "      <th>11555</th>\n",
       "      <td>asked</td>\n",
       "      <td>39.825113</td>\n",
       "    </tr>\n",
       "    <tr>\n",
       "      <th>95238</th>\n",
       "      <td>know</td>\n",
       "      <td>34.931383</td>\n",
       "    </tr>\n",
       "    <tr>\n",
       "      <th>192780</th>\n",
       "      <td>would</td>\n",
       "      <td>33.093493</td>\n",
       "    </tr>\n",
       "    <tr>\n",
       "      <th>71679</th>\n",
       "      <td>got</td>\n",
       "      <td>32.481152</td>\n",
       "    </tr>\n",
       "    <tr>\n",
       "      <th>188359</th>\n",
       "      <td>well</td>\n",
       "      <td>31.715616</td>\n",
       "    </tr>\n",
       "    <tr>\n",
       "      <th>74211</th>\n",
       "      <td>guy</td>\n",
       "      <td>31.570352</td>\n",
       "    </tr>\n",
       "    <tr>\n",
       "      <th>14528</th>\n",
       "      <td>back</td>\n",
       "      <td>30.231193</td>\n",
       "    </tr>\n",
       "    <tr>\n",
       "      <th>153190</th>\n",
       "      <td>sex</td>\n",
       "      <td>28.914655</td>\n",
       "    </tr>\n",
       "    <tr>\n",
       "      <th>191722</th>\n",
       "      <td>woman</td>\n",
       "      <td>28.747487</td>\n",
       "    </tr>\n",
       "    <tr>\n",
       "      <th>128249</th>\n",
       "      <td>people</td>\n",
       "      <td>28.045112</td>\n",
       "    </tr>\n",
       "  </tbody>\n",
       "</table>\n",
       "</div>"
      ],
      "text/plain": [
       "          word      count\n",
       "147669    said  67.537998\n",
       "149360    says  64.319957\n",
       "103769     man  57.291711\n",
       "85108       im  51.772732\n",
       "190313    wife  51.119043\n",
       "121680     one  50.363516\n",
       "99600     like  44.929305\n",
       "69195      get  43.785308\n",
       "53561     edit  41.610126\n",
       "50077     dont  41.495084\n",
       "11555    asked  39.825113\n",
       "95238     know  34.931383\n",
       "192780   would  33.093493\n",
       "71679      got  32.481152\n",
       "188359    well  31.715616\n",
       "74211      guy  31.570352\n",
       "14528     back  30.231193\n",
       "153190     sex  28.914655\n",
       "191722   woman  28.747487\n",
       "128249  people  28.045112"
      ]
     },
     "execution_count": 35,
     "metadata": {},
     "output_type": "execute_result"
    }
   ],
   "source": [
    "good_jokes_word_idf[~good_jokes_word_idf.word.isin(stopwords.words('english'))].sort_values('count', ascending=False).head(20)"
   ]
  },
  {
   "cell_type": "code",
   "execution_count": 36,
   "metadata": {},
   "outputs": [
    {
     "data": {
      "text/plain": [
       "<3479x13866 sparse matrix of type '<class 'numpy.float64'>'\n",
       "\twith 158145 stored elements in Compressed Sparse Row format>"
      ]
     },
     "execution_count": 36,
     "metadata": {},
     "output_type": "execute_result"
    }
   ],
   "source": [
    "tfidf_good_vect = TfidfVectorizer()\n",
    "tfidf_good_jokes = tfidf_good_vect.fit_transform(good_jokes.joke.values)\n",
    "tfidf_good_jokes"
   ]
  },
  {
   "cell_type": "code",
   "execution_count": 37,
   "metadata": {},
   "outputs": [
    {
     "data": {
      "text/html": [
       "<div>\n",
       "<style scoped>\n",
       "    .dataframe tbody tr th:only-of-type {\n",
       "        vertical-align: middle;\n",
       "    }\n",
       "\n",
       "    .dataframe tbody tr th {\n",
       "        vertical-align: top;\n",
       "    }\n",
       "\n",
       "    .dataframe thead th {\n",
       "        text-align: right;\n",
       "    }\n",
       "</style>\n",
       "<table border=\"1\" class=\"dataframe\">\n",
       "  <thead>\n",
       "    <tr style=\"text-align: right;\">\n",
       "      <th></th>\n",
       "      <th>word</th>\n",
       "      <th>count</th>\n",
       "    </tr>\n",
       "  </thead>\n",
       "  <tbody>\n",
       "    <tr>\n",
       "      <th>0</th>\n",
       "      <td>aa</td>\n",
       "      <td>0.217575</td>\n",
       "    </tr>\n",
       "    <tr>\n",
       "      <th>1</th>\n",
       "      <td>aaa</td>\n",
       "      <td>0.387436</td>\n",
       "    </tr>\n",
       "    <tr>\n",
       "      <th>2</th>\n",
       "      <td>aaaah</td>\n",
       "      <td>0.085922</td>\n",
       "    </tr>\n",
       "    <tr>\n",
       "      <th>3</th>\n",
       "      <td>aaarrrghh</td>\n",
       "      <td>0.316697</td>\n",
       "    </tr>\n",
       "    <tr>\n",
       "      <th>4</th>\n",
       "      <td>aaaway</td>\n",
       "      <td>0.318949</td>\n",
       "    </tr>\n",
       "    <tr>\n",
       "      <th>...</th>\n",
       "      <td>...</td>\n",
       "      <td>...</td>\n",
       "    </tr>\n",
       "    <tr>\n",
       "      <th>13861</th>\n",
       "      <td>zoobooks</td>\n",
       "      <td>0.237976</td>\n",
       "    </tr>\n",
       "    <tr>\n",
       "      <th>13862</th>\n",
       "      <td>zookeeper</td>\n",
       "      <td>0.409659</td>\n",
       "    </tr>\n",
       "    <tr>\n",
       "      <th>13863</th>\n",
       "      <td>zoophile</td>\n",
       "      <td>0.203000</td>\n",
       "    </tr>\n",
       "    <tr>\n",
       "      <th>13864</th>\n",
       "      <td>zuckerberg</td>\n",
       "      <td>0.352931</td>\n",
       "    </tr>\n",
       "    <tr>\n",
       "      <th>13865</th>\n",
       "      <td>zwei</td>\n",
       "      <td>0.142169</td>\n",
       "    </tr>\n",
       "  </tbody>\n",
       "</table>\n",
       "<p>13866 rows × 2 columns</p>\n",
       "</div>"
      ],
      "text/plain": [
       "             word     count\n",
       "0              aa  0.217575\n",
       "1             aaa  0.387436\n",
       "2           aaaah  0.085922\n",
       "3       aaarrrghh  0.316697\n",
       "4          aaaway  0.318949\n",
       "...           ...       ...\n",
       "13861    zoobooks  0.237976\n",
       "13862   zookeeper  0.409659\n",
       "13863    zoophile  0.203000\n",
       "13864  zuckerberg  0.352931\n",
       "13865        zwei  0.142169\n",
       "\n",
       "[13866 rows x 2 columns]"
      ]
     },
     "execution_count": 37,
     "metadata": {},
     "output_type": "execute_result"
    }
   ],
   "source": [
    "good_jokes_word_idf = pd.concat(\n",
    "    [\n",
    "        pd.Series(tfidf_good_vect.get_feature_names_out()),\n",
    "        pd.Series(np.asarray(tfidf_good_jokes.sum(axis=0)).squeeze()),\n",
    "    ], axis='columns', keys=['word', 'count']\n",
    ")\n",
    "good_jokes_word_idf"
   ]
  },
  {
   "cell_type": "code",
   "execution_count": 38,
   "metadata": {},
   "outputs": [
    {
     "data": {
      "text/html": [
       "<div>\n",
       "<style scoped>\n",
       "    .dataframe tbody tr th:only-of-type {\n",
       "        vertical-align: middle;\n",
       "    }\n",
       "\n",
       "    .dataframe tbody tr th {\n",
       "        vertical-align: top;\n",
       "    }\n",
       "\n",
       "    .dataframe thead th {\n",
       "        text-align: right;\n",
       "    }\n",
       "</style>\n",
       "<table border=\"1\" class=\"dataframe\">\n",
       "  <thead>\n",
       "    <tr style=\"text-align: right;\">\n",
       "      <th></th>\n",
       "      <th>word</th>\n",
       "      <th>count</th>\n",
       "    </tr>\n",
       "  </thead>\n",
       "  <tbody>\n",
       "    <tr>\n",
       "      <th>10299</th>\n",
       "      <td>said</td>\n",
       "      <td>61.751454</td>\n",
       "    </tr>\n",
       "    <tr>\n",
       "      <th>10407</th>\n",
       "      <td>says</td>\n",
       "      <td>60.323491</td>\n",
       "    </tr>\n",
       "    <tr>\n",
       "      <th>7268</th>\n",
       "      <td>man</td>\n",
       "      <td>58.135122</td>\n",
       "    </tr>\n",
       "    <tr>\n",
       "      <th>8314</th>\n",
       "      <td>one</td>\n",
       "      <td>49.662388</td>\n",
       "    </tr>\n",
       "    <tr>\n",
       "      <th>6025</th>\n",
       "      <td>im</td>\n",
       "      <td>49.230105</td>\n",
       "    </tr>\n",
       "    <tr>\n",
       "      <th>13533</th>\n",
       "      <td>wife</td>\n",
       "      <td>47.633648</td>\n",
       "    </tr>\n",
       "    <tr>\n",
       "      <th>6978</th>\n",
       "      <td>like</td>\n",
       "      <td>45.431302</td>\n",
       "    </tr>\n",
       "    <tr>\n",
       "      <th>5084</th>\n",
       "      <td>get</td>\n",
       "      <td>43.641674</td>\n",
       "    </tr>\n",
       "    <tr>\n",
       "      <th>3600</th>\n",
       "      <td>dont</td>\n",
       "      <td>40.811579</td>\n",
       "    </tr>\n",
       "    <tr>\n",
       "      <th>717</th>\n",
       "      <td>asked</td>\n",
       "      <td>36.849412</td>\n",
       "    </tr>\n",
       "    <tr>\n",
       "      <th>6697</th>\n",
       "      <td>know</td>\n",
       "      <td>34.773909</td>\n",
       "    </tr>\n",
       "    <tr>\n",
       "      <th>5422</th>\n",
       "      <td>guy</td>\n",
       "      <td>32.166281</td>\n",
       "    </tr>\n",
       "    <tr>\n",
       "      <th>5227</th>\n",
       "      <td>got</td>\n",
       "      <td>31.952154</td>\n",
       "    </tr>\n",
       "    <tr>\n",
       "      <th>13694</th>\n",
       "      <td>would</td>\n",
       "      <td>31.815714</td>\n",
       "    </tr>\n",
       "    <tr>\n",
       "      <th>13404</th>\n",
       "      <td>well</td>\n",
       "      <td>29.399329</td>\n",
       "    </tr>\n",
       "    <tr>\n",
       "      <th>8758</th>\n",
       "      <td>people</td>\n",
       "      <td>29.100171</td>\n",
       "    </tr>\n",
       "    <tr>\n",
       "      <th>3846</th>\n",
       "      <td>edit</td>\n",
       "      <td>29.063515</td>\n",
       "    </tr>\n",
       "    <tr>\n",
       "      <th>10666</th>\n",
       "      <td>sex</td>\n",
       "      <td>28.859416</td>\n",
       "    </tr>\n",
       "    <tr>\n",
       "      <th>918</th>\n",
       "      <td>back</td>\n",
       "      <td>28.349291</td>\n",
       "    </tr>\n",
       "    <tr>\n",
       "      <th>3092</th>\n",
       "      <td>day</td>\n",
       "      <td>28.040213</td>\n",
       "    </tr>\n",
       "  </tbody>\n",
       "</table>\n",
       "</div>"
      ],
      "text/plain": [
       "         word      count\n",
       "10299    said  61.751454\n",
       "10407    says  60.323491\n",
       "7268      man  58.135122\n",
       "8314      one  49.662388\n",
       "6025       im  49.230105\n",
       "13533    wife  47.633648\n",
       "6978     like  45.431302\n",
       "5084      get  43.641674\n",
       "3600     dont  40.811579\n",
       "717     asked  36.849412\n",
       "6697     know  34.773909\n",
       "5422      guy  32.166281\n",
       "5227      got  31.952154\n",
       "13694   would  31.815714\n",
       "13404    well  29.399329\n",
       "8758   people  29.100171\n",
       "3846     edit  29.063515\n",
       "10666     sex  28.859416\n",
       "918      back  28.349291\n",
       "3092      day  28.040213"
      ]
     },
     "execution_count": 38,
     "metadata": {},
     "output_type": "execute_result"
    }
   ],
   "source": [
    "good_jokes_word_idf[~good_jokes_word_idf.word.isin(stopwords.words('english'))].sort_values('count', ascending=False).head(20)"
   ]
  },
  {
   "cell_type": "code",
   "execution_count": 39,
   "metadata": {},
   "outputs": [],
   "source": [
    "from sklearn.cluster import KMeans"
   ]
  },
  {
   "cell_type": "code",
   "execution_count": 40,
   "metadata": {},
   "outputs": [
    {
     "data": {
      "text/plain": [
       "KMeans(n_clusters=100)"
      ]
     },
     "execution_count": 40,
     "metadata": {},
     "output_type": "execute_result"
    }
   ],
   "source": [
    "kmeans = KMeans(n_clusters=100)\n",
    "kmeans.fit(tfidf_good_jokes)"
   ]
  },
  {
   "cell_type": "code",
   "execution_count": 41,
   "metadata": {},
   "outputs": [],
   "source": [
    "good_jokes['label'] = kmeans.labels_"
   ]
  },
  {
   "cell_type": "code",
   "execution_count": 42,
   "metadata": {},
   "outputs": [
    {
     "data": {
      "text/html": [
       "<div>\n",
       "<style scoped>\n",
       "    .dataframe tbody tr th:only-of-type {\n",
       "        vertical-align: middle;\n",
       "    }\n",
       "\n",
       "    .dataframe tbody tr th {\n",
       "        vertical-align: top;\n",
       "    }\n",
       "\n",
       "    .dataframe thead th {\n",
       "        text-align: right;\n",
       "    }\n",
       "</style>\n",
       "<table border=\"1\" class=\"dataframe\">\n",
       "  <thead>\n",
       "    <tr style=\"text-align: right;\">\n",
       "      <th></th>\n",
       "      <th>index</th>\n",
       "      <th>domain</th>\n",
       "      <th>score</th>\n",
       "      <th>created</th>\n",
       "      <th>joke</th>\n",
       "      <th>label</th>\n",
       "    </tr>\n",
       "  </thead>\n",
       "  <tbody>\n",
       "    <tr>\n",
       "      <th>562291</th>\n",
       "      <td>766392</td>\n",
       "      <td>self.jokes</td>\n",
       "      <td>10003</td>\n",
       "      <td>2016-11-05 12:19:21</td>\n",
       "      <td>a joke my grandma told me before she passed. s...</td>\n",
       "      <td>10</td>\n",
       "    </tr>\n",
       "    <tr>\n",
       "      <th>562292</th>\n",
       "      <td>817060</td>\n",
       "      <td>self.jokes</td>\n",
       "      <td>10013</td>\n",
       "      <td>2016-08-15 23:23:22</td>\n",
       "      <td>if a woman sleeps with  men shes a slut, but i...</td>\n",
       "      <td>35</td>\n",
       "    </tr>\n",
       "    <tr>\n",
       "      <th>562293</th>\n",
       "      <td>956485</td>\n",
       "      <td>self.jokes</td>\n",
       "      <td>10017</td>\n",
       "      <td>2015-08-23 14:31:29</td>\n",
       "      <td>how many germans does it take to change a ligh...</td>\n",
       "      <td>30</td>\n",
       "    </tr>\n",
       "    <tr>\n",
       "      <th>562294</th>\n",
       "      <td>672977</td>\n",
       "      <td>self.jokes</td>\n",
       "      <td>10018</td>\n",
       "      <td>2017-03-12 10:30:11</td>\n",
       "      <td>a man and his wife are awakened at  oclock in ...</td>\n",
       "      <td>19</td>\n",
       "    </tr>\n",
       "    <tr>\n",
       "      <th>562295</th>\n",
       "      <td>207962</td>\n",
       "      <td>self.jokes</td>\n",
       "      <td>10019</td>\n",
       "      <td>2019-04-24 23:06:14</td>\n",
       "      <td>my least favorite color is purple. i hate it m...</td>\n",
       "      <td>73</td>\n",
       "    </tr>\n",
       "  </tbody>\n",
       "</table>\n",
       "</div>"
      ],
      "text/plain": [
       "         index      domain  score             created  \\\n",
       "562291  766392  self.jokes  10003 2016-11-05 12:19:21   \n",
       "562292  817060  self.jokes  10013 2016-08-15 23:23:22   \n",
       "562293  956485  self.jokes  10017 2015-08-23 14:31:29   \n",
       "562294  672977  self.jokes  10018 2017-03-12 10:30:11   \n",
       "562295  207962  self.jokes  10019 2019-04-24 23:06:14   \n",
       "\n",
       "                                                     joke  label  \n",
       "562291  a joke my grandma told me before she passed. s...     10  \n",
       "562292  if a woman sleeps with  men shes a slut, but i...     35  \n",
       "562293  how many germans does it take to change a ligh...     30  \n",
       "562294  a man and his wife are awakened at  oclock in ...     19  \n",
       "562295  my least favorite color is purple. i hate it m...     73  "
      ]
     },
     "execution_count": 42,
     "metadata": {},
     "output_type": "execute_result"
    }
   ],
   "source": [
    "good_jokes.head()"
   ]
  },
  {
   "cell_type": "code",
   "execution_count": 43,
   "metadata": {},
   "outputs": [
    {
     "data": {
      "text/plain": [
       "22    356\n",
       "19    312\n",
       "5     211\n",
       "10    166\n",
       "65     95\n",
       "     ... \n",
       "33      8\n",
       "71      8\n",
       "55      7\n",
       "13      7\n",
       "27      6\n",
       "Name: label, Length: 100, dtype: int64"
      ]
     },
     "execution_count": 43,
     "metadata": {},
     "output_type": "execute_result"
    }
   ],
   "source": [
    "jokes_cluster_counts = good_jokes.label.value_counts()\n",
    "jokes_cluster_counts"
   ]
  },
  {
   "cell_type": "code",
   "execution_count": 44,
   "metadata": {},
   "outputs": [
    {
     "name": "stdout",
     "output_type": "stream",
     "text": [
      "calm down about the net neutrality thing... paying additional money to access certain sites will give you a sense of pride and accomplishment.\n",
      "\n",
      "why was the antivaxxers  year old child crying? midlife crisis\n",
      "\n",
      "all countries eventually got coronavirus but china got it right off the bat.\n",
      "\n",
      "as an aussie, americans are always asking me where in australia there isnt something trying to kill you... school is my answer \n",
      "\n",
      "a feminist told me about the dwayne johnson rule. the rule, as she explained it, was that in order to determine if a particular comment was appropriate to say to a woman, first ask yourself, would i be comfortable saying this to dwayne johnson? if not, dont say it.i thought this sounded like a good rule. so i told heryour chest is fucking epic.\n",
      "\n"
     ]
    }
   ],
   "source": [
    "for joke in good_jokes[good_jokes.label==jokes_cluster_counts.index[0]].sort_values('score', ascending=False).joke.head():\n",
    "    print(joke)\n",
    "    print()"
   ]
  },
  {
   "cell_type": "code",
   "execution_count": 45,
   "metadata": {},
   "outputs": [
    {
     "name": "stdout",
     "output_type": "stream",
     "text": [
      "i take viagra for my sun burn... it doesnt cure it, but it keeps the sheets off my legs when i sleep.ampxb\n",
      "\n",
      "what rhymes with orange no it doesnt\n",
      "\n",
      "im taking viagra for my sunburn. it doesnt cure it, but it keeps the sheets off of my legs\n",
      "\n",
      "ive been taking viagra for my sunburn doesnt cure it, but it keeps the sheets off my legs at night.\n",
      "\n",
      "im taking viagra for my sunburn it doesnt cure it, but it keeps the sheets off my legs\n",
      "\n"
     ]
    }
   ],
   "source": [
    "for joke in good_jokes[good_jokes.label==jokes_cluster_counts.index[-1]].sort_values('score', ascending=False).joke.head():\n",
    "    print(joke)\n",
    "    print()"
   ]
  },
  {
   "cell_type": "code",
   "execution_count": null,
   "metadata": {},
   "outputs": [],
   "source": []
  },
  {
   "cell_type": "code",
   "execution_count": null,
   "metadata": {},
   "outputs": [],
   "source": []
  },
  {
   "cell_type": "code",
   "execution_count": 46,
   "metadata": {},
   "outputs": [],
   "source": [
    "kaggle.api.dataset_download_files(dataset='vikashrajluhaniwal/jester-17m-jokes-ratings-dataset', path='./data', unzip=True)"
   ]
  },
  {
   "cell_type": "code",
   "execution_count": 47,
   "metadata": {},
   "outputs": [
    {
     "name": "stdout",
     "output_type": "stream",
     "text": [
      "shape: (150, 2)\n"
     ]
    },
    {
     "data": {
      "text/html": [
       "<div>\n",
       "<style scoped>\n",
       "    .dataframe tbody tr th:only-of-type {\n",
       "        vertical-align: middle;\n",
       "    }\n",
       "\n",
       "    .dataframe tbody tr th {\n",
       "        vertical-align: top;\n",
       "    }\n",
       "\n",
       "    .dataframe thead th {\n",
       "        text-align: right;\n",
       "    }\n",
       "</style>\n",
       "<table border=\"1\" class=\"dataframe\">\n",
       "  <thead>\n",
       "    <tr style=\"text-align: right;\">\n",
       "      <th></th>\n",
       "      <th>jokeId</th>\n",
       "      <th>jokeText</th>\n",
       "    </tr>\n",
       "  </thead>\n",
       "  <tbody>\n",
       "    <tr>\n",
       "      <th>0</th>\n",
       "      <td>1</td>\n",
       "      <td>A man visits the doctor. The doctor says \"I ha...</td>\n",
       "    </tr>\n",
       "    <tr>\n",
       "      <th>1</th>\n",
       "      <td>2</td>\n",
       "      <td>This couple had an excellent relationship goin...</td>\n",
       "    </tr>\n",
       "    <tr>\n",
       "      <th>2</th>\n",
       "      <td>3</td>\n",
       "      <td>Q. What's 200 feet long and has 4 teeth? \\n\\nA...</td>\n",
       "    </tr>\n",
       "    <tr>\n",
       "      <th>3</th>\n",
       "      <td>4</td>\n",
       "      <td>Q. What's the difference between a man and a t...</td>\n",
       "    </tr>\n",
       "    <tr>\n",
       "      <th>4</th>\n",
       "      <td>5</td>\n",
       "      <td>Q.\\tWhat's O. J. Simpson's Internet address? \\...</td>\n",
       "    </tr>\n",
       "  </tbody>\n",
       "</table>\n",
       "</div>"
      ],
      "text/plain": [
       "   jokeId                                           jokeText\n",
       "0       1  A man visits the doctor. The doctor says \"I ha...\n",
       "1       2  This couple had an excellent relationship goin...\n",
       "2       3  Q. What's 200 feet long and has 4 teeth? \\n\\nA...\n",
       "3       4  Q. What's the difference between a man and a t...\n",
       "4       5  Q.\\tWhat's O. J. Simpson's Internet address? \\..."
      ]
     },
     "execution_count": 47,
     "metadata": {},
     "output_type": "execute_result"
    }
   ],
   "source": [
    "jester_jokes_df = pd.read_csv('./data/jester_items.csv')\n",
    "print('shape: ' + str(jester_jokes_df.shape))\n",
    "jester_jokes_df.head()"
   ]
  },
  {
   "cell_type": "code",
   "execution_count": 48,
   "metadata": {},
   "outputs": [
    {
     "name": "stdout",
     "output_type": "stream",
     "text": [
      "shape: (1761439, 3)\n"
     ]
    },
    {
     "data": {
      "text/html": [
       "<div>\n",
       "<style scoped>\n",
       "    .dataframe tbody tr th:only-of-type {\n",
       "        vertical-align: middle;\n",
       "    }\n",
       "\n",
       "    .dataframe tbody tr th {\n",
       "        vertical-align: top;\n",
       "    }\n",
       "\n",
       "    .dataframe thead th {\n",
       "        text-align: right;\n",
       "    }\n",
       "</style>\n",
       "<table border=\"1\" class=\"dataframe\">\n",
       "  <thead>\n",
       "    <tr style=\"text-align: right;\">\n",
       "      <th></th>\n",
       "      <th>userId</th>\n",
       "      <th>jokeId</th>\n",
       "      <th>rating</th>\n",
       "    </tr>\n",
       "  </thead>\n",
       "  <tbody>\n",
       "    <tr>\n",
       "      <th>0</th>\n",
       "      <td>1</td>\n",
       "      <td>5</td>\n",
       "      <td>0.219</td>\n",
       "    </tr>\n",
       "    <tr>\n",
       "      <th>1</th>\n",
       "      <td>1</td>\n",
       "      <td>7</td>\n",
       "      <td>-9.281</td>\n",
       "    </tr>\n",
       "    <tr>\n",
       "      <th>2</th>\n",
       "      <td>1</td>\n",
       "      <td>8</td>\n",
       "      <td>-9.281</td>\n",
       "    </tr>\n",
       "    <tr>\n",
       "      <th>3</th>\n",
       "      <td>1</td>\n",
       "      <td>13</td>\n",
       "      <td>-6.781</td>\n",
       "    </tr>\n",
       "    <tr>\n",
       "      <th>4</th>\n",
       "      <td>1</td>\n",
       "      <td>15</td>\n",
       "      <td>0.875</td>\n",
       "    </tr>\n",
       "  </tbody>\n",
       "</table>\n",
       "</div>"
      ],
      "text/plain": [
       "   userId  jokeId  rating\n",
       "0       1       5   0.219\n",
       "1       1       7  -9.281\n",
       "2       1       8  -9.281\n",
       "3       1      13  -6.781\n",
       "4       1      15   0.875"
      ]
     },
     "execution_count": 48,
     "metadata": {},
     "output_type": "execute_result"
    }
   ],
   "source": [
    "jester_ratings_df = pd.read_csv('./data/jester_ratings.csv')\n",
    "print('shape: ' + str(jester_ratings_df.shape))\n",
    "jester_ratings_df.head()"
   ]
  },
  {
   "cell_type": "code",
   "execution_count": null,
   "metadata": {},
   "outputs": [],
   "source": []
  },
  {
   "cell_type": "code",
   "execution_count": null,
   "metadata": {},
   "outputs": [],
   "source": []
  },
  {
   "cell_type": "code",
   "execution_count": 49,
   "metadata": {},
   "outputs": [
    {
     "data": {
      "text/plain": [
       "jokeId\n",
       "5     -1.756331\n",
       "7     -1.809230\n",
       "8     -0.672010\n",
       "13    -0.590224\n",
       "15    -1.377098\n",
       "         ...   \n",
       "146    0.178280\n",
       "147    1.783395\n",
       "148    3.061760\n",
       "149    2.399796\n",
       "150    2.810758\n",
       "Name: rating, Length: 140, dtype: float64"
      ]
     },
     "execution_count": 49,
     "metadata": {},
     "output_type": "execute_result"
    }
   ],
   "source": [
    "jester_ratings_df.groupby('jokeId').rating.mean()"
   ]
  },
  {
   "cell_type": "code",
   "execution_count": 50,
   "metadata": {},
   "outputs": [
    {
     "data": {
      "text/html": [
       "<div>\n",
       "<style scoped>\n",
       "    .dataframe tbody tr th:only-of-type {\n",
       "        vertical-align: middle;\n",
       "    }\n",
       "\n",
       "    .dataframe tbody tr th {\n",
       "        vertical-align: top;\n",
       "    }\n",
       "\n",
       "    .dataframe thead th {\n",
       "        text-align: right;\n",
       "    }\n",
       "</style>\n",
       "<table border=\"1\" class=\"dataframe\">\n",
       "  <thead>\n",
       "    <tr style=\"text-align: right;\">\n",
       "      <th></th>\n",
       "      <th>rating</th>\n",
       "      <th>jokeId</th>\n",
       "      <th>jokeText</th>\n",
       "    </tr>\n",
       "    <tr>\n",
       "      <th>jokeId</th>\n",
       "      <th></th>\n",
       "      <th></th>\n",
       "      <th></th>\n",
       "    </tr>\n",
       "  </thead>\n",
       "  <tbody>\n",
       "    <tr>\n",
       "      <th>53</th>\n",
       "      <td>3.714381</td>\n",
       "      <td>54.0</td>\n",
       "      <td>The Pope dies and, naturally, goes to heaven. ...</td>\n",
       "    </tr>\n",
       "    <tr>\n",
       "      <th>105</th>\n",
       "      <td>3.711223</td>\n",
       "      <td>106.0</td>\n",
       "      <td>An engineer dies and reports to the pearly gat...</td>\n",
       "    </tr>\n",
       "    <tr>\n",
       "      <th>89</th>\n",
       "      <td>3.606506</td>\n",
       "      <td>90.0</td>\n",
       "      <td>Q: How many programmers does it take to change...</td>\n",
       "    </tr>\n",
       "    <tr>\n",
       "      <th>129</th>\n",
       "      <td>3.583496</td>\n",
       "      <td>130.0</td>\n",
       "      <td>An old man goes to the doctor for his yearly p...</td>\n",
       "    </tr>\n",
       "    <tr>\n",
       "      <th>35</th>\n",
       "      <td>3.560305</td>\n",
       "      <td>36.0</td>\n",
       "      <td>A guy walks into a bar, orders a beer and says...</td>\n",
       "    </tr>\n",
       "  </tbody>\n",
       "</table>\n",
       "</div>"
      ],
      "text/plain": [
       "          rating  jokeId                                           jokeText\n",
       "jokeId                                                                     \n",
       "53      3.714381    54.0  The Pope dies and, naturally, goes to heaven. ...\n",
       "105     3.711223   106.0  An engineer dies and reports to the pearly gat...\n",
       "89      3.606506    90.0  Q: How many programmers does it take to change...\n",
       "129     3.583496   130.0  An old man goes to the doctor for his yearly p...\n",
       "35      3.560305    36.0  A guy walks into a bar, orders a beer and says..."
      ]
     },
     "execution_count": 50,
     "metadata": {},
     "output_type": "execute_result"
    }
   ],
   "source": [
    "jester_sorted = jester_ratings_df.groupby('jokeId').rating.mean().to_frame().join(jester_jokes_df).sort_values('rating', ascending=False)\n",
    "jester_sorted.head()"
   ]
  },
  {
   "cell_type": "code",
   "execution_count": 51,
   "metadata": {},
   "outputs": [
    {
     "name": "stdout",
     "output_type": "stream",
     "text": [
      "The Pope dies and, naturally, goes to heaven. He's met by the reception\n",
      "committee, and after a whirlwind tour he is told that he can enjoy any\n",
      "of the myriad of recreations available.\n",
      "He decides that he wants to read all of the ancient original text of the\n",
      "Holy Scriptures, so he spends the next eon or so learning languages.\n",
      "After becoming a linguistic master, he sits down in the library and\n",
      "begins to pour over every version of the Bible, working back from most\n",
      "recent \"Easy Reading\" to the original script.\n",
      "All of a sudden there is a scream in the library. The Angels come\n",
      "running in only to find the Pope huddled in his chair, crying to himself\n",
      "and muttering, \"An 'R'! The scribes left out the 'R'.\" \n",
      "A particularly concerned Angel takes him aside, offering comfort, asks\n",
      "him what the problem is and what does he mean. \n",
      "After collecting his\n",
      "wits, the Pope sobs again, \"It's the letter 'R'. They left out the 'R'.\n",
      "The word was supposed to be CELEBRATE!\"\n",
      "\n",
      "---\n",
      "An engineer dies and reports to the pearly gates. St. Peter checks his dossier and says, \"Ah, you''re an engineer--you're in the wrong place.\" So, the engineer reports to the gates of hell and is let in. Pretty soon, the engineer gets dissatisfied with the level of comfort in hell, and starts designing and building improvements. After awhile, they've got air conditioning, flush toilets and escalators, and the engineer is a pretty popular guy. One day, God calls Satan up on the telephone and says with a sneer, \"So, how's it going down there in hell?\" Satan replies, \"Hey, things are going great. We've got air conditioning, flush toilets and escalators, and there's no telling what this engineer is going to come up with next.\" God replies, \"What?? You've got an engineer? That's a mistake--he should never have gotten down there; send him up here.\" Satan says, \"No way.\" I like having an engineer on the staff, and I'm keeping him.\" God says, \"Send him back up here or I'll sue.\" Satan laughs uproariously and answers, \"Yeah, right. And just where are YOU going to get a lawyer?\"\n",
      "---\n",
      "Q: How many programmers does it take to change a lightbulb?\n",
      "\n",
      "A: NONE!   That's a hardware problem....\n",
      "\n",
      "---\n",
      "An old man goes to the doctor for his yearly physical, his wife tagging along. When the doctor enters the examination room, he tells the old man, \"I need a urine sample, a stool sample and a sperm sample.\" The old man, being hard of hearing, looks at his wife and yells: \"WHAT? What did he say? What's he want?\" His wife yells back, \"He needs your underwear.\"\n",
      "---\n",
      "A guy walks into a bar, orders a beer and says to the bartender,\n",
      "\"Hey, I got this great Polish Joke...\" \n",
      "\n",
      "The barkeep glares at him and says in a warning tone of voice:\n",
      "\"Before you go telling that joke you better know that I'm Polish, both\n",
      "bouncers are Polish and so are most of my customers\"\n",
      "\n",
      "\"Okay\" says the customer,\"I'll tell it very slowly.\" \n",
      "\n",
      "---\n"
     ]
    }
   ],
   "source": [
    "for joke in jester_sorted.head().jokeText:\n",
    "    print(joke)\n",
    "    print('---')"
   ]
  },
  {
   "cell_type": "code",
   "execution_count": 52,
   "metadata": {},
   "outputs": [
    {
     "data": {
      "text/html": [
       "<div>\n",
       "<style scoped>\n",
       "    .dataframe tbody tr th:only-of-type {\n",
       "        vertical-align: middle;\n",
       "    }\n",
       "\n",
       "    .dataframe tbody tr th {\n",
       "        vertical-align: top;\n",
       "    }\n",
       "\n",
       "    .dataframe thead th {\n",
       "        text-align: right;\n",
       "    }\n",
       "</style>\n",
       "<table border=\"1\" class=\"dataframe\">\n",
       "  <thead>\n",
       "    <tr style=\"text-align: right;\">\n",
       "      <th>jokeId</th>\n",
       "      <th>5</th>\n",
       "      <th>7</th>\n",
       "      <th>8</th>\n",
       "      <th>13</th>\n",
       "      <th>15</th>\n",
       "      <th>16</th>\n",
       "      <th>17</th>\n",
       "      <th>18</th>\n",
       "      <th>19</th>\n",
       "      <th>20</th>\n",
       "      <th>...</th>\n",
       "      <th>141</th>\n",
       "      <th>142</th>\n",
       "      <th>143</th>\n",
       "      <th>144</th>\n",
       "      <th>145</th>\n",
       "      <th>146</th>\n",
       "      <th>147</th>\n",
       "      <th>148</th>\n",
       "      <th>149</th>\n",
       "      <th>150</th>\n",
       "    </tr>\n",
       "    <tr>\n",
       "      <th>userId</th>\n",
       "      <th></th>\n",
       "      <th></th>\n",
       "      <th></th>\n",
       "      <th></th>\n",
       "      <th></th>\n",
       "      <th></th>\n",
       "      <th></th>\n",
       "      <th></th>\n",
       "      <th></th>\n",
       "      <th></th>\n",
       "      <th></th>\n",
       "      <th></th>\n",
       "      <th></th>\n",
       "      <th></th>\n",
       "      <th></th>\n",
       "      <th></th>\n",
       "      <th></th>\n",
       "      <th></th>\n",
       "      <th></th>\n",
       "      <th></th>\n",
       "      <th></th>\n",
       "    </tr>\n",
       "  </thead>\n",
       "  <tbody>\n",
       "    <tr>\n",
       "      <th>1</th>\n",
       "      <td>0.219</td>\n",
       "      <td>-9.281</td>\n",
       "      <td>-9.281</td>\n",
       "      <td>-6.781</td>\n",
       "      <td>0.875</td>\n",
       "      <td>-9.656</td>\n",
       "      <td>-9.031</td>\n",
       "      <td>-7.469</td>\n",
       "      <td>-8.719</td>\n",
       "      <td>-9.156</td>\n",
       "      <td>...</td>\n",
       "      <td>NaN</td>\n",
       "      <td>NaN</td>\n",
       "      <td>NaN</td>\n",
       "      <td>NaN</td>\n",
       "      <td>NaN</td>\n",
       "      <td>NaN</td>\n",
       "      <td>NaN</td>\n",
       "      <td>NaN</td>\n",
       "      <td>NaN</td>\n",
       "      <td>NaN</td>\n",
       "    </tr>\n",
       "    <tr>\n",
       "      <th>2</th>\n",
       "      <td>-9.688</td>\n",
       "      <td>9.938</td>\n",
       "      <td>9.531</td>\n",
       "      <td>9.938</td>\n",
       "      <td>0.406</td>\n",
       "      <td>3.719</td>\n",
       "      <td>9.656</td>\n",
       "      <td>-2.688</td>\n",
       "      <td>-9.562</td>\n",
       "      <td>-9.125</td>\n",
       "      <td>...</td>\n",
       "      <td>NaN</td>\n",
       "      <td>NaN</td>\n",
       "      <td>NaN</td>\n",
       "      <td>NaN</td>\n",
       "      <td>NaN</td>\n",
       "      <td>NaN</td>\n",
       "      <td>NaN</td>\n",
       "      <td>NaN</td>\n",
       "      <td>NaN</td>\n",
       "      <td>NaN</td>\n",
       "    </tr>\n",
       "    <tr>\n",
       "      <th>3</th>\n",
       "      <td>-9.844</td>\n",
       "      <td>-9.844</td>\n",
       "      <td>-7.219</td>\n",
       "      <td>-2.031</td>\n",
       "      <td>-9.938</td>\n",
       "      <td>-9.969</td>\n",
       "      <td>-9.875</td>\n",
       "      <td>-9.812</td>\n",
       "      <td>-9.781</td>\n",
       "      <td>-6.844</td>\n",
       "      <td>...</td>\n",
       "      <td>NaN</td>\n",
       "      <td>NaN</td>\n",
       "      <td>NaN</td>\n",
       "      <td>NaN</td>\n",
       "      <td>NaN</td>\n",
       "      <td>NaN</td>\n",
       "      <td>NaN</td>\n",
       "      <td>NaN</td>\n",
       "      <td>NaN</td>\n",
       "      <td>NaN</td>\n",
       "    </tr>\n",
       "    <tr>\n",
       "      <th>4</th>\n",
       "      <td>-5.812</td>\n",
       "      <td>-4.500</td>\n",
       "      <td>-4.906</td>\n",
       "      <td>NaN</td>\n",
       "      <td>NaN</td>\n",
       "      <td>NaN</td>\n",
       "      <td>NaN</td>\n",
       "      <td>NaN</td>\n",
       "      <td>NaN</td>\n",
       "      <td>NaN</td>\n",
       "      <td>...</td>\n",
       "      <td>NaN</td>\n",
       "      <td>NaN</td>\n",
       "      <td>NaN</td>\n",
       "      <td>NaN</td>\n",
       "      <td>NaN</td>\n",
       "      <td>NaN</td>\n",
       "      <td>NaN</td>\n",
       "      <td>NaN</td>\n",
       "      <td>NaN</td>\n",
       "      <td>NaN</td>\n",
       "    </tr>\n",
       "    <tr>\n",
       "      <th>5</th>\n",
       "      <td>6.906</td>\n",
       "      <td>4.750</td>\n",
       "      <td>-5.906</td>\n",
       "      <td>-0.406</td>\n",
       "      <td>-4.031</td>\n",
       "      <td>3.875</td>\n",
       "      <td>6.219</td>\n",
       "      <td>5.656</td>\n",
       "      <td>6.094</td>\n",
       "      <td>5.406</td>\n",
       "      <td>...</td>\n",
       "      <td>NaN</td>\n",
       "      <td>NaN</td>\n",
       "      <td>NaN</td>\n",
       "      <td>NaN</td>\n",
       "      <td>NaN</td>\n",
       "      <td>NaN</td>\n",
       "      <td>NaN</td>\n",
       "      <td>NaN</td>\n",
       "      <td>NaN</td>\n",
       "      <td>NaN</td>\n",
       "    </tr>\n",
       "  </tbody>\n",
       "</table>\n",
       "<p>5 rows × 140 columns</p>\n",
       "</div>"
      ],
      "text/plain": [
       "jokeId    5      7      8      13     15     16     17     18     19     20   \\\n",
       "userId                                                                         \n",
       "1       0.219 -9.281 -9.281 -6.781  0.875 -9.656 -9.031 -7.469 -8.719 -9.156   \n",
       "2      -9.688  9.938  9.531  9.938  0.406  3.719  9.656 -2.688 -9.562 -9.125   \n",
       "3      -9.844 -9.844 -7.219 -2.031 -9.938 -9.969 -9.875 -9.812 -9.781 -6.844   \n",
       "4      -5.812 -4.500 -4.906    NaN    NaN    NaN    NaN    NaN    NaN    NaN   \n",
       "5       6.906  4.750 -5.906 -0.406 -4.031  3.875  6.219  5.656  6.094  5.406   \n",
       "\n",
       "jokeId  ...  141  142  143  144  145  146  147  148  149  150  \n",
       "userId  ...                                                    \n",
       "1       ...  NaN  NaN  NaN  NaN  NaN  NaN  NaN  NaN  NaN  NaN  \n",
       "2       ...  NaN  NaN  NaN  NaN  NaN  NaN  NaN  NaN  NaN  NaN  \n",
       "3       ...  NaN  NaN  NaN  NaN  NaN  NaN  NaN  NaN  NaN  NaN  \n",
       "4       ...  NaN  NaN  NaN  NaN  NaN  NaN  NaN  NaN  NaN  NaN  \n",
       "5       ...  NaN  NaN  NaN  NaN  NaN  NaN  NaN  NaN  NaN  NaN  \n",
       "\n",
       "[5 rows x 140 columns]"
      ]
     },
     "execution_count": 52,
     "metadata": {},
     "output_type": "execute_result"
    }
   ],
   "source": [
    "jester_ratings_pivot_df = jester_ratings_df.pivot(index='userId', columns='jokeId', values='rating')\n",
    "jester_ratings_pivot_df.head()"
   ]
  },
  {
   "cell_type": "code",
   "execution_count": 53,
   "metadata": {},
   "outputs": [
    {
     "data": {
      "text/plain": [
       "KMeans(n_clusters=100)"
      ]
     },
     "execution_count": 53,
     "metadata": {},
     "output_type": "execute_result"
    }
   ],
   "source": [
    "kmeans = KMeans(n_clusters=100)\n",
    "kmeans.fit(jester_ratings_pivot_df.fillna(0))"
   ]
  },
  {
   "cell_type": "code",
   "execution_count": 54,
   "metadata": {},
   "outputs": [
    {
     "data": {
      "text/plain": [
       "userId\n",
       "1        18\n",
       "2        42\n",
       "3        64\n",
       "4        37\n",
       "5        15\n",
       "         ..\n",
       "63974    68\n",
       "63975    56\n",
       "63976    98\n",
       "63977    85\n",
       "63978    14\n",
       "Length: 59132, dtype: int32"
      ]
     },
     "execution_count": 54,
     "metadata": {},
     "output_type": "execute_result"
    }
   ],
   "source": [
    "user_clusters = pd.Series(kmeans.labels_, index=jester_ratings_pivot_df.index)\n",
    "user_clusters"
   ]
  },
  {
   "cell_type": "code",
   "execution_count": 55,
   "metadata": {},
   "outputs": [
    {
     "data": {
      "text/plain": [
       "35    3806\n",
       "98    2301\n",
       "81    1884\n",
       "37    1672\n",
       "78    1655\n",
       "      ... \n",
       "26      47\n",
       "4       45\n",
       "31       1\n",
       "62       1\n",
       "97       1\n",
       "Length: 100, dtype: int64"
      ]
     },
     "execution_count": 55,
     "metadata": {},
     "output_type": "execute_result"
    }
   ],
   "source": [
    "user_cluster_counts = user_clusters.value_counts()\n",
    "user_cluster_counts"
   ]
  },
  {
   "cell_type": "code",
   "execution_count": 56,
   "metadata": {},
   "outputs": [
    {
     "name": "stdout",
     "output_type": "stream",
     "text": [
      "{8193, 16389, 7, 24583, 57354, 16395, 32779, 57356, 24592, 57363, 32791, 24601, 16414, 24606, 32801, 49185, 8232, 16425, 24618, 43, 24619, 24621, 49193, 41012, 24631, 58, 24634, 8252, 24638, 24642, 16453, 24647, 49223, 8265, 57421, 49230, 49233, 82, 24659, 24660, 49235, 24663, 24664, 57431, 24666, 32861, 41057, 24678, 57448, 32873, 24683, 116, 16501, 41080, 24700, 125, 16510, 32894, 32895, 8321, 24705, 32898, 8324, 8328, 24714, 16523, 49294, 49295, 24720, 41104, 49297, 49300, 32917, 41109, 57496, 8347, 32923, 41115, 32926, 49309, 8352, 49312, 24746, 32938, 24749, 24750, 32945, 8370, 24756, 49335, 57527, 41149, 57537, 41156, 24778, 24780, 41168, 8406, 49367, 41176, 57559, 49371, 41188, 41189, 57572, 41194, 33007, 24823, 24825, 41211, 49408, 33029, 262, 49416, 33034, 41227, 57613, 16656, 57619, 16660, 16661, 8470, 33045, 24856, 33049, 49428, 283, 49434, 57629, 24865, 8482, 41251, 16676, 49448, 24877, 41264, 8499, 16691, 311, 49467, 16701, 24895, 8515, 324, 49475, 41288, 8524, 41296, 49488, 33110, 49503, 24935, 41320, 24937, 57704, 8555, 364, 24939, 24941, 24943, 57714, 33142, 24951, 24954, 49530, 382, 57729, 24963, 16773, 16777, 41354, 57745, 57747, 8601, 24986, 33178, 33190, 16807, 57766, 427, 33201, 16818, 8628, 33206, 25017, 41401, 57790, 8640, 49601, 8645, 33221, 49606, 41417, 465, 8657, 16849, 49619, 41431, 16856, 33242, 49627, 479, 41443, 57827, 16870, 33258, 16878, 8689, 41458, 8691, 16884, 8693, 49651, 57847, 49659, 33278, 33281, 8708, 25093, 33284, 41478, 49671, 25097, 49672, 57861, 49677, 16910, 8719, 25103, 33294, 33295, 25107, 8724, 16916, 41491, 25111, 41494, 537, 540, 25117, 41500, 57889, 57892, 57893, 556, 25132, 8761, 41529, 25148, 33341, 25154, 582, 25158, 41544, 33354, 41549, 16976, 33361, 594, 8787, 8788, 33364, 49749, 8796, 41565, 25182, 16992, 16996, 615, 8809, 8813, 25198, 33390, 41584, 626, 632, 633, 49787, 25223, 41610, 41611, 49803, 17038, 656, 25236, 661, 49814, 33439, 17057, 675, 17062, 681, 688, 8881, 17075, 25275, 49852, 17089, 8900, 33477, 711, 712, 8905, 33481, 17099, 33482, 25294, 17103, 17104, 17105, 58065, 17107, 25305, 17114, 49882, 58073, 33503, 17121, 58084, 33509, 25320, 746, 8941, 41712, 25330, 8950, 58103, 761, 25340, 25341, 25342, 33536, 41729, 41731, 41732, 49923, 25350, 49926, 49928, 33548, 49934, 17168, 8980, 789, 17179, 25372, 8989, 17182, 25374, 25376, 41760, 41762, 41763, 49950, 805, 33574, 17192, 41782, 17210, 17212, 58174, 58175, 9028, 17220, 17222, 17223, 841, 9033, 25417, 41804, 25422, 50000, 33617, 17234, 33620, 17239, 50009, 17242, 41819, 33629, 9054, 50014, 41824, 17251, 33639, 17256, 9065, 9066, 58215, 41840, 25458, 888, 25464, 890, 891, 25466, 33656, 58238, 25472, 25473, 33664, 33667, 25478, 25479, 41863, 58249, 9098, 9099, 25483, 33674, 9103, 41875, 25493, 41877, 9112, 17305, 25502, 17311, 17312, 25503, 25504, 25505, 33696, 41893, 58273, 25512, 50090, 943, 17327, 17329, 25519, 25523, 17332, 25527, 17345, 17346, 17347, 41925, 33734, 33735, 58315, 9164, 17362, 17363, 58325, 41942, 17367, 41945, 41946, 25567, 25568, 9185, 50143, 17379, 25571, 50145, 41967, 33776, 33781, 17398, 17399, 9208, 9209, 58360, 25595, 33787, 17405, 25599, 58367, 9218, 41986, 41987, 17415, 33799, 17419, 1037, 9229, 25615, 17424, 25617, 42000, 25623, 1048, 25625, 33815, 42007, 1054, 42014, 33827, 17448, 42029, 25648, 33840, 58418, 17460, 33846, 17466, 9276, 25660, 9287, 25674, 1102, 17486, 17487, 50256, 50260, 1109, 33880, 17497, 25690, 17499, 50268, 9309, 1119, 33888, 50272, 58467, 33896, 9322, 50282, 42093, 42094, 33903, 25712, 50288, 58479, 50291, 58482, 9336, 50297, 42106, 42113, 50305, 9348, 17541, 25737, 9354, 58508, 9360, 25744, 42130, 25747, 17556, 25755, 25761, 17573, 33958, 42153, 25770, 25772, 17581, 25773, 17583, 25776, 33969, 25778, 17587, 33971, 25783, 17592, 42173, 17598, 58564, 17607, 9416, 50379, 34005, 34007, 42200, 58587, 58592, 25825, 42215, 58599, 42217, 58600, 42219, 58602, 1261, 9454, 42221, 34032, 50417, 34036, 42230, 42231, 34042, 9467, 50426, 17663, 17666, 58627, 42246, 34056, 9481, 34058, 17675, 42250, 50441, 58633, 42255, 34065, 50452, 34069, 25878, 50455, 17689, 25881, 50457, 50458, 34081, 9506, 9507, 25894, 9512, 58664, 25898, 1328, 25904, 9526, 50487, 34108, 25921, 9540, 50500, 58698, 25931, 42319, 25937, 9555, 1364, 25939, 17750, 42323, 50518, 9564, 25949, 17759, 25951, 50527, 34146, 34147, 50531, 58723, 17768, 50536, 17771, 42349, 17774, 17776, 1394, 17779, 50550, 25975, 58746, 17787, 42364, 17789, 42369, 17798, 50570, 1421, 1422, 1423, 9615, 25997, 42386, 1431, 17816, 34204, 50589, 34207, 26018, 1443, 17827, 34212, 58786, 58789, 26025, 9646, 42415, 26042, 34234, 9660, 34236, 42426, 26047, 26053, 42439, 17864, 17865, 1482, 26062, 17872, 34256, 42450, 26070, 42456, 58846, 17887, 17888, 26079, 34272, 9699, 26083, 42466, 42472, 58857, 34282, 58858, 26092, 26093, 58862, 26097, 17908, 26100, 26102, 58874, 26110, 34305, 26116, 9733, 50694, 58886, 17928, 26121, 34315, 17932, 17933, 58898, 26132, 17941, 26134, 34326, 50708, 50709, 9755, 58910, 26144, 17953, 58918, 50727, 17960, 58927, 34361, 34363, 50750, 17983, 50752, 9795, 58950, 50762, 17995, 1613, 1617, 26193, 26194, 58968, 26202, 18012, 18013, 58976, 26210, 18024, 42603, 9836, 34412, 26222, 42604, 58991, 34417, 42610, 1651, 18035, 26231, 1657, 42624, 42625, 18050, 26242, 26247, 1677, 26253, 42640, 26257, 59027, 42645, 26262, 34455, 9880, 18073, 26266, 59032, 1693, 18082, 34467, 50853, 59045, 26279, 18088, 50855, 42666, 59050, 34478, 18097, 18099, 50873, 50876, 9918, 50880, 18115, 26308, 59077, 42695, 9928, 34504, 59081, 34508, 26317, 34509, 26319, 26323, 34516, 26325, 50902, 18137, 18138, 26332, 59100, 18144, 59104, 9954, 9958, 9961, 9962, 59115, 34540, 50925, 18158, 26351, 18161, 57341, 18167, 59131, 50940, 1789, 18175, 18176, 26368, 26369, 34562, 50943, 50944, 42762, 34571, 26380, 26381, 50958, 1809, 1810, 18195, 26389, 50965, 10008, 18201, 59161, 26396, 10014, 34591, 18208, 42785, 50974, 10022, 34602, 26411, 10028, 59186, 18229, 26421, 1849, 18234, 18235, 34621, 51008, 10050, 10053, 34630, 42823, 34634, 42830, 26447, 18256, 26449, 1880, 26457, 34648, 26464, 18278, 26471, 42857, 34666, 18283, 51051, 51052, 51054, 18289, 18290, 26485, 10102, 26486, 51061, 18297, 1914, 26491, 18300, 10109, 42875, 18303, 26495, 26497, 51073, 18313, 18315, 34699, 51083, 10128, 34704, 59282, 59284, 51093, 34714, 51106, 18341, 18346, 10155, 34730, 51118, 18356, 34741, 51127, 34744, 42937, 51129, 26555, 34747, 18367, 10178, 42947, 34757, 26566, 26567, 18380, 51151, 42964, 10199, 10202, 26587, 42971, 26591, 34785, 42977, 10215, 10217, 26601, 34798, 26609, 2035, 18420, 10229, 18423, 26616, 26617, 34809, 43003, 10237, 51199, 26625, 43011, 59402, 43021, 51214, 18448, 18449, 59414, 18455, 26647, 10267, 10269, 10271, 26656, 10275, 59427, 43045, 18472, 59432, 34862, 10288, 2098, 2099, 59442, 34869, 10294, 34870, 2104, 59443, 10300, 26684, 34878, 51266, 43076, 2117, 51269, 59464, 43081, 51274, 43086, 18511, 43091, 18516, 2133, 2134, 26710, 34903, 59485, 26720, 34913, 26723, 51300, 59491, 2150, 26726, 26728, 43115, 10348, 2159, 59507, 43125, 34936, 18553, 18555, 18556, 34939, 34940, 51326, 18561, 26754, 59522, 2183, 51341, 43150, 2193, 43155, 51351, 10394, 34975, 18592, 34977, 26786, 51362, 10405, 18598, 43176, 10414, 2224, 10425, 26811, 10428, 26820, 2249, 18640, 35029, 18647, 10456, 26841, 59613, 35044, 18661, 10470, 10475, 18671, 26865, 35058, 51441, 26868, 2296, 35066, 43260, 10496, 18689, 35072, 10499, 43265, 35077, 51457, 18695, 26888, 18697, 35079, 59650, 43276, 59661, 43278, 35088, 51472, 35090, 51473, 18708, 18709, 18710, 43285, 51474, 51481, 35099, 35100, 26909, 26912, 59687, 35112, 43307, 18733, 26926, 18735, 26927, 26929, 35122, 43315, 51504, 26933, 18742, 18743, 26935, 51508, 51513, 59704, 26940, 59706, 59710, 59712, 26946, 26950, 59719, 26953, 2378, 26958, 10578, 59732, 35165, 18782, 59742, 10593, 35171, 35172, 51557, 26984, 10610, 2421, 10614, 43386, 27005, 27006, 51587, 18821, 43399, 27016, 18825, 51591, 2445, 27022, 43406, 35216, 51601, 18834, 27027, 10645, 35223, 51607, 2457, 59799, 2459, 51614, 27043, 10664, 43435, 51627, 27053, 59821, 18866, 27058, 51635, 18869, 10678, 59830, 27065, 18881, 43458, 59842, 35271, 18890, 59851, 18893, 27085, 43470, 27088, 18897, 27089, 43478, 51670, 18904, 51672, 10715, 27101, 51679, 10720, 51681, 51683, 10724, 10725, 27110, 51687, 27116, 27118, 35311, 27120, 51697, 2547, 18931, 18933, 35317, 10747, 27133, 27134, 18943, 27135, 59906, 35331, 43525, 10759, 18955, 59922, 51737, 43546, 43547, 27165, 18974, 35358, 27168, 43553, 18978, 51742, 51748, 59943, 59946, 27180, 18996, 51765, 59957, 27193, 27195, 51771, 27197, 51773, 59965, 27200, 10822, 19015, 35407, 43602, 10835, 35411, 19029, 51799, 59996, 43621, 27238, 19047, 19049, 35434, 43626, 60011, 51821, 35438, 10863, 19055, 19057, 51825, 60016, 35447, 51832, 60023, 43654, 43655, 35467, 27276, 10895, 27280, 43663, 60048, 10899, 60053, 2710, 10910, 43681, 2723, 10919, 10922, 19115, 43694, 43700, 19125, 27318, 60088, 19129, 43705, 51898, 2752, 27328, 10949, 51910, 60103, 10961, 43730, 35539, 43733, 27351, 27352, 35546, 60123, 2780, 51934, 51938, 2788, 43748, 27367, 27368, 10986, 2795, 10988, 27371, 27375, 10994, 27378, 35574, 51958, 19192, 27384, 43770, 2812, 60157, 11006, 35584, 35587, 2821, 51973, 35591, 27400, 19209, 27402, 60176, 35602, 60181, 35607, 35613, 51998, 27429, 60199, 52008, 2859, 27435, 52011, 43822, 52013, 60206, 27442, 52018, 60213, 27447, 27448, 52024, 2874, 43836, 27453, 27457, 52035, 19270, 19275, 19276, 27468, 35659, 43853, 19280, 27473, 52053, 60245, 52055, 2906, 52059, 27484, 27487, 2913, 27489, 11111, 60264, 19309, 43885, 27508, 19317, 11126, 52087, 11134, 43905, 19330, 19331, 11142, 35721, 60299, 11148, 60300, 60305, 43926, 11159, 43928, 19354, 27547, 35738, 35741, 52122, 52126, 52128, 43938, 27555, 52134, 60327, 11178, 52140, 27572, 52151, 19384, 27578, 27580, 11197, 11200, 27588, 35782, 3016, 27592, 27594, 60361, 11214, 27598, 27599, 11219, 43990, 3031, 60375, 27609, 60379, 27612, 11229, 11230, 27613, 52194, 11235, 3044, 27621, 44003, 52195, 3051, 35819, 11247, 44017, 11250, 44019, 19452, 60418, 3086, 3087, 27663, 19473, 44046, 60433, 60435, 19477, 27669, 11288, 35864, 35866, 27675, 44056, 44057, 3102, 35870, 44061, 35873, 44064, 27683, 52258, 27687, 19498, 3116, 60460, 60461, 60463, 11313, 44084, 11319, 44087, 60473, 19514, 60478, 11327, 60479, 35907, 52291, 27717, 35910, 35914, 27723, 60490, 27726, 11343, 11344, 44112, 52305, 3162, 44126, 44128, 44129, 3173, 44142, 35951, 27760, 3185, 52344, 27772, 19581, 60543, 35969, 27780, 44164, 3207, 11401, 11402, 3211, 11405, 35982, 27793, 60561, 60570, 11419, 44193, 36002, 19622, 19623, 19624, 44200, 44203, 44205, 3247, 27832, 3259, 19643, 19660, 36046, 36048, 19665, 44243, 44247, 44259, 27876, 11493, 19685, 36070, 27881, 60649, 27887, 11504, 3316, 27894, 60667, 3327, 60671, 52481, 19716, 27908, 44293, 27913, 27918, 19733, 27926, 36117, 11544, 27928, 11555, 52515, 11557, 11562, 36140, 44334, 27952, 19761, 27954, 60726, 11576, 36154, 44346, 44347, 52540, 44353, 3394, 36164, 19782, 27974, 36168, 19785, 44361, 44363, 52551, 27981, 36174, 60744, 44371, 44376, 11609, 44380, 36189, 11616, 11617, 60768, 28007, 11630, 44404, 60789, 28023, 19834, 60795, 52604, 19838, 11647, 28033, 28035, 52612, 28037, 36229, 36234, 36236, 52620, 19855, 3472, 28047, 28050, 3475, 28051, 36240, 28054, 36245, 28056, 52629, 36250, 52630, 60826, 11679, 28063, 11681, 19875, 44452, 52644, 44455, 19881, 36267, 28077, 11694, 28079, 11696, 11697, 44465, 52656, 3508, 11700, 44472, 60861, 19913, 36299, 44493, 60878, 28111, 36303, 36304, 44495, 44496, 52688, 28117, 60886, 44504, 44505, 19931, 3548, 28125, 11742, 36317, 11747, 44517, 36329, 28140, 28142, 3567, 28144, 44529, 11762, 28147, 28148, 44533, 11766, 28151, 52719, 11770, 52730, 44541, 3585, 44545, 44546, 60930, 11783, 36360, 28177, 44561, 60946, 11797, 3606, 28183, 36373, 11801, 28186, 36377, 44571, 36384, 36385, 60963, 11813, 28197, 11817, 20012, 36396, 44588, 28207, 52781, 3635, 36404, 36405, 44597, 44599, 60980, 3641, 28219, 36412, 28224, 52803, 28228, 20038, 36424, 44616, 52809, 61001, 28236, 20045, 36429, 20051, 28244, 44628, 52822, 36440, 44633, 36445, 11871, 28255, 20065, 36452, 11881, 11883, 28274, 61043, 11893, 44662, 52855, 44666, 61053, 3710, 20095, 52863, 52864, 20103, 44679, 61066, 61069, 20111, 3736, 28313, 28315, 11935, 61089, 44706, 11942, 3756, 28335, 20144, 52913, 11954, 3765, 20155, 52923, 44734, 3775, 20160, 20161, 44738, 61120, 28357, 28358, 28359, 36550, 11977, 52936, 36555, 20172, 20173, 28364, 44754, 11987, 20181, 20182, 20183, 3799, 11991, 28375, 20187, 36569, 36570, 61143, 36576, 36577, 44772, 28389, 20199, 61161, 28394, 3823, 20207, 12017, 36591, 12019, 28403, 44783, 44788, 12023, 12025, 12027, 3836, 20220, 36604, 28415, 44800, 61182, 52999, 44808, 44810, 20235, 12044, 20237, 53002, 20239, 12050, 53012, 3866, 36638, 3872, 44834, 28453, 36649, 53037, 53038, 61233, 20275, 28468, 20278, 44855, 3897, 44857, 12100, 3909, 20294, 36676, 53062, 28490, 36683, 3916, 20303, 36689, 61266, 61270, 3934, 28515, 12134, 53100, 61294, 3954, 36723, 28532, 61303, 36728, 20350, 20352, 12161, 28544, 36738, 44932, 61317, 3983, 28561, 12178, 3988, 28565, 36758, 53140, 12186, 28571, 53148, 53153, 36770, 28582, 44967, 44968, 20393, 61354, 53163, 28589, 61357, 12210, 28600, 61369, 20412, 4029, 12221, 28604, 12224, 36802, 61379, 53188, 61380, 20425, 28620, 28624, 12241, 20434, 53205, 61397, 12249, 20446, 20447, 45023, 36834, 20452, 45029, 20458, 53232, 20468, 36852, 61428, 28664, 36857, 20474, 45048, 61433, 28669, 36862, 45055, 4098, 61442, 61443, 4104, 4105, 45065, 20494, 20495, 61454, 45077, 12312, 36889, 20507, 45085, 4126, 36897, 45094, 12332, 53299, 20532, 53302, 12343, 45112, 53305, 36923, 45117, 20544, 4163, 28742, 45128, 4170, 20555, 28746, 45133, 61519, 45145, 4197, 28774, 12391, 12402, 28787, 53365, 36982, 61561, 4221, 12415, 20608, 12420, 20616, 28808, 37002, 45193, 37004, 45195, 53384, 20623, 28817, 4250, 12442, 61594, 4260, 45222, 12456, 45224, 37035, 12461, 37037, 53421, 45232, 53427, 4276, 45240, 20668, 4285, 53437, 12480, 4289, 28864, 45250, 45253, 28872, 37065, 45257, 4301, 28878, 28879, 37070, 28881, 53459, 37076, 28889, 53466, 45275, 61660, 28893, 20702, 4322, 12514, 53476, 53478, 53480, 37098, 53482, 53486, 37104, 20721, 37105, 4339, 12532, 28915, 45301, 4343, 4344, 53489, 53499, 61691, 4350, 61697, 45314, 45316, 61702, 12557, 37133, 12561, 28945, 45329, 45330, 28951, 53528, 20763, 45342, 12576, 28963, 61734, 28968, 53546, 12588, 61743, 28976, 53556, 53557, 45368, 61755, 45377, 20802, 45378, 4422, 61767, 45385, 61773, 61779, 20820, 37204, 4439, 29015, 29016, 53591, 45404, 57871, 20836, 45414, 61798, 53608, 61802, 37228, 4461, 45421, 61804, 61808, 45425, 45426, 45429, 61819, 20860, 61821, 20863, 45439, 61823, 12674, 53635, 45450, 20876, 29068, 53644, 45456, 53650, 61842, 12695, 53656, 12697, 61847, 20891, 61849, 20893, 53661, 12705, 29090, 45480, 12713, 12714, 61864, 53676, 4525, 29102, 37294, 45485, 29111, 4537, 45501, 29118, 61885, 45505, 45509, 37320, 29135, 37329, 53713, 20947, 29142, 12762, 37348, 20969, 37355, 53739, 37360, 4594, 12790, 20983, 12811, 4626, 61974, 61976, 53786, 4639, 12832, 29216, 37410, 4643, 37411, 45599, 53794, 37420, 12845, 61999, 37424, 4657, 37426, 53811, 21044, 45620, 21046, 12855, 21048, 45621, 29242, 12859, 62015, 29248, 21057, 12866, 53824, 29259, 4688, 12881, 29266, 29267, 29270, 53847, 21080, 4698, 62043, 21087, 4705, 21090, 37474, 53860, 62052, 62053, 4713, 37485, 37486, 4719, 37488, 29300, 62073, 45693, 62077, 21128, 12937, 53900, 53903, 37521, 4754, 37522, 29333, 12953, 12954, 62105, 4764, 29340, 62110, 45727, 29347, 21156, 37545, 45741, 45749, 53941, 4791, 29370, 62140, 45761, 21187, 4804, 37571, 37578, 45770, 21196, 21202, 37592, 62168, 45788, 21213, 37601, 62177, 13028, 21220, 37608, 62185, 21229, 37618, 54002, 62195, 29434, 13052, 4862, 4867, 54022, 62221, 29454, 45840, 21265, 45842, 45843, 21271, 37656, 37658, 21277, 29469, 21279, 37661, 29473, 62237, 62245, 45862, 13096, 29483, 29486, 21297, 21302, 4920, 29496, 13114, 29497, 21308, 54074, 21310, 62271, 29507, 37703, 54090, 13131, 62282, 21326, 21331, 21332, 45907, 4950, 54103, 54107, 62300, 37725, 4958, 13150, 45919, 21352, 62314, 21357, 62324, 29557, 37755, 62334, 45951, 4992, 21376, 45952, 21379, 21382, 62346, 62347, 13200, 37777, 21394, 13203, 62358, 54167, 54168, 21404, 37789, 29598, 45981, 62364, 37793, 21413, 13223, 37800, 5034, 13228, 45996, 29614, 21428, 29620, 13240, 29629, 5055, 21440, 13250, 21442, 21446, 54219, 29644, 46030, 62418, 62422, 13271, 29656, 13273, 21465, 13275, 37852, 5092, 29670, 62440, 21481, 21482, 21483, 54250, 21486, 21488, 13298, 54261, 13307, 21499, 46075, 5119, 13312, 54275, 46084, 37893, 46085, 21511, 21514, 46098, 37908, 46101, 21528, 21529, 21530, 46108, 62493, 62496, 13345, 37921, 21542, 62507, 29740, 29742, 5167, 21552, 13368, 21565, 13374, 21566, 13376, 29758, 46142, 46144, 21573, 5191, 13383, 29770, 37964, 21581, 5199, 54353, 29780, 62550, 29785, 62555, 54367, 21600, 54377, 21611, 13423, 21615, 38002, 62578, 21621, 46202, 29821, 54398, 21635, 21636, 21637, 5254, 62596, 62598, 38026, 13451, 62606, 29839, 21649, 54418, 46227, 62609, 54422, 21657, 21658, 5275, 21664, 46241, 62625, 54436, 62629, 54438, 62630, 29864, 38058, 21675, 13484, 21677, 29870, 13488, 38067, 62643, 29877, 21686, 29881, 62654, 62659, 13513, 13514, 29899, 29901, 56418, 62672, 5330, 54482, 46292, 13528, 13532, 13533, 13534, 38111, 54492, 29923, 46307, 54505, 21741, 46319, 13554, 29941, 54517, 5369, 62714, 38140, 62717, 29951, 46338, 62723, 21765, 21767, 38152, 38153, 21770, 21773, 21774, 29969, 21778, 13588, 21784, 29977, 46361, 5403, 21790, 21792, 21797, 46373, 21799, 62757, 5417, 62758, 62759, 62763, 21805, 21806, 54574, 21809, 21811, 21812, 46390, 21815, 38200, 30009, 46392, 46396, 21821, 62780, 46400, 21827, 38211, 21829, 38214, 5447, 13641, 62793, 62794, 62798, 5459, 38227, 21846, 21847, 21848, 30038, 38240, 21857, 30049, 5486, 5492, 13686, 62841, 38266, 46461, 30078, 21888, 30081, 13698, 30086, 38279, 13704, 21900, 54668, 21904, 13714, 13718, 13721, 30106, 38301, 46494, 54687, 62882, 21925, 5542, 62887, 5546, 54700, 38322, 21940, 62902, 46525, 21953, 38344, 46538, 38348, 30158, 54735, 21969, 38355, 5589, 46549, 46557, 5598, 21982, 54749, 62947, 21988, 21989, 13799, 30186, 38379, 22000, 13809, 62962, 22007, 54775, 62970, 62974, 22017, 62980, 30214, 30215, 13832, 30218, 30227, 38424, 5658, 22042, 22043, 30237, 22047, 30240, 13858, 13863, 54823, 46636, 54829, 22064, 13873, 38449, 30259, 46641, 54832, 30262, 38455, 54837, 54844, 54850, 30276, 30279, 13898, 63053, 46670, 63059, 5717, 22101, 46679, 46687, 13924, 54884, 38508, 22127, 22129, 22132, 30324, 22134, 54901, 13947, 13951, 38529, 54917, 30342, 30343, 54920, 38539, 22156, 5773, 30351, 38544, 5777, 5783, 22172, 5789, 5790, 22173, 5792, 30367, 22178, 54943, 63140, 22182, 30374, 22184, 30376, 46766, 22192, 30384, 5811, 5814, 22199, 14009, 22201, 30394, 46778, 30407, 5834, 63181, 54990, 22228, 22230, 63192, 5849, 46810, 14043, 5852, 5853, 14047, 5856, 5858, 46818, 38634, 46827, 14060, 46828, 46830, 5871, 55018, 22258, 30450, 46840, 14074, 46848, 22273, 30469, 63240, 14090, 46861, 38670, 5903, 22288, 38673, 38676, 22293, 38679, 46871, 14109, 22301, 22305, 38689, 63268, 30502, 30503, 22312, 38696, 38698, 63275, 5932, 30508, 55089, 22325, 55093, 38711, 46904, 63290, 38716, 30529, 30535, 38729, 55117, 30542, 5968, 14161, 38736, 22355, 38740, 55124, 5976, 38744, 22362, 55129, 5981, 46945, 46946, 30565, 30566, 55143, 30572, 5997, 30574, 38767, 6000, 46958, 30578, 63349, 30583, 30586, 6013, 14207, 46976, 55170, 22404, 30597, 55174, 22408, 22410, 14220, 6029, 22412, 22414, 63376, 6041, 63387, 6046, 30626, 6051, 30627, 38819, 47012, 55205, 30632, 55206, 6058, 14250, 22443, 30637, 38829, 47021, 47023, 47025, 55210, 63405, 30645, 55222, 22455, 63417, 47037, 38846, 6079, 22468, 6085, 30661, 22473, 6091, 30669, 63438, 30671, 6096, 22480, 55251, 6100, 30676, 63445, 6103, 22496, 22497, 47073, 30693, 30697, 55276, 55279, 63472, 30714, 47099, 22524, 14333, 6147, 63491, 6151, 14349, 55311, 22544, 22548, 14358, 30743, 6171, 22556, 6173, 14366, 14367, 47136, 47137, 55326, 63515, 22564, 47141, 6182, 22567, 55336, 6185, 63522, 14384, 47153, 63542, 22585, 14395, 63547, 14399, 22591, 47168, 14408, 38988, 55373, 6222, 63566, 63567, 63569, 22615, 47192, 47199, 14432, 22624, 39009, 39010, 39012, 55394, 39014, 6247, 30825, 6251, 22636, 6254, 39026, 6259, 63602, 63604, 6264, 47225, 14458, 14460, 6270, 39040, 39045, 47241, 22666, 55437, 47246, 6287, 22673, 30868, 47253, 47259, 6303, 47264, 22689, 22690, 39078, 14503, 30889, 6314, 63659, 22702, 55471, 63662, 63665, 6330, 47295, 6336, 63682, 6342, 22727, 22729, 63689, 30925, 14542, 14544, 22736, 6354, 30935, 30938, 22748, 6365, 22751, 6369, 14566, 22761, 30954, 30962, 63730, 30966, 30967, 6392, 63734, 55553, 6402, 63747, 39173, 22792, 22795, 14604, 22796, 14606, 47374, 30993, 63762, 6421, 22806, 30998, 31001, 14619, 6438, 22822, 22824, 22825, 31017, 47402, 6447, 14646, 47415, 22842, 6461, 31037, 6463, 63806, 63807, 6471, 31047, 22858, 22859, 39242, 22861, 39243, 14671, 63819, 47446, 14680, 31072, 22881, 14691, 39268, 14693, 55652, 55656, 39278, 22895, 22901, 14711, 39289, 14714, 22907, 22908, 39292, 22914, 31106, 6540, 22927, 47503, 22935, 55704, 63896, 22939, 22942, 6561, 22948, 22949, 22950, 22951, 63910, 63916, 14766, 14772, 22967, 55736, 39353, 22971, 6588, 6589, 22973, 6591, 22976, 22977, 47547, 63934, 63936, 6598, 47558, 6600, 22984, 39370, 14795, 47559, 55761, 6612, 22996, 6614, 63962, 23003, 23005, 55773, 63971, 14821, 23017, 39402, 23019, 23022, 23024, 23026, 47607, 23033, 31226, 23037, 31233, 31234, 6663, 23048, 39432, 6667, 55821, 31252, 39447, 23071, 23072, 6689, 47649, 31269, 31274, 6699, 39466, 47671, 31288, 47673, 39483, 6724, 14917, 55882, 31307, 39501, 23121, 39505, 14932, 23125, 39510, 23127, 23128, 55892, 39517, 23135, 47714, 23139, 47724, 31341, 23150, 39533, 55923, 31351, 47735, 31354, 39547, 14974, 6784, 31361, 47744, 14979, 6788, 31363, 31364, 31366, 39558, 39562, 6800, 55952, 14997, 14998, 31383, 39574, 47765, 31391, 39585, 47778, 23208, 23212, 55986, 39606, 31416, 47801, 47804, 31422, 31423, 31425, 23237, 47813, 47815, 31432, 39624, 31435, 6862, 47822, 39634, 6871, 15066, 56027, 56028, 56029, 39650, 47843, 39653, 31467, 47851, 39663, 56047, 47857, 6901, 47862, 31483, 6908, 56060, 31489, 31495, 47881, 15126, 31517, 56093, 31520, 23329, 31521, 39721, 6954, 56107, 31534, 15152, 56115, 23348, 56117, 23350, 39737, 23355, 56124, 31553, 6979, 6984, 6991, 15183, 31569, 56143, 6998, 47959, 15194, 39771, 31580, 47966, 39779, 31590, 39783, 47975, 31593, 39795, 47988, 23413, 56180, 7032, 7033, 39809, 48009, 15242, 23435, 39821, 39823, 23440, 23441, 39826, 23443, 56213, 56217, 56218, 48031, 7074, 31651, 39845, 56231, 23467, 48043, 39853, 15280, 31664, 31666, 15283, 39856, 31669, 56247, 23481, 39866, 31679, 15297, 7107, 15300, 7111, 23496, 31690, 31693, 48077, 23509, 48085, 7131, 23520, 23521, 31712, 7139, 23524, 39906, 48100, 23528, 15337, 48107, 31726, 39923, 48118, 39929, 23548, 31740, 23550, 23555, 7173, 56327, 23561, 31755, 39947, 7181, 31757, 39960, 15386, 7198, 39967, 48160, 7203, 23589, 7206, 23591, 39974, 48168, 23594, 23595, 56363, 39989, 56376, 23612, 23616, 40000, 40001, 48194, 48197, 56389, 23624, 56392, 56396, 23631, 31824, 23633, 48209, 48211, 56401, 7255, 7257, 23641, 23642, 31836, 48217, 48219, 23647, 56413, 48225, 48226, 31843, 48228, 56415, 31846, 31847, 40039, 40041, 15466, 31851, 48231, 48236, 48238, 56429, 31856, 23669, 23670, 31867, 23677, 7296, 56449, 56451, 15494, 48263, 23689, 7308, 31884, 7313, 40082, 31893, 23703, 23707, 15521, 40097, 56485, 15526, 15527, 15531, 48299, 56491, 56492, 56494, 40113, 31922, 56505, 31935, 48319, 7362, 7365, 23755, 15565, 23759, 48335, 23762, 23763, 31958, 31959, 48344, 40153, 31966, 15589, 56549, 23783, 31976, 48361, 40171, 40173, 15600, 23795, 56563, 15605, 7415, 31991, 48380, 32002, 56580, 40202, 23821, 7442, 15634, 23829, 48408, 7449, 23833, 23839, 40224, 56610, 23848, 40237, 48432, 40243, 23865, 15679, 56639, 40258, 7491, 56642, 32070, 23880, 32073, 40265, 32076, 32078, 32079, 32080, 40271, 56656, 48468, 15703, 7512, 32087, 23901, 40287, 40291, 23912, 32104, 40296, 7532, 23917, 48492, 48499, 40321, 48518, 40329, 23946, 23947, 23951, 15764, 23957, 23958, 23960, 48536, 40348, 40354, 56738, 7588, 40358, 56742, 48554, 7595, 56750, 32177, 48571, 23998, 24003, 40390, 24013, 32206, 7635, 40404, 24022, 40410, 48605, 56799, 32225, 48614, 56814, 48634, 15868, 15869, 56829, 40448, 63399, 24066, 32258, 40452, 40453, 56835, 7688, 40457, 32266, 24079, 48660, 7703, 48665, 15901, 7713, 24100, 7717, 24102, 24103, 24104, 40485, 15914, 7727, 24112, 40496, 32306, 15927, 32311, 40503, 40508, 48700, 32319, 56895, 32325, 56901, 40521, 32334, 7759, 15951, 32335, 40528, 48725, 56918, 7769, 7770, 24153, 24160, 40544, 32354, 40545, 48738, 32365, 32369, 40562, 7795, 56947, 15990, 24183, 56952, 7801, 7802, 56962, 24196, 48773, 24202, 16011, 16013, 24207, 7824, 7825, 24210, 32405, 16022, 40598, 48791, 24219, 16033, 24228, 16037, 40613, 24231, 56998, 32425, 56999, 57001, 7864, 48824, 57022, 24259, 24260, 32453, 57027, 40656, 32465, 48853, 16088, 16089, 40665, 16095, 24287, 48865, 7912, 24297, 40681, 48875, 57066, 48877, 24302, 40691, 48883, 7925, 48886, 24314, 40700, 40704, 32517, 24326, 40710, 40711, 16137, 40712, 57099, 24334, 40719, 57102, 40728, 48921, 24347, 16157, 40733, 48925, 7972, 24358, 7976, 7977, 24362, 7979, 48939, 16174, 32562, 7987, 40755, 48948, 32567, 57144, 32571, 24380, 40763, 40767, 24384, 40769, 48963, 48967, 24398, 32596, 48980, 57174, 57175, 32610, 48994, 40806, 24426, 32618, 24428, 32622, 32623, 40817, 40820, 49013, 49017, 24443, 8060, 40830, 40831, 24450, 40834, 49032, 24457, 8074, 49033, 57229, 49040, 8081, 49045, 32663, 40859, 57244, 32672, 24484, 49065, 8106, 16299, 24493, 40877, 49075, 49078, 8119, 40888, 57271, 8122, 24508, 32700, 49086, 8132, 24516, 24519, 8136, 32713, 49100, 49102, 49104, 8146, 32723, 24533, 8151, 24536, 8154, 32738, 16355, 49123, 32743, 40936, 49127, 49130, 40939, 32752, 57329, 24562, 40947, 40954, 49147, 40957}\n"
     ]
    }
   ],
   "source": [
    "users_set = set(user_clusters[user_clusters==user_cluster_counts.index[0]].index)\n",
    "print(users_set)"
   ]
  },
  {
   "cell_type": "code",
   "execution_count": 57,
   "metadata": {},
   "outputs": [
    {
     "data": {
      "text/html": [
       "<div>\n",
       "<style scoped>\n",
       "    .dataframe tbody tr th:only-of-type {\n",
       "        vertical-align: middle;\n",
       "    }\n",
       "\n",
       "    .dataframe tbody tr th {\n",
       "        vertical-align: top;\n",
       "    }\n",
       "\n",
       "    .dataframe thead th {\n",
       "        text-align: right;\n",
       "    }\n",
       "</style>\n",
       "<table border=\"1\" class=\"dataframe\">\n",
       "  <thead>\n",
       "    <tr style=\"text-align: right;\">\n",
       "      <th></th>\n",
       "      <th>rating</th>\n",
       "      <th>jokeId</th>\n",
       "      <th>jokeText</th>\n",
       "    </tr>\n",
       "    <tr>\n",
       "      <th>jokeId</th>\n",
       "      <th></th>\n",
       "      <th></th>\n",
       "      <th></th>\n",
       "    </tr>\n",
       "  </thead>\n",
       "  <tbody>\n",
       "    <tr>\n",
       "      <th>53</th>\n",
       "      <td>1.457240</td>\n",
       "      <td>54.0</td>\n",
       "      <td>The Pope dies and, naturally, goes to heaven. ...</td>\n",
       "    </tr>\n",
       "    <tr>\n",
       "      <th>114</th>\n",
       "      <td>1.289011</td>\n",
       "      <td>115.0</td>\n",
       "      <td>A lady bought a new Lexus. It cost a bundle. T...</td>\n",
       "    </tr>\n",
       "    <tr>\n",
       "      <th>50</th>\n",
       "      <td>1.147600</td>\n",
       "      <td>51.0</td>\n",
       "      <td>Did you hear that Clinton has announced there ...</td>\n",
       "    </tr>\n",
       "    <tr>\n",
       "      <th>126</th>\n",
       "      <td>1.140983</td>\n",
       "      <td>127.0</td>\n",
       "      <td>A little boy goes to his dad and asks, \"What i...</td>\n",
       "    </tr>\n",
       "    <tr>\n",
       "      <th>89</th>\n",
       "      <td>1.136812</td>\n",
       "      <td>90.0</td>\n",
       "      <td>Q: How many programmers does it take to change...</td>\n",
       "    </tr>\n",
       "  </tbody>\n",
       "</table>\n",
       "</div>"
      ],
      "text/plain": [
       "          rating  jokeId                                           jokeText\n",
       "jokeId                                                                     \n",
       "53      1.457240    54.0  The Pope dies and, naturally, goes to heaven. ...\n",
       "114     1.289011   115.0  A lady bought a new Lexus. It cost a bundle. T...\n",
       "50      1.147600    51.0  Did you hear that Clinton has announced there ...\n",
       "126     1.140983   127.0  A little boy goes to his dad and asks, \"What i...\n",
       "89      1.136812    90.0  Q: How many programmers does it take to change..."
      ]
     },
     "execution_count": 57,
     "metadata": {},
     "output_type": "execute_result"
    }
   ],
   "source": [
    "jester_group_sorted = jester_ratings_df[jester_ratings_df.userId.isin(users_set)].groupby('jokeId').rating.mean().to_frame().join(jester_jokes_df).sort_values('rating', ascending=False)\n",
    "jester_group_sorted.head()"
   ]
  },
  {
   "cell_type": "code",
   "execution_count": 58,
   "metadata": {},
   "outputs": [
    {
     "data": {
      "text/html": [
       "<div>\n",
       "<style scoped>\n",
       "    .dataframe tbody tr th:only-of-type {\n",
       "        vertical-align: middle;\n",
       "    }\n",
       "\n",
       "    .dataframe tbody tr th {\n",
       "        vertical-align: top;\n",
       "    }\n",
       "\n",
       "    .dataframe thead th {\n",
       "        text-align: right;\n",
       "    }\n",
       "</style>\n",
       "<table border=\"1\" class=\"dataframe\">\n",
       "  <thead>\n",
       "    <tr style=\"text-align: right;\">\n",
       "      <th></th>\n",
       "      <th>rating</th>\n",
       "      <th>jokeId</th>\n",
       "      <th>jokeText</th>\n",
       "    </tr>\n",
       "    <tr>\n",
       "      <th>jokeId</th>\n",
       "      <th></th>\n",
       "      <th></th>\n",
       "      <th></th>\n",
       "    </tr>\n",
       "  </thead>\n",
       "  <tbody>\n",
       "    <tr>\n",
       "      <th>80</th>\n",
       "      <td>9.469000</td>\n",
       "      <td>81.0</td>\n",
       "      <td>An Asian man goes into a New York CityBank to ...</td>\n",
       "    </tr>\n",
       "    <tr>\n",
       "      <th>73</th>\n",
       "      <td>8.937500</td>\n",
       "      <td>74.0</td>\n",
       "      <td>Q: How many stalkers does it take to change a ...</td>\n",
       "    </tr>\n",
       "    <tr>\n",
       "      <th>116</th>\n",
       "      <td>7.938000</td>\n",
       "      <td>117.0</td>\n",
       "      <td>A man joins a big corporate empire as a traine...</td>\n",
       "    </tr>\n",
       "    <tr>\n",
       "      <th>106</th>\n",
       "      <td>7.290574</td>\n",
       "      <td>107.0</td>\n",
       "      <td>(A) The Japanese eat very little fat and suffe...</td>\n",
       "    </tr>\n",
       "    <tr>\n",
       "      <th>63</th>\n",
       "      <td>7.135891</td>\n",
       "      <td>64.0</td>\n",
       "      <td>What is the rallying cry of the International ...</td>\n",
       "    </tr>\n",
       "  </tbody>\n",
       "</table>\n",
       "</div>"
      ],
      "text/plain": [
       "          rating  jokeId                                           jokeText\n",
       "jokeId                                                                     \n",
       "80      9.469000    81.0  An Asian man goes into a New York CityBank to ...\n",
       "73      8.937500    74.0  Q: How many stalkers does it take to change a ...\n",
       "116     7.938000   117.0  A man joins a big corporate empire as a traine...\n",
       "106     7.290574   107.0  (A) The Japanese eat very little fat and suffe...\n",
       "63      7.135891    64.0  What is the rallying cry of the International ..."
      ]
     },
     "execution_count": 58,
     "metadata": {},
     "output_type": "execute_result"
    }
   ],
   "source": [
    "users_set = set(user_clusters[user_clusters==user_cluster_counts.index[-5]].index)\n",
    "jester_group_sorted = jester_ratings_df[jester_ratings_df.userId.isin(users_set)].groupby('jokeId').rating.mean().to_frame().join(jester_jokes_df).sort_values('rating', ascending=False)\n",
    "jester_group_sorted.head()"
   ]
  },
  {
   "cell_type": "code",
   "execution_count": 59,
   "metadata": {},
   "outputs": [
    {
     "data": {
      "text/plain": [
       "30322545.978758477"
      ]
     },
     "execution_count": 59,
     "metadata": {},
     "output_type": "execute_result"
    }
   ],
   "source": [
    "kmeans.inertia_"
   ]
  },
  {
   "cell_type": "code",
   "execution_count": 60,
   "metadata": {},
   "outputs": [
    {
     "data": {
      "text/plain": [
       "KMeans(n_clusters=200)"
      ]
     },
     "execution_count": 60,
     "metadata": {},
     "output_type": "execute_result"
    }
   ],
   "source": [
    "kmeans = KMeans(n_clusters=200)\n",
    "kmeans.fit(jester_ratings_pivot_df.fillna(0))"
   ]
  },
  {
   "cell_type": "code",
   "execution_count": 61,
   "metadata": {},
   "outputs": [
    {
     "data": {
      "text/plain": [
       "28653640.838373728"
      ]
     },
     "execution_count": 61,
     "metadata": {},
     "output_type": "execute_result"
    }
   ],
   "source": [
    "kmeans.inertia_"
   ]
  },
  {
   "cell_type": "code",
   "execution_count": 62,
   "metadata": {},
   "outputs": [
    {
     "data": {
      "text/plain": [
       "43     3134\n",
       "110    2009\n",
       "7      1161\n",
       "1      1059\n",
       "118    1038\n",
       "       ... \n",
       "116       1\n",
       "115       1\n",
       "80        1\n",
       "158       1\n",
       "125       1\n",
       "Length: 200, dtype: int64"
      ]
     },
     "execution_count": 62,
     "metadata": {},
     "output_type": "execute_result"
    }
   ],
   "source": [
    "user_clusters = pd.Series(kmeans.labels_, index=jester_ratings_pivot_df.index)\n",
    "user_clusters.value_counts()"
   ]
  },
  {
   "cell_type": "code",
   "execution_count": 63,
   "metadata": {},
   "outputs": [
    {
     "data": {
      "text/html": [
       "<div>\n",
       "<style scoped>\n",
       "    .dataframe tbody tr th:only-of-type {\n",
       "        vertical-align: middle;\n",
       "    }\n",
       "\n",
       "    .dataframe tbody tr th {\n",
       "        vertical-align: top;\n",
       "    }\n",
       "\n",
       "    .dataframe thead th {\n",
       "        text-align: right;\n",
       "    }\n",
       "</style>\n",
       "<table border=\"1\" class=\"dataframe\">\n",
       "  <thead>\n",
       "    <tr style=\"text-align: right;\">\n",
       "      <th></th>\n",
       "      <th>rating</th>\n",
       "      <th>jokeId</th>\n",
       "      <th>jokeText</th>\n",
       "    </tr>\n",
       "    <tr>\n",
       "      <th>jokeId</th>\n",
       "      <th></th>\n",
       "      <th></th>\n",
       "      <th></th>\n",
       "    </tr>\n",
       "  </thead>\n",
       "  <tbody>\n",
       "    <tr>\n",
       "      <th>27</th>\n",
       "      <td>4.927000</td>\n",
       "      <td>28.0</td>\n",
       "      <td>A mechanical, electrical and a software engine...</td>\n",
       "    </tr>\n",
       "    <tr>\n",
       "      <th>116</th>\n",
       "      <td>4.562000</td>\n",
       "      <td>117.0</td>\n",
       "      <td>A man joins a big corporate empire as a traine...</td>\n",
       "    </tr>\n",
       "    <tr>\n",
       "      <th>8</th>\n",
       "      <td>1.609726</td>\n",
       "      <td>9.0</td>\n",
       "      <td>A country guy goes into a city bar that has a ...</td>\n",
       "    </tr>\n",
       "    <tr>\n",
       "      <th>50</th>\n",
       "      <td>1.509039</td>\n",
       "      <td>51.0</td>\n",
       "      <td>Did you hear that Clinton has announced there ...</td>\n",
       "    </tr>\n",
       "    <tr>\n",
       "      <th>53</th>\n",
       "      <td>1.463231</td>\n",
       "      <td>54.0</td>\n",
       "      <td>The Pope dies and, naturally, goes to heaven. ...</td>\n",
       "    </tr>\n",
       "  </tbody>\n",
       "</table>\n",
       "</div>"
      ],
      "text/plain": [
       "          rating  jokeId                                           jokeText\n",
       "jokeId                                                                     \n",
       "27      4.927000    28.0  A mechanical, electrical and a software engine...\n",
       "116     4.562000   117.0  A man joins a big corporate empire as a traine...\n",
       "8       1.609726     9.0  A country guy goes into a city bar that has a ...\n",
       "50      1.509039    51.0  Did you hear that Clinton has announced there ...\n",
       "53      1.463231    54.0  The Pope dies and, naturally, goes to heaven. ..."
      ]
     },
     "execution_count": 63,
     "metadata": {},
     "output_type": "execute_result"
    }
   ],
   "source": [
    "users_set = set(user_clusters[user_clusters==49].index)\n",
    "jester_group_sorted = jester_ratings_df[jester_ratings_df.userId.isin(users_set)].groupby('jokeId').rating.mean().to_frame().join(jester_jokes_df).sort_values('rating', ascending=False)\n",
    "jester_group_sorted.head()"
   ]
  },
  {
   "cell_type": "code",
   "execution_count": 64,
   "metadata": {},
   "outputs": [
    {
     "name": "stdout",
     "output_type": "stream",
     "text": [
      "5\n",
      "10\n",
      "50\n",
      "100\n",
      "200\n",
      "500\n"
     ]
    }
   ],
   "source": [
    "elbow_dict = {}\n",
    "for k in [5, 10, 50, 100, 200, 500]:\n",
    "    print(k)\n",
    "    elbow_dict[k] = {}\n",
    "    kmeans = KMeans(n_clusters=k)\n",
    "    kmeans.fit(jester_ratings_pivot_df.fillna(0))\n",
    "    \n",
    "    elbow_dict[k]['kmeans'] = kmeans\n",
    "    elbow_dict[k]['inertia'] = kmeans.inertia_\n",
    "    elbow_dict[k]['user_cluster'] = pd.Series(kmeans.labels_, index=jester_ratings_pivot_df.index)"
   ]
  },
  {
   "cell_type": "code",
   "execution_count": 65,
   "metadata": {},
   "outputs": [
    {
     "name": "stdout",
     "output_type": "stream",
     "text": [
      "39282887.116419956\n",
      "36456133.44415126\n",
      "31997079.132014535\n",
      "30295914.351647645\n",
      "28679506.336334243\n",
      "26367649.15034368\n"
     ]
    }
   ],
   "source": [
    "for k, clustering in elbow_dict.items():\n",
    "    print(clustering['inertia'])"
   ]
  },
  {
   "cell_type": "code",
   "execution_count": 66,
   "metadata": {},
   "outputs": [
    {
     "data": {
      "text/plain": [
       "<matplotlib.axes._subplots.AxesSubplot at 0x7fa6ec815250>"
      ]
     },
     "execution_count": 66,
     "metadata": {},
     "output_type": "execute_result"
    },
    {
     "data": {
      "image/svg+xml": [
       "<?xml version=\"1.0\" encoding=\"utf-8\" standalone=\"no\"?>\n",
       "<!DOCTYPE svg PUBLIC \"-//W3C//DTD SVG 1.1//EN\"\n",
       "  \"http://www.w3.org/Graphics/SVG/1.1/DTD/svg11.dtd\">\n",
       "<!-- Created with matplotlib (https://matplotlib.org/) -->\n",
       "<svg height=\"259.116562pt\" version=\"1.1\" viewBox=\"0 0 372.103125 259.116562\" width=\"372.103125pt\" xmlns=\"http://www.w3.org/2000/svg\" xmlns:xlink=\"http://www.w3.org/1999/xlink\">\n",
       " <defs>\n",
       "  <style type=\"text/css\">\n",
       "*{stroke-linecap:butt;stroke-linejoin:round;}\n",
       "  </style>\n",
       " </defs>\n",
       " <g id=\"figure_1\">\n",
       "  <g id=\"patch_1\">\n",
       "   <path d=\"M 0 259.116562 \n",
       "L 372.103125 259.116562 \n",
       "L 372.103125 0 \n",
       "L 0 0 \n",
       "z\n",
       "\" style=\"fill:none;\"/>\n",
       "  </g>\n",
       "  <g id=\"axes_1\">\n",
       "   <g id=\"patch_2\">\n",
       "    <path d=\"M 30.103125 235.238437 \n",
       "L 364.903125 235.238437 \n",
       "L 364.903125 17.798437 \n",
       "L 30.103125 17.798437 \n",
       "z\n",
       "\" style=\"fill:#ffffff;\"/>\n",
       "   </g>\n",
       "   <g id=\"matplotlib.axis_1\">\n",
       "    <g id=\"xtick_1\">\n",
       "     <g id=\"line2d_1\">\n",
       "      <defs>\n",
       "       <path d=\"M 0 0 \n",
       "L 0 3.5 \n",
       "\" id=\"mb86180e394\" style=\"stroke:#000000;stroke-width:0.8;\"/>\n",
       "      </defs>\n",
       "      <g>\n",
       "       <use style=\"stroke:#000000;stroke-width:0.8;\" x=\"42.246927\" xlink:href=\"#mb86180e394\" y=\"235.238437\"/>\n",
       "      </g>\n",
       "     </g>\n",
       "     <g id=\"text_1\">\n",
       "      <!-- 0 -->\n",
       "      <defs>\n",
       "       <path d=\"M 31.78125 66.40625 \n",
       "Q 24.171875 66.40625 20.328125 58.90625 \n",
       "Q 16.5 51.421875 16.5 36.375 \n",
       "Q 16.5 21.390625 20.328125 13.890625 \n",
       "Q 24.171875 6.390625 31.78125 6.390625 \n",
       "Q 39.453125 6.390625 43.28125 13.890625 \n",
       "Q 47.125 21.390625 47.125 36.375 \n",
       "Q 47.125 51.421875 43.28125 58.90625 \n",
       "Q 39.453125 66.40625 31.78125 66.40625 \n",
       "z\n",
       "M 31.78125 74.21875 \n",
       "Q 44.046875 74.21875 50.515625 64.515625 \n",
       "Q 56.984375 54.828125 56.984375 36.375 \n",
       "Q 56.984375 17.96875 50.515625 8.265625 \n",
       "Q 44.046875 -1.421875 31.78125 -1.421875 \n",
       "Q 19.53125 -1.421875 13.0625 8.265625 \n",
       "Q 6.59375 17.96875 6.59375 36.375 \n",
       "Q 6.59375 54.828125 13.0625 64.515625 \n",
       "Q 19.53125 74.21875 31.78125 74.21875 \n",
       "z\n",
       "\" id=\"DejaVuSans-48\"/>\n",
       "      </defs>\n",
       "      <g transform=\"translate(39.065677 249.836875)scale(0.1 -0.1)\">\n",
       "       <use xlink:href=\"#DejaVuSans-48\"/>\n",
       "      </g>\n",
       "     </g>\n",
       "    </g>\n",
       "    <g id=\"xtick_2\">\n",
       "     <g id=\"line2d_2\">\n",
       "      <g>\n",
       "       <use style=\"stroke:#000000;stroke-width:0.8;\" x=\"103.73453\" xlink:href=\"#mb86180e394\" y=\"235.238437\"/>\n",
       "      </g>\n",
       "     </g>\n",
       "     <g id=\"text_2\">\n",
       "      <!-- 100 -->\n",
       "      <defs>\n",
       "       <path d=\"M 12.40625 8.296875 \n",
       "L 28.515625 8.296875 \n",
       "L 28.515625 63.921875 \n",
       "L 10.984375 60.40625 \n",
       "L 10.984375 69.390625 \n",
       "L 28.421875 72.90625 \n",
       "L 38.28125 72.90625 \n",
       "L 38.28125 8.296875 \n",
       "L 54.390625 8.296875 \n",
       "L 54.390625 0 \n",
       "L 12.40625 0 \n",
       "z\n",
       "\" id=\"DejaVuSans-49\"/>\n",
       "      </defs>\n",
       "      <g transform=\"translate(94.19078 249.836875)scale(0.1 -0.1)\">\n",
       "       <use xlink:href=\"#DejaVuSans-49\"/>\n",
       "       <use x=\"63.623047\" xlink:href=\"#DejaVuSans-48\"/>\n",
       "       <use x=\"127.246094\" xlink:href=\"#DejaVuSans-48\"/>\n",
       "      </g>\n",
       "     </g>\n",
       "    </g>\n",
       "    <g id=\"xtick_3\">\n",
       "     <g id=\"line2d_3\">\n",
       "      <g>\n",
       "       <use style=\"stroke:#000000;stroke-width:0.8;\" x=\"165.222133\" xlink:href=\"#mb86180e394\" y=\"235.238437\"/>\n",
       "      </g>\n",
       "     </g>\n",
       "     <g id=\"text_3\">\n",
       "      <!-- 200 -->\n",
       "      <defs>\n",
       "       <path d=\"M 19.1875 8.296875 \n",
       "L 53.609375 8.296875 \n",
       "L 53.609375 0 \n",
       "L 7.328125 0 \n",
       "L 7.328125 8.296875 \n",
       "Q 12.9375 14.109375 22.625 23.890625 \n",
       "Q 32.328125 33.6875 34.8125 36.53125 \n",
       "Q 39.546875 41.84375 41.421875 45.53125 \n",
       "Q 43.3125 49.21875 43.3125 52.78125 \n",
       "Q 43.3125 58.59375 39.234375 62.25 \n",
       "Q 35.15625 65.921875 28.609375 65.921875 \n",
       "Q 23.96875 65.921875 18.8125 64.3125 \n",
       "Q 13.671875 62.703125 7.8125 59.421875 \n",
       "L 7.8125 69.390625 \n",
       "Q 13.765625 71.78125 18.9375 73 \n",
       "Q 24.125 74.21875 28.421875 74.21875 \n",
       "Q 39.75 74.21875 46.484375 68.546875 \n",
       "Q 53.21875 62.890625 53.21875 53.421875 \n",
       "Q 53.21875 48.921875 51.53125 44.890625 \n",
       "Q 49.859375 40.875 45.40625 35.40625 \n",
       "Q 44.1875 33.984375 37.640625 27.21875 \n",
       "Q 31.109375 20.453125 19.1875 8.296875 \n",
       "z\n",
       "\" id=\"DejaVuSans-50\"/>\n",
       "      </defs>\n",
       "      <g transform=\"translate(155.678383 249.836875)scale(0.1 -0.1)\">\n",
       "       <use xlink:href=\"#DejaVuSans-50\"/>\n",
       "       <use x=\"63.623047\" xlink:href=\"#DejaVuSans-48\"/>\n",
       "       <use x=\"127.246094\" xlink:href=\"#DejaVuSans-48\"/>\n",
       "      </g>\n",
       "     </g>\n",
       "    </g>\n",
       "    <g id=\"xtick_4\">\n",
       "     <g id=\"line2d_4\">\n",
       "      <g>\n",
       "       <use style=\"stroke:#000000;stroke-width:0.8;\" x=\"226.709737\" xlink:href=\"#mb86180e394\" y=\"235.238437\"/>\n",
       "      </g>\n",
       "     </g>\n",
       "     <g id=\"text_4\">\n",
       "      <!-- 300 -->\n",
       "      <defs>\n",
       "       <path d=\"M 40.578125 39.3125 \n",
       "Q 47.65625 37.796875 51.625 33 \n",
       "Q 55.609375 28.21875 55.609375 21.1875 \n",
       "Q 55.609375 10.40625 48.1875 4.484375 \n",
       "Q 40.765625 -1.421875 27.09375 -1.421875 \n",
       "Q 22.515625 -1.421875 17.65625 -0.515625 \n",
       "Q 12.796875 0.390625 7.625 2.203125 \n",
       "L 7.625 11.71875 \n",
       "Q 11.71875 9.328125 16.59375 8.109375 \n",
       "Q 21.484375 6.890625 26.8125 6.890625 \n",
       "Q 36.078125 6.890625 40.9375 10.546875 \n",
       "Q 45.796875 14.203125 45.796875 21.1875 \n",
       "Q 45.796875 27.640625 41.28125 31.265625 \n",
       "Q 36.765625 34.90625 28.71875 34.90625 \n",
       "L 20.21875 34.90625 \n",
       "L 20.21875 43.015625 \n",
       "L 29.109375 43.015625 \n",
       "Q 36.375 43.015625 40.234375 45.921875 \n",
       "Q 44.09375 48.828125 44.09375 54.296875 \n",
       "Q 44.09375 59.90625 40.109375 62.90625 \n",
       "Q 36.140625 65.921875 28.71875 65.921875 \n",
       "Q 24.65625 65.921875 20.015625 65.03125 \n",
       "Q 15.375 64.15625 9.8125 62.3125 \n",
       "L 9.8125 71.09375 \n",
       "Q 15.4375 72.65625 20.34375 73.4375 \n",
       "Q 25.25 74.21875 29.59375 74.21875 \n",
       "Q 40.828125 74.21875 47.359375 69.109375 \n",
       "Q 53.90625 64.015625 53.90625 55.328125 \n",
       "Q 53.90625 49.265625 50.4375 45.09375 \n",
       "Q 46.96875 40.921875 40.578125 39.3125 \n",
       "z\n",
       "\" id=\"DejaVuSans-51\"/>\n",
       "      </defs>\n",
       "      <g transform=\"translate(217.165987 249.836875)scale(0.1 -0.1)\">\n",
       "       <use xlink:href=\"#DejaVuSans-51\"/>\n",
       "       <use x=\"63.623047\" xlink:href=\"#DejaVuSans-48\"/>\n",
       "       <use x=\"127.246094\" xlink:href=\"#DejaVuSans-48\"/>\n",
       "      </g>\n",
       "     </g>\n",
       "    </g>\n",
       "    <g id=\"xtick_5\">\n",
       "     <g id=\"line2d_5\">\n",
       "      <g>\n",
       "       <use style=\"stroke:#000000;stroke-width:0.8;\" x=\"288.19734\" xlink:href=\"#mb86180e394\" y=\"235.238437\"/>\n",
       "      </g>\n",
       "     </g>\n",
       "     <g id=\"text_5\">\n",
       "      <!-- 400 -->\n",
       "      <defs>\n",
       "       <path d=\"M 37.796875 64.3125 \n",
       "L 12.890625 25.390625 \n",
       "L 37.796875 25.390625 \n",
       "z\n",
       "M 35.203125 72.90625 \n",
       "L 47.609375 72.90625 \n",
       "L 47.609375 25.390625 \n",
       "L 58.015625 25.390625 \n",
       "L 58.015625 17.1875 \n",
       "L 47.609375 17.1875 \n",
       "L 47.609375 0 \n",
       "L 37.796875 0 \n",
       "L 37.796875 17.1875 \n",
       "L 4.890625 17.1875 \n",
       "L 4.890625 26.703125 \n",
       "z\n",
       "\" id=\"DejaVuSans-52\"/>\n",
       "      </defs>\n",
       "      <g transform=\"translate(278.65359 249.836875)scale(0.1 -0.1)\">\n",
       "       <use xlink:href=\"#DejaVuSans-52\"/>\n",
       "       <use x=\"63.623047\" xlink:href=\"#DejaVuSans-48\"/>\n",
       "       <use x=\"127.246094\" xlink:href=\"#DejaVuSans-48\"/>\n",
       "      </g>\n",
       "     </g>\n",
       "    </g>\n",
       "    <g id=\"xtick_6\">\n",
       "     <g id=\"line2d_6\">\n",
       "      <g>\n",
       "       <use style=\"stroke:#000000;stroke-width:0.8;\" x=\"349.684943\" xlink:href=\"#mb86180e394\" y=\"235.238437\"/>\n",
       "      </g>\n",
       "     </g>\n",
       "     <g id=\"text_6\">\n",
       "      <!-- 500 -->\n",
       "      <defs>\n",
       "       <path d=\"M 10.796875 72.90625 \n",
       "L 49.515625 72.90625 \n",
       "L 49.515625 64.59375 \n",
       "L 19.828125 64.59375 \n",
       "L 19.828125 46.734375 \n",
       "Q 21.96875 47.46875 24.109375 47.828125 \n",
       "Q 26.265625 48.1875 28.421875 48.1875 \n",
       "Q 40.625 48.1875 47.75 41.5 \n",
       "Q 54.890625 34.8125 54.890625 23.390625 \n",
       "Q 54.890625 11.625 47.5625 5.09375 \n",
       "Q 40.234375 -1.421875 26.90625 -1.421875 \n",
       "Q 22.3125 -1.421875 17.546875 -0.640625 \n",
       "Q 12.796875 0.140625 7.71875 1.703125 \n",
       "L 7.71875 11.625 \n",
       "Q 12.109375 9.234375 16.796875 8.0625 \n",
       "Q 21.484375 6.890625 26.703125 6.890625 \n",
       "Q 35.15625 6.890625 40.078125 11.328125 \n",
       "Q 45.015625 15.765625 45.015625 23.390625 \n",
       "Q 45.015625 31 40.078125 35.4375 \n",
       "Q 35.15625 39.890625 26.703125 39.890625 \n",
       "Q 22.75 39.890625 18.8125 39.015625 \n",
       "Q 14.890625 38.140625 10.796875 36.28125 \n",
       "z\n",
       "\" id=\"DejaVuSans-53\"/>\n",
       "      </defs>\n",
       "      <g transform=\"translate(340.141193 249.836875)scale(0.1 -0.1)\">\n",
       "       <use xlink:href=\"#DejaVuSans-53\"/>\n",
       "       <use x=\"63.623047\" xlink:href=\"#DejaVuSans-48\"/>\n",
       "       <use x=\"127.246094\" xlink:href=\"#DejaVuSans-48\"/>\n",
       "      </g>\n",
       "     </g>\n",
       "    </g>\n",
       "   </g>\n",
       "   <g id=\"matplotlib.axis_2\">\n",
       "    <g id=\"ytick_1\">\n",
       "     <g id=\"line2d_7\">\n",
       "      <defs>\n",
       "       <path d=\"M 0 0 \n",
       "L -3.5 0 \n",
       "\" id=\"m6de4dc523c\" style=\"stroke:#000000;stroke-width:0.8;\"/>\n",
       "      </defs>\n",
       "      <g>\n",
       "       <use style=\"stroke:#000000;stroke-width:0.8;\" x=\"30.103125\" xlink:href=\"#m6de4dc523c\" y=\"230.981814\"/>\n",
       "      </g>\n",
       "     </g>\n",
       "     <g id=\"text_7\">\n",
       "      <!-- 2.6 -->\n",
       "      <defs>\n",
       "       <path d=\"M 10.6875 12.40625 \n",
       "L 21 12.40625 \n",
       "L 21 0 \n",
       "L 10.6875 0 \n",
       "z\n",
       "\" id=\"DejaVuSans-46\"/>\n",
       "       <path d=\"M 33.015625 40.375 \n",
       "Q 26.375 40.375 22.484375 35.828125 \n",
       "Q 18.609375 31.296875 18.609375 23.390625 \n",
       "Q 18.609375 15.53125 22.484375 10.953125 \n",
       "Q 26.375 6.390625 33.015625 6.390625 \n",
       "Q 39.65625 6.390625 43.53125 10.953125 \n",
       "Q 47.40625 15.53125 47.40625 23.390625 \n",
       "Q 47.40625 31.296875 43.53125 35.828125 \n",
       "Q 39.65625 40.375 33.015625 40.375 \n",
       "z\n",
       "M 52.59375 71.296875 \n",
       "L 52.59375 62.3125 \n",
       "Q 48.875 64.0625 45.09375 64.984375 \n",
       "Q 41.3125 65.921875 37.59375 65.921875 \n",
       "Q 27.828125 65.921875 22.671875 59.328125 \n",
       "Q 17.53125 52.734375 16.796875 39.40625 \n",
       "Q 19.671875 43.65625 24.015625 45.921875 \n",
       "Q 28.375 48.1875 33.59375 48.1875 \n",
       "Q 44.578125 48.1875 50.953125 41.515625 \n",
       "Q 57.328125 34.859375 57.328125 23.390625 \n",
       "Q 57.328125 12.15625 50.6875 5.359375 \n",
       "Q 44.046875 -1.421875 33.015625 -1.421875 \n",
       "Q 20.359375 -1.421875 13.671875 8.265625 \n",
       "Q 6.984375 17.96875 6.984375 36.375 \n",
       "Q 6.984375 53.65625 15.1875 63.9375 \n",
       "Q 23.390625 74.21875 37.203125 74.21875 \n",
       "Q 40.921875 74.21875 44.703125 73.484375 \n",
       "Q 48.484375 72.75 52.59375 71.296875 \n",
       "z\n",
       "\" id=\"DejaVuSans-54\"/>\n",
       "      </defs>\n",
       "      <g transform=\"translate(7.2 234.781033)scale(0.1 -0.1)\">\n",
       "       <use xlink:href=\"#DejaVuSans-50\"/>\n",
       "       <use x=\"63.623047\" xlink:href=\"#DejaVuSans-46\"/>\n",
       "       <use x=\"95.410156\" xlink:href=\"#DejaVuSans-54\"/>\n",
       "      </g>\n",
       "     </g>\n",
       "    </g>\n",
       "    <g id=\"ytick_2\">\n",
       "     <g id=\"line2d_8\">\n",
       "      <g>\n",
       "       <use style=\"stroke:#000000;stroke-width:0.8;\" x=\"30.103125\" xlink:href=\"#m6de4dc523c\" y=\"200.371038\"/>\n",
       "      </g>\n",
       "     </g>\n",
       "     <g id=\"text_8\">\n",
       "      <!-- 2.8 -->\n",
       "      <defs>\n",
       "       <path d=\"M 31.78125 34.625 \n",
       "Q 24.75 34.625 20.71875 30.859375 \n",
       "Q 16.703125 27.09375 16.703125 20.515625 \n",
       "Q 16.703125 13.921875 20.71875 10.15625 \n",
       "Q 24.75 6.390625 31.78125 6.390625 \n",
       "Q 38.8125 6.390625 42.859375 10.171875 \n",
       "Q 46.921875 13.96875 46.921875 20.515625 \n",
       "Q 46.921875 27.09375 42.890625 30.859375 \n",
       "Q 38.875 34.625 31.78125 34.625 \n",
       "z\n",
       "M 21.921875 38.8125 \n",
       "Q 15.578125 40.375 12.03125 44.71875 \n",
       "Q 8.5 49.078125 8.5 55.328125 \n",
       "Q 8.5 64.0625 14.71875 69.140625 \n",
       "Q 20.953125 74.21875 31.78125 74.21875 \n",
       "Q 42.671875 74.21875 48.875 69.140625 \n",
       "Q 55.078125 64.0625 55.078125 55.328125 \n",
       "Q 55.078125 49.078125 51.53125 44.71875 \n",
       "Q 48 40.375 41.703125 38.8125 \n",
       "Q 48.828125 37.15625 52.796875 32.3125 \n",
       "Q 56.78125 27.484375 56.78125 20.515625 \n",
       "Q 56.78125 9.90625 50.3125 4.234375 \n",
       "Q 43.84375 -1.421875 31.78125 -1.421875 \n",
       "Q 19.734375 -1.421875 13.25 4.234375 \n",
       "Q 6.78125 9.90625 6.78125 20.515625 \n",
       "Q 6.78125 27.484375 10.78125 32.3125 \n",
       "Q 14.796875 37.15625 21.921875 38.8125 \n",
       "z\n",
       "M 18.3125 54.390625 \n",
       "Q 18.3125 48.734375 21.84375 45.5625 \n",
       "Q 25.390625 42.390625 31.78125 42.390625 \n",
       "Q 38.140625 42.390625 41.71875 45.5625 \n",
       "Q 45.3125 48.734375 45.3125 54.390625 \n",
       "Q 45.3125 60.0625 41.71875 63.234375 \n",
       "Q 38.140625 66.40625 31.78125 66.40625 \n",
       "Q 25.390625 66.40625 21.84375 63.234375 \n",
       "Q 18.3125 60.0625 18.3125 54.390625 \n",
       "z\n",
       "\" id=\"DejaVuSans-56\"/>\n",
       "      </defs>\n",
       "      <g transform=\"translate(7.2 204.170257)scale(0.1 -0.1)\">\n",
       "       <use xlink:href=\"#DejaVuSans-50\"/>\n",
       "       <use x=\"63.623047\" xlink:href=\"#DejaVuSans-46\"/>\n",
       "       <use x=\"95.410156\" xlink:href=\"#DejaVuSans-56\"/>\n",
       "      </g>\n",
       "     </g>\n",
       "    </g>\n",
       "    <g id=\"ytick_3\">\n",
       "     <g id=\"line2d_9\">\n",
       "      <g>\n",
       "       <use style=\"stroke:#000000;stroke-width:0.8;\" x=\"30.103125\" xlink:href=\"#m6de4dc523c\" y=\"169.760262\"/>\n",
       "      </g>\n",
       "     </g>\n",
       "     <g id=\"text_9\">\n",
       "      <!-- 3.0 -->\n",
       "      <g transform=\"translate(7.2 173.559481)scale(0.1 -0.1)\">\n",
       "       <use xlink:href=\"#DejaVuSans-51\"/>\n",
       "       <use x=\"63.623047\" xlink:href=\"#DejaVuSans-46\"/>\n",
       "       <use x=\"95.410156\" xlink:href=\"#DejaVuSans-48\"/>\n",
       "      </g>\n",
       "     </g>\n",
       "    </g>\n",
       "    <g id=\"ytick_4\">\n",
       "     <g id=\"line2d_10\">\n",
       "      <g>\n",
       "       <use style=\"stroke:#000000;stroke-width:0.8;\" x=\"30.103125\" xlink:href=\"#m6de4dc523c\" y=\"139.149486\"/>\n",
       "      </g>\n",
       "     </g>\n",
       "     <g id=\"text_10\">\n",
       "      <!-- 3.2 -->\n",
       "      <g transform=\"translate(7.2 142.948705)scale(0.1 -0.1)\">\n",
       "       <use xlink:href=\"#DejaVuSans-51\"/>\n",
       "       <use x=\"63.623047\" xlink:href=\"#DejaVuSans-46\"/>\n",
       "       <use x=\"95.410156\" xlink:href=\"#DejaVuSans-50\"/>\n",
       "      </g>\n",
       "     </g>\n",
       "    </g>\n",
       "    <g id=\"ytick_5\">\n",
       "     <g id=\"line2d_11\">\n",
       "      <g>\n",
       "       <use style=\"stroke:#000000;stroke-width:0.8;\" x=\"30.103125\" xlink:href=\"#m6de4dc523c\" y=\"108.538711\"/>\n",
       "      </g>\n",
       "     </g>\n",
       "     <g id=\"text_11\">\n",
       "      <!-- 3.4 -->\n",
       "      <g transform=\"translate(7.2 112.337929)scale(0.1 -0.1)\">\n",
       "       <use xlink:href=\"#DejaVuSans-51\"/>\n",
       "       <use x=\"63.623047\" xlink:href=\"#DejaVuSans-46\"/>\n",
       "       <use x=\"95.410156\" xlink:href=\"#DejaVuSans-52\"/>\n",
       "      </g>\n",
       "     </g>\n",
       "    </g>\n",
       "    <g id=\"ytick_6\">\n",
       "     <g id=\"line2d_12\">\n",
       "      <g>\n",
       "       <use style=\"stroke:#000000;stroke-width:0.8;\" x=\"30.103125\" xlink:href=\"#m6de4dc523c\" y=\"77.927935\"/>\n",
       "      </g>\n",
       "     </g>\n",
       "     <g id=\"text_12\">\n",
       "      <!-- 3.6 -->\n",
       "      <g transform=\"translate(7.2 81.727153)scale(0.1 -0.1)\">\n",
       "       <use xlink:href=\"#DejaVuSans-51\"/>\n",
       "       <use x=\"63.623047\" xlink:href=\"#DejaVuSans-46\"/>\n",
       "       <use x=\"95.410156\" xlink:href=\"#DejaVuSans-54\"/>\n",
       "      </g>\n",
       "     </g>\n",
       "    </g>\n",
       "    <g id=\"ytick_7\">\n",
       "     <g id=\"line2d_13\">\n",
       "      <g>\n",
       "       <use style=\"stroke:#000000;stroke-width:0.8;\" x=\"30.103125\" xlink:href=\"#m6de4dc523c\" y=\"47.317159\"/>\n",
       "      </g>\n",
       "     </g>\n",
       "     <g id=\"text_13\">\n",
       "      <!-- 3.8 -->\n",
       "      <g transform=\"translate(7.2 51.116378)scale(0.1 -0.1)\">\n",
       "       <use xlink:href=\"#DejaVuSans-51\"/>\n",
       "       <use x=\"63.623047\" xlink:href=\"#DejaVuSans-46\"/>\n",
       "       <use x=\"95.410156\" xlink:href=\"#DejaVuSans-56\"/>\n",
       "      </g>\n",
       "     </g>\n",
       "    </g>\n",
       "    <g id=\"text_14\">\n",
       "     <!-- 1e7 -->\n",
       "     <defs>\n",
       "      <path d=\"M 56.203125 29.59375 \n",
       "L 56.203125 25.203125 \n",
       "L 14.890625 25.203125 \n",
       "Q 15.484375 15.921875 20.484375 11.0625 \n",
       "Q 25.484375 6.203125 34.421875 6.203125 \n",
       "Q 39.59375 6.203125 44.453125 7.46875 \n",
       "Q 49.3125 8.734375 54.109375 11.28125 \n",
       "L 54.109375 2.78125 \n",
       "Q 49.265625 0.734375 44.1875 -0.34375 \n",
       "Q 39.109375 -1.421875 33.890625 -1.421875 \n",
       "Q 20.796875 -1.421875 13.15625 6.1875 \n",
       "Q 5.515625 13.8125 5.515625 26.8125 \n",
       "Q 5.515625 40.234375 12.765625 48.109375 \n",
       "Q 20.015625 56 32.328125 56 \n",
       "Q 43.359375 56 49.78125 48.890625 \n",
       "Q 56.203125 41.796875 56.203125 29.59375 \n",
       "z\n",
       "M 47.21875 32.234375 \n",
       "Q 47.125 39.59375 43.09375 43.984375 \n",
       "Q 39.0625 48.390625 32.421875 48.390625 \n",
       "Q 24.90625 48.390625 20.390625 44.140625 \n",
       "Q 15.875 39.890625 15.1875 32.171875 \n",
       "z\n",
       "\" id=\"DejaVuSans-101\"/>\n",
       "      <path d=\"M 8.203125 72.90625 \n",
       "L 55.078125 72.90625 \n",
       "L 55.078125 68.703125 \n",
       "L 28.609375 0 \n",
       "L 18.3125 0 \n",
       "L 43.21875 64.59375 \n",
       "L 8.203125 64.59375 \n",
       "z\n",
       "\" id=\"DejaVuSans-55\"/>\n",
       "     </defs>\n",
       "     <g transform=\"translate(30.103125 14.798437)scale(0.1 -0.1)\">\n",
       "      <use xlink:href=\"#DejaVuSans-49\"/>\n",
       "      <use x=\"63.623047\" xlink:href=\"#DejaVuSans-101\"/>\n",
       "      <use x=\"125.146484\" xlink:href=\"#DejaVuSans-55\"/>\n",
       "     </g>\n",
       "    </g>\n",
       "   </g>\n",
       "   <g id=\"line2d_14\">\n",
       "    <path clip-path=\"url(#p1f52f5617a)\" d=\"M 45.321307 27.682074 \n",
       "L 48.395687 70.946635 \n",
       "L 72.990728 139.194191 \n",
       "L 103.73453 165.231178 \n",
       "L 165.222133 189.97093 \n",
       "L 349.684943 225.354801 \n",
       "\" style=\"fill:none;stroke:#1f77b4;stroke-linecap:square;stroke-width:1.5;\"/>\n",
       "   </g>\n",
       "   <g id=\"patch_3\">\n",
       "    <path d=\"M 30.103125 235.238438 \n",
       "L 30.103125 17.798437 \n",
       "\" style=\"fill:none;stroke:#000000;stroke-linecap:square;stroke-linejoin:miter;stroke-width:0.8;\"/>\n",
       "   </g>\n",
       "   <g id=\"patch_4\">\n",
       "    <path d=\"M 364.903125 235.238438 \n",
       "L 364.903125 17.798437 \n",
       "\" style=\"fill:none;stroke:#000000;stroke-linecap:square;stroke-linejoin:miter;stroke-width:0.8;\"/>\n",
       "   </g>\n",
       "   <g id=\"patch_5\">\n",
       "    <path d=\"M 30.103125 235.238437 \n",
       "L 364.903125 235.238437 \n",
       "\" style=\"fill:none;stroke:#000000;stroke-linecap:square;stroke-linejoin:miter;stroke-width:0.8;\"/>\n",
       "   </g>\n",
       "   <g id=\"patch_6\">\n",
       "    <path d=\"M 30.103125 17.798437 \n",
       "L 364.903125 17.798437 \n",
       "\" style=\"fill:none;stroke:#000000;stroke-linecap:square;stroke-linejoin:miter;stroke-width:0.8;\"/>\n",
       "   </g>\n",
       "  </g>\n",
       " </g>\n",
       " <defs>\n",
       "  <clipPath id=\"p1f52f5617a\">\n",
       "   <rect height=\"217.44\" width=\"334.8\" x=\"30.103125\" y=\"17.798437\"/>\n",
       "  </clipPath>\n",
       " </defs>\n",
       "</svg>\n"
      ],
      "text/plain": [
       "<Figure size 432x288 with 1 Axes>"
      ]
     },
     "metadata": {
      "filenames": {
       "image/svg+xml": "/home/lorenzf/git/data-science-practical-approach/src/_build/jupyter_execute/c7_case_studies/Jokes_105_1.svg"
      },
      "needs_background": "light"
     },
     "output_type": "display_data"
    }
   ],
   "source": [
    "inertia = pd.Series([clustering['inertia'] for k, clustering in elbow_dict.items()], index=elbow_dict.keys())\n",
    "sns.lineplot(x=inertia.index, y=inertia)"
   ]
  },
  {
   "cell_type": "code",
   "execution_count": null,
   "metadata": {},
   "outputs": [],
   "source": []
  },
  {
   "cell_type": "code",
   "execution_count": 67,
   "metadata": {},
   "outputs": [
    {
     "data": {
      "text/plain": [
       "87    3840\n",
       "41    2218\n",
       "55    1817\n",
       "20    1703\n",
       "63    1670\n",
       "      ... \n",
       "36      74\n",
       "56      60\n",
       "45      59\n",
       "88      38\n",
       "77       1\n",
       "Length: 100, dtype: int64"
      ]
     },
     "execution_count": 67,
     "metadata": {},
     "output_type": "execute_result"
    }
   ],
   "source": [
    "elbow_dict[100]['user_cluster'].value_counts()"
   ]
  },
  {
   "cell_type": "code",
   "execution_count": 68,
   "metadata": {},
   "outputs": [
    {
     "data": {
      "text/plain": [
       "336    2090\n",
       "15     1384\n",
       "179     850\n",
       "362     765\n",
       "297     747\n",
       "       ... \n",
       "462       1\n",
       "356       1\n",
       "435       1\n",
       "209       1\n",
       "487       1\n",
       "Length: 500, dtype: int64"
      ]
     },
     "execution_count": 68,
     "metadata": {},
     "output_type": "execute_result"
    }
   ],
   "source": [
    "elbow_dict[500]['user_cluster'].value_counts()"
   ]
  },
  {
   "cell_type": "code",
   "execution_count": null,
   "metadata": {},
   "outputs": [],
   "source": []
  },
  {
   "cell_type": "code",
   "execution_count": 69,
   "metadata": {},
   "outputs": [],
   "source": [
    "from sklearn.neighbors import NearestNeighbors"
   ]
  },
  {
   "cell_type": "code",
   "execution_count": 70,
   "metadata": {},
   "outputs": [
    {
     "data": {
      "text/plain": [
       "NearestNeighbors()"
      ]
     },
     "execution_count": 70,
     "metadata": {},
     "output_type": "execute_result"
    }
   ],
   "source": [
    "nbrs = NearestNeighbors(n_neighbors=5)\n",
    "nbrs.fit(jester_ratings_pivot_df.fillna(0))"
   ]
  },
  {
   "cell_type": "code",
   "execution_count": 71,
   "metadata": {},
   "outputs": [
    {
     "data": {
      "text/html": [
       "<div>\n",
       "<style scoped>\n",
       "    .dataframe tbody tr th:only-of-type {\n",
       "        vertical-align: middle;\n",
       "    }\n",
       "\n",
       "    .dataframe tbody tr th {\n",
       "        vertical-align: top;\n",
       "    }\n",
       "\n",
       "    .dataframe thead th {\n",
       "        text-align: right;\n",
       "    }\n",
       "</style>\n",
       "<table border=\"1\" class=\"dataframe\">\n",
       "  <thead>\n",
       "    <tr style=\"text-align: right;\">\n",
       "      <th>jokeId</th>\n",
       "      <th>5</th>\n",
       "      <th>7</th>\n",
       "      <th>8</th>\n",
       "      <th>13</th>\n",
       "      <th>15</th>\n",
       "      <th>16</th>\n",
       "      <th>17</th>\n",
       "      <th>18</th>\n",
       "      <th>19</th>\n",
       "      <th>20</th>\n",
       "      <th>...</th>\n",
       "      <th>141</th>\n",
       "      <th>142</th>\n",
       "      <th>143</th>\n",
       "      <th>144</th>\n",
       "      <th>145</th>\n",
       "      <th>146</th>\n",
       "      <th>147</th>\n",
       "      <th>148</th>\n",
       "      <th>149</th>\n",
       "      <th>150</th>\n",
       "    </tr>\n",
       "    <tr>\n",
       "      <th>userId</th>\n",
       "      <th></th>\n",
       "      <th></th>\n",
       "      <th></th>\n",
       "      <th></th>\n",
       "      <th></th>\n",
       "      <th></th>\n",
       "      <th></th>\n",
       "      <th></th>\n",
       "      <th></th>\n",
       "      <th></th>\n",
       "      <th></th>\n",
       "      <th></th>\n",
       "      <th></th>\n",
       "      <th></th>\n",
       "      <th></th>\n",
       "      <th></th>\n",
       "      <th></th>\n",
       "      <th></th>\n",
       "      <th></th>\n",
       "      <th></th>\n",
       "      <th></th>\n",
       "    </tr>\n",
       "  </thead>\n",
       "  <tbody>\n",
       "    <tr>\n",
       "      <th>1</th>\n",
       "      <td>0.219</td>\n",
       "      <td>-9.281</td>\n",
       "      <td>-9.281</td>\n",
       "      <td>-6.781</td>\n",
       "      <td>0.875</td>\n",
       "      <td>-9.656</td>\n",
       "      <td>-9.031</td>\n",
       "      <td>-7.469</td>\n",
       "      <td>-8.719</td>\n",
       "      <td>-9.156</td>\n",
       "      <td>...</td>\n",
       "      <td>0.0</td>\n",
       "      <td>0.0</td>\n",
       "      <td>0.0</td>\n",
       "      <td>0.0</td>\n",
       "      <td>0.0</td>\n",
       "      <td>0.0</td>\n",
       "      <td>0.0</td>\n",
       "      <td>0.0</td>\n",
       "      <td>0.0</td>\n",
       "      <td>0.0</td>\n",
       "    </tr>\n",
       "  </tbody>\n",
       "</table>\n",
       "<p>1 rows × 140 columns</p>\n",
       "</div>"
      ],
      "text/plain": [
       "jokeId    5      7      8      13     15     16     17     18     19     20   \\\n",
       "userId                                                                         \n",
       "1       0.219 -9.281 -9.281 -6.781  0.875 -9.656 -9.031 -7.469 -8.719 -9.156   \n",
       "\n",
       "jokeId  ...  141  142  143  144  145  146  147  148  149  150  \n",
       "userId  ...                                                    \n",
       "1       ...  0.0  0.0  0.0  0.0  0.0  0.0  0.0  0.0  0.0  0.0  \n",
       "\n",
       "[1 rows x 140 columns]"
      ]
     },
     "execution_count": 71,
     "metadata": {},
     "output_type": "execute_result"
    }
   ],
   "source": [
    "jester_ratings_pivot_df.fillna(0).loc[[1]]"
   ]
  },
  {
   "cell_type": "code",
   "execution_count": 72,
   "metadata": {},
   "outputs": [
    {
     "data": {
      "text/plain": [
       "[0, 44456, 100, 4214, 51129]"
      ]
     },
     "execution_count": 72,
     "metadata": {},
     "output_type": "execute_result"
    }
   ],
   "source": [
    "dist, neighbours = nbrs.kneighbors(jester_ratings_pivot_df.fillna(0).loc[[1]])\n",
    "neighbours[0].tolist()"
   ]
  },
  {
   "cell_type": "code",
   "execution_count": 73,
   "metadata": {},
   "outputs": [
    {
     "data": {
      "text/html": [
       "<div>\n",
       "<style scoped>\n",
       "    .dataframe tbody tr th:only-of-type {\n",
       "        vertical-align: middle;\n",
       "    }\n",
       "\n",
       "    .dataframe tbody tr th {\n",
       "        vertical-align: top;\n",
       "    }\n",
       "\n",
       "    .dataframe thead th {\n",
       "        text-align: right;\n",
       "    }\n",
       "</style>\n",
       "<table border=\"1\" class=\"dataframe\">\n",
       "  <thead>\n",
       "    <tr style=\"text-align: right;\">\n",
       "      <th>jokeId</th>\n",
       "      <th>5</th>\n",
       "      <th>7</th>\n",
       "      <th>8</th>\n",
       "      <th>13</th>\n",
       "      <th>15</th>\n",
       "      <th>16</th>\n",
       "      <th>17</th>\n",
       "      <th>18</th>\n",
       "      <th>19</th>\n",
       "      <th>20</th>\n",
       "      <th>...</th>\n",
       "      <th>141</th>\n",
       "      <th>142</th>\n",
       "      <th>143</th>\n",
       "      <th>144</th>\n",
       "      <th>145</th>\n",
       "      <th>146</th>\n",
       "      <th>147</th>\n",
       "      <th>148</th>\n",
       "      <th>149</th>\n",
       "      <th>150</th>\n",
       "    </tr>\n",
       "    <tr>\n",
       "      <th>userId</th>\n",
       "      <th></th>\n",
       "      <th></th>\n",
       "      <th></th>\n",
       "      <th></th>\n",
       "      <th></th>\n",
       "      <th></th>\n",
       "      <th></th>\n",
       "      <th></th>\n",
       "      <th></th>\n",
       "      <th></th>\n",
       "      <th></th>\n",
       "      <th></th>\n",
       "      <th></th>\n",
       "      <th></th>\n",
       "      <th></th>\n",
       "      <th></th>\n",
       "      <th></th>\n",
       "      <th></th>\n",
       "      <th></th>\n",
       "      <th></th>\n",
       "      <th></th>\n",
       "    </tr>\n",
       "  </thead>\n",
       "  <tbody>\n",
       "    <tr>\n",
       "      <th>47727</th>\n",
       "      <td>NaN</td>\n",
       "      <td>-5.938</td>\n",
       "      <td>-5.938</td>\n",
       "      <td>-6.188</td>\n",
       "      <td>-8.594</td>\n",
       "      <td>-7.844</td>\n",
       "      <td>-8.031</td>\n",
       "      <td>-7.562</td>\n",
       "      <td>-7.750</td>\n",
       "      <td>NaN</td>\n",
       "      <td>...</td>\n",
       "      <td>NaN</td>\n",
       "      <td>NaN</td>\n",
       "      <td>6.438</td>\n",
       "      <td>NaN</td>\n",
       "      <td>5.594</td>\n",
       "      <td>NaN</td>\n",
       "      <td>NaN</td>\n",
       "      <td>NaN</td>\n",
       "      <td>NaN</td>\n",
       "      <td>NaN</td>\n",
       "    </tr>\n",
       "    <tr>\n",
       "      <th>114</th>\n",
       "      <td>8.438</td>\n",
       "      <td>-5.594</td>\n",
       "      <td>-3.344</td>\n",
       "      <td>-3.750</td>\n",
       "      <td>2.594</td>\n",
       "      <td>-8.312</td>\n",
       "      <td>-5.469</td>\n",
       "      <td>-4.469</td>\n",
       "      <td>-2.531</td>\n",
       "      <td>-3.969</td>\n",
       "      <td>...</td>\n",
       "      <td>NaN</td>\n",
       "      <td>NaN</td>\n",
       "      <td>NaN</td>\n",
       "      <td>NaN</td>\n",
       "      <td>NaN</td>\n",
       "      <td>NaN</td>\n",
       "      <td>NaN</td>\n",
       "      <td>NaN</td>\n",
       "      <td>NaN</td>\n",
       "      <td>NaN</td>\n",
       "    </tr>\n",
       "    <tr>\n",
       "      <th>4641</th>\n",
       "      <td>NaN</td>\n",
       "      <td>-4.531</td>\n",
       "      <td>-6.188</td>\n",
       "      <td>-2.375</td>\n",
       "      <td>-2.750</td>\n",
       "      <td>-1.938</td>\n",
       "      <td>-5.250</td>\n",
       "      <td>-3.625</td>\n",
       "      <td>1.156</td>\n",
       "      <td>NaN</td>\n",
       "      <td>...</td>\n",
       "      <td>NaN</td>\n",
       "      <td>NaN</td>\n",
       "      <td>NaN</td>\n",
       "      <td>6.031</td>\n",
       "      <td>NaN</td>\n",
       "      <td>NaN</td>\n",
       "      <td>NaN</td>\n",
       "      <td>7.125</td>\n",
       "      <td>6.719</td>\n",
       "      <td>NaN</td>\n",
       "    </tr>\n",
       "    <tr>\n",
       "      <th>55103</th>\n",
       "      <td>NaN</td>\n",
       "      <td>-6.875</td>\n",
       "      <td>-6.875</td>\n",
       "      <td>-6.875</td>\n",
       "      <td>-5.750</td>\n",
       "      <td>-5.719</td>\n",
       "      <td>-5.719</td>\n",
       "      <td>-5.719</td>\n",
       "      <td>-5.719</td>\n",
       "      <td>NaN</td>\n",
       "      <td>...</td>\n",
       "      <td>NaN</td>\n",
       "      <td>NaN</td>\n",
       "      <td>2.375</td>\n",
       "      <td>NaN</td>\n",
       "      <td>5.125</td>\n",
       "      <td>NaN</td>\n",
       "      <td>NaN</td>\n",
       "      <td>1.625</td>\n",
       "      <td>4.156</td>\n",
       "      <td>2.375</td>\n",
       "    </tr>\n",
       "  </tbody>\n",
       "</table>\n",
       "<p>4 rows × 140 columns</p>\n",
       "</div>"
      ],
      "text/plain": [
       "jokeId    5      7      8      13     15     16     17     18     19     20   \\\n",
       "userId                                                                         \n",
       "47727     NaN -5.938 -5.938 -6.188 -8.594 -7.844 -8.031 -7.562 -7.750    NaN   \n",
       "114     8.438 -5.594 -3.344 -3.750  2.594 -8.312 -5.469 -4.469 -2.531 -3.969   \n",
       "4641      NaN -4.531 -6.188 -2.375 -2.750 -1.938 -5.250 -3.625  1.156    NaN   \n",
       "55103     NaN -6.875 -6.875 -6.875 -5.750 -5.719 -5.719 -5.719 -5.719    NaN   \n",
       "\n",
       "jokeId  ...  141  142    143    144    145  146  147    148    149    150  \n",
       "userId  ...                                                                \n",
       "47727   ...  NaN  NaN  6.438    NaN  5.594  NaN  NaN    NaN    NaN    NaN  \n",
       "114     ...  NaN  NaN    NaN    NaN    NaN  NaN  NaN    NaN    NaN    NaN  \n",
       "4641    ...  NaN  NaN    NaN  6.031    NaN  NaN  NaN  7.125  6.719    NaN  \n",
       "55103   ...  NaN  NaN  2.375    NaN  5.125  NaN  NaN  1.625  4.156  2.375  \n",
       "\n",
       "[4 rows x 140 columns]"
      ]
     },
     "execution_count": 73,
     "metadata": {},
     "output_type": "execute_result"
    }
   ],
   "source": [
    "neighbours_ratings = jester_ratings_pivot_df.iloc[neighbours[0].tolist()[1:]]\n",
    "neighbours_ratings"
   ]
  },
  {
   "cell_type": "code",
   "execution_count": 74,
   "metadata": {},
   "outputs": [
    {
     "data": {
      "text/plain": [
       "[5, 27, 29, 50, 69, 105, 121, 122, 123, 125]"
      ]
     },
     "execution_count": 74,
     "metadata": {},
     "output_type": "execute_result"
    }
   ],
   "source": [
    "approriate_jokes = neighbours_ratings.mean()[neighbours_ratings.mean()>7].index.tolist()\n",
    "approriate_jokes"
   ]
  },
  {
   "cell_type": "code",
   "execution_count": 75,
   "metadata": {},
   "outputs": [
    {
     "data": {
      "text/plain": [
       "jokeId\n",
       "5      0.219\n",
       "27     8.781\n",
       "29     8.781\n",
       "50     9.906\n",
       "69     8.688\n",
       "105    2.000\n",
       "121    8.781\n",
       "122      NaN\n",
       "123    8.781\n",
       "125      NaN\n",
       "Name: 1, dtype: float64"
      ]
     },
     "execution_count": 75,
     "metadata": {},
     "output_type": "execute_result"
    }
   ],
   "source": [
    "recommended_jokes = jester_ratings_pivot_df.loc[1,approriate_jokes]\n",
    "recommended_jokes"
   ]
  },
  {
   "cell_type": "code",
   "execution_count": 76,
   "metadata": {},
   "outputs": [
    {
     "data": {
      "text/plain": [
       "[122, 125]"
      ]
     },
     "execution_count": 76,
     "metadata": {},
     "output_type": "execute_result"
    }
   ],
   "source": [
    "recommended_jokes[recommended_jokes.isna()].index.tolist()"
   ]
  },
  {
   "cell_type": "code",
   "execution_count": 77,
   "metadata": {},
   "outputs": [
    {
     "name": "stdout",
     "output_type": "stream",
     "text": [
      "Q.\tWhat's O. J. Simpson's Internet address? \n",
      "A.\tSlash, slash, backslash, slash, slash, escape.\n",
      "\n",
      "---\n",
      "Clinton returns from a vacation in Arkansas and walks down  the\n",
      "steps of Air Force One with two pigs under his arms.  At the bottom\n",
      "of the steps, he says  to the honor guardsman, \"These are genuine\n",
      "Arkansas Razor-Back Hogs.  I got this one for Chelsea and this one for\n",
      "Hillary.\"  \n",
      "\n",
      "The guardsman replies, \"Nice trade, Sir.\"\n",
      "\n",
      "---\n",
      "An old Scotsmen is sitting with a younger Scottish gentleman and says the boy. \n",
      "\"Ah, lad look out that window. You see that stone wall there, I built it with\n",
      "me own bare hands, placed every stone meself.  But do they call me MacGregor the\n",
      "wall builder? No! \n",
      "\n",
      "He Takes a few sips of his beer then says, \"Aye, and look out on that lake and \n",
      "eye that beautiful pier. I built it meself, laid every board and hammered each\n",
      "nail but do they call me MacGregor the pier builder? No! \n",
      "\n",
      "He continues...\"And lad, you see that road? That too I build with me own bare \n",
      "hands. Laid every inch of pavement meself, but do they call MacGregor the road\n",
      "builder? No!\"\n",
      "\n",
      "Again he returns to his beer for a few sips, then says, \n",
      "\"Agh, but you screw one sheep...\"\n",
      "\n",
      "---\n",
      "A guy goes into confession and says to the priest, \"Father, I'm 80 years\n",
      "old, widower, with 11 grandchildren. Last night I met two beautiful flight\n",
      "attendants. They took me home and I made love to both of them. Twice.\"\n",
      "\n",
      "The priest said: \"Well, my son, when was the last time you were in\n",
      "confession?\"\n",
      " \"Never Father, I'm Jewish.\"\n",
      " \"So then, why are you telling me?\"\n",
      " \"I'm telling everybody.\"\n",
      "\n",
      "---\n",
      "This guys wife asks, \"Honey if I died would you remarry?\" and he replies,\n",
      "\"Well, after a considerable period of grieving, we all need\n",
      "companionship, I guess I would.\"\n",
      "\n",
      "She then asks, \"If I died and you remarried, would she live in this\n",
      "house?\" and he replies, \"We've spent a lot of time and money getting this\n",
      "house just the way we want it. I'm not going to get rid of my house, I\n",
      "guess she would.\"\n",
      "\n",
      "\"If I died and you remarried, and she lived in this house, would she\n",
      "sleep in our bed?\" and he says, \"That bed is brand new, we just paid two\n",
      "thousand dollars for it, it's going to last a long time, I guess she\n",
      "would.\"\n",
      "\n",
      "So she asks, \"If I died and you remarried, and she lived in this house,\n",
      "and slept in our bed, would she use my golf clubs?\"\n",
      "\n",
      "\"Oh no, she's left handed.\"\n",
      "\n",
      "---\n",
      "A couple of hunters are out in the woods in the deep south when one of them falls to the ground. He doesn't seem to be breathing, and his eyes are rolled back in his head. The other guy whips out his cell phone and calls 911. He gasps to the operator, \"My friend is dead! What can I do?\" The operator, in a calm and soothing voice, says, \"Alright, take it easy. I can help. First, let's make sure he's dead.\" There is silence, and then a gun shot is heard. The hunter comes back on the line. \"Okay. Now what??\"\n",
      "---\n",
      "A drunk staggers into a Catholic Church, enters a confessional booth, sits down, but says nothing. The Priest coughs a few times to get his attention but the drunk just sits there. Finally, the Priest pounds three times on the wall. The drunk mumbles, \"Ain't no use knockin, there's no paper on this side either.\"\n",
      "---\n",
      "When most people claim to be \"killing time\", it's only an expression. When Chuck Norris kills time, the minutes actually cease to exist.\n",
      "---\n"
     ]
    }
   ],
   "source": [
    "for joke in jester_jokes_df[jester_jokes_df.jokeId.isin(recommended_jokes[~recommended_jokes.isna()].index.tolist())].jokeText:\n",
    "    print(joke)\n",
    "    print('---')"
   ]
  },
  {
   "cell_type": "code",
   "execution_count": 78,
   "metadata": {},
   "outputs": [
    {
     "name": "stdout",
     "output_type": "stream",
     "text": [
      "An astronomer, a physicist and a mathematician (it is said) were holidaying in Scotland. Glancing from a train window, they observed a black sheep in the middle of a field. \"How interesting,\" observed the astronomer, \"All Scottish sheep are black!\" To which the physicist responded, \"No, no! Some Scottish sheep are black!\" The mathematician gazed heavenward in supplication, and then intoned, \"In Scotland there exists at least one field, containing at least one sheep, at least one side of which is black.\"\n",
      "---\n",
      "An American tourist goes into a restaurant in Spain and orders the specialty of the house. When his dinner arrives, he asks the waiter what it is. \"These, senor,\" replied the waiter in broken English, \"are the testicles of the bull killed in the ring today.\" The tourist swallowed hard but tasted the dish and thought it was delicious. So he comes back the next evening and orders the same item. When it is served, he says to the waiter, \"These testicles...are much smaller than the ones I had last night.\" \"Yes, senor,\" replied the waiter, \"You see...the bull, he does not always lose.\n",
      "---\n"
     ]
    }
   ],
   "source": [
    "for joke in jester_jokes_df[jester_jokes_df.jokeId.isin(recommended_jokes[recommended_jokes.isna()].index.tolist())].jokeText:\n",
    "    print(joke)\n",
    "    print('---')"
   ]
  },
  {
   "cell_type": "code",
   "execution_count": null,
   "metadata": {},
   "outputs": [],
   "source": []
  }
 ],
 "metadata": {
  "colab": {
   "authorship_tag": "ABX9TyN2TS/8gZwLow8gzZKcMi75",
   "collapsed_sections": [
    "MZP9feZxsBSq"
   ],
   "name": "Jokes.ipynb",
   "provenance": []
  },
  "kernelspec": {
   "display_name": "Python 3 (ipykernel)",
   "language": "python",
   "name": "python3"
  },
  "language_info": {
   "codemirror_mode": {
    "name": "ipython",
    "version": 3
   },
   "file_extension": ".py",
   "mimetype": "text/x-python",
   "name": "python",
   "nbconvert_exporter": "python",
   "pygments_lexer": "ipython3",
   "version": "3.8.10"
  }
 },
 "nbformat": 4,
 "nbformat_minor": 1
}