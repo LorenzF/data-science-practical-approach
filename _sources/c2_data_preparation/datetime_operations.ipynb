{
 "cells": [
  {
   "cell_type": "markdown",
   "id": "efa6617b",
   "metadata": {},
   "source": [
    "## Datetime operations\n",
    "\n",
    "When our dataset contains time-related data, datetime operations are a great asset to our data science toolkit.\n",
    "For this exercise we obtain a public covid dataset containing A LOT of information on infection cases, deaths, tests and vaccinations.\n",
    "\n",
    "Let's start by importing the data, as the dataset is about 60MB at the time of writing, this might take some time.\n",
    "Perhaps you could think of a method to make this more efficient, do we always need all of the data?\n",
    "\n",
    "More info about the data can be found [here](https://github.com/owid/covid-19-data/tree/master/public/data)"
   ]
  },
  {
   "cell_type": "code",
   "execution_count": 1,
   "id": "fd53fb2f",
   "metadata": {},
   "outputs": [],
   "source": [
    "import pandas as pd"
   ]
  },
  {
   "cell_type": "code",
   "execution_count": 2,
   "id": "a85e63e3",
   "metadata": {},
   "outputs": [
    {
     "data": {
      "text/html": [
       "<div>\n",
       "<style scoped>\n",
       "    .dataframe tbody tr th:only-of-type {\n",
       "        vertical-align: middle;\n",
       "    }\n",
       "\n",
       "    .dataframe tbody tr th {\n",
       "        vertical-align: top;\n",
       "    }\n",
       "\n",
       "    .dataframe thead th {\n",
       "        text-align: right;\n",
       "    }\n",
       "</style>\n",
       "<table border=\"1\" class=\"dataframe\">\n",
       "  <thead>\n",
       "    <tr style=\"text-align: right;\">\n",
       "      <th></th>\n",
       "      <th>iso_code</th>\n",
       "      <th>continent</th>\n",
       "      <th>location</th>\n",
       "      <th>date</th>\n",
       "      <th>total_cases</th>\n",
       "      <th>new_cases</th>\n",
       "      <th>new_cases_smoothed</th>\n",
       "      <th>total_deaths</th>\n",
       "      <th>new_deaths</th>\n",
       "      <th>new_deaths_smoothed</th>\n",
       "      <th>...</th>\n",
       "      <th>female_smokers</th>\n",
       "      <th>male_smokers</th>\n",
       "      <th>handwashing_facilities</th>\n",
       "      <th>hospital_beds_per_thousand</th>\n",
       "      <th>life_expectancy</th>\n",
       "      <th>human_development_index</th>\n",
       "      <th>excess_mortality_cumulative_absolute</th>\n",
       "      <th>excess_mortality_cumulative</th>\n",
       "      <th>excess_mortality</th>\n",
       "      <th>excess_mortality_cumulative_per_million</th>\n",
       "    </tr>\n",
       "  </thead>\n",
       "  <tbody>\n",
       "    <tr>\n",
       "      <th>0</th>\n",
       "      <td>AFG</td>\n",
       "      <td>Asia</td>\n",
       "      <td>Afghanistan</td>\n",
       "      <td>2020-02-24</td>\n",
       "      <td>5.0</td>\n",
       "      <td>5.0</td>\n",
       "      <td>NaN</td>\n",
       "      <td>NaN</td>\n",
       "      <td>NaN</td>\n",
       "      <td>NaN</td>\n",
       "      <td>...</td>\n",
       "      <td>NaN</td>\n",
       "      <td>NaN</td>\n",
       "      <td>37.746</td>\n",
       "      <td>0.5</td>\n",
       "      <td>64.83</td>\n",
       "      <td>0.511</td>\n",
       "      <td>NaN</td>\n",
       "      <td>NaN</td>\n",
       "      <td>NaN</td>\n",
       "      <td>NaN</td>\n",
       "    </tr>\n",
       "    <tr>\n",
       "      <th>1</th>\n",
       "      <td>AFG</td>\n",
       "      <td>Asia</td>\n",
       "      <td>Afghanistan</td>\n",
       "      <td>2020-02-25</td>\n",
       "      <td>5.0</td>\n",
       "      <td>0.0</td>\n",
       "      <td>NaN</td>\n",
       "      <td>NaN</td>\n",
       "      <td>NaN</td>\n",
       "      <td>NaN</td>\n",
       "      <td>...</td>\n",
       "      <td>NaN</td>\n",
       "      <td>NaN</td>\n",
       "      <td>37.746</td>\n",
       "      <td>0.5</td>\n",
       "      <td>64.83</td>\n",
       "      <td>0.511</td>\n",
       "      <td>NaN</td>\n",
       "      <td>NaN</td>\n",
       "      <td>NaN</td>\n",
       "      <td>NaN</td>\n",
       "    </tr>\n",
       "    <tr>\n",
       "      <th>2</th>\n",
       "      <td>AFG</td>\n",
       "      <td>Asia</td>\n",
       "      <td>Afghanistan</td>\n",
       "      <td>2020-02-26</td>\n",
       "      <td>5.0</td>\n",
       "      <td>0.0</td>\n",
       "      <td>NaN</td>\n",
       "      <td>NaN</td>\n",
       "      <td>NaN</td>\n",
       "      <td>NaN</td>\n",
       "      <td>...</td>\n",
       "      <td>NaN</td>\n",
       "      <td>NaN</td>\n",
       "      <td>37.746</td>\n",
       "      <td>0.5</td>\n",
       "      <td>64.83</td>\n",
       "      <td>0.511</td>\n",
       "      <td>NaN</td>\n",
       "      <td>NaN</td>\n",
       "      <td>NaN</td>\n",
       "      <td>NaN</td>\n",
       "    </tr>\n",
       "    <tr>\n",
       "      <th>3</th>\n",
       "      <td>AFG</td>\n",
       "      <td>Asia</td>\n",
       "      <td>Afghanistan</td>\n",
       "      <td>2020-02-27</td>\n",
       "      <td>5.0</td>\n",
       "      <td>0.0</td>\n",
       "      <td>NaN</td>\n",
       "      <td>NaN</td>\n",
       "      <td>NaN</td>\n",
       "      <td>NaN</td>\n",
       "      <td>...</td>\n",
       "      <td>NaN</td>\n",
       "      <td>NaN</td>\n",
       "      <td>37.746</td>\n",
       "      <td>0.5</td>\n",
       "      <td>64.83</td>\n",
       "      <td>0.511</td>\n",
       "      <td>NaN</td>\n",
       "      <td>NaN</td>\n",
       "      <td>NaN</td>\n",
       "      <td>NaN</td>\n",
       "    </tr>\n",
       "    <tr>\n",
       "      <th>4</th>\n",
       "      <td>AFG</td>\n",
       "      <td>Asia</td>\n",
       "      <td>Afghanistan</td>\n",
       "      <td>2020-02-28</td>\n",
       "      <td>5.0</td>\n",
       "      <td>0.0</td>\n",
       "      <td>NaN</td>\n",
       "      <td>NaN</td>\n",
       "      <td>NaN</td>\n",
       "      <td>NaN</td>\n",
       "      <td>...</td>\n",
       "      <td>NaN</td>\n",
       "      <td>NaN</td>\n",
       "      <td>37.746</td>\n",
       "      <td>0.5</td>\n",
       "      <td>64.83</td>\n",
       "      <td>0.511</td>\n",
       "      <td>NaN</td>\n",
       "      <td>NaN</td>\n",
       "      <td>NaN</td>\n",
       "      <td>NaN</td>\n",
       "    </tr>\n",
       "  </tbody>\n",
       "</table>\n",
       "<p>5 rows × 65 columns</p>\n",
       "</div>"
      ],
      "text/plain": [
       "  iso_code continent     location        date  total_cases  new_cases  \\\n",
       "0      AFG      Asia  Afghanistan  2020-02-24          5.0        5.0   \n",
       "1      AFG      Asia  Afghanistan  2020-02-25          5.0        0.0   \n",
       "2      AFG      Asia  Afghanistan  2020-02-26          5.0        0.0   \n",
       "3      AFG      Asia  Afghanistan  2020-02-27          5.0        0.0   \n",
       "4      AFG      Asia  Afghanistan  2020-02-28          5.0        0.0   \n",
       "\n",
       "   new_cases_smoothed  total_deaths  new_deaths  new_deaths_smoothed  ...  \\\n",
       "0                 NaN           NaN         NaN                  NaN  ...   \n",
       "1                 NaN           NaN         NaN                  NaN  ...   \n",
       "2                 NaN           NaN         NaN                  NaN  ...   \n",
       "3                 NaN           NaN         NaN                  NaN  ...   \n",
       "4                 NaN           NaN         NaN                  NaN  ...   \n",
       "\n",
       "   female_smokers  male_smokers  handwashing_facilities  \\\n",
       "0             NaN           NaN                  37.746   \n",
       "1             NaN           NaN                  37.746   \n",
       "2             NaN           NaN                  37.746   \n",
       "3             NaN           NaN                  37.746   \n",
       "4             NaN           NaN                  37.746   \n",
       "\n",
       "   hospital_beds_per_thousand  life_expectancy  human_development_index  \\\n",
       "0                         0.5            64.83                    0.511   \n",
       "1                         0.5            64.83                    0.511   \n",
       "2                         0.5            64.83                    0.511   \n",
       "3                         0.5            64.83                    0.511   \n",
       "4                         0.5            64.83                    0.511   \n",
       "\n",
       "   excess_mortality_cumulative_absolute  excess_mortality_cumulative  \\\n",
       "0                                   NaN                          NaN   \n",
       "1                                   NaN                          NaN   \n",
       "2                                   NaN                          NaN   \n",
       "3                                   NaN                          NaN   \n",
       "4                                   NaN                          NaN   \n",
       "\n",
       "   excess_mortality  excess_mortality_cumulative_per_million  \n",
       "0               NaN                                      NaN  \n",
       "1               NaN                                      NaN  \n",
       "2               NaN                                      NaN  \n",
       "3               NaN                                      NaN  \n",
       "4               NaN                                      NaN  \n",
       "\n",
       "[5 rows x 65 columns]"
      ]
     },
     "execution_count": 2,
     "metadata": {},
     "output_type": "execute_result"
    }
   ],
   "source": [
    "covid_df = pd.read_csv('https://raw.githubusercontent.com/owid/covid-19-data/master/public/data/owid-covid-data.csv', on_bad_lines='skip')\n",
    "covid_df.head()"
   ]
  },
  {
   "cell_type": "markdown",
   "id": "87fecde7",
   "metadata": {},
   "source": [
    "As mentioned a lot of information is present here, about 65 columns. yet for this exercise my main objective is the 'date' column.\n",
    "If we would print out the data types using the info method, we can see that the date is recognized as an 'object' stating that it is an ordinary string, not a datetime. "
   ]
  },
  {
   "cell_type": "code",
   "execution_count": 3,
   "id": "ba96cae2",
   "metadata": {},
   "outputs": [
    {
     "name": "stdout",
     "output_type": "stream",
     "text": [
      "<class 'pandas.core.frame.DataFrame'>\n",
      "RangeIndex: 121749 entries, 0 to 121748\n",
      "Data columns (total 65 columns):\n",
      " #   Column                                   Non-Null Count   Dtype  \n",
      "---  ------                                   --------------   -----  \n",
      " 0   iso_code                                 121749 non-null  object \n",
      " 1   continent                                116207 non-null  object \n",
      " 2   location                                 121749 non-null  object \n",
      " 3   date                                     121749 non-null  object \n",
      " 4   total_cases                              115518 non-null  float64\n",
      " 5   new_cases                                115514 non-null  float64\n",
      " 6   new_cases_smoothed                       114500 non-null  float64\n",
      " 7   total_deaths                             104708 non-null  float64\n",
      " 8   new_deaths                               104862 non-null  float64\n",
      " 9   new_deaths_smoothed                      114500 non-null  float64\n",
      " 10  total_cases_per_million                  114910 non-null  float64\n",
      " 11  new_cases_per_million                    114906 non-null  float64\n",
      " 12  new_cases_smoothed_per_million           113897 non-null  float64\n",
      " 13  total_deaths_per_million                 104113 non-null  float64\n",
      " 14  new_deaths_per_million                   104267 non-null  float64\n",
      " 15  new_deaths_smoothed_per_million          113897 non-null  float64\n",
      " 16  reproduction_rate                        98318 non-null   float64\n",
      " 17  icu_patients                             13707 non-null   float64\n",
      " 18  icu_patients_per_million                 13707 non-null   float64\n",
      " 19  hosp_patients                            15751 non-null   float64\n",
      " 20  hosp_patients_per_million                15751 non-null   float64\n",
      " 21  weekly_icu_admissions                    1254 non-null    float64\n",
      " 22  weekly_icu_admissions_per_million        1254 non-null    float64\n",
      " 23  weekly_hosp_admissions                   2155 non-null    float64\n",
      " 24  weekly_hosp_admissions_per_million       2155 non-null    float64\n",
      " 25  new_tests                                52248 non-null   float64\n",
      " 26  total_tests                              52352 non-null   float64\n",
      " 27  total_tests_per_thousand                 52352 non-null   float64\n",
      " 28  new_tests_per_thousand                   52248 non-null   float64\n",
      " 29  new_tests_smoothed                       62816 non-null   float64\n",
      " 30  new_tests_smoothed_per_thousand          62816 non-null   float64\n",
      " 31  positive_rate                            58959 non-null   float64\n",
      " 32  tests_per_case                           58319 non-null   float64\n",
      " 33  tests_units                              64746 non-null   object \n",
      " 34  total_vaccinations                       28113 non-null   float64\n",
      " 35  people_vaccinated                        26744 non-null   float64\n",
      " 36  people_fully_vaccinated                  23712 non-null   float64\n",
      " 37  total_boosters                           3055 non-null    float64\n",
      " 38  new_vaccinations                         23296 non-null   float64\n",
      " 39  new_vaccinations_smoothed                50209 non-null   float64\n",
      " 40  total_vaccinations_per_hundred           28113 non-null   float64\n",
      " 41  people_vaccinated_per_hundred            26744 non-null   float64\n",
      " 42  people_fully_vaccinated_per_hundred      23712 non-null   float64\n",
      " 43  total_boosters_per_hundred               3055 non-null    float64\n",
      " 44  new_vaccinations_smoothed_per_million    50209 non-null   float64\n",
      " 45  stringency_index                         101767 non-null  float64\n",
      " 46  population                               120885 non-null  float64\n",
      " 47  population_density                       112506 non-null  float64\n",
      " 48  median_age                               107429 non-null  float64\n",
      " 49  aged_65_older                            106235 non-null  float64\n",
      " 50  aged_70_older                            106840 non-null  float64\n",
      " 51  gdp_per_capita                           108060 non-null  float64\n",
      " 52  extreme_poverty                          72480 non-null   float64\n",
      " 53  cardiovasc_death_rate                    107701 non-null  float64\n",
      " 54  diabetes_prevalence                      111068 non-null  float64\n",
      " 55  female_smokers                           84084 non-null   float64\n",
      " 56  male_smokers                             82864 non-null   float64\n",
      " 57  handwashing_facilities                   54111 non-null   float64\n",
      " 58  hospital_beds_per_thousand               97917 non-null   float64\n",
      " 59  life_expectancy                          115463 non-null  float64\n",
      " 60  human_development_index                  107796 non-null  float64\n",
      " 61  excess_mortality_cumulative_absolute     4322 non-null    float64\n",
      " 62  excess_mortality_cumulative              4322 non-null    float64\n",
      " 63  excess_mortality                         4322 non-null    float64\n",
      " 64  excess_mortality_cumulative_per_million  4322 non-null    float64\n",
      "dtypes: float64(60), object(5)\n",
      "memory usage: 60.4+ MB\n"
     ]
    }
   ],
   "source": [
    "covid_df.info()"
   ]
  },
  {
   "cell_type": "markdown",
   "id": "74c8e321",
   "metadata": {},
   "source": [
    "We would like to change that, as we can only perform datetime operations if pandas recognises the datetime format used.\n",
    "Good for us, pandas has a method to automatically infer the date format, we do that now."
   ]
  },
  {
   "cell_type": "code",
   "execution_count": 4,
   "id": "c096d8af",
   "metadata": {},
   "outputs": [
    {
     "name": "stdout",
     "output_type": "stream",
     "text": [
      "<class 'pandas.core.frame.DataFrame'>\n",
      "RangeIndex: 121749 entries, 0 to 121748\n",
      "Data columns (total 65 columns):\n",
      " #   Column                                   Non-Null Count   Dtype         \n",
      "---  ------                                   --------------   -----         \n",
      " 0   iso_code                                 121749 non-null  object        \n",
      " 1   continent                                116207 non-null  object        \n",
      " 2   location                                 121749 non-null  object        \n",
      " 3   date                                     121749 non-null  datetime64[ns]\n",
      " 4   total_cases                              115518 non-null  float64       \n",
      " 5   new_cases                                115514 non-null  float64       \n",
      " 6   new_cases_smoothed                       114500 non-null  float64       \n",
      " 7   total_deaths                             104708 non-null  float64       \n",
      " 8   new_deaths                               104862 non-null  float64       \n",
      " 9   new_deaths_smoothed                      114500 non-null  float64       \n",
      " 10  total_cases_per_million                  114910 non-null  float64       \n",
      " 11  new_cases_per_million                    114906 non-null  float64       \n",
      " 12  new_cases_smoothed_per_million           113897 non-null  float64       \n",
      " 13  total_deaths_per_million                 104113 non-null  float64       \n",
      " 14  new_deaths_per_million                   104267 non-null  float64       \n",
      " 15  new_deaths_smoothed_per_million          113897 non-null  float64       \n",
      " 16  reproduction_rate                        98318 non-null   float64       \n",
      " 17  icu_patients                             13707 non-null   float64       \n",
      " 18  icu_patients_per_million                 13707 non-null   float64       \n",
      " 19  hosp_patients                            15751 non-null   float64       \n",
      " 20  hosp_patients_per_million                15751 non-null   float64       \n",
      " 21  weekly_icu_admissions                    1254 non-null    float64       \n",
      " 22  weekly_icu_admissions_per_million        1254 non-null    float64       \n",
      " 23  weekly_hosp_admissions                   2155 non-null    float64       \n",
      " 24  weekly_hosp_admissions_per_million       2155 non-null    float64       \n",
      " 25  new_tests                                52248 non-null   float64       \n",
      " 26  total_tests                              52352 non-null   float64       \n",
      " 27  total_tests_per_thousand                 52352 non-null   float64       \n",
      " 28  new_tests_per_thousand                   52248 non-null   float64       \n",
      " 29  new_tests_smoothed                       62816 non-null   float64       \n",
      " 30  new_tests_smoothed_per_thousand          62816 non-null   float64       \n",
      " 31  positive_rate                            58959 non-null   float64       \n",
      " 32  tests_per_case                           58319 non-null   float64       \n",
      " 33  tests_units                              64746 non-null   object        \n",
      " 34  total_vaccinations                       28113 non-null   float64       \n",
      " 35  people_vaccinated                        26744 non-null   float64       \n",
      " 36  people_fully_vaccinated                  23712 non-null   float64       \n",
      " 37  total_boosters                           3055 non-null    float64       \n",
      " 38  new_vaccinations                         23296 non-null   float64       \n",
      " 39  new_vaccinations_smoothed                50209 non-null   float64       \n",
      " 40  total_vaccinations_per_hundred           28113 non-null   float64       \n",
      " 41  people_vaccinated_per_hundred            26744 non-null   float64       \n",
      " 42  people_fully_vaccinated_per_hundred      23712 non-null   float64       \n",
      " 43  total_boosters_per_hundred               3055 non-null    float64       \n",
      " 44  new_vaccinations_smoothed_per_million    50209 non-null   float64       \n",
      " 45  stringency_index                         101767 non-null  float64       \n",
      " 46  population                               120885 non-null  float64       \n",
      " 47  population_density                       112506 non-null  float64       \n",
      " 48  median_age                               107429 non-null  float64       \n",
      " 49  aged_65_older                            106235 non-null  float64       \n",
      " 50  aged_70_older                            106840 non-null  float64       \n",
      " 51  gdp_per_capita                           108060 non-null  float64       \n",
      " 52  extreme_poverty                          72480 non-null   float64       \n",
      " 53  cardiovasc_death_rate                    107701 non-null  float64       \n",
      " 54  diabetes_prevalence                      111068 non-null  float64       \n",
      " 55  female_smokers                           84084 non-null   float64       \n",
      " 56  male_smokers                             82864 non-null   float64       \n",
      " 57  handwashing_facilities                   54111 non-null   float64       \n",
      " 58  hospital_beds_per_thousand               97917 non-null   float64       \n",
      " 59  life_expectancy                          115463 non-null  float64       \n",
      " 60  human_development_index                  107796 non-null  float64       \n",
      " 61  excess_mortality_cumulative_absolute     4322 non-null    float64       \n",
      " 62  excess_mortality_cumulative              4322 non-null    float64       \n",
      " 63  excess_mortality                         4322 non-null    float64       \n",
      " 64  excess_mortality_cumulative_per_million  4322 non-null    float64       \n",
      "dtypes: datetime64[ns](1), float64(60), object(4)\n",
      "memory usage: 60.4+ MB\n"
     ]
    }
   ],
   "source": [
    "covid_df.date = pd.to_datetime(covid_df.date)\n",
    "covid_df.info()"
   ]
  },
  {
   "cell_type": "markdown",
   "id": "496efc6c",
   "metadata": {},
   "source": [
    "now we are ready to perform datetime operations, however we can see that dates are appearing multiple times, this because we have records for multiple countries.\n",
    "I live in Belgium, so decided to isolate that subsection of the data.\n",
    "If they had used a data lake and partitioned into countries, reading out the data would have been much more efficient, but efficiency is not something I would expect from government as a Belgian."
   ]
  },
  {
   "cell_type": "code",
   "execution_count": 5,
   "id": "807cf968",
   "metadata": {},
   "outputs": [
    {
     "data": {
      "text/html": [
       "<div>\n",
       "<style scoped>\n",
       "    .dataframe tbody tr th:only-of-type {\n",
       "        vertical-align: middle;\n",
       "    }\n",
       "\n",
       "    .dataframe tbody tr th {\n",
       "        vertical-align: top;\n",
       "    }\n",
       "\n",
       "    .dataframe thead th {\n",
       "        text-align: right;\n",
       "    }\n",
       "</style>\n",
       "<table border=\"1\" class=\"dataframe\">\n",
       "  <thead>\n",
       "    <tr style=\"text-align: right;\">\n",
       "      <th></th>\n",
       "      <th>iso_code</th>\n",
       "      <th>continent</th>\n",
       "      <th>location</th>\n",
       "      <th>total_cases</th>\n",
       "      <th>new_cases</th>\n",
       "      <th>new_cases_smoothed</th>\n",
       "      <th>total_deaths</th>\n",
       "      <th>new_deaths</th>\n",
       "      <th>new_deaths_smoothed</th>\n",
       "      <th>total_cases_per_million</th>\n",
       "      <th>...</th>\n",
       "      <th>female_smokers</th>\n",
       "      <th>male_smokers</th>\n",
       "      <th>handwashing_facilities</th>\n",
       "      <th>hospital_beds_per_thousand</th>\n",
       "      <th>life_expectancy</th>\n",
       "      <th>human_development_index</th>\n",
       "      <th>excess_mortality_cumulative_absolute</th>\n",
       "      <th>excess_mortality_cumulative</th>\n",
       "      <th>excess_mortality</th>\n",
       "      <th>excess_mortality_cumulative_per_million</th>\n",
       "    </tr>\n",
       "    <tr>\n",
       "      <th>date</th>\n",
       "      <th></th>\n",
       "      <th></th>\n",
       "      <th></th>\n",
       "      <th></th>\n",
       "      <th></th>\n",
       "      <th></th>\n",
       "      <th></th>\n",
       "      <th></th>\n",
       "      <th></th>\n",
       "      <th></th>\n",
       "      <th></th>\n",
       "      <th></th>\n",
       "      <th></th>\n",
       "      <th></th>\n",
       "      <th></th>\n",
       "      <th></th>\n",
       "      <th></th>\n",
       "      <th></th>\n",
       "      <th></th>\n",
       "      <th></th>\n",
       "      <th></th>\n",
       "    </tr>\n",
       "  </thead>\n",
       "  <tbody>\n",
       "    <tr>\n",
       "      <th>2020-02-04</th>\n",
       "      <td>BEL</td>\n",
       "      <td>Europe</td>\n",
       "      <td>Belgium</td>\n",
       "      <td>1.0</td>\n",
       "      <td>1.0</td>\n",
       "      <td>NaN</td>\n",
       "      <td>NaN</td>\n",
       "      <td>NaN</td>\n",
       "      <td>NaN</td>\n",
       "      <td>0.086</td>\n",
       "      <td>...</td>\n",
       "      <td>25.1</td>\n",
       "      <td>31.4</td>\n",
       "      <td>NaN</td>\n",
       "      <td>5.64</td>\n",
       "      <td>81.63</td>\n",
       "      <td>0.931</td>\n",
       "      <td>NaN</td>\n",
       "      <td>NaN</td>\n",
       "      <td>NaN</td>\n",
       "      <td>NaN</td>\n",
       "    </tr>\n",
       "    <tr>\n",
       "      <th>2020-02-05</th>\n",
       "      <td>BEL</td>\n",
       "      <td>Europe</td>\n",
       "      <td>Belgium</td>\n",
       "      <td>1.0</td>\n",
       "      <td>0.0</td>\n",
       "      <td>NaN</td>\n",
       "      <td>NaN</td>\n",
       "      <td>NaN</td>\n",
       "      <td>NaN</td>\n",
       "      <td>0.086</td>\n",
       "      <td>...</td>\n",
       "      <td>25.1</td>\n",
       "      <td>31.4</td>\n",
       "      <td>NaN</td>\n",
       "      <td>5.64</td>\n",
       "      <td>81.63</td>\n",
       "      <td>0.931</td>\n",
       "      <td>NaN</td>\n",
       "      <td>NaN</td>\n",
       "      <td>NaN</td>\n",
       "      <td>NaN</td>\n",
       "    </tr>\n",
       "    <tr>\n",
       "      <th>2020-02-06</th>\n",
       "      <td>BEL</td>\n",
       "      <td>Europe</td>\n",
       "      <td>Belgium</td>\n",
       "      <td>1.0</td>\n",
       "      <td>0.0</td>\n",
       "      <td>NaN</td>\n",
       "      <td>NaN</td>\n",
       "      <td>NaN</td>\n",
       "      <td>NaN</td>\n",
       "      <td>0.086</td>\n",
       "      <td>...</td>\n",
       "      <td>25.1</td>\n",
       "      <td>31.4</td>\n",
       "      <td>NaN</td>\n",
       "      <td>5.64</td>\n",
       "      <td>81.63</td>\n",
       "      <td>0.931</td>\n",
       "      <td>NaN</td>\n",
       "      <td>NaN</td>\n",
       "      <td>NaN</td>\n",
       "      <td>NaN</td>\n",
       "    </tr>\n",
       "    <tr>\n",
       "      <th>2020-02-07</th>\n",
       "      <td>BEL</td>\n",
       "      <td>Europe</td>\n",
       "      <td>Belgium</td>\n",
       "      <td>1.0</td>\n",
       "      <td>0.0</td>\n",
       "      <td>NaN</td>\n",
       "      <td>NaN</td>\n",
       "      <td>NaN</td>\n",
       "      <td>NaN</td>\n",
       "      <td>0.086</td>\n",
       "      <td>...</td>\n",
       "      <td>25.1</td>\n",
       "      <td>31.4</td>\n",
       "      <td>NaN</td>\n",
       "      <td>5.64</td>\n",
       "      <td>81.63</td>\n",
       "      <td>0.931</td>\n",
       "      <td>NaN</td>\n",
       "      <td>NaN</td>\n",
       "      <td>NaN</td>\n",
       "      <td>NaN</td>\n",
       "    </tr>\n",
       "    <tr>\n",
       "      <th>2020-02-08</th>\n",
       "      <td>BEL</td>\n",
       "      <td>Europe</td>\n",
       "      <td>Belgium</td>\n",
       "      <td>1.0</td>\n",
       "      <td>0.0</td>\n",
       "      <td>NaN</td>\n",
       "      <td>NaN</td>\n",
       "      <td>NaN</td>\n",
       "      <td>NaN</td>\n",
       "      <td>0.086</td>\n",
       "      <td>...</td>\n",
       "      <td>25.1</td>\n",
       "      <td>31.4</td>\n",
       "      <td>NaN</td>\n",
       "      <td>5.64</td>\n",
       "      <td>81.63</td>\n",
       "      <td>0.931</td>\n",
       "      <td>NaN</td>\n",
       "      <td>NaN</td>\n",
       "      <td>NaN</td>\n",
       "      <td>NaN</td>\n",
       "    </tr>\n",
       "  </tbody>\n",
       "</table>\n",
       "<p>5 rows × 64 columns</p>\n",
       "</div>"
      ],
      "text/plain": [
       "           iso_code continent location  total_cases  new_cases  \\\n",
       "date                                                             \n",
       "2020-02-04      BEL    Europe  Belgium          1.0        1.0   \n",
       "2020-02-05      BEL    Europe  Belgium          1.0        0.0   \n",
       "2020-02-06      BEL    Europe  Belgium          1.0        0.0   \n",
       "2020-02-07      BEL    Europe  Belgium          1.0        0.0   \n",
       "2020-02-08      BEL    Europe  Belgium          1.0        0.0   \n",
       "\n",
       "            new_cases_smoothed  total_deaths  new_deaths  new_deaths_smoothed  \\\n",
       "date                                                                            \n",
       "2020-02-04                 NaN           NaN         NaN                  NaN   \n",
       "2020-02-05                 NaN           NaN         NaN                  NaN   \n",
       "2020-02-06                 NaN           NaN         NaN                  NaN   \n",
       "2020-02-07                 NaN           NaN         NaN                  NaN   \n",
       "2020-02-08                 NaN           NaN         NaN                  NaN   \n",
       "\n",
       "            total_cases_per_million  ...  female_smokers  male_smokers  \\\n",
       "date                                 ...                                 \n",
       "2020-02-04                    0.086  ...            25.1          31.4   \n",
       "2020-02-05                    0.086  ...            25.1          31.4   \n",
       "2020-02-06                    0.086  ...            25.1          31.4   \n",
       "2020-02-07                    0.086  ...            25.1          31.4   \n",
       "2020-02-08                    0.086  ...            25.1          31.4   \n",
       "\n",
       "            handwashing_facilities  hospital_beds_per_thousand  \\\n",
       "date                                                             \n",
       "2020-02-04                     NaN                        5.64   \n",
       "2020-02-05                     NaN                        5.64   \n",
       "2020-02-06                     NaN                        5.64   \n",
       "2020-02-07                     NaN                        5.64   \n",
       "2020-02-08                     NaN                        5.64   \n",
       "\n",
       "            life_expectancy  human_development_index  \\\n",
       "date                                                   \n",
       "2020-02-04            81.63                    0.931   \n",
       "2020-02-05            81.63                    0.931   \n",
       "2020-02-06            81.63                    0.931   \n",
       "2020-02-07            81.63                    0.931   \n",
       "2020-02-08            81.63                    0.931   \n",
       "\n",
       "            excess_mortality_cumulative_absolute  excess_mortality_cumulative  \\\n",
       "date                                                                            \n",
       "2020-02-04                                   NaN                          NaN   \n",
       "2020-02-05                                   NaN                          NaN   \n",
       "2020-02-06                                   NaN                          NaN   \n",
       "2020-02-07                                   NaN                          NaN   \n",
       "2020-02-08                                   NaN                          NaN   \n",
       "\n",
       "            excess_mortality  excess_mortality_cumulative_per_million  \n",
       "date                                                                   \n",
       "2020-02-04               NaN                                      NaN  \n",
       "2020-02-05               NaN                                      NaN  \n",
       "2020-02-06               NaN                                      NaN  \n",
       "2020-02-07               NaN                                      NaN  \n",
       "2020-02-08               NaN                                      NaN  \n",
       "\n",
       "[5 rows x 64 columns]"
      ]
     },
     "execution_count": 5,
     "metadata": {},
     "output_type": "execute_result"
    }
   ],
   "source": [
    "covid_belgium_df = covid_df[covid_df.location=='Belgium'].set_index('date')\n",
    "covid_belgium_df.head()"
   ]
  },
  {
   "cell_type": "markdown",
   "id": "6a961240",
   "metadata": {},
   "source": [
    "Now that we have our dataset containing only Belgium I would like to emphasize another aspect, for features such as population density we would not expect a 'head count' to differ each day, and as we can see this number is steady over the whole line (results may vary for those who execute this in the future)."
   ]
  },
  {
   "cell_type": "code",
   "execution_count": 6,
   "id": "35b9f6cd",
   "metadata": {},
   "outputs": [
    {
     "data": {
      "text/plain": [
       "11632334.0    611\n",
       "Name: population, dtype: int64"
      ]
     },
     "execution_count": 6,
     "metadata": {},
     "output_type": "execute_result"
    }
   ],
   "source": [
    "covid_belgium_df.population.value_counts()"
   ]
  },
  {
   "cell_type": "markdown",
   "id": "e5a904f0",
   "metadata": {},
   "source": [
    "we only have a single value (in my case 11.6M) that is repeated over the whole dataset, would this look optimal to you? How would you perhaps approach this to improve data management? If you would like to go hands-on I left you a blank cell to experiment."
   ]
  },
  {
   "cell_type": "code",
   "execution_count": null,
   "id": "6dbf2d93",
   "metadata": {},
   "outputs": [],
   "source": []
  },
  {
   "cell_type": "markdown",
   "id": "5cfa08f3",
   "metadata": {},
   "source": [
    "Optimalizations aside, we can not do that which we came for! Datetime operations, the first thing that I have in mind is that due to weekends, the cases might fluctuate a lot per day, so it is not optimal to view it on a daily basis.\n",
    "\n",
    "First we create a simple line plot with the raw daily cases, then we perform a weekly sum to create a more smooth version of the new cases."
   ]
  },
  {
   "cell_type": "code",
   "execution_count": 7,
   "id": "5daf5e19",
   "metadata": {},
   "outputs": [
    {
     "data": {
      "text/plain": [
       "<matplotlib.axes._subplots.AxesSubplot at 0x7f3ef9bd1ca0>"
      ]
     },
     "execution_count": 7,
     "metadata": {},
     "output_type": "execute_result"
    },
    {
     "data": {
      "image/png": "[encoded data removed]",
      "text/plain": [
       "<Figure size 432x288 with 1 Axes>"
      ]
     },
     "metadata": {
      "needs_background": "light"
     },
     "output_type": "display_data"
    }
   ],
   "source": [
    "covid_belgium_df['new_cases'].plot(title='daily cases are fluctuating')"
   ]
  },
  {
   "cell_type": "code",
   "execution_count": 8,
   "id": "a8a1def0",
   "metadata": {},
   "outputs": [
    {
     "data": {
      "text/plain": [
       "<matplotlib.axes._subplots.AxesSubplot at 0x7f3ef9a2f760>"
      ]
     },
     "execution_count": 8,
     "metadata": {},
     "output_type": "execute_result"
    },
    {
     "data": {
      "image/png": "[encoded data removed]",
      "text/plain": [
       "<Figure size 432x288 with 1 Axes>"
      ]
     },
     "metadata": {
      "needs_background": "light"
     },
     "output_type": "display_data"
    }
   ],
   "source": [
    "weekly_cases_df = covid_belgium_df['new_cases'].resample('W').sum()\n",
    "weekly_cases_df.plot(title='weekly cases are smoother')"
   ]
  },
  {
   "cell_type": "markdown",
   "id": "7c8fd8b6",
   "metadata": {},
   "source": [
    "That looks great! Those who inspected carefully saw that the x-axis was correclty identified as datetimes and that the y-axis for weekly sums have a much higher range.\n",
    "\n",
    "In a next example we would like to have the relative changes from week to week, this can be done using the shift operation."
   ]
  },
  {
   "cell_type": "code",
   "execution_count": 9,
   "id": "ef657e6e",
   "metadata": {},
   "outputs": [
    {
     "data": {
      "text/plain": [
       "date\n",
       "2020-02-09        NaN\n",
       "2020-02-16        1.0\n",
       "2020-02-23        0.0\n",
       "2020-03-01        0.0\n",
       "2020-03-08        1.0\n",
       "               ...   \n",
       "2021-09-12    14099.0\n",
       "2021-09-19    13508.0\n",
       "2021-09-26    14298.0\n",
       "2021-10-03    13909.0\n",
       "2021-10-10    13474.0\n",
       "Freq: W-SUN, Name: new_cases, Length: 88, dtype: float64"
      ]
     },
     "execution_count": 9,
     "metadata": {},
     "output_type": "execute_result"
    }
   ],
   "source": [
    "weekly_cases_df.shift(1)"
   ]
  },
  {
   "cell_type": "markdown",
   "id": "eb60311b",
   "metadata": {},
   "source": [
    "This method shifted our data by 1 week forwards, this way we can subtract these results from our original data creating a relative increase (this_week_cases - last_week_cases)."
   ]
  },
  {
   "cell_type": "code",
   "execution_count": 10,
   "id": "df7d8d0d",
   "metadata": {},
   "outputs": [
    {
     "data": {
      "text/plain": [
       "<matplotlib.axes._subplots.AxesSubplot at 0x7f3ef99b25e0>"
      ]
     },
     "execution_count": 10,
     "metadata": {},
     "output_type": "execute_result"
    },
    {
     "data": {
      "image/png": "[encoded data removed]",
      "text/plain": [
       "<Figure size 432x288 with 1 Axes>"
      ]
     },
     "metadata": {
      "needs_background": "light"
     },
     "output_type": "display_data"
    }
   ],
   "source": [
    "(weekly_cases_df-weekly_cases_df.shift(1)).plot(title='relative increase p week')"
   ]
  },
  {
   "cell_type": "markdown",
   "id": "ef4191d8",
   "metadata": {},
   "source": [
    "Another powerfull asset of datetimes is that we can utilize the concepts of days, weeks, months and years.\n",
    "In Belgium they speak about a phenomenon called 'the weekend effect' where a lot of reports are delayed and therefore Sundays have less cases whereas Mondays have more.\n",
    "\n",
    "Do we see that in our data? let us seperate the Sundays and Mondays and take a mean!"
   ]
  },
  {
   "cell_type": "code",
   "execution_count": 11,
   "id": "876d0c41",
   "metadata": {},
   "outputs": [
    {
     "name": "stdout",
     "output_type": "stream",
     "text": [
      "mean deaths on Monday\n"
     ]
    },
    {
     "data": {
      "text/plain": [
       "39.02439024390244"
      ]
     },
     "execution_count": 11,
     "metadata": {},
     "output_type": "execute_result"
    }
   ],
   "source": [
    "print('mean deaths on Monday')\n",
    "covid_belgium_df.loc[covid_belgium_df.index.dayofweek==0,\"new_deaths\"].mean()"
   ]
  },
  {
   "cell_type": "code",
   "execution_count": 12,
   "id": "f4c1cfd9",
   "metadata": {},
   "outputs": [
    {
     "name": "stdout",
     "output_type": "stream",
     "text": [
      "mean deaths on Sunday\n"
     ]
    },
    {
     "data": {
      "text/plain": [
       "36.646341463414636"
      ]
     },
     "execution_count": 12,
     "metadata": {},
     "output_type": "execute_result"
    }
   ],
   "source": [
    "print('mean deaths on Sunday')\n",
    "covid_belgium_df.loc[covid_belgium_df.index.dayofweek==6,\"new_deaths\"].mean()"
   ]
  },
  {
   "cell_type": "markdown",
   "id": "ff7ab655",
   "metadata": {},
   "source": [
    "It seems indeed that more people are reported to pass away no a Monday than on a Sunday, it would be optimal to verify this with statistics, but for now we keep it simple.\n",
    "\n",
    "As a last example I would like to use slicing of our dataset to demonstrate we can also take a subset of our data and handle this, here we took the months of dec2020-jan2021 for belgium and calculated the total deaths."
   ]
  },
  {
   "cell_type": "code",
   "execution_count": 13,
   "id": "49241e0a",
   "metadata": {},
   "outputs": [
    {
     "data": {
      "text/plain": [
       "4447.0"
      ]
     },
     "execution_count": 13,
     "metadata": {},
     "output_type": "execute_result"
    }
   ],
   "source": [
    "covid_belgium_df.loc['2020-12-01':'2021-01-31'].new_deaths.sum()"
   ]
  },
  {
   "cell_type": "markdown",
   "id": "1e313af5",
   "metadata": {},
   "source": [
    "Now let's compare this to our neighbours, the Netherlands and France, we do exactly the same operations by selecting exaclty the same time window."
   ]
  },
  {
   "cell_type": "code",
   "execution_count": 14,
   "id": "685ab40e",
   "metadata": {},
   "outputs": [
    {
     "data": {
      "text/plain": [
       "4655.0"
      ]
     },
     "execution_count": 14,
     "metadata": {},
     "output_type": "execute_result"
    }
   ],
   "source": [
    "covid_netherlands_df = covid_df[covid_df.location=='Netherlands'].set_index('date')\n",
    "covid_netherlands_df.loc['2020-12-01':'2021-01-31'].new_deaths.sum()"
   ]
  },
  {
   "cell_type": "code",
   "execution_count": 15,
   "id": "b281f97c",
   "metadata": {},
   "outputs": [
    {
     "data": {
      "text/plain": [
       "23382.0"
      ]
     },
     "execution_count": 15,
     "metadata": {},
     "output_type": "execute_result"
    }
   ],
   "source": [
    "covid_france_df = covid_df[covid_df.location=='France'].set_index('date')\n",
    "covid_france_df.loc['2020-12-01':'2021-01-31'].new_deaths.sum()"
   ]
  },
  {
   "cell_type": "markdown",
   "id": "2466447e",
   "metadata": {},
   "source": [
    "You can see that Belgium has the lowest of total deaths in that time interval, so you could assume we performed the best! \n",
    "However this approach is a bit simplified as there are not as many Belgians as French and Dutch. Could you perhaps think if an improvement to create a better understanding?"
   ]
  },
  {
   "cell_type": "code",
   "execution_count": null,
   "id": "e301c0da",
   "metadata": {},
   "outputs": [],
   "source": []
  }
 ],
 "metadata": {
  "kernelspec": {
   "display_name": "Python 3 (ipykernel)",
   "language": "python",
   "name": "python3"
  },
  "language_info": {
   "codemirror_mode": {
    "name": "ipython",
    "version": 3
   },
   "file_extension": ".py",
   "mimetype": "text/x-python",
   "name": "python",
   "nbconvert_exporter": "python",
   "pygments_lexer": "ipython3",
   "version": "3.8.10"
  }
 },
 "nbformat": 4,
 "nbformat_minor": 5
}
