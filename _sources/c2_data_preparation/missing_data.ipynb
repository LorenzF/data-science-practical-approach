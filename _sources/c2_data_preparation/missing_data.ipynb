{
 "cells": [
  {
   "cell_type": "markdown",
   "id": "b291a060",
   "metadata": {},
   "source": [
    "## Missing Data\n",
    "\n",
    "this is a notebook about missing data"
   ]
  },
  {
   "cell_type": "code",
   "execution_count": 2,
   "id": "5c32816c",
   "metadata": {},
   "outputs": [],
   "source": [
    "variable = 'test'"
   ]
  },
  {
   "cell_type": "code",
   "execution_count": null,
   "id": "118b7340",
   "metadata": {},
   "outputs": [],
   "source": []
  }
 ],
 "metadata": {
  "kernelspec": {
   "display_name": "Python 3 (ipykernel)",
   "language": "python",
   "name": "python3"
  },
  "language_info": {
   "codemirror_mode": {
    "name": "ipython",
    "version": 3
   },
   "file_extension": ".py",
   "mimetype": "text/x-python",
   "name": "python",
   "nbconvert_exporter": "python",
   "pygments_lexer": "ipython3",
   "version": "3.8.10"
  }
 },
 "nbformat": 4,
 "nbformat_minor": 5
}
