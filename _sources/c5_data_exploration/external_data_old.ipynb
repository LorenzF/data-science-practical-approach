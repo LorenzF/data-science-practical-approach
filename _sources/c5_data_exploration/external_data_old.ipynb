{
 "cells": [
  {
   "cell_type": "markdown",
   "metadata": {
    "id": "5v9p7ijZwuMk"
   },
   "source": [
    "# New Data Sources\n",
    "In this notebook we are going to look into adding new data to your dataset.\n",
    "We start out with a taxi dataset describing all pickup points from taxis in a specific date interval, notice that the dataset is divided up into months. Each month has their specific csv file saved in an AWS location.\n",
    "\n",
    "\n"
   ]
  },
  {
   "cell_type": "code",
   "execution_count": 1,
   "metadata": {
    "executionInfo": {
     "elapsed": 945,
     "status": "ok",
     "timestamp": 1603380566978,
     "user": {
      "displayName": "Lorenz Feyen",
      "photoUrl": "",
      "userId": "13474410138118598994"
     },
     "user_tz": -120
    },
    "id": "j5fn87jcgXx-"
   },
   "outputs": [],
   "source": [
    "import pandas as pd\n",
    "import seaborn as sns\n",
    "sns.set_style()\n",
    "sns.set(rc={'figure.figsize':(16,12)})"
   ]
  },
  {
   "cell_type": "code",
   "execution_count": 2,
   "metadata": {},
   "outputs": [
    {
     "data": {
      "text/html": [
       "<div>\n",
       "<style scoped>\n",
       "    .dataframe tbody tr th:only-of-type {\n",
       "        vertical-align: middle;\n",
       "    }\n",
       "\n",
       "    .dataframe tbody tr th {\n",
       "        vertical-align: top;\n",
       "    }\n",
       "\n",
       "    .dataframe thead th {\n",
       "        text-align: right;\n",
       "    }\n",
       "</style>\n",
       "<table border=\"1\" class=\"dataframe\">\n",
       "  <thead>\n",
       "    <tr style=\"text-align: right;\">\n",
       "      <th></th>\n",
       "      <th>pickup</th>\n",
       "      <th>dropoff</th>\n",
       "      <th>passengers</th>\n",
       "      <th>distance</th>\n",
       "      <th>fare</th>\n",
       "      <th>tip</th>\n",
       "      <th>tolls</th>\n",
       "      <th>total</th>\n",
       "      <th>color</th>\n",
       "      <th>payment</th>\n",
       "      <th>pickup_zone</th>\n",
       "      <th>dropoff_zone</th>\n",
       "      <th>pickup_borough</th>\n",
       "      <th>dropoff_borough</th>\n",
       "    </tr>\n",
       "  </thead>\n",
       "  <tbody>\n",
       "    <tr>\n",
       "      <th>0</th>\n",
       "      <td>2019-03-23 20:21:09</td>\n",
       "      <td>2019-03-23 20:27:24</td>\n",
       "      <td>1</td>\n",
       "      <td>1.60</td>\n",
       "      <td>7.0</td>\n",
       "      <td>2.15</td>\n",
       "      <td>0.0</td>\n",
       "      <td>12.95</td>\n",
       "      <td>yellow</td>\n",
       "      <td>credit card</td>\n",
       "      <td>Lenox Hill West</td>\n",
       "      <td>UN/Turtle Bay South</td>\n",
       "      <td>Manhattan</td>\n",
       "      <td>Manhattan</td>\n",
       "    </tr>\n",
       "    <tr>\n",
       "      <th>1</th>\n",
       "      <td>2019-03-04 16:11:55</td>\n",
       "      <td>2019-03-04 16:19:00</td>\n",
       "      <td>1</td>\n",
       "      <td>0.79</td>\n",
       "      <td>5.0</td>\n",
       "      <td>0.00</td>\n",
       "      <td>0.0</td>\n",
       "      <td>9.30</td>\n",
       "      <td>yellow</td>\n",
       "      <td>cash</td>\n",
       "      <td>Upper West Side South</td>\n",
       "      <td>Upper West Side South</td>\n",
       "      <td>Manhattan</td>\n",
       "      <td>Manhattan</td>\n",
       "    </tr>\n",
       "    <tr>\n",
       "      <th>2</th>\n",
       "      <td>2019-03-27 17:53:01</td>\n",
       "      <td>2019-03-27 18:00:25</td>\n",
       "      <td>1</td>\n",
       "      <td>1.37</td>\n",
       "      <td>7.5</td>\n",
       "      <td>2.36</td>\n",
       "      <td>0.0</td>\n",
       "      <td>14.16</td>\n",
       "      <td>yellow</td>\n",
       "      <td>credit card</td>\n",
       "      <td>Alphabet City</td>\n",
       "      <td>West Village</td>\n",
       "      <td>Manhattan</td>\n",
       "      <td>Manhattan</td>\n",
       "    </tr>\n",
       "    <tr>\n",
       "      <th>3</th>\n",
       "      <td>2019-03-10 01:23:59</td>\n",
       "      <td>2019-03-10 01:49:51</td>\n",
       "      <td>1</td>\n",
       "      <td>7.70</td>\n",
       "      <td>27.0</td>\n",
       "      <td>6.15</td>\n",
       "      <td>0.0</td>\n",
       "      <td>36.95</td>\n",
       "      <td>yellow</td>\n",
       "      <td>credit card</td>\n",
       "      <td>Hudson Sq</td>\n",
       "      <td>Yorkville West</td>\n",
       "      <td>Manhattan</td>\n",
       "      <td>Manhattan</td>\n",
       "    </tr>\n",
       "    <tr>\n",
       "      <th>4</th>\n",
       "      <td>2019-03-30 13:27:42</td>\n",
       "      <td>2019-03-30 13:37:14</td>\n",
       "      <td>3</td>\n",
       "      <td>2.16</td>\n",
       "      <td>9.0</td>\n",
       "      <td>1.10</td>\n",
       "      <td>0.0</td>\n",
       "      <td>13.40</td>\n",
       "      <td>yellow</td>\n",
       "      <td>credit card</td>\n",
       "      <td>Midtown East</td>\n",
       "      <td>Yorkville West</td>\n",
       "      <td>Manhattan</td>\n",
       "      <td>Manhattan</td>\n",
       "    </tr>\n",
       "  </tbody>\n",
       "</table>\n",
       "</div>"
      ],
      "text/plain": [
       "                pickup              dropoff  passengers  distance  fare   tip  \\\n",
       "0  2019-03-23 20:21:09  2019-03-23 20:27:24           1      1.60   7.0  2.15   \n",
       "1  2019-03-04 16:11:55  2019-03-04 16:19:00           1      0.79   5.0  0.00   \n",
       "2  2019-03-27 17:53:01  2019-03-27 18:00:25           1      1.37   7.5  2.36   \n",
       "3  2019-03-10 01:23:59  2019-03-10 01:49:51           1      7.70  27.0  6.15   \n",
       "4  2019-03-30 13:27:42  2019-03-30 13:37:14           3      2.16   9.0  1.10   \n",
       "\n",
       "   tolls  total   color      payment            pickup_zone  \\\n",
       "0    0.0  12.95  yellow  credit card        Lenox Hill West   \n",
       "1    0.0   9.30  yellow         cash  Upper West Side South   \n",
       "2    0.0  14.16  yellow  credit card          Alphabet City   \n",
       "3    0.0  36.95  yellow  credit card              Hudson Sq   \n",
       "4    0.0  13.40  yellow  credit card           Midtown East   \n",
       "\n",
       "            dropoff_zone pickup_borough dropoff_borough  \n",
       "0    UN/Turtle Bay South      Manhattan       Manhattan  \n",
       "1  Upper West Side South      Manhattan       Manhattan  \n",
       "2           West Village      Manhattan       Manhattan  \n",
       "3         Yorkville West      Manhattan       Manhattan  \n",
       "4         Yorkville West      Manhattan       Manhattan  "
      ]
     },
     "execution_count": 2,
     "metadata": {},
     "output_type": "execute_result"
    }
   ],
   "source": [
    "taxi_df = sns.load_dataset('taxis')\n",
    "taxi_df.head()"
   ]
  },
  {
   "cell_type": "markdown",
   "metadata": {
    "id": "U8EnvKu4yqJy"
   },
   "source": [
    "We would like to find out how many taxi rides were performed each day so we:\n",
    "- parse the date string to a datetime format\n",
    "- set the date as index\n",
    "- resample to '1D' or one day (and chose count as aggregation)"
   ]
  },
  {
   "cell_type": "code",
   "execution_count": 3,
   "metadata": {
    "scrolled": true
   },
   "outputs": [
    {
     "data": {
      "text/html": [
       "<div>\n",
       "<style scoped>\n",
       "    .dataframe tbody tr th:only-of-type {\n",
       "        vertical-align: middle;\n",
       "    }\n",
       "\n",
       "    .dataframe tbody tr th {\n",
       "        vertical-align: top;\n",
       "    }\n",
       "\n",
       "    .dataframe thead th {\n",
       "        text-align: right;\n",
       "    }\n",
       "</style>\n",
       "<table border=\"1\" class=\"dataframe\">\n",
       "  <thead>\n",
       "    <tr style=\"text-align: right;\">\n",
       "      <th></th>\n",
       "      <th>passengers</th>\n",
       "      <th>distance</th>\n",
       "      <th>fare</th>\n",
       "      <th>tip</th>\n",
       "      <th>tolls</th>\n",
       "      <th>total</th>\n",
       "    </tr>\n",
       "    <tr>\n",
       "      <th>pickup</th>\n",
       "      <th></th>\n",
       "      <th></th>\n",
       "      <th></th>\n",
       "      <th></th>\n",
       "      <th></th>\n",
       "      <th></th>\n",
       "    </tr>\n",
       "  </thead>\n",
       "  <tbody>\n",
       "    <tr>\n",
       "      <th>2019-02-28</th>\n",
       "      <td>1</td>\n",
       "      <td>0.90</td>\n",
       "      <td>5.00</td>\n",
       "      <td>0.00</td>\n",
       "      <td>0.00</td>\n",
       "      <td>6.30</td>\n",
       "    </tr>\n",
       "    <tr>\n",
       "      <th>2019-03-01</th>\n",
       "      <td>370</td>\n",
       "      <td>640.29</td>\n",
       "      <td>2946.97</td>\n",
       "      <td>442.47</td>\n",
       "      <td>60.34</td>\n",
       "      <td>4213.83</td>\n",
       "    </tr>\n",
       "    <tr>\n",
       "      <th>2019-03-02</th>\n",
       "      <td>310</td>\n",
       "      <td>548.70</td>\n",
       "      <td>2358.00</td>\n",
       "      <td>333.97</td>\n",
       "      <td>28.80</td>\n",
       "      <td>3319.02</td>\n",
       "    </tr>\n",
       "    <tr>\n",
       "      <th>2019-03-03</th>\n",
       "      <td>264</td>\n",
       "      <td>554.04</td>\n",
       "      <td>2187.89</td>\n",
       "      <td>307.47</td>\n",
       "      <td>34.56</td>\n",
       "      <td>3027.32</td>\n",
       "    </tr>\n",
       "    <tr>\n",
       "      <th>2019-03-04</th>\n",
       "      <td>267</td>\n",
       "      <td>583.81</td>\n",
       "      <td>2335.74</td>\n",
       "      <td>334.98</td>\n",
       "      <td>63.36</td>\n",
       "      <td>3269.08</td>\n",
       "    </tr>\n",
       "    <tr>\n",
       "      <th>2019-03-05</th>\n",
       "      <td>382</td>\n",
       "      <td>716.63</td>\n",
       "      <td>3137.97</td>\n",
       "      <td>431.18</td>\n",
       "      <td>80.63</td>\n",
       "      <td>4377.38</td>\n",
       "    </tr>\n",
       "    <tr>\n",
       "      <th>2019-03-06</th>\n",
       "      <td>390</td>\n",
       "      <td>716.86</td>\n",
       "      <td>3269.70</td>\n",
       "      <td>529.36</td>\n",
       "      <td>86.40</td>\n",
       "      <td>4673.61</td>\n",
       "    </tr>\n",
       "    <tr>\n",
       "      <th>2019-03-07</th>\n",
       "      <td>331</td>\n",
       "      <td>637.01</td>\n",
       "      <td>2898.64</td>\n",
       "      <td>437.24</td>\n",
       "      <td>40.32</td>\n",
       "      <td>4115.70</td>\n",
       "    </tr>\n",
       "    <tr>\n",
       "      <th>2019-03-08</th>\n",
       "      <td>332</td>\n",
       "      <td>728.39</td>\n",
       "      <td>3168.50</td>\n",
       "      <td>481.58</td>\n",
       "      <td>103.68</td>\n",
       "      <td>4524.21</td>\n",
       "    </tr>\n",
       "    <tr>\n",
       "      <th>2019-03-09</th>\n",
       "      <td>325</td>\n",
       "      <td>662.99</td>\n",
       "      <td>2741.05</td>\n",
       "      <td>371.79</td>\n",
       "      <td>51.36</td>\n",
       "      <td>3785.80</td>\n",
       "    </tr>\n",
       "    <tr>\n",
       "      <th>2019-03-10</th>\n",
       "      <td>301</td>\n",
       "      <td>520.40</td>\n",
       "      <td>2270.42</td>\n",
       "      <td>336.16</td>\n",
       "      <td>63.36</td>\n",
       "      <td>3198.69</td>\n",
       "    </tr>\n",
       "    <tr>\n",
       "      <th>2019-03-11</th>\n",
       "      <td>316</td>\n",
       "      <td>659.87</td>\n",
       "      <td>2883.75</td>\n",
       "      <td>400.90</td>\n",
       "      <td>74.66</td>\n",
       "      <td>4021.26</td>\n",
       "    </tr>\n",
       "    <tr>\n",
       "      <th>2019-03-12</th>\n",
       "      <td>320</td>\n",
       "      <td>554.28</td>\n",
       "      <td>2676.09</td>\n",
       "      <td>445.93</td>\n",
       "      <td>58.58</td>\n",
       "      <td>3875.80</td>\n",
       "    </tr>\n",
       "    <tr>\n",
       "      <th>2019-03-13</th>\n",
       "      <td>355</td>\n",
       "      <td>813.19</td>\n",
       "      <td>3473.83</td>\n",
       "      <td>534.56</td>\n",
       "      <td>85.92</td>\n",
       "      <td>4868.06</td>\n",
       "    </tr>\n",
       "    <tr>\n",
       "      <th>2019-03-14</th>\n",
       "      <td>358</td>\n",
       "      <td>746.16</td>\n",
       "      <td>3352.39</td>\n",
       "      <td>507.38</td>\n",
       "      <td>54.48</td>\n",
       "      <td>4742.55</td>\n",
       "    </tr>\n",
       "    <tr>\n",
       "      <th>2019-03-15</th>\n",
       "      <td>299</td>\n",
       "      <td>664.88</td>\n",
       "      <td>2865.81</td>\n",
       "      <td>447.60</td>\n",
       "      <td>85.38</td>\n",
       "      <td>4030.29</td>\n",
       "    </tr>\n",
       "    <tr>\n",
       "      <th>2019-03-16</th>\n",
       "      <td>349</td>\n",
       "      <td>656.24</td>\n",
       "      <td>2775.28</td>\n",
       "      <td>396.46</td>\n",
       "      <td>51.84</td>\n",
       "      <td>3836.58</td>\n",
       "    </tr>\n",
       "    <tr>\n",
       "      <th>2019-03-17</th>\n",
       "      <td>278</td>\n",
       "      <td>624.25</td>\n",
       "      <td>2462.00</td>\n",
       "      <td>376.66</td>\n",
       "      <td>101.54</td>\n",
       "      <td>3469.50</td>\n",
       "    </tr>\n",
       "    <tr>\n",
       "      <th>2019-03-18</th>\n",
       "      <td>274</td>\n",
       "      <td>552.18</td>\n",
       "      <td>2252.00</td>\n",
       "      <td>384.25</td>\n",
       "      <td>74.88</td>\n",
       "      <td>3258.78</td>\n",
       "    </tr>\n",
       "    <tr>\n",
       "      <th>2019-03-19</th>\n",
       "      <td>292</td>\n",
       "      <td>660.39</td>\n",
       "      <td>2876.50</td>\n",
       "      <td>390.71</td>\n",
       "      <td>61.86</td>\n",
       "      <td>3963.92</td>\n",
       "    </tr>\n",
       "    <tr>\n",
       "      <th>2019-03-20</th>\n",
       "      <td>382</td>\n",
       "      <td>771.03</td>\n",
       "      <td>3232.18</td>\n",
       "      <td>466.81</td>\n",
       "      <td>92.16</td>\n",
       "      <td>4522.95</td>\n",
       "    </tr>\n",
       "    <tr>\n",
       "      <th>2019-03-21</th>\n",
       "      <td>320</td>\n",
       "      <td>723.31</td>\n",
       "      <td>3023.28</td>\n",
       "      <td>517.20</td>\n",
       "      <td>91.15</td>\n",
       "      <td>4355.08</td>\n",
       "    </tr>\n",
       "    <tr>\n",
       "      <th>2019-03-22</th>\n",
       "      <td>348</td>\n",
       "      <td>663.05</td>\n",
       "      <td>3008.64</td>\n",
       "      <td>426.04</td>\n",
       "      <td>95.78</td>\n",
       "      <td>4245.36</td>\n",
       "    </tr>\n",
       "    <tr>\n",
       "      <th>2019-03-23</th>\n",
       "      <td>340</td>\n",
       "      <td>511.42</td>\n",
       "      <td>2388.43</td>\n",
       "      <td>308.45</td>\n",
       "      <td>40.10</td>\n",
       "      <td>3355.98</td>\n",
       "    </tr>\n",
       "    <tr>\n",
       "      <th>2019-03-24</th>\n",
       "      <td>252</td>\n",
       "      <td>433.91</td>\n",
       "      <td>1823.72</td>\n",
       "      <td>290.64</td>\n",
       "      <td>57.60</td>\n",
       "      <td>2616.81</td>\n",
       "    </tr>\n",
       "    <tr>\n",
       "      <th>2019-03-25</th>\n",
       "      <td>234</td>\n",
       "      <td>495.71</td>\n",
       "      <td>2000.59</td>\n",
       "      <td>315.21</td>\n",
       "      <td>57.60</td>\n",
       "      <td>2877.55</td>\n",
       "    </tr>\n",
       "    <tr>\n",
       "      <th>2019-03-26</th>\n",
       "      <td>266</td>\n",
       "      <td>545.43</td>\n",
       "      <td>2305.28</td>\n",
       "      <td>383.31</td>\n",
       "      <td>92.16</td>\n",
       "      <td>3366.20</td>\n",
       "    </tr>\n",
       "    <tr>\n",
       "      <th>2019-03-27</th>\n",
       "      <td>352</td>\n",
       "      <td>737.95</td>\n",
       "      <td>3115.64</td>\n",
       "      <td>485.63</td>\n",
       "      <td>86.40</td>\n",
       "      <td>4417.17</td>\n",
       "    </tr>\n",
       "    <tr>\n",
       "      <th>2019-03-28</th>\n",
       "      <td>327</td>\n",
       "      <td>612.94</td>\n",
       "      <td>2757.57</td>\n",
       "      <td>404.45</td>\n",
       "      <td>69.12</td>\n",
       "      <td>3886.44</td>\n",
       "    </tr>\n",
       "    <tr>\n",
       "      <th>2019-03-29</th>\n",
       "      <td>312</td>\n",
       "      <td>556.73</td>\n",
       "      <td>2642.98</td>\n",
       "      <td>410.13</td>\n",
       "      <td>34.56</td>\n",
       "      <td>3790.52</td>\n",
       "    </tr>\n",
       "    <tr>\n",
       "      <th>2019-03-30</th>\n",
       "      <td>359</td>\n",
       "      <td>668.10</td>\n",
       "      <td>2798.60</td>\n",
       "      <td>487.97</td>\n",
       "      <td>78.62</td>\n",
       "      <td>4004.39</td>\n",
       "    </tr>\n",
       "    <tr>\n",
       "      <th>2019-03-31</th>\n",
       "      <td>296</td>\n",
       "      <td>496.32</td>\n",
       "      <td>2180.43</td>\n",
       "      <td>345.83</td>\n",
       "      <td>35.28</td>\n",
       "      <td>3108.84</td>\n",
       "    </tr>\n",
       "  </tbody>\n",
       "</table>\n",
       "</div>"
      ],
      "text/plain": [
       "            passengers  distance     fare     tip   tolls    total\n",
       "pickup                                                            \n",
       "2019-02-28           1      0.90     5.00    0.00    0.00     6.30\n",
       "2019-03-01         370    640.29  2946.97  442.47   60.34  4213.83\n",
       "2019-03-02         310    548.70  2358.00  333.97   28.80  3319.02\n",
       "2019-03-03         264    554.04  2187.89  307.47   34.56  3027.32\n",
       "2019-03-04         267    583.81  2335.74  334.98   63.36  3269.08\n",
       "2019-03-05         382    716.63  3137.97  431.18   80.63  4377.38\n",
       "2019-03-06         390    716.86  3269.70  529.36   86.40  4673.61\n",
       "2019-03-07         331    637.01  2898.64  437.24   40.32  4115.70\n",
       "2019-03-08         332    728.39  3168.50  481.58  103.68  4524.21\n",
       "2019-03-09         325    662.99  2741.05  371.79   51.36  3785.80\n",
       "2019-03-10         301    520.40  2270.42  336.16   63.36  3198.69\n",
       "2019-03-11         316    659.87  2883.75  400.90   74.66  4021.26\n",
       "2019-03-12         320    554.28  2676.09  445.93   58.58  3875.80\n",
       "2019-03-13         355    813.19  3473.83  534.56   85.92  4868.06\n",
       "2019-03-14         358    746.16  3352.39  507.38   54.48  4742.55\n",
       "2019-03-15         299    664.88  2865.81  447.60   85.38  4030.29\n",
       "2019-03-16         349    656.24  2775.28  396.46   51.84  3836.58\n",
       "2019-03-17         278    624.25  2462.00  376.66  101.54  3469.50\n",
       "2019-03-18         274    552.18  2252.00  384.25   74.88  3258.78\n",
       "2019-03-19         292    660.39  2876.50  390.71   61.86  3963.92\n",
       "2019-03-20         382    771.03  3232.18  466.81   92.16  4522.95\n",
       "2019-03-21         320    723.31  3023.28  517.20   91.15  4355.08\n",
       "2019-03-22         348    663.05  3008.64  426.04   95.78  4245.36\n",
       "2019-03-23         340    511.42  2388.43  308.45   40.10  3355.98\n",
       "2019-03-24         252    433.91  1823.72  290.64   57.60  2616.81\n",
       "2019-03-25         234    495.71  2000.59  315.21   57.60  2877.55\n",
       "2019-03-26         266    545.43  2305.28  383.31   92.16  3366.20\n",
       "2019-03-27         352    737.95  3115.64  485.63   86.40  4417.17\n",
       "2019-03-28         327    612.94  2757.57  404.45   69.12  3886.44\n",
       "2019-03-29         312    556.73  2642.98  410.13   34.56  3790.52\n",
       "2019-03-30         359    668.10  2798.60  487.97   78.62  4004.39\n",
       "2019-03-31         296    496.32  2180.43  345.83   35.28  3108.84"
      ]
     },
     "execution_count": 3,
     "metadata": {},
     "output_type": "execute_result"
    }
   ],
   "source": [
    "taxi_df.pickup = pd.to_datetime(taxi_df.pickup)\n",
    "taxi_df = taxi_df.set_index('pickup')"
   ]
  },
  {
   "cell_type": "code",
   "execution_count": 5,
   "metadata": {},
   "outputs": [
    {
     "data": {
      "text/html": [
       "<div>\n",
       "<style scoped>\n",
       "    .dataframe tbody tr th:only-of-type {\n",
       "        vertical-align: middle;\n",
       "    }\n",
       "\n",
       "    .dataframe tbody tr th {\n",
       "        vertical-align: top;\n",
       "    }\n",
       "\n",
       "    .dataframe thead th {\n",
       "        text-align: right;\n",
       "    }\n",
       "</style>\n",
       "<table border=\"1\" class=\"dataframe\">\n",
       "  <thead>\n",
       "    <tr style=\"text-align: right;\">\n",
       "      <th></th>\n",
       "      <th>passengers</th>\n",
       "      <th>distance</th>\n",
       "      <th>fare</th>\n",
       "      <th>tip</th>\n",
       "      <th>tolls</th>\n",
       "      <th>total</th>\n",
       "    </tr>\n",
       "    <tr>\n",
       "      <th>pickup</th>\n",
       "      <th></th>\n",
       "      <th></th>\n",
       "      <th></th>\n",
       "      <th></th>\n",
       "      <th></th>\n",
       "      <th></th>\n",
       "    </tr>\n",
       "  </thead>\n",
       "  <tbody>\n",
       "    <tr>\n",
       "      <th>2019-02-28</th>\n",
       "      <td>1</td>\n",
       "      <td>0.90</td>\n",
       "      <td>5.00</td>\n",
       "      <td>0.00</td>\n",
       "      <td>0.00</td>\n",
       "      <td>6.30</td>\n",
       "    </tr>\n",
       "    <tr>\n",
       "      <th>2019-03-01</th>\n",
       "      <td>370</td>\n",
       "      <td>640.29</td>\n",
       "      <td>2946.97</td>\n",
       "      <td>442.47</td>\n",
       "      <td>60.34</td>\n",
       "      <td>4213.83</td>\n",
       "    </tr>\n",
       "    <tr>\n",
       "      <th>2019-03-02</th>\n",
       "      <td>310</td>\n",
       "      <td>548.70</td>\n",
       "      <td>2358.00</td>\n",
       "      <td>333.97</td>\n",
       "      <td>28.80</td>\n",
       "      <td>3319.02</td>\n",
       "    </tr>\n",
       "    <tr>\n",
       "      <th>2019-03-03</th>\n",
       "      <td>264</td>\n",
       "      <td>554.04</td>\n",
       "      <td>2187.89</td>\n",
       "      <td>307.47</td>\n",
       "      <td>34.56</td>\n",
       "      <td>3027.32</td>\n",
       "    </tr>\n",
       "    <tr>\n",
       "      <th>2019-03-04</th>\n",
       "      <td>267</td>\n",
       "      <td>583.81</td>\n",
       "      <td>2335.74</td>\n",
       "      <td>334.98</td>\n",
       "      <td>63.36</td>\n",
       "      <td>3269.08</td>\n",
       "    </tr>\n",
       "  </tbody>\n",
       "</table>\n",
       "</div>"
      ],
      "text/plain": [
       "            passengers  distance     fare     tip  tolls    total\n",
       "pickup                                                           \n",
       "2019-02-28           1      0.90     5.00    0.00   0.00     6.30\n",
       "2019-03-01         370    640.29  2946.97  442.47  60.34  4213.83\n",
       "2019-03-02         310    548.70  2358.00  333.97  28.80  3319.02\n",
       "2019-03-03         264    554.04  2187.89  307.47  34.56  3027.32\n",
       "2019-03-04         267    583.81  2335.74  334.98  63.36  3269.08"
      ]
     },
     "execution_count": 5,
     "metadata": {},
     "output_type": "execute_result"
    }
   ],
   "source": [
    "taxi_sum_df = taxi_df.resample('D').sum()\n",
    "taxi_sum_df.head()"
   ]
  },
  {
   "cell_type": "markdown",
   "metadata": {
    "id": "B7GphgIPzBpC"
   },
   "source": [
    "great! now we have an idea on how many ubers were taken each day, let us use a simple line plot to show the results."
   ]
  },
  {
   "cell_type": "code",
   "execution_count": 7,
   "metadata": {
    "colab": {
     "base_uri": "https://localhost:8080/",
     "height": 296
    },
    "executionInfo": {
     "elapsed": 901,
     "status": "ok",
     "timestamp": 1603380961852,
     "user": {
      "displayName": "Lorenz Feyen",
      "photoUrl": "",
      "userId": "13474410138118598994"
     },
     "user_tz": -120
    },
    "id": "emitqdYbiraf",
    "outputId": "e1307641-bf37-4193-a2d4-ff9af9ca4d06"
   },
   "outputs": [
    {
     "data": {
      "text/plain": [
       "<matplotlib.axes._subplots.AxesSubplot at 0x7f73dc16b4c0>"
      ]
     },
     "execution_count": 7,
     "metadata": {},
     "output_type": "execute_result"
    },
    {
     "data": {
      "image/png": "[encoded data removed]",
      "text/plain": [
       "<Figure size 1152x864 with 1 Axes>"
      ]
     },
     "metadata": {},
     "output_type": "display_data"
    }
   ],
   "source": [
    "sns.lineplot(data=taxi_sum_df.passengers[1:])"
   ]
  },
  {
   "cell_type": "markdown",
   "metadata": {
    "id": "bxeR1pqRzJc2"
   },
   "source": [
    "This dataset is nice, but we want to know which factors might influence the taxi habits of NYC.\n",
    "What we could do is add weather information to it.\n",
    "\n",
    "We found a dataset online of the wether in and around central park, which should be relevant to NYC."
   ]
  },
  {
   "cell_type": "code",
   "execution_count": 15,
   "metadata": {
    "executionInfo": {
     "elapsed": 1287,
     "status": "ok",
     "timestamp": 1603381022929,
     "user": {
      "displayName": "Lorenz Feyen",
      "photoUrl": "",
      "userId": "13474410138118598994"
     },
     "user_tz": -120
    },
    "id": "kINOvGTrjLND"
   },
   "outputs": [
    {
     "data": {
      "text/html": [
       "<div>\n",
       "<style scoped>\n",
       "    .dataframe tbody tr th:only-of-type {\n",
       "        vertical-align: middle;\n",
       "    }\n",
       "\n",
       "    .dataframe tbody tr th {\n",
       "        vertical-align: top;\n",
       "    }\n",
       "\n",
       "    .dataframe thead th {\n",
       "        text-align: right;\n",
       "    }\n",
       "</style>\n",
       "<table border=\"1\" class=\"dataframe\">\n",
       "  <thead>\n",
       "    <tr style=\"text-align: right;\">\n",
       "      <th></th>\n",
       "      <th>STATION</th>\n",
       "      <th>NAME</th>\n",
       "      <th>DATE</th>\n",
       "      <th>AWND</th>\n",
       "      <th>PRCP</th>\n",
       "      <th>SNOW</th>\n",
       "      <th>SNWD</th>\n",
       "      <th>TMAX</th>\n",
       "      <th>TMIN</th>\n",
       "    </tr>\n",
       "  </thead>\n",
       "  <tbody>\n",
       "    <tr>\n",
       "      <th>0</th>\n",
       "      <td>USW00094728</td>\n",
       "      <td>NY CITY CENTRAL PARK, NY US</td>\n",
       "      <td>2009-01-01</td>\n",
       "      <td>11.18</td>\n",
       "      <td>0.0</td>\n",
       "      <td>0.0</td>\n",
       "      <td>0.0</td>\n",
       "      <td>26</td>\n",
       "      <td>15</td>\n",
       "    </tr>\n",
       "    <tr>\n",
       "      <th>1</th>\n",
       "      <td>USW00094728</td>\n",
       "      <td>NY CITY CENTRAL PARK, NY US</td>\n",
       "      <td>2009-01-02</td>\n",
       "      <td>6.26</td>\n",
       "      <td>0.0</td>\n",
       "      <td>0.0</td>\n",
       "      <td>0.0</td>\n",
       "      <td>34</td>\n",
       "      <td>23</td>\n",
       "    </tr>\n",
       "    <tr>\n",
       "      <th>2</th>\n",
       "      <td>USW00094728</td>\n",
       "      <td>NY CITY CENTRAL PARK, NY US</td>\n",
       "      <td>2009-01-03</td>\n",
       "      <td>10.07</td>\n",
       "      <td>0.0</td>\n",
       "      <td>0.0</td>\n",
       "      <td>0.0</td>\n",
       "      <td>38</td>\n",
       "      <td>29</td>\n",
       "    </tr>\n",
       "    <tr>\n",
       "      <th>3</th>\n",
       "      <td>USW00094728</td>\n",
       "      <td>NY CITY CENTRAL PARK, NY US</td>\n",
       "      <td>2009-01-04</td>\n",
       "      <td>7.61</td>\n",
       "      <td>0.0</td>\n",
       "      <td>0.0</td>\n",
       "      <td>0.0</td>\n",
       "      <td>42</td>\n",
       "      <td>25</td>\n",
       "    </tr>\n",
       "    <tr>\n",
       "      <th>4</th>\n",
       "      <td>USW00094728</td>\n",
       "      <td>NY CITY CENTRAL PARK, NY US</td>\n",
       "      <td>2009-01-05</td>\n",
       "      <td>6.93</td>\n",
       "      <td>0.0</td>\n",
       "      <td>0.0</td>\n",
       "      <td>0.0</td>\n",
       "      <td>43</td>\n",
       "      <td>38</td>\n",
       "    </tr>\n",
       "  </tbody>\n",
       "</table>\n",
       "</div>"
      ],
      "text/plain": [
       "       STATION                         NAME        DATE   AWND  PRCP  SNOW  \\\n",
       "0  USW00094728  NY CITY CENTRAL PARK, NY US  2009-01-01  11.18   0.0   0.0   \n",
       "1  USW00094728  NY CITY CENTRAL PARK, NY US  2009-01-02   6.26   0.0   0.0   \n",
       "2  USW00094728  NY CITY CENTRAL PARK, NY US  2009-01-03  10.07   0.0   0.0   \n",
       "3  USW00094728  NY CITY CENTRAL PARK, NY US  2009-01-04   7.61   0.0   0.0   \n",
       "4  USW00094728  NY CITY CENTRAL PARK, NY US  2009-01-05   6.93   0.0   0.0   \n",
       "\n",
       "   SNWD  TMAX  TMIN  \n",
       "0   0.0    26    15  \n",
       "1   0.0    34    23  \n",
       "2   0.0    38    29  \n",
       "3   0.0    42    25  \n",
       "4   0.0    43    38  "
      ]
     },
     "execution_count": 15,
     "metadata": {},
     "output_type": "execute_result"
    }
   ],
   "source": [
    "weather_df = pd.read_csv('https://raw.githubusercontent.com/toddwschneider/nyc-taxi-data/master/data/central_park_weather.csv')\n",
    "weather_df.head()"
   ]
  },
  {
   "cell_type": "markdown",
   "metadata": {
    "id": "SIl7MVm0tIND"
   },
   "source": [
    "you can see a variaty of information, more info on the column names can be found [here](https://docs.opendata.aws/noaa-ghcn-pds/readme.html)  \n",
    "again we need to:\n",
    "- parse the date\n",
    "- set it to the index and drop useless columns\n",
    "- resampling is not needed as it is already in day-to-day intervals\n"
   ]
  },
  {
   "cell_type": "code",
   "execution_count": 16,
   "metadata": {
    "executionInfo": {
     "elapsed": 757,
     "status": "ok",
     "timestamp": 1603381083101,
     "user": {
      "displayName": "Lorenz Feyen",
      "photoUrl": "",
      "userId": "13474410138118598994"
     },
     "user_tz": -120
    },
    "id": "4kVRIaO4pgJy"
   },
   "outputs": [
    {
     "data": {
      "text/html": [
       "<div>\n",
       "<style scoped>\n",
       "    .dataframe tbody tr th:only-of-type {\n",
       "        vertical-align: middle;\n",
       "    }\n",
       "\n",
       "    .dataframe tbody tr th {\n",
       "        vertical-align: top;\n",
       "    }\n",
       "\n",
       "    .dataframe thead th {\n",
       "        text-align: right;\n",
       "    }\n",
       "</style>\n",
       "<table border=\"1\" class=\"dataframe\">\n",
       "  <thead>\n",
       "    <tr style=\"text-align: right;\">\n",
       "      <th></th>\n",
       "      <th>AWND</th>\n",
       "      <th>PRCP</th>\n",
       "      <th>SNOW</th>\n",
       "      <th>SNWD</th>\n",
       "      <th>TMAX</th>\n",
       "      <th>TMIN</th>\n",
       "    </tr>\n",
       "    <tr>\n",
       "      <th>DATE</th>\n",
       "      <th></th>\n",
       "      <th></th>\n",
       "      <th></th>\n",
       "      <th></th>\n",
       "      <th></th>\n",
       "      <th></th>\n",
       "    </tr>\n",
       "  </thead>\n",
       "  <tbody>\n",
       "    <tr>\n",
       "      <th>2009-01-01</th>\n",
       "      <td>11.18</td>\n",
       "      <td>0.0</td>\n",
       "      <td>0.0</td>\n",
       "      <td>0.0</td>\n",
       "      <td>26</td>\n",
       "      <td>15</td>\n",
       "    </tr>\n",
       "    <tr>\n",
       "      <th>2009-01-02</th>\n",
       "      <td>6.26</td>\n",
       "      <td>0.0</td>\n",
       "      <td>0.0</td>\n",
       "      <td>0.0</td>\n",
       "      <td>34</td>\n",
       "      <td>23</td>\n",
       "    </tr>\n",
       "    <tr>\n",
       "      <th>2009-01-03</th>\n",
       "      <td>10.07</td>\n",
       "      <td>0.0</td>\n",
       "      <td>0.0</td>\n",
       "      <td>0.0</td>\n",
       "      <td>38</td>\n",
       "      <td>29</td>\n",
       "    </tr>\n",
       "    <tr>\n",
       "      <th>2009-01-04</th>\n",
       "      <td>7.61</td>\n",
       "      <td>0.0</td>\n",
       "      <td>0.0</td>\n",
       "      <td>0.0</td>\n",
       "      <td>42</td>\n",
       "      <td>25</td>\n",
       "    </tr>\n",
       "    <tr>\n",
       "      <th>2009-01-05</th>\n",
       "      <td>6.93</td>\n",
       "      <td>0.0</td>\n",
       "      <td>0.0</td>\n",
       "      <td>0.0</td>\n",
       "      <td>43</td>\n",
       "      <td>38</td>\n",
       "    </tr>\n",
       "  </tbody>\n",
       "</table>\n",
       "</div>"
      ],
      "text/plain": [
       "             AWND  PRCP  SNOW  SNWD  TMAX  TMIN\n",
       "DATE                                           \n",
       "2009-01-01  11.18   0.0   0.0   0.0    26    15\n",
       "2009-01-02   6.26   0.0   0.0   0.0    34    23\n",
       "2009-01-03  10.07   0.0   0.0   0.0    38    29\n",
       "2009-01-04   7.61   0.0   0.0   0.0    42    25\n",
       "2009-01-05   6.93   0.0   0.0   0.0    43    38"
      ]
     },
     "execution_count": 16,
     "metadata": {},
     "output_type": "execute_result"
    }
   ],
   "source": [
    "weather_df.DATE =  pd.to_datetime(weather_df.DATE)\n",
    "weather_df = weather_df.set_index('DATE').drop(columns=['STATION', 'NAME'])\n",
    "weather_df.head()"
   ]
  },
  {
   "cell_type": "markdown",
   "metadata": {
    "id": "yQiYZOMLzmqu"
   },
   "source": [
    "Having 2 dataset, now we need to merge them. Since we already prepared the date as index, this should be easy."
   ]
  },
  {
   "cell_type": "code",
   "execution_count": 21,
   "metadata": {
    "executionInfo": {
     "elapsed": 805,
     "status": "ok",
     "timestamp": 1603381111749,
     "user": {
      "displayName": "Lorenz Feyen",
      "photoUrl": "",
      "userId": "13474410138118598994"
     },
     "user_tz": -120
    },
    "id": "3G9ZlkEvpuLC"
   },
   "outputs": [
    {
     "data": {
      "text/html": [
       "<div>\n",
       "<style scoped>\n",
       "    .dataframe tbody tr th:only-of-type {\n",
       "        vertical-align: middle;\n",
       "    }\n",
       "\n",
       "    .dataframe tbody tr th {\n",
       "        vertical-align: top;\n",
       "    }\n",
       "\n",
       "    .dataframe thead th {\n",
       "        text-align: right;\n",
       "    }\n",
       "</style>\n",
       "<table border=\"1\" class=\"dataframe\">\n",
       "  <thead>\n",
       "    <tr style=\"text-align: right;\">\n",
       "      <th></th>\n",
       "      <th>passengers</th>\n",
       "      <th>distance</th>\n",
       "      <th>fare</th>\n",
       "      <th>tip</th>\n",
       "      <th>tolls</th>\n",
       "      <th>total</th>\n",
       "      <th>AWND</th>\n",
       "      <th>PRCP</th>\n",
       "      <th>SNOW</th>\n",
       "      <th>SNWD</th>\n",
       "      <th>TMAX</th>\n",
       "      <th>TMIN</th>\n",
       "    </tr>\n",
       "    <tr>\n",
       "      <th>pickup</th>\n",
       "      <th></th>\n",
       "      <th></th>\n",
       "      <th></th>\n",
       "      <th></th>\n",
       "      <th></th>\n",
       "      <th></th>\n",
       "      <th></th>\n",
       "      <th></th>\n",
       "      <th></th>\n",
       "      <th></th>\n",
       "      <th></th>\n",
       "      <th></th>\n",
       "    </tr>\n",
       "  </thead>\n",
       "  <tbody>\n",
       "    <tr>\n",
       "      <th>2019-02-28</th>\n",
       "      <td>1</td>\n",
       "      <td>0.90</td>\n",
       "      <td>5.00</td>\n",
       "      <td>0.00</td>\n",
       "      <td>0.00</td>\n",
       "      <td>6.30</td>\n",
       "      <td>NaN</td>\n",
       "      <td>0.03</td>\n",
       "      <td>0.1</td>\n",
       "      <td>0.0</td>\n",
       "      <td>37</td>\n",
       "      <td>27</td>\n",
       "    </tr>\n",
       "    <tr>\n",
       "      <th>2019-03-01</th>\n",
       "      <td>370</td>\n",
       "      <td>640.29</td>\n",
       "      <td>2946.97</td>\n",
       "      <td>442.47</td>\n",
       "      <td>60.34</td>\n",
       "      <td>4213.83</td>\n",
       "      <td>NaN</td>\n",
       "      <td>0.11</td>\n",
       "      <td>1.4</td>\n",
       "      <td>1.2</td>\n",
       "      <td>35</td>\n",
       "      <td>26</td>\n",
       "    </tr>\n",
       "    <tr>\n",
       "      <th>2019-03-02</th>\n",
       "      <td>310</td>\n",
       "      <td>548.70</td>\n",
       "      <td>2358.00</td>\n",
       "      <td>333.97</td>\n",
       "      <td>28.80</td>\n",
       "      <td>3319.02</td>\n",
       "      <td>NaN</td>\n",
       "      <td>0.53</td>\n",
       "      <td>4.0</td>\n",
       "      <td>3.9</td>\n",
       "      <td>41</td>\n",
       "      <td>31</td>\n",
       "    </tr>\n",
       "    <tr>\n",
       "      <th>2019-03-03</th>\n",
       "      <td>264</td>\n",
       "      <td>554.04</td>\n",
       "      <td>2187.89</td>\n",
       "      <td>307.47</td>\n",
       "      <td>34.56</td>\n",
       "      <td>3027.32</td>\n",
       "      <td>NaN</td>\n",
       "      <td>0.52</td>\n",
       "      <td>3.0</td>\n",
       "      <td>1.2</td>\n",
       "      <td>42</td>\n",
       "      <td>33</td>\n",
       "    </tr>\n",
       "    <tr>\n",
       "      <th>2019-03-04</th>\n",
       "      <td>267</td>\n",
       "      <td>583.81</td>\n",
       "      <td>2335.74</td>\n",
       "      <td>334.98</td>\n",
       "      <td>63.36</td>\n",
       "      <td>3269.08</td>\n",
       "      <td>NaN</td>\n",
       "      <td>0.29</td>\n",
       "      <td>2.0</td>\n",
       "      <td>3.9</td>\n",
       "      <td>38</td>\n",
       "      <td>28</td>\n",
       "    </tr>\n",
       "  </tbody>\n",
       "</table>\n",
       "</div>"
      ],
      "text/plain": [
       "            passengers  distance     fare     tip  tolls    total  AWND  PRCP  \\\n",
       "pickup                                                                          \n",
       "2019-02-28           1      0.90     5.00    0.00   0.00     6.30   NaN  0.03   \n",
       "2019-03-01         370    640.29  2946.97  442.47  60.34  4213.83   NaN  0.11   \n",
       "2019-03-02         310    548.70  2358.00  333.97  28.80  3319.02   NaN  0.53   \n",
       "2019-03-03         264    554.04  2187.89  307.47  34.56  3027.32   NaN  0.52   \n",
       "2019-03-04         267    583.81  2335.74  334.98  63.36  3269.08   NaN  0.29   \n",
       "\n",
       "            SNOW  SNWD  TMAX  TMIN  \n",
       "pickup                              \n",
       "2019-02-28   0.1   0.0    37    27  \n",
       "2019-03-01   1.4   1.2    35    26  \n",
       "2019-03-02   4.0   3.9    41    31  \n",
       "2019-03-03   3.0   1.2    42    33  \n",
       "2019-03-04   2.0   3.9    38    28  "
      ]
     },
     "execution_count": 21,
     "metadata": {},
     "output_type": "execute_result"
    }
   ],
   "source": [
    "merged_df = pd.merge(taxi_sum_df, weather_df, left_index=True, right_index=True, how='left')\n",
    "merged_df.head()"
   ]
  },
  {
   "cell_type": "code",
   "execution_count": null,
   "metadata": {
    "colab": {
     "base_uri": "https://localhost:8080/",
     "height": 203
    },
    "executionInfo": {
     "elapsed": 895,
     "status": "ok",
     "timestamp": 1603381113642,
     "user": {
      "displayName": "Lorenz Feyen",
      "photoUrl": "",
      "userId": "13474410138118598994"
     },
     "user_tz": -120
    },
    "id": "zs10wC9nsf61",
    "outputId": "209de222-7a70-4fa2-b942-64c61fcf2bf0"
   },
   "outputs": [],
   "source": [
    "merged_df.head()"
   ]
  },
  {
   "cell_type": "markdown",
   "metadata": {
    "id": "nTiDKzFJzuzG"
   },
   "source": [
    "One would assume that when it is a rainy day, people would use more cabs. so let us seperate based on precipitation."
   ]
  },
  {
   "cell_type": "code",
   "execution_count": 22,
   "metadata": {
    "executionInfo": {
     "elapsed": 691,
     "status": "ok",
     "timestamp": 1603381186690,
     "user": {
      "displayName": "Lorenz Feyen",
      "photoUrl": "",
      "userId": "13474410138118598994"
     },
     "user_tz": -120
    },
    "id": "52pef4kXvTk1"
   },
   "outputs": [],
   "source": [
    "rained = merged_df[merged_df['PRCP']>0]\n",
    "no_rain = merged_df[merged_df['PRCP']==0]"
   ]
  },
  {
   "cell_type": "code",
   "execution_count": 24,
   "metadata": {
    "colab": {
     "base_uri": "https://localhost:8080/",
     "height": 87
    },
    "executionInfo": {
     "elapsed": 794,
     "status": "ok",
     "timestamp": 1603381216011,
     "user": {
      "displayName": "Lorenz Feyen",
      "photoUrl": "",
      "userId": "13474410138118598994"
     },
     "user_tz": -120
    },
    "id": "lgRDfTWZvfNB",
    "outputId": "ef975800-5fb6-4d74-a452-877f1e1d6cfa"
   },
   "outputs": [
    {
     "name": "stdout",
     "output_type": "stream",
     "text": [
      "average passengers on a rainy day\n",
      "277.6\n",
      "average passengers on a dry day\n",
      "323.90909090909093\n"
     ]
    }
   ],
   "source": [
    "print('average passengers on a rainy day')\n",
    "print(rained['passengers'].mean())\n",
    "print('average passengers on a dry day')\n",
    "print(no_rain['passengers'].mean())"
   ]
  },
  {
   "cell_type": "code",
   "execution_count": 26,
   "metadata": {},
   "outputs": [
    {
     "data": {
      "text/plain": [
       "(22, 12)"
      ]
     },
     "execution_count": 26,
     "metadata": {},
     "output_type": "execute_result"
    }
   ],
   "source": [
    "no_rain.shape"
   ]
  },
  {
   "cell_type": "markdown",
   "metadata": {
    "id": "qJAGCItTv9lj"
   },
   "source": [
    "ouch! it looks like the average new yorker doesn't mind getting wet, or they take a cab any day...  \n",
    "using a regression plot we can see it more clear"
   ]
  },
  {
   "cell_type": "code",
   "execution_count": 27,
   "metadata": {
    "colab": {
     "base_uri": "https://localhost:8080/",
     "height": 296
    },
    "executionInfo": {
     "elapsed": 839,
     "status": "ok",
     "timestamp": 1603381252197,
     "user": {
      "displayName": "Lorenz Feyen",
      "photoUrl": "",
      "userId": "13474410138118598994"
     },
     "user_tz": -120
    },
    "id": "OEYcbxpWsuNi",
    "outputId": "61ae5d39-67d0-4ed0-e6a5-d61004a51713"
   },
   "outputs": [
    {
     "data": {
      "text/plain": [
       "<matplotlib.axes._subplots.AxesSubplot at 0x7f73d318cd60>"
      ]
     },
     "execution_count": 27,
     "metadata": {},
     "output_type": "execute_result"
    },
    {
     "data": {
      "image/png": "[encoded data removed]",
      "text/plain": [
       "<Figure size 1152x864 with 1 Axes>"
      ]
     },
     "metadata": {},
     "output_type": "display_data"
    }
   ],
   "source": [
    "sns.regplot(data=merged_df, x='PRCP', y='passengers')"
   ]
  },
  {
   "cell_type": "markdown",
   "metadata": {
    "id": "srRDaY7qwJtE"
   },
   "source": [
    "Ok, here we see that it might just be because a lot of days are dry and the dataset is skewed. Not reliable info.  \n",
    "What about temperatures, can we see a difference if the lowest temperature changes?"
   ]
  },
  {
   "cell_type": "code",
   "execution_count": 30,
   "metadata": {
    "colab": {
     "base_uri": "https://localhost:8080/",
     "height": 296
    },
    "executionInfo": {
     "elapsed": 1543,
     "status": "ok",
     "timestamp": 1603381320291,
     "user": {
      "displayName": "Lorenz Feyen",
      "photoUrl": "",
      "userId": "13474410138118598994"
     },
     "user_tz": -120
    },
    "id": "JKDi-1N2vEsZ",
    "outputId": "7e30ea65-7778-4fab-e6c9-6dc857f23128"
   },
   "outputs": [
    {
     "data": {
      "text/plain": [
       "<matplotlib.axes._subplots.AxesSubplot at 0x7f73d2a13580>"
      ]
     },
     "execution_count": 30,
     "metadata": {},
     "output_type": "execute_result"
    },
    {
     "data": {
      "image/png": "[encoded data removed]",
      "text/plain": [
       "<Figure size 1152x864 with 1 Axes>"
      ]
     },
     "metadata": {},
     "output_type": "display_data"
    }
   ],
   "source": [
    "sns.regplot(data=merged_df, x='SNWD', y='passengers')"
   ]
  },
  {
   "cell_type": "markdown",
   "metadata": {
    "id": "T2xAvWCrwUqM"
   },
   "source": [
    "Appearantly when the temperature lowers, yorkers seem to be taking more cab rides. So global warming might be disastrous for capitalism after all?"
   ]
  }
 ],
 "metadata": {
  "colab": {
   "authorship_tag": "ABX9TyNERgRnYs3rbWTe95WQvTSE",
   "collapsed_sections": [],
   "name": "03.extra-New-Data-Sources.ipynb",
   "provenance": []
  },
  "kernelspec": {
   "display_name": "Python 3 (ipykernel)",
   "language": "python",
   "name": "python3"
  },
  "language_info": {
   "codemirror_mode": {
    "name": "ipython",
    "version": 3
   },
   "file_extension": ".py",
   "mimetype": "text/x-python",
   "name": "python",
   "nbconvert_exporter": "python",
   "pygments_lexer": "ipython3",
   "version": "3.8.10"
  }
 },
 "nbformat": 4,
 "nbformat_minor": 1
}
