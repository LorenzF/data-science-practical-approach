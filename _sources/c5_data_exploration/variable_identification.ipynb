{
 "cells": [
  {
   "cell_type": "markdown",
   "metadata": {
    "id": "BIrRh0hExbXM"
   },
   "source": [
    "## Variable identification\n",
    "\n",
    "in this notebook we are going to look into a few simple but interesting techniques about getting to know more about what is inside the dataset you are given. Whenever you start out on a new project these steps are usually the first that are performed in order to know how to proceed.\n",
    "\n",
    "We start out by loading the titanic dataset from seaborn"
   ]
  },
  {
   "cell_type": "code",
   "execution_count": 1,
   "metadata": {
    "executionInfo": {
     "elapsed": 3145,
     "status": "ok",
     "timestamp": 1605648938276,
     "user": {
      "displayName": "Lorenz Feyen",
      "photoUrl": "",
      "userId": "13474410138118598994"
     },
     "user_tz": -60
    },
    "id": "SJT_3KS7xVmm"
   },
   "outputs": [],
   "source": [
    "import seaborn as sns\n",
    "titanic_df = sns.load_dataset('titanic')\n",
    "sns.set_theme()\n",
    "sns.set(rc={'figure.figsize':(16,12)})"
   ]
  },
  {
   "cell_type": "markdown",
   "metadata": {
    "id": "H95zsFN2XS_w"
   },
   "source": [
    "### description\n",
    "\n",
    "Let us start out simple and retrieve information about each column, using the .info method we can get non-null counts (giving us an idea if there are nans) and the type of each column (to see if we need to change types)."
   ]
  },
  {
   "cell_type": "code",
   "execution_count": 2,
   "metadata": {
    "colab": {
     "base_uri": "https://localhost:8080/"
    },
    "executionInfo": {
     "elapsed": 3125,
     "status": "ok",
     "timestamp": 1605648938277,
     "user": {
      "displayName": "Lorenz Feyen",
      "photoUrl": "",
      "userId": "13474410138118598994"
     },
     "user_tz": -60
    },
    "id": "ITMUY9hhxnyI",
    "outputId": "43f23a87-2e43-4f45-80c7-8f11f09733cc"
   },
   "outputs": [
    {
     "name": "stdout",
     "output_type": "stream",
     "text": [
      "<class 'pandas.core.frame.DataFrame'>\n",
      "RangeIndex: 891 entries, 0 to 890\n",
      "Data columns (total 15 columns):\n",
      " #   Column       Non-Null Count  Dtype   \n",
      "---  ------       --------------  -----   \n",
      " 0   survived     891 non-null    int64   \n",
      " 1   pclass       891 non-null    int64   \n",
      " 2   sex          891 non-null    object  \n",
      " 3   age          714 non-null    float64 \n",
      " 4   sibsp        891 non-null    int64   \n",
      " 5   parch        891 non-null    int64   \n",
      " 6   fare         891 non-null    float64 \n",
      " 7   embarked     889 non-null    object  \n",
      " 8   class        891 non-null    category\n",
      " 9   who          891 non-null    object  \n",
      " 10  adult_male   891 non-null    bool    \n",
      " 11  deck         203 non-null    category\n",
      " 12  embark_town  889 non-null    object  \n",
      " 13  alive        891 non-null    object  \n",
      " 14  alone        891 non-null    bool    \n",
      "dtypes: bool(2), category(2), float64(2), int64(4), object(5)\n",
      "memory usage: 80.7+ KB\n"
     ]
    }
   ],
   "source": [
    "titanic_df.info()"
   ]
  },
  {
   "cell_type": "markdown",
   "metadata": {
    "id": "uhch5O_GImUX"
   },
   "source": [
    "it looks like all types are already correctlyaddressed, but we can see a lot of nans are present for age and deck, this might be a problem!\n",
    "\n",
    "For numerical columns we can get a bunch of information using the .describe method. this can also be used for categories but has less info"
   ]
  },
  {
   "cell_type": "code",
   "execution_count": 3,
   "metadata": {
    "colab": {
     "base_uri": "https://localhost:8080/",
     "height": 300
    },
    "executionInfo": {
     "elapsed": 952,
     "status": "ok",
     "timestamp": 1605649058847,
     "user": {
      "displayName": "Lorenz Feyen",
      "photoUrl": "",
      "userId": "13474410138118598994"
     },
     "user_tz": -60
    },
    "id": "3xpTvAtYxnPr",
    "outputId": "cb2f85a2-790d-48ff-bb4a-c14cad7d27fa"
   },
   "outputs": [
    {
     "data": {
      "text/html": [
       "<div>\n",
       "<style scoped>\n",
       "    .dataframe tbody tr th:only-of-type {\n",
       "        vertical-align: middle;\n",
       "    }\n",
       "\n",
       "    .dataframe tbody tr th {\n",
       "        vertical-align: top;\n",
       "    }\n",
       "\n",
       "    .dataframe thead th {\n",
       "        text-align: right;\n",
       "    }\n",
       "</style>\n",
       "<table border=\"1\" class=\"dataframe\">\n",
       "  <thead>\n",
       "    <tr style=\"text-align: right;\">\n",
       "      <th></th>\n",
       "      <th>survived</th>\n",
       "      <th>pclass</th>\n",
       "      <th>age</th>\n",
       "      <th>sibsp</th>\n",
       "      <th>parch</th>\n",
       "      <th>fare</th>\n",
       "    </tr>\n",
       "  </thead>\n",
       "  <tbody>\n",
       "    <tr>\n",
       "      <th>count</th>\n",
       "      <td>891.000000</td>\n",
       "      <td>891.000000</td>\n",
       "      <td>714.000000</td>\n",
       "      <td>891.000000</td>\n",
       "      <td>891.000000</td>\n",
       "      <td>891.000000</td>\n",
       "    </tr>\n",
       "    <tr>\n",
       "      <th>mean</th>\n",
       "      <td>0.383838</td>\n",
       "      <td>2.308642</td>\n",
       "      <td>29.699118</td>\n",
       "      <td>0.523008</td>\n",
       "      <td>0.381594</td>\n",
       "      <td>32.204208</td>\n",
       "    </tr>\n",
       "    <tr>\n",
       "      <th>std</th>\n",
       "      <td>0.486592</td>\n",
       "      <td>0.836071</td>\n",
       "      <td>14.526497</td>\n",
       "      <td>1.102743</td>\n",
       "      <td>0.806057</td>\n",
       "      <td>49.693429</td>\n",
       "    </tr>\n",
       "    <tr>\n",
       "      <th>min</th>\n",
       "      <td>0.000000</td>\n",
       "      <td>1.000000</td>\n",
       "      <td>0.420000</td>\n",
       "      <td>0.000000</td>\n",
       "      <td>0.000000</td>\n",
       "      <td>0.000000</td>\n",
       "    </tr>\n",
       "    <tr>\n",
       "      <th>25%</th>\n",
       "      <td>0.000000</td>\n",
       "      <td>2.000000</td>\n",
       "      <td>20.125000</td>\n",
       "      <td>0.000000</td>\n",
       "      <td>0.000000</td>\n",
       "      <td>7.910400</td>\n",
       "    </tr>\n",
       "    <tr>\n",
       "      <th>50%</th>\n",
       "      <td>0.000000</td>\n",
       "      <td>3.000000</td>\n",
       "      <td>28.000000</td>\n",
       "      <td>0.000000</td>\n",
       "      <td>0.000000</td>\n",
       "      <td>14.454200</td>\n",
       "    </tr>\n",
       "    <tr>\n",
       "      <th>75%</th>\n",
       "      <td>1.000000</td>\n",
       "      <td>3.000000</td>\n",
       "      <td>38.000000</td>\n",
       "      <td>1.000000</td>\n",
       "      <td>0.000000</td>\n",
       "      <td>31.000000</td>\n",
       "    </tr>\n",
       "    <tr>\n",
       "      <th>max</th>\n",
       "      <td>1.000000</td>\n",
       "      <td>3.000000</td>\n",
       "      <td>80.000000</td>\n",
       "      <td>8.000000</td>\n",
       "      <td>6.000000</td>\n",
       "      <td>512.329200</td>\n",
       "    </tr>\n",
       "  </tbody>\n",
       "</table>\n",
       "</div>"
      ],
      "text/plain": [
       "         survived      pclass         age       sibsp       parch        fare\n",
       "count  891.000000  891.000000  714.000000  891.000000  891.000000  891.000000\n",
       "mean     0.383838    2.308642   29.699118    0.523008    0.381594   32.204208\n",
       "std      0.486592    0.836071   14.526497    1.102743    0.806057   49.693429\n",
       "min      0.000000    1.000000    0.420000    0.000000    0.000000    0.000000\n",
       "25%      0.000000    2.000000   20.125000    0.000000    0.000000    7.910400\n",
       "50%      0.000000    3.000000   28.000000    0.000000    0.000000   14.454200\n",
       "75%      1.000000    3.000000   38.000000    1.000000    0.000000   31.000000\n",
       "max      1.000000    3.000000   80.000000    8.000000    6.000000  512.329200"
      ]
     },
     "execution_count": 3,
     "metadata": {},
     "output_type": "execute_result"
    }
   ],
   "source": [
    "titanic_df.describe()"
   ]
  },
  {
   "cell_type": "code",
   "execution_count": 4,
   "metadata": {
    "colab": {
     "base_uri": "https://localhost:8080/",
     "height": 175
    },
    "executionInfo": {
     "elapsed": 848,
     "status": "ok",
     "timestamp": 1605649060401,
     "user": {
      "displayName": "Lorenz Feyen",
      "photoUrl": "",
      "userId": "13474410138118598994"
     },
     "user_tz": -60
    },
    "id": "DTTNTgLNxsqJ",
    "outputId": "e6fdf54b-8030-4fae-f800-7f66d4a8c365"
   },
   "outputs": [
    {
     "data": {
      "text/html": [
       "<div>\n",
       "<style scoped>\n",
       "    .dataframe tbody tr th:only-of-type {\n",
       "        vertical-align: middle;\n",
       "    }\n",
       "\n",
       "    .dataframe tbody tr th {\n",
       "        vertical-align: top;\n",
       "    }\n",
       "\n",
       "    .dataframe thead th {\n",
       "        text-align: right;\n",
       "    }\n",
       "</style>\n",
       "<table border=\"1\" class=\"dataframe\">\n",
       "  <thead>\n",
       "    <tr style=\"text-align: right;\">\n",
       "      <th></th>\n",
       "      <th>sex</th>\n",
       "      <th>embarked</th>\n",
       "      <th>class</th>\n",
       "      <th>who</th>\n",
       "      <th>deck</th>\n",
       "      <th>embark_town</th>\n",
       "      <th>alive</th>\n",
       "    </tr>\n",
       "  </thead>\n",
       "  <tbody>\n",
       "    <tr>\n",
       "      <th>count</th>\n",
       "      <td>891</td>\n",
       "      <td>889</td>\n",
       "      <td>891</td>\n",
       "      <td>891</td>\n",
       "      <td>203</td>\n",
       "      <td>889</td>\n",
       "      <td>891</td>\n",
       "    </tr>\n",
       "    <tr>\n",
       "      <th>unique</th>\n",
       "      <td>2</td>\n",
       "      <td>3</td>\n",
       "      <td>3</td>\n",
       "      <td>3</td>\n",
       "      <td>7</td>\n",
       "      <td>3</td>\n",
       "      <td>2</td>\n",
       "    </tr>\n",
       "    <tr>\n",
       "      <th>top</th>\n",
       "      <td>male</td>\n",
       "      <td>S</td>\n",
       "      <td>Third</td>\n",
       "      <td>man</td>\n",
       "      <td>C</td>\n",
       "      <td>Southampton</td>\n",
       "      <td>no</td>\n",
       "    </tr>\n",
       "    <tr>\n",
       "      <th>freq</th>\n",
       "      <td>577</td>\n",
       "      <td>644</td>\n",
       "      <td>491</td>\n",
       "      <td>537</td>\n",
       "      <td>59</td>\n",
       "      <td>644</td>\n",
       "      <td>549</td>\n",
       "    </tr>\n",
       "  </tbody>\n",
       "</table>\n",
       "</div>"
      ],
      "text/plain": [
       "         sex embarked  class  who deck  embark_town alive\n",
       "count    891      889    891  891  203          889   891\n",
       "unique     2        3      3    3    7            3     2\n",
       "top     male        S  Third  man    C  Southampton    no\n",
       "freq     577      644    491  537   59          644   549"
      ]
     },
     "execution_count": 4,
     "metadata": {},
     "output_type": "execute_result"
    }
   ],
   "source": [
    "titanic_df.describe(include=['category', 'object'])"
   ]
  },
  {
   "cell_type": "markdown",
   "metadata": {
    "id": "lt4Az2hYYvGW"
   },
   "source": [
    "### Uniques, frequencies and ranges\n",
    "\n",
    "the describe method is a bit lacklusting for categorical features, so we use some good old data wrangling to get more info, asking for unique values gives us all the possible values for a column. Aside from the uniques, we can also  get the value counts or frequencies and the range of a column."
   ]
  },
  {
   "cell_type": "code",
   "execution_count": 5,
   "metadata": {
    "colab": {
     "base_uri": "https://localhost:8080/"
    },
    "executionInfo": {
     "elapsed": 813,
     "status": "ok",
     "timestamp": 1605649419975,
     "user": {
      "displayName": "Lorenz Feyen",
      "photoUrl": "",
      "userId": "13474410138118598994"
     },
     "user_tz": -60
    },
    "id": "zbzZecIiYxuu",
    "outputId": "9f254fdc-1c8f-40d4-f9b7-8e25a14e2aea"
   },
   "outputs": [
    {
     "data": {
      "text/plain": [
       "array(['Southampton', 'Cherbourg', 'Queenstown', nan], dtype=object)"
      ]
     },
     "execution_count": 5,
     "metadata": {},
     "output_type": "execute_result"
    }
   ],
   "source": [
    "titanic_df['embark_town'].unique()"
   ]
  },
  {
   "cell_type": "code",
   "execution_count": 6,
   "metadata": {
    "colab": {
     "base_uri": "https://localhost:8080/"
    },
    "executionInfo": {
     "elapsed": 16,
     "status": "ok",
     "timestamp": 1605649428075,
     "user": {
      "displayName": "Lorenz Feyen",
      "photoUrl": "",
      "userId": "13474410138118598994"
     },
     "user_tz": -60
    },
    "id": "zcKi3w6cxzYP",
    "outputId": "8012e71b-152f-45a6-8f6d-42045f7d123a"
   },
   "outputs": [
    {
     "data": {
      "text/plain": [
       "Southampton    644\n",
       "Cherbourg      168\n",
       "Queenstown      77\n",
       "Name: embark_town, dtype: int64"
      ]
     },
     "execution_count": 6,
     "metadata": {},
     "output_type": "execute_result"
    }
   ],
   "source": [
    "titanic_df['embark_town'].value_counts()"
   ]
  },
  {
   "cell_type": "code",
   "execution_count": 7,
   "metadata": {
    "colab": {
     "base_uri": "https://localhost:8080/"
    },
    "executionInfo": {
     "elapsed": 633,
     "status": "ok",
     "timestamp": 1605133183702,
     "user": {
      "displayName": "Lorenz Feyen",
      "photoUrl": "",
      "userId": "13474410138118598994"
     },
     "user_tz": -60
    },
    "id": "rtnwLF5Xx8cF",
    "outputId": "b325d365-79ce-4c80-b00a-a1bb81e4f7f5"
   },
   "outputs": [
    {
     "data": {
      "text/plain": [
       "(0.42, 80.0)"
      ]
     },
     "execution_count": 7,
     "metadata": {},
     "output_type": "execute_result"
    }
   ],
   "source": [
    "titanic_df['age'].min(), titanic_df['age'].max()"
   ]
  },
  {
   "cell_type": "markdown",
   "metadata": {
    "id": "1W015GRPZUww"
   },
   "source": [
    "### mean and deviation\n",
    "\n",
    "to get more information about a numerical range, we calculate the mean and deviation. Note that these statistics imply that our column is normally distributed!\n",
    "\n",
    "You can also see that I applied the dropna method, this because the calculations cannot handle nan values, but this means our outcome might be distorted from the truth, thread carefuly."
   ]
  },
  {
   "cell_type": "code",
   "execution_count": 8,
   "metadata": {
    "executionInfo": {
     "elapsed": 1189,
     "status": "ok",
     "timestamp": 1605649557316,
     "user": {
      "displayName": "Lorenz Feyen",
      "photoUrl": "",
      "userId": "13474410138118598994"
     },
     "user_tz": -60
    },
    "id": "qnx834z_ZNU1"
   },
   "outputs": [],
   "source": [
    "import statistics"
   ]
  },
  {
   "cell_type": "code",
   "execution_count": 9,
   "metadata": {
    "colab": {
     "base_uri": "https://localhost:8080/"
    },
    "executionInfo": {
     "elapsed": 1523,
     "status": "ok",
     "timestamp": 1605649557726,
     "user": {
      "displayName": "Lorenz Feyen",
      "photoUrl": "",
      "userId": "13474410138118598994"
     },
     "user_tz": -60
    },
    "id": "X7-TOQYXZYI_",
    "outputId": "9aebf273-dc26-4f1e-d0d9-0fa34274cd4d"
   },
   "outputs": [
    {
     "data": {
      "text/plain": [
       "29.69911764705882"
      ]
     },
     "execution_count": 9,
     "metadata": {},
     "output_type": "execute_result"
    }
   ],
   "source": [
    "titanic_df['age'].dropna().mean()"
   ]
  },
  {
   "cell_type": "code",
   "execution_count": 10,
   "metadata": {
    "colab": {
     "base_uri": "https://localhost:8080/"
    },
    "executionInfo": {
     "elapsed": 1295,
     "status": "ok",
     "timestamp": 1605649558650,
     "user": {
      "displayName": "Lorenz Feyen",
      "photoUrl": "",
      "userId": "13474410138118598994"
     },
     "user_tz": -60
    },
    "id": "WAk37gJtZaPJ",
    "outputId": "386381dc-8e02-4471-f01d-b73165105117"
   },
   "outputs": [
    {
     "data": {
      "text/plain": [
       "28.0"
      ]
     },
     "execution_count": 10,
     "metadata": {},
     "output_type": "execute_result"
    }
   ],
   "source": [
    "titanic_df['age'].dropna().median()"
   ]
  },
  {
   "cell_type": "markdown",
   "metadata": {
    "id": "KgyIYZ11axsB"
   },
   "source": [
    "### median and interquantile range\n",
    "\n",
    "When our distribution is not normal, using the median and IQR is advised.\n",
    "First we apply the shapiro wilk test and it has a very low p-value (the second value) which means we can reject the null-hypothesis that there is a normal distribution. more info about shapiro-wilk can be found on [wikipedia](https://en.wikipedia.org/wiki/Shapiro%E2%80%93Wilk_test)"
   ]
  },
  {
   "cell_type": "code",
   "execution_count": 11,
   "metadata": {
    "colab": {
     "base_uri": "https://localhost:8080/"
    },
    "executionInfo": {
     "elapsed": 1048,
     "status": "ok",
     "timestamp": 1605649707689,
     "user": {
      "displayName": "Lorenz Feyen",
      "photoUrl": "",
      "userId": "13474410138118598994"
     },
     "user_tz": -60
    },
    "id": "OoiaIQg9ZdvB",
    "outputId": "dc03791b-625f-4080-8503-f81747ed218c"
   },
   "outputs": [
    {
     "data": {
      "text/plain": [
       "ShapiroResult(statistic=0.9814548492431641, pvalue=7.322165629375377e-08)"
      ]
     },
     "execution_count": 11,
     "metadata": {},
     "output_type": "execute_result"
    }
   ],
   "source": [
    "from scipy.stats import shapiro\n",
    "shapiro(titanic_df['age'].dropna())"
   ]
  },
  {
   "cell_type": "code",
   "execution_count": 12,
   "metadata": {
    "colab": {
     "base_uri": "https://localhost:8080/"
    },
    "executionInfo": {
     "elapsed": 789,
     "status": "ok",
     "timestamp": 1605649708373,
     "user": {
      "displayName": "Lorenz Feyen",
      "photoUrl": "",
      "userId": "13474410138118598994"
     },
     "user_tz": -60
    },
    "id": "nxQIuRThZuZP",
    "outputId": "2f5a2eb0-c8c6-4da9-d70c-46de1bf0dd57"
   },
   "outputs": [
    {
     "data": {
      "text/plain": [
       "28.0"
      ]
     },
     "execution_count": 12,
     "metadata": {},
     "output_type": "execute_result"
    }
   ],
   "source": [
    "titanic_df['age'].dropna().median()"
   ]
  },
  {
   "cell_type": "code",
   "execution_count": 13,
   "metadata": {
    "colab": {
     "base_uri": "https://localhost:8080/"
    },
    "executionInfo": {
     "elapsed": 705,
     "status": "ok",
     "timestamp": 1605649709022,
     "user": {
      "displayName": "Lorenz Feyen",
      "photoUrl": "",
      "userId": "13474410138118598994"
     },
     "user_tz": -60
    },
    "id": "APqfTLlYZ_yp",
    "outputId": "2ed2b576-f3bf-4dc2-ba68-a18e3b52e319"
   },
   "outputs": [
    {
     "data": {
      "text/plain": [
       "17.875"
      ]
     },
     "execution_count": 13,
     "metadata": {},
     "output_type": "execute_result"
    }
   ],
   "source": [
    "from scipy.stats import iqr\n",
    "iqr(titanic_df['age'].dropna())"
   ]
  },
  {
   "cell_type": "code",
   "execution_count": 14,
   "metadata": {
    "colab": {
     "base_uri": "https://localhost:8080/"
    },
    "executionInfo": {
     "elapsed": 1040,
     "status": "ok",
     "timestamp": 1605650037231,
     "user": {
      "displayName": "Lorenz Feyen",
      "photoUrl": "",
      "userId": "13474410138118598994"
     },
     "user_tz": -60
    },
    "id": "cyjDDABjMFoZ",
    "outputId": "fd9e26c8-abef-43fb-b5fd-c2315a109922"
   },
   "outputs": [
    {
     "data": {
      "text/plain": [
       "array([20., 28., 38.])"
      ]
     },
     "execution_count": 14,
     "metadata": {},
     "output_type": "execute_result"
    }
   ],
   "source": [
    "from scipy.stats.mstats import mquantiles\n",
    "mquantiles(titanic_df['age'].dropna())"
   ]
  },
  {
   "cell_type": "markdown",
   "metadata": {
    "id": "o5fZ4d80L_Rk"
   },
   "source": [
    "Appearently the average of 29.70 is fairly higher than the median at 28, meaning that there is a shift towards older people.\n",
    "You can also see this on the following plot, where we note the mean, median and mode."
   ]
  },
  {
   "cell_type": "code",
   "execution_count": 15,
   "metadata": {},
   "outputs": [
    {
     "data": {
      "text/plain": [
       "<matplotlib.lines.Line2D at 0x7f80c0ed23d0>"
      ]
     },
     "execution_count": 15,
     "metadata": {},
     "output_type": "execute_result"
    },
    {
     "data": {
      "image/png": "[encoded data removed]",
      "text/plain": [
       "<Figure size 1152x864 with 1 Axes>"
      ]
     },
     "metadata": {},
     "output_type": "display_data"
    }
   ],
   "source": [
    "ax = sns.histplot(data=titanic_df, x='age')\n",
    "\n",
    "ax.axvline(titanic_df.age.mean(), color='cyan')\n",
    "ax.axvline(titanic_df.age.median(), color='magenta')\n",
    "ax.axvline(titanic_df.age.mode()[0], color='yellow')"
   ]
  },
  {
   "cell_type": "markdown",
   "metadata": {
    "id": "Fw8iBVS6atl0"
   },
   "source": [
    "### modes and frequencies\n",
    "\n",
    "When we don't have numerical data we can still find some interesting results, here we use the mode ( most frequent value) and the proporties of each value to deduce the proporties of people that embarked in the 3 different towns. Nearly 3/4 people embarked in one harbour."
   ]
  },
  {
   "cell_type": "code",
   "execution_count": 16,
   "metadata": {
    "colab": {
     "base_uri": "https://localhost:8080/",
     "height": 36
    },
    "executionInfo": {
     "elapsed": 812,
     "status": "ok",
     "timestamp": 1605133764790,
     "user": {
      "displayName": "Lorenz Feyen",
      "photoUrl": "",
      "userId": "13474410138118598994"
     },
     "user_tz": -60
    },
    "id": "99aZJvDPapVn",
    "outputId": "3e2a62d7-1317-4d1f-d3f8-312eb7bcad20"
   },
   "outputs": [
    {
     "data": {
      "text/plain": [
       "0    Southampton\n",
       "dtype: object"
      ]
     },
     "execution_count": 16,
     "metadata": {},
     "output_type": "execute_result"
    }
   ],
   "source": [
    "titanic_df['embark_town'].mode()"
   ]
  },
  {
   "cell_type": "code",
   "execution_count": 17,
   "metadata": {
    "colab": {
     "base_uri": "https://localhost:8080/"
    },
    "executionInfo": {
     "elapsed": 534,
     "status": "ok",
     "timestamp": 1605133794519,
     "user": {
      "displayName": "Lorenz Feyen",
      "photoUrl": "",
      "userId": "13474410138118598994"
     },
     "user_tz": -60
    },
    "id": "IYt6e8gsa6M1",
    "outputId": "02ea377a-5442-4dd7-e195-6d65e56390cb"
   },
   "outputs": [
    {
     "data": {
      "text/plain": [
       "Southampton    0.722783\n",
       "Cherbourg      0.188552\n",
       "Queenstown     0.086420\n",
       "Name: embark_town, dtype: float64"
      ]
     },
     "execution_count": 17,
     "metadata": {},
     "output_type": "execute_result"
    }
   ],
   "source": [
    "titanic_df['embark_town'].value_counts()/len(titanic_df)"
   ]
  }
 ],
 "metadata": {
  "colab": {
   "authorship_tag": "ABX9TyMoD0mIF5Go4O9I/GjnkUVT",
   "collapsed_sections": [],
   "name": "04.extra-variable-identification.ipynb",
   "provenance": []
  },
  "kernelspec": {
   "display_name": "Python 3 (ipykernel)",
   "language": "python",
   "name": "python3"
  },
  "language_info": {
   "codemirror_mode": {
    "name": "ipython",
    "version": 3
   },
   "file_extension": ".py",
   "mimetype": "text/x-python",
   "name": "python",
   "nbconvert_exporter": "python",
   "pygments_lexer": "ipython3",
   "version": "3.8.10"
  }
 },
 "nbformat": 4,
 "nbformat_minor": 1
}
